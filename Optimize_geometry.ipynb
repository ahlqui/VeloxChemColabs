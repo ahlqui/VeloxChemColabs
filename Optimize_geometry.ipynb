{
  "nbformat": 4,
  "nbformat_minor": 0,
  "metadata": {
    "colab": {
      "provenance": [],
      "include_colab_link": true
    },
    "kernelspec": {
      "name": "python3",
      "display_name": "Python 3"
    },
    "language_info": {
      "name": "python"
    }
  },
  "cells": [
    {
      "cell_type": "markdown",
      "metadata": {
        "id": "view-in-github",
        "colab_type": "text"
      },
      "source": [
        "<a href=\"https://colab.research.google.com/github/ahlqui/VeloxChemColabs/blob/main/Optimize_geometry.ipynb\" target=\"_parent\"><img src=\"https://colab.research.google.com/assets/colab-badge.svg\" alt=\"Open In Colab\"/></a>"
      ]
    },
    {
      "cell_type": "markdown",
      "source": [
        "\n",
        "\n",
        "\n",
        "# Optimize geometry and calculate energy (xTB and DFT)\n"
      ],
      "metadata": {
        "id": "_f9U7ujQXRh7"
      }
    },
    {
      "cell_type": "markdown",
      "source": [
        "This notebook requires that you have a molecular structure. Two options:\n",
        "\n",
        "Define Molecule as XYZ-coordinates: Can be generatred with free software such as www.avogadro.cc\n",
        "\n",
        "Define Molecule with SMILES code, A molecule can be defined using a SMILES code (example below). We have two suggested ways to generate smiles from structure. 1) Sketch your molecule at https://www.rcsb.org/chemical-sketch and the SMILES code will be shown right below the structure. 2) Build your molecule at https://molview.org/ , go to Tools/Information Card and it will show you the SMILES code. Just copy/paste it into the SMILES box below.\n",
        "\n",
        "Example of xyz-coordinates for CO2:\n",
        "\n",
        "O 0.00 0.00 0.00\n",
        "\n",
        "C 0.00 0.00 1.20\n",
        "\n",
        "O 0.00 0.00 2.40\n",
        "\n",
        "Example of SMILES for CO2:\n",
        "\n",
        "O=C=O"
      ],
      "metadata": {
        "id": "jsrGVECSXfex"
      }
    },
    {
      "cell_type": "code",
      "execution_count": 6,
      "metadata": {
        "id": "0L_oJd_RW_qC"
      },
      "outputs": [],
      "source": [
        "#@title Install VeloxChem and dependencies (ca 2 min)\n",
        "#@markdown Before you can run anything a few things need to be installed. It all runs on the Google Colab server an you do not need to install anything on your computer.\n",
        "%%capture\n",
        "import sys\n",
        "\n",
        "! wget -qnc https://github.com/conda-forge/miniforge/releases/latest/download/Miniforge3-Linux-x86_64.sh\n",
        "! bash Miniforge3-Linux-x86_64.sh -bfp /usr/local\n",
        "! mamba config --set auto_update_conda false\n",
        "import sys\n",
        "sys.path.append('/usr/local/lib/python3.11/site-packages/')\n",
        "!mamba install -y -c conda-forge -c veloxchem veloxchem py3Dmol matplotlib python=3.11\n",
        "! pip install rdkit"
      ]
    },
    {
      "cell_type": "code",
      "source": [
        "xyz_coordinates = \"\"\"\n",
        "N     0.4785967928750  -0.4330741880750  -0.4934317502006\n",
        "H     1.3794564278886   0.0429751463168  -0.5120458348956\n",
        "C     0.4573285404340  -1.3154740355836  -1.6452845209868\n",
        "H     1.2794157350200  -2.0270971721773  -1.5868316520123\n",
        "H    -0.4697908768414  -1.8882598290096  -1.6558792536570\n",
        "C     0.3747047426388  -1.2102491878280   0.7331072010194\n",
        "H    -0.4082292852521  -1.9567463178277   0.6148319854093\n",
        "H     1.2952953868059  -1.7540437197433   0.9183116804327\n",
        "C     0.6956425554192   0.9059967227241  -5.3588904651214\n",
        "C     1.6690431285267  -0.0704102447688  -5.0614336089256\n",
        "C     1.5905279342425  -0.7922292640998  -3.8527793116028\n",
        "C     0.5421211238334  -0.5430166236398  -2.9451176135833\n",
        "C    -0.4312572408155   0.4285446612223  -3.2497814984180\n",
        "C    -0.3564249048118   1.1570067527526  -4.4544417171718\n",
        "H     0.7549521548685   1.4652126122086  -6.2812972715425\n",
        "H     2.3338053657174  -1.5390048087124  -3.6163728176857\n",
        "H    -1.2215586002930   0.6165771400284  -2.5371827271696\n",
        "C    -0.5809783149118   1.1061887532548   4.2819306994214\n",
        "C    -1.0539691464599  -0.2152180430193   4.1484967454886\n",
        "C    -0.7402866542775  -0.9585904738513   2.9917812697427\n",
        "C     0.0501603450518  -0.3918335577218   1.9715484114033\n",
        "C     0.5329231859523   0.9234697295847   2.1220017776407\n",
        "C     0.2096151223583   1.6793509886579   3.2655299818144\n",
        "H    -0.8298576406810   1.6816374807225   5.1614537759970\n",
        "H    -1.1155297675244  -1.9639771384900   2.8737258346041\n",
        "H     1.1311551788061   1.3586475153088   1.3389498331805\n",
        "C     2.7985412681099  -0.3440921389086  -6.0320361103160\n",
        "H     3.0137177612643  -1.4119025048439  -6.0784904425001\n",
        "H     2.5433990952730  -0.0090827377477  -7.0376742707821\n",
        "H     3.7013243404231   0.1769923076871  -5.7132670703364\n",
        "C    -1.3956677617432   2.2110713683443  -4.7713360805252\n",
        "H    -2.2850215726603   2.0829577471538  -4.1532353918110\n",
        "H    -0.9892606342753   3.2051959925139  -4.5854917335667\n",
        "H    -1.6989550492144   2.1496453780473  -5.8166145479409\n",
        "C    -1.9096053739985  -0.8269385079269   5.2372774019485\n",
        "H    -1.8730938416183  -1.9157634078951   5.1986764605346\n",
        "H    -1.5629099527925  -0.5125717843390   6.2218512212214\n",
        "H    -2.9465170241487  -0.5126306418706   5.1188520156529\n",
        "C     0.7055071531436   3.1039291474455   3.3878074482962\n",
        "H     0.6996321098764   3.5926125742168   2.4126899821207\n",
        "H     0.0720511304863   3.6841458846608   4.0587668370105\n",
        "H     1.7245462284362   3.1151446899290   3.7742478882927\n",
        "\"\"\"\n"
      ],
      "metadata": {
        "id": "NzBaWJTJ8mrU"
      },
      "execution_count": 7,
      "outputs": []
    },
    {
      "cell_type": "code",
      "execution_count": 11,
      "metadata": {
        "id": "kd3SxiFQFm6r",
        "cellView": "form",
        "outputId": "c0be1b8f-1526-4a80-9ed0-03b3e5e40b6f",
        "colab": {
          "base_uri": "https://localhost:8080/",
          "height": 335
        }
      },
      "outputs": [
        {
          "output_type": "stream",
          "name": "stdout",
          "text": [
            "Structure of the molecule entered: \n"
          ]
        },
        {
          "output_type": "display_data",
          "data": {
            "application/3dmoljs_load.v0": "<div id=\"3dmolviewer_17473098169155831\"  style=\"position: relative; width: 400px; height: 300px;\">\n        <p id=\"3dmolwarning_17473098169155831\" style=\"background-color:#ffcccc;color:black\">3Dmol.js failed to load for some reason.  Please check your browser console for error messages.<br></p>\n        </div>\n<script>\n\nvar loadScriptAsync = function(uri){\n  return new Promise((resolve, reject) => {\n    //this is to ignore the existence of requirejs amd\n    var savedexports, savedmodule;\n    if (typeof exports !== 'undefined') savedexports = exports;\n    else exports = {}\n    if (typeof module !== 'undefined') savedmodule = module;\n    else module = {}\n\n    var tag = document.createElement('script');\n    tag.src = uri;\n    tag.async = true;\n    tag.onload = () => {\n        exports = savedexports;\n        module = savedmodule;\n        resolve();\n    };\n  var firstScriptTag = document.getElementsByTagName('script')[0];\n  firstScriptTag.parentNode.insertBefore(tag, firstScriptTag);\n});\n};\n\nif(typeof $3Dmolpromise === 'undefined') {\n$3Dmolpromise = null;\n  $3Dmolpromise = loadScriptAsync('https://cdnjs.cloudflare.com/ajax/libs/3Dmol/2.4.2/3Dmol-min.js');\n}\n\nvar viewer_17473098169155831 = null;\nvar warn = document.getElementById(\"3dmolwarning_17473098169155831\");\nif(warn) {\n    warn.parentNode.removeChild(warn);\n}\n$3Dmolpromise.then(function() {\nviewer_17473098169155831 = $3Dmol.createViewer(document.getElementById(\"3dmolviewer_17473098169155831\"),{backgroundColor:\"white\"});\nviewer_17473098169155831.zoomTo();\n\tviewer_17473098169155831.addModel(\"11\\n\\nO              1.153306000000        -1.302936000000        -2.206608000000\\nC              0.408326000000        -0.256084000000        -1.646680000000\\nC             -0.805047000000        -0.812230000000        -0.898602000000\\nC             -1.582316000000         0.287712000000        -0.240437000000\\nO             -2.151753000000         1.132090000000        -0.913676000000\\nH              0.654613000000        -1.609081000000        -3.008782000000\\nH              0.083559000000         0.453408000000        -2.442233000000\\nH              1.058993000000         0.297880000000        -0.936343000000\\nH             -1.468169000000        -1.357012000000        -1.604770000000\\nH             -0.459546000000        -1.526907000000        -0.120768000000\\nH             -1.653092000000         0.328568000000         0.841643000000\\n\");\n\tviewer_17473098169155831.setViewStyle({\"style\": \"outline\", \"width\": 0.05});\n\tviewer_17473098169155831.setStyle({\"stick\": {}, \"sphere\": {\"scale\": 0.25}});\n\tviewer_17473098169155831.addLabel(\"1\",{\"position\": {\"x\": 1.153306, \"y\": -1.302936, \"z\": -2.206608}, \"alignment\": \"center\", \"fontColor\": 0, \"backgroundColor\": 16777215, \"backgroundOpacity\": 0.0});\n\tviewer_17473098169155831.addLabel(\"2\",{\"position\": {\"x\": 0.40832599999999997, \"y\": -0.256084, \"z\": -1.64668}, \"alignment\": \"center\", \"fontColor\": 0, \"backgroundColor\": 16777215, \"backgroundOpacity\": 0.0});\n\tviewer_17473098169155831.addLabel(\"3\",{\"position\": {\"x\": -0.805047, \"y\": -0.8122299999999999, \"z\": -0.898602}, \"alignment\": \"center\", \"fontColor\": 0, \"backgroundColor\": 16777215, \"backgroundOpacity\": 0.0});\n\tviewer_17473098169155831.addLabel(\"4\",{\"position\": {\"x\": -1.582316, \"y\": 0.287712, \"z\": -0.240437}, \"alignment\": \"center\", \"fontColor\": 0, \"backgroundColor\": 16777215, \"backgroundOpacity\": 0.0});\n\tviewer_17473098169155831.addLabel(\"5\",{\"position\": {\"x\": -2.151753, \"y\": 1.13209, \"z\": -0.9136759999999999}, \"alignment\": \"center\", \"fontColor\": 0, \"backgroundColor\": 16777215, \"backgroundOpacity\": 0.0});\n\tviewer_17473098169155831.addLabel(\"6\",{\"position\": {\"x\": 0.6546129999999999, \"y\": -1.609081, \"z\": -3.008782}, \"alignment\": \"center\", \"fontColor\": 0, \"backgroundColor\": 16777215, \"backgroundOpacity\": 0.0});\n\tviewer_17473098169155831.addLabel(\"7\",{\"position\": {\"x\": 0.08355899999999998, \"y\": 0.453408, \"z\": -2.4422329999999994}, \"alignment\": \"center\", \"fontColor\": 0, \"backgroundColor\": 16777215, \"backgroundOpacity\": 0.0});\n\tviewer_17473098169155831.addLabel(\"8\",{\"position\": {\"x\": 1.058993, \"y\": 0.29788, \"z\": -0.936343}, \"alignment\": \"center\", \"fontColor\": 0, \"backgroundColor\": 16777215, \"backgroundOpacity\": 0.0});\n\tviewer_17473098169155831.addLabel(\"9\",{\"position\": {\"x\": -1.468169, \"y\": -1.357012, \"z\": -1.6047699999999998}, \"alignment\": \"center\", \"fontColor\": 0, \"backgroundColor\": 16777215, \"backgroundOpacity\": 0.0});\n\tviewer_17473098169155831.addLabel(\"10\",{\"position\": {\"x\": -0.459546, \"y\": -1.5269069999999998, \"z\": -0.12076799999999999}, \"alignment\": \"center\", \"fontColor\": 0, \"backgroundColor\": 16777215, \"backgroundOpacity\": 0.0});\n\tviewer_17473098169155831.addLabel(\"11\",{\"position\": {\"x\": -1.653092, \"y\": 0.328568, \"z\": 0.841643}, \"alignment\": \"center\", \"fontColor\": 0, \"backgroundColor\": 16777215, \"backgroundOpacity\": 0.0});\n\tviewer_17473098169155831.zoomTo();\nviewer_17473098169155831.render();\n});\n</script>",
            "text/html": [
              "<div id=\"3dmolviewer_17473098169155831\"  style=\"position: relative; width: 400px; height: 300px;\">\n",
              "        <p id=\"3dmolwarning_17473098169155831\" style=\"background-color:#ffcccc;color:black\">3Dmol.js failed to load for some reason.  Please check your browser console for error messages.<br></p>\n",
              "        </div>\n",
              "<script>\n",
              "\n",
              "var loadScriptAsync = function(uri){\n",
              "  return new Promise((resolve, reject) => {\n",
              "    //this is to ignore the existence of requirejs amd\n",
              "    var savedexports, savedmodule;\n",
              "    if (typeof exports !== 'undefined') savedexports = exports;\n",
              "    else exports = {}\n",
              "    if (typeof module !== 'undefined') savedmodule = module;\n",
              "    else module = {}\n",
              "\n",
              "    var tag = document.createElement('script');\n",
              "    tag.src = uri;\n",
              "    tag.async = true;\n",
              "    tag.onload = () => {\n",
              "        exports = savedexports;\n",
              "        module = savedmodule;\n",
              "        resolve();\n",
              "    };\n",
              "  var firstScriptTag = document.getElementsByTagName('script')[0];\n",
              "  firstScriptTag.parentNode.insertBefore(tag, firstScriptTag);\n",
              "});\n",
              "};\n",
              "\n",
              "if(typeof $3Dmolpromise === 'undefined') {\n",
              "$3Dmolpromise = null;\n",
              "  $3Dmolpromise = loadScriptAsync('https://cdnjs.cloudflare.com/ajax/libs/3Dmol/2.4.2/3Dmol-min.js');\n",
              "}\n",
              "\n",
              "var viewer_17473098169155831 = null;\n",
              "var warn = document.getElementById(\"3dmolwarning_17473098169155831\");\n",
              "if(warn) {\n",
              "    warn.parentNode.removeChild(warn);\n",
              "}\n",
              "$3Dmolpromise.then(function() {\n",
              "viewer_17473098169155831 = $3Dmol.createViewer(document.getElementById(\"3dmolviewer_17473098169155831\"),{backgroundColor:\"white\"});\n",
              "viewer_17473098169155831.zoomTo();\n",
              "\tviewer_17473098169155831.addModel(\"11\\n\\nO              1.153306000000        -1.302936000000        -2.206608000000\\nC              0.408326000000        -0.256084000000        -1.646680000000\\nC             -0.805047000000        -0.812230000000        -0.898602000000\\nC             -1.582316000000         0.287712000000        -0.240437000000\\nO             -2.151753000000         1.132090000000        -0.913676000000\\nH              0.654613000000        -1.609081000000        -3.008782000000\\nH              0.083559000000         0.453408000000        -2.442233000000\\nH              1.058993000000         0.297880000000        -0.936343000000\\nH             -1.468169000000        -1.357012000000        -1.604770000000\\nH             -0.459546000000        -1.526907000000        -0.120768000000\\nH             -1.653092000000         0.328568000000         0.841643000000\\n\");\n",
              "\tviewer_17473098169155831.setViewStyle({\"style\": \"outline\", \"width\": 0.05});\n",
              "\tviewer_17473098169155831.setStyle({\"stick\": {}, \"sphere\": {\"scale\": 0.25}});\n",
              "\tviewer_17473098169155831.addLabel(\"1\",{\"position\": {\"x\": 1.153306, \"y\": -1.302936, \"z\": -2.206608}, \"alignment\": \"center\", \"fontColor\": 0, \"backgroundColor\": 16777215, \"backgroundOpacity\": 0.0});\n",
              "\tviewer_17473098169155831.addLabel(\"2\",{\"position\": {\"x\": 0.40832599999999997, \"y\": -0.256084, \"z\": -1.64668}, \"alignment\": \"center\", \"fontColor\": 0, \"backgroundColor\": 16777215, \"backgroundOpacity\": 0.0});\n",
              "\tviewer_17473098169155831.addLabel(\"3\",{\"position\": {\"x\": -0.805047, \"y\": -0.8122299999999999, \"z\": -0.898602}, \"alignment\": \"center\", \"fontColor\": 0, \"backgroundColor\": 16777215, \"backgroundOpacity\": 0.0});\n",
              "\tviewer_17473098169155831.addLabel(\"4\",{\"position\": {\"x\": -1.582316, \"y\": 0.287712, \"z\": -0.240437}, \"alignment\": \"center\", \"fontColor\": 0, \"backgroundColor\": 16777215, \"backgroundOpacity\": 0.0});\n",
              "\tviewer_17473098169155831.addLabel(\"5\",{\"position\": {\"x\": -2.151753, \"y\": 1.13209, \"z\": -0.9136759999999999}, \"alignment\": \"center\", \"fontColor\": 0, \"backgroundColor\": 16777215, \"backgroundOpacity\": 0.0});\n",
              "\tviewer_17473098169155831.addLabel(\"6\",{\"position\": {\"x\": 0.6546129999999999, \"y\": -1.609081, \"z\": -3.008782}, \"alignment\": \"center\", \"fontColor\": 0, \"backgroundColor\": 16777215, \"backgroundOpacity\": 0.0});\n",
              "\tviewer_17473098169155831.addLabel(\"7\",{\"position\": {\"x\": 0.08355899999999998, \"y\": 0.453408, \"z\": -2.4422329999999994}, \"alignment\": \"center\", \"fontColor\": 0, \"backgroundColor\": 16777215, \"backgroundOpacity\": 0.0});\n",
              "\tviewer_17473098169155831.addLabel(\"8\",{\"position\": {\"x\": 1.058993, \"y\": 0.29788, \"z\": -0.936343}, \"alignment\": \"center\", \"fontColor\": 0, \"backgroundColor\": 16777215, \"backgroundOpacity\": 0.0});\n",
              "\tviewer_17473098169155831.addLabel(\"9\",{\"position\": {\"x\": -1.468169, \"y\": -1.357012, \"z\": -1.6047699999999998}, \"alignment\": \"center\", \"fontColor\": 0, \"backgroundColor\": 16777215, \"backgroundOpacity\": 0.0});\n",
              "\tviewer_17473098169155831.addLabel(\"10\",{\"position\": {\"x\": -0.459546, \"y\": -1.5269069999999998, \"z\": -0.12076799999999999}, \"alignment\": \"center\", \"fontColor\": 0, \"backgroundColor\": 16777215, \"backgroundOpacity\": 0.0});\n",
              "\tviewer_17473098169155831.addLabel(\"11\",{\"position\": {\"x\": -1.653092, \"y\": 0.328568, \"z\": 0.841643}, \"alignment\": \"center\", \"fontColor\": 0, \"backgroundColor\": 16777215, \"backgroundOpacity\": 0.0});\n",
              "\tviewer_17473098169155831.zoomTo();\n",
              "viewer_17473098169155831.render();\n",
              "});\n",
              "</script>"
            ]
          },
          "metadata": {}
        }
      ],
      "source": [
        "#@title Define your molecule, either asa SMILES code or xyz-coordinates above\n",
        "#@markdown - Enter the SMILES code\n",
        "import veloxchem as vlx\n",
        "smiles_code = 'OCCC=O' #@param {type:\"string\"}\n",
        "#@markdown - If you want to use the xyz coordinates in the previous cell check box\n",
        "use_xyz = False # @param {type:\"boolean\"}\n",
        "if use_xyz == False:\n",
        "  molecule = vlx.Molecule.read_smiles(smiles_code)\n",
        "else:\n",
        "  molecule = vlx.Molecule.read_str(xyz_coordinates)\n",
        "print('Structure of the molecule entered: ')\n",
        "molecule.show(atom_indices=True)\n",
        "\n"
      ]
    },
    {
      "cell_type": "code",
      "source": [
        "#@title DFT single point of optimized structure\n",
        "#@markdown Example timing: ibuprofen (11 min)\n",
        "basis_set = 'DEF2-SVP' #@param  ['6-31++G', '6-31++G*', '6-31++G**', '6-31+G', '6-31+G*', '6-31+G**', '6-311++G', '6-311++G(2D,2P)', '6-311++G(3DF,3PD)', '6-311++G*', '6-311++G**', '6-311+G', '6-311+G(2D,P)', '6-311+G*', '6-311+G**', '6-311G', '6-311G(2DF,2PD)', '6-311G*', '6-311G**', '6-31G', '6-31G(2DF,P)', '6-31G(3DF,3PD)', '6-31G*', '6-31G**', 'ANO-L-MB', 'ANO-L-VDZP', 'ANO-L-VQZP', 'ANO-L-VTZP', 'ANO-S-MB', 'ANO-S-VDZP', 'AO-START-GUESS', 'AUG-CC-PCV5Z', 'AUG-CC-PCVDZ', 'AUG-CC-PCVQZ', 'AUG-CC-PCVTZ', 'AUG-CC-PV5Z', 'AUG-CC-PV6Z', 'AUG-CC-PVDZ', 'AUG-CC-PVQZ', 'AUG-CC-PVTZ', 'AUG-PCSEG-0', 'AUG-PCSEG-1', 'AUG-PCSEG-2', 'AUG-PCSEG-3', 'AUG-PCSEG-4', 'AUG-PCX-1', 'AUG-PCX-2', 'AUG-PCX-3', 'AUG-PCX-4', 'CC-PCV5Z', 'CC-PCVDZ', 'CC-PCVQZ', 'CC-PCVTZ', 'CC-PV5Z', 'CC-PV6Z', 'CC-PVDZ', 'CC-PVQZ', 'CC-PVTZ', 'DAUG-CC-PCV5Z', 'DAUG-CC-PCVDZ', 'DAUG-CC-PCVQZ', 'DAUG-CC-PCVTZ', 'DAUG-CC-PV5Z', 'DAUG-CC-PV6Z', 'DAUG-CC-PVDZ', 'DAUG-CC-PVQZ', 'DAUG-CC-PVTZ', 'DEF2-QZVP', 'DEF2-QZVPD', 'DEF2-QZVPP', 'DEF2-QZVPPD', 'DEF2-SV(P)', 'DEF2-SVP', 'DEF2-SVPD', 'DEF2-TZVP', 'DEF2-TZVPD', 'DEF2-TZVPP', 'DEF2-TZVPPD', 'PCSEG-0', 'PCSEG-1', 'PCSEG-2', 'PCSEG-3', 'PCSEG-4', 'PCX-1', 'PCX-2', 'PCX-3', 'PCX-4', 'SADLEJ-PVTZ', 'STO-3G', 'STO-3G-OLD', 'STO-6G', 'TAUG-CC-PCV5Z', 'TAUG-CC-PCVDZ', 'TAUG-CC-PCVQZ', 'TAUG-CC-PCVTZ', 'TAUG-CC-PV5Z', 'TAUG-CC-PV6Z', 'TAUG-CC-PVDZ', 'TAUG-CC-PVQZ', 'TAUG-CC-PVTZ']\n",
        "basis = vlx.MolecularBasis.read(molecule, basis_set)\n",
        "scf_drv = vlx.ScfRestrictedDriver()\n",
        "mute_output = True # @param {type:\"boolean\"}\n",
        "if mute_output == True:\n",
        "  scf_drv.ostream.mute()\n",
        "else:\n",
        "  scf_drv.ostream\n",
        "functional = 'PBE' #@param ['SLATER', 'SLDA', 'B88X', 'BLYP', 'B3LYP', 'BHANDH', 'BHANDHLYP', 'PBE', 'PBE0', 'REVPBE', 'BP86', 'PW91', 'MPW1K', 'OLYP', 'O3LYP', 'X3LYP', 'B97', 'B97-1', 'B97-2', 'B97-3', 'TPSS', 'TPSSH', 'REVTPSS', 'PKZB', 'SCAN', 'RSCAN', 'R2SCAN', 'M05', 'M05-2X', 'M06', 'M06-2X', 'M06-HF', 'M06-L', 'M11-L', 'MPW1B95', 'MPWB1K', 'PW6B95', 'PWB6K']\n",
        "scf_drv.xcfun = functional\n",
        "scf_results = scf_drv.compute(molecule, basis)\n",
        "print(f\"DFT energy: {scf_drv.get_scf_energy():14.10f} a.u.\")\n",
        "\n"
      ],
      "metadata": {
        "cellView": "form",
        "id": "NpGikrvnPWMz",
        "outputId": "74dff950-0ca3-42ca-fa64-0b114aae7224",
        "colab": {
          "base_uri": "https://localhost:8080/"
        }
      },
      "execution_count": 12,
      "outputs": [
        {
          "output_type": "stream",
          "name": "stdout",
          "text": [
            "DFT energy: -267.8312953751 a.u.\n"
          ]
        }
      ]
    },
    {
      "cell_type": "code",
      "source": [
        "#@title Optimize the geometry at the level defined above\n",
        "opt_drv = vlx.OptimizationDriver(scf_drv)\n",
        "opt_drv.ostream.mute()\n",
        "opt_results = opt_drv.compute(molecule, basis, scf_results)\n",
        "optimized_molecule = vlx.Molecule.read_xyz_string(opt_results[\"final_geometry\"])\n",
        "print('Optimized structure: ')\n",
        "optimized_molecule.show()\n"
      ],
      "metadata": {
        "cellView": "form",
        "id": "9feUn6wnw7A_",
        "outputId": "43bc9e86-16ba-4f5a-b070-e38994ef28c0",
        "colab": {
          "base_uri": "https://localhost:8080/",
          "height": 335
        }
      },
      "execution_count": 13,
      "outputs": [
        {
          "output_type": "stream",
          "name": "stdout",
          "text": [
            "Optimized structure: \n"
          ]
        },
        {
          "output_type": "display_data",
          "data": {
            "application/3dmoljs_load.v0": "<div id=\"3dmolviewer_17473104021652114\"  style=\"position: relative; width: 400px; height: 300px;\">\n        <p id=\"3dmolwarning_17473104021652114\" style=\"background-color:#ffcccc;color:black\">3Dmol.js failed to load for some reason.  Please check your browser console for error messages.<br></p>\n        </div>\n<script>\n\nvar loadScriptAsync = function(uri){\n  return new Promise((resolve, reject) => {\n    //this is to ignore the existence of requirejs amd\n    var savedexports, savedmodule;\n    if (typeof exports !== 'undefined') savedexports = exports;\n    else exports = {}\n    if (typeof module !== 'undefined') savedmodule = module;\n    else module = {}\n\n    var tag = document.createElement('script');\n    tag.src = uri;\n    tag.async = true;\n    tag.onload = () => {\n        exports = savedexports;\n        module = savedmodule;\n        resolve();\n    };\n  var firstScriptTag = document.getElementsByTagName('script')[0];\n  firstScriptTag.parentNode.insertBefore(tag, firstScriptTag);\n});\n};\n\nif(typeof $3Dmolpromise === 'undefined') {\n$3Dmolpromise = null;\n  $3Dmolpromise = loadScriptAsync('https://cdnjs.cloudflare.com/ajax/libs/3Dmol/2.4.2/3Dmol-min.js');\n}\n\nvar viewer_17473104021652114 = null;\nvar warn = document.getElementById(\"3dmolwarning_17473104021652114\");\nif(warn) {\n    warn.parentNode.removeChild(warn);\n}\n$3Dmolpromise.then(function() {\nviewer_17473104021652114 = $3Dmol.createViewer(document.getElementById(\"3dmolviewer_17473104021652114\"),{backgroundColor:\"white\"});\nviewer_17473104021652114.zoomTo();\n\tviewer_17473104021652114.addModel(\"11\\n\\nO              1.202443131100        -1.274561107271        -2.257626715394\\nC              0.419980605013        -0.261949403920        -1.666695799476\\nC             -0.800071318914        -0.816643930143        -0.892971096799\\nC             -1.614630443468         0.297720673267        -0.265112395763\\nO             -2.166869270448         1.165527905478        -0.913652770708\\nH              0.662698026860        -1.692698692429        -2.953767495036\\nH              0.047847656105         0.491222874371        -2.401526340655\\nH              1.090524763025         0.277516256807        -0.964775252568\\nH             -1.459955188680        -1.347390072605        -1.615613362642\\nH             -0.462463809800        -1.547679682896        -0.130994101940\\nH             -1.660594956455         0.303656908794         0.867784660765\\n\");\n\tviewer_17473104021652114.setViewStyle({\"style\": \"outline\", \"width\": 0.05});\n\tviewer_17473104021652114.setStyle({\"stick\": {}, \"sphere\": {\"scale\": 0.25}});\n\tviewer_17473104021652114.zoomTo();\nviewer_17473104021652114.render();\n});\n</script>",
            "text/html": [
              "<div id=\"3dmolviewer_17473104021652114\"  style=\"position: relative; width: 400px; height: 300px;\">\n",
              "        <p id=\"3dmolwarning_17473104021652114\" style=\"background-color:#ffcccc;color:black\">3Dmol.js failed to load for some reason.  Please check your browser console for error messages.<br></p>\n",
              "        </div>\n",
              "<script>\n",
              "\n",
              "var loadScriptAsync = function(uri){\n",
              "  return new Promise((resolve, reject) => {\n",
              "    //this is to ignore the existence of requirejs amd\n",
              "    var savedexports, savedmodule;\n",
              "    if (typeof exports !== 'undefined') savedexports = exports;\n",
              "    else exports = {}\n",
              "    if (typeof module !== 'undefined') savedmodule = module;\n",
              "    else module = {}\n",
              "\n",
              "    var tag = document.createElement('script');\n",
              "    tag.src = uri;\n",
              "    tag.async = true;\n",
              "    tag.onload = () => {\n",
              "        exports = savedexports;\n",
              "        module = savedmodule;\n",
              "        resolve();\n",
              "    };\n",
              "  var firstScriptTag = document.getElementsByTagName('script')[0];\n",
              "  firstScriptTag.parentNode.insertBefore(tag, firstScriptTag);\n",
              "});\n",
              "};\n",
              "\n",
              "if(typeof $3Dmolpromise === 'undefined') {\n",
              "$3Dmolpromise = null;\n",
              "  $3Dmolpromise = loadScriptAsync('https://cdnjs.cloudflare.com/ajax/libs/3Dmol/2.4.2/3Dmol-min.js');\n",
              "}\n",
              "\n",
              "var viewer_17473104021652114 = null;\n",
              "var warn = document.getElementById(\"3dmolwarning_17473104021652114\");\n",
              "if(warn) {\n",
              "    warn.parentNode.removeChild(warn);\n",
              "}\n",
              "$3Dmolpromise.then(function() {\n",
              "viewer_17473104021652114 = $3Dmol.createViewer(document.getElementById(\"3dmolviewer_17473104021652114\"),{backgroundColor:\"white\"});\n",
              "viewer_17473104021652114.zoomTo();\n",
              "\tviewer_17473104021652114.addModel(\"11\\n\\nO              1.202443131100        -1.274561107271        -2.257626715394\\nC              0.419980605013        -0.261949403920        -1.666695799476\\nC             -0.800071318914        -0.816643930143        -0.892971096799\\nC             -1.614630443468         0.297720673267        -0.265112395763\\nO             -2.166869270448         1.165527905478        -0.913652770708\\nH              0.662698026860        -1.692698692429        -2.953767495036\\nH              0.047847656105         0.491222874371        -2.401526340655\\nH              1.090524763025         0.277516256807        -0.964775252568\\nH             -1.459955188680        -1.347390072605        -1.615613362642\\nH             -0.462463809800        -1.547679682896        -0.130994101940\\nH             -1.660594956455         0.303656908794         0.867784660765\\n\");\n",
              "\tviewer_17473104021652114.setViewStyle({\"style\": \"outline\", \"width\": 0.05});\n",
              "\tviewer_17473104021652114.setStyle({\"stick\": {}, \"sphere\": {\"scale\": 0.25}});\n",
              "\tviewer_17473104021652114.zoomTo();\n",
              "viewer_17473104021652114.render();\n",
              "});\n",
              "</script>"
            ]
          },
          "metadata": {}
        }
      ]
    }
  ]
}