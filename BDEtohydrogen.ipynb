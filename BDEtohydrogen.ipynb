{
  "cells": [
    {
      "cell_type": "markdown",
      "metadata": {
        "id": "view-in-github",
        "colab_type": "text"
      },
      "source": [
        "<a href=\"https://colab.research.google.com/github/ahlqui/VeloxChemColabs/blob/main/BDEtohydrogen.ipynb\" target=\"_parent\"><img src=\"https://colab.research.google.com/assets/colab-badge.svg\" alt=\"Open In Colab\"/></a>"
      ]
    },
    {
      "cell_type": "code",
      "execution_count": null,
      "metadata": {
        "cellView": "form",
        "id": "jD2BNfaGCTtq"
      },
      "outputs": [],
      "source": [
        "#@title Install conda (ca 1 min)\n",
        "%%capture\n",
        "!pip install -q condacolab\n",
        "import condacolab\n",
        "condacolab.install()\n"
      ]
    },
    {
      "cell_type": "code",
      "execution_count": null,
      "metadata": {
        "id": "yWVIR70CCcNw",
        "cellView": "form"
      },
      "outputs": [],
      "source": [
        "#@title Install all the codes needed for this notebook (ca 1-2 min)\n",
        "%%capture\n",
        "!conda install -c conda-forge -c veloxchem veloxchem openbabel py3Dmol\n",
        "\n",
        "import veloxchem as vlx"
      ]
    },
    {
      "cell_type": "code",
      "execution_count": null,
      "metadata": {
        "id": "4SrA0-JgCv-3"
      },
      "outputs": [],
      "source": [
        "xyz_coordinates = \"\"\"\n",
        "C          0.32160        0.72410       -0.00040\n",
        "C         -0.90270        1.41980        0.00660\n",
        "C         -2.10150        0.69710        0.01120\n",
        "C         -2.09140       -0.69640        0.00890\n",
        "C         -0.88830       -1.40910        0.00200\n",
        "C          0.30120       -0.67090       -0.00250\n",
        "C          1.68680        1.12310       -0.00630\n",
        "C          2.45750       -0.01710       -0.01180\n",
        "N          1.61120       -1.09430       -0.00950\n",
        "H         -0.91840        2.50550        0.00840\n",
        "H         -3.04870        1.23060        0.01660\n",
        "H         -3.03380       -1.23930        0.01250\n",
        "H         -0.88450       -2.49400        0.00020\n",
        "H          2.06150        2.13810       -0.00640\n",
        "H          3.53030       -0.15430       -0.01710\n",
        "H          1.89930       -2.06280       -0.01240\n",
        "\"\"\""
      ]
    },
    {
      "cell_type": "code",
      "execution_count": null,
      "metadata": {
        "cellView": "form",
        "id": "M24lU9ajDHsH",
        "colab": {
          "base_uri": "https://localhost:8080/",
          "height": 355
        },
        "outputId": "5c064648-c9e1-494b-9ba5-884f789b1052"
      },
      "outputs": [
        {
          "output_type": "stream",
          "name": "stdout",
          "text": [
            "Structure of the molecule entered: \n"
          ]
        },
        {
          "output_type": "display_data",
          "data": {
            "application/3dmoljs_load.v0": "<div id=\"3dmolviewer_17115383270705304\"  style=\"position: relative; width: 400px; height: 300px;\">\n        <p id=\"3dmolwarning_17115383270705304\" style=\"background-color:#ffcccc;color:black\">3Dmol.js failed to load for some reason.  Please check your browser console for error messages.<br></p>\n        </div>\n<script>\n\nvar loadScriptAsync = function(uri){\n  return new Promise((resolve, reject) => {\n    //this is to ignore the existence of requirejs amd\n    var savedexports, savedmodule;\n    if (typeof exports !== 'undefined') savedexports = exports;\n    else exports = {}\n    if (typeof module !== 'undefined') savedmodule = module;\n    else module = {}\n\n    var tag = document.createElement('script');\n    tag.src = uri;\n    tag.async = true;\n    tag.onload = () => {\n        exports = savedexports;\n        module = savedmodule;\n        resolve();\n    };\n  var firstScriptTag = document.getElementsByTagName('script')[0];\n  firstScriptTag.parentNode.insertBefore(tag, firstScriptTag);\n});\n};\n\nif(typeof $3Dmolpromise === 'undefined') {\n$3Dmolpromise = null;\n  $3Dmolpromise = loadScriptAsync('https://cdnjs.cloudflare.com/ajax/libs/3Dmol/2.1.0/3Dmol-min.js');\n}\n\nvar viewer_17115383270705304 = null;\nvar warn = document.getElementById(\"3dmolwarning_17115383270705304\");\nif(warn) {\n    warn.parentNode.removeChild(warn);\n}\n$3Dmolpromise.then(function() {\nviewer_17115383270705304 = $3Dmol.createViewer(document.getElementById(\"3dmolviewer_17115383270705304\"),{backgroundColor:\"white\"});\nviewer_17115383270705304.zoomTo();\n\tviewer_17115383270705304.addModel(\"9\\n\\nC              0.938870000000        -0.764000000000         0.000560000000\\nC             -0.395900000000        -1.092990000000         0.000640000000\\nN             -1.173700000000         0.035910000000         0.001700000000\\nC             -0.327480000000         1.039950000000         0.002110000000\\nN              0.966750000000         0.603150000000         0.000830000000\\nH              1.838210000000        -1.362640000000         0.000200000000\\nH             -0.838620000000        -2.080690000000         0.000110000000\\nH             -0.588390000000         2.089840000000         0.003270000000\\nH              1.789740000000         1.189720000000         0.000340000000\\n\");\n\tviewer_17115383270705304.setViewStyle({\"style\": \"outline\", \"width\": 0.05});\n\tviewer_17115383270705304.setStyle({\"stick\": {}, \"sphere\": {\"scale\": 0.25}});\n\tviewer_17115383270705304.addLabel(\"1\",{\"position\": {\"x\": 0.93887, \"y\": -0.7639999999999999, \"z\": 0.00056}, \"alignment\": \"center\", \"fontColor\": 0, \"backgroundColor\": 16777215, \"backgroundOpacity\": 0.0});\n\tviewer_17115383270705304.addLabel(\"2\",{\"position\": {\"x\": -0.3959, \"y\": -1.0929899999999997, \"z\": 0.0006399999999999999}, \"alignment\": \"center\", \"fontColor\": 0, \"backgroundColor\": 16777215, \"backgroundOpacity\": 0.0});\n\tviewer_17115383270705304.addLabel(\"3\",{\"position\": {\"x\": -1.1736999999999997, \"y\": 0.03591, \"z\": 0.0017}, \"alignment\": \"center\", \"fontColor\": 0, \"backgroundColor\": 16777215, \"backgroundOpacity\": 0.0});\n\tviewer_17115383270705304.addLabel(\"4\",{\"position\": {\"x\": -0.32748, \"y\": 1.03995, \"z\": 0.00211}, \"alignment\": \"center\", \"fontColor\": 0, \"backgroundColor\": 16777215, \"backgroundOpacity\": 0.0});\n\tviewer_17115383270705304.addLabel(\"5\",{\"position\": {\"x\": 0.96675, \"y\": 0.60315, \"z\": 0.00083}, \"alignment\": \"center\", \"fontColor\": 0, \"backgroundColor\": 16777215, \"backgroundOpacity\": 0.0});\n\tviewer_17115383270705304.addLabel(\"6\",{\"position\": {\"x\": 1.83821, \"y\": -1.36264, \"z\": 0.0002}, \"alignment\": \"center\", \"fontColor\": 0, \"backgroundColor\": 16777215, \"backgroundOpacity\": 0.0});\n\tviewer_17115383270705304.addLabel(\"7\",{\"position\": {\"x\": -0.83862, \"y\": -2.08069, \"z\": 0.00011}, \"alignment\": \"center\", \"fontColor\": 0, \"backgroundColor\": 16777215, \"backgroundOpacity\": 0.0});\n\tviewer_17115383270705304.addLabel(\"8\",{\"position\": {\"x\": -0.58839, \"y\": 2.08984, \"z\": 0.00327}, \"alignment\": \"center\", \"fontColor\": 0, \"backgroundColor\": 16777215, \"backgroundOpacity\": 0.0});\n\tviewer_17115383270705304.addLabel(\"9\",{\"position\": {\"x\": 1.7897399999999999, \"y\": 1.1897199999999999, \"z\": 0.00034}, \"alignment\": \"center\", \"fontColor\": 0, \"backgroundColor\": 16777215, \"backgroundOpacity\": 0.0});\n\tviewer_17115383270705304.zoomTo();\nviewer_17115383270705304.render();\n});\n</script>",
            "text/html": [
              "<div id=\"3dmolviewer_17115383270705304\"  style=\"position: relative; width: 400px; height: 300px;\">\n",
              "        <p id=\"3dmolwarning_17115383270705304\" style=\"background-color:#ffcccc;color:black\">3Dmol.js failed to load for some reason.  Please check your browser console for error messages.<br></p>\n",
              "        </div>\n",
              "<script>\n",
              "\n",
              "var loadScriptAsync = function(uri){\n",
              "  return new Promise((resolve, reject) => {\n",
              "    //this is to ignore the existence of requirejs amd\n",
              "    var savedexports, savedmodule;\n",
              "    if (typeof exports !== 'undefined') savedexports = exports;\n",
              "    else exports = {}\n",
              "    if (typeof module !== 'undefined') savedmodule = module;\n",
              "    else module = {}\n",
              "\n",
              "    var tag = document.createElement('script');\n",
              "    tag.src = uri;\n",
              "    tag.async = true;\n",
              "    tag.onload = () => {\n",
              "        exports = savedexports;\n",
              "        module = savedmodule;\n",
              "        resolve();\n",
              "    };\n",
              "  var firstScriptTag = document.getElementsByTagName('script')[0];\n",
              "  firstScriptTag.parentNode.insertBefore(tag, firstScriptTag);\n",
              "});\n",
              "};\n",
              "\n",
              "if(typeof $3Dmolpromise === 'undefined') {\n",
              "$3Dmolpromise = null;\n",
              "  $3Dmolpromise = loadScriptAsync('https://cdnjs.cloudflare.com/ajax/libs/3Dmol/2.1.0/3Dmol-min.js');\n",
              "}\n",
              "\n",
              "var viewer_17115383270705304 = null;\n",
              "var warn = document.getElementById(\"3dmolwarning_17115383270705304\");\n",
              "if(warn) {\n",
              "    warn.parentNode.removeChild(warn);\n",
              "}\n",
              "$3Dmolpromise.then(function() {\n",
              "viewer_17115383270705304 = $3Dmol.createViewer(document.getElementById(\"3dmolviewer_17115383270705304\"),{backgroundColor:\"white\"});\n",
              "viewer_17115383270705304.zoomTo();\n",
              "\tviewer_17115383270705304.addModel(\"9\\n\\nC              0.938870000000        -0.764000000000         0.000560000000\\nC             -0.395900000000        -1.092990000000         0.000640000000\\nN             -1.173700000000         0.035910000000         0.001700000000\\nC             -0.327480000000         1.039950000000         0.002110000000\\nN              0.966750000000         0.603150000000         0.000830000000\\nH              1.838210000000        -1.362640000000         0.000200000000\\nH             -0.838620000000        -2.080690000000         0.000110000000\\nH             -0.588390000000         2.089840000000         0.003270000000\\nH              1.789740000000         1.189720000000         0.000340000000\\n\");\n",
              "\tviewer_17115383270705304.setViewStyle({\"style\": \"outline\", \"width\": 0.05});\n",
              "\tviewer_17115383270705304.setStyle({\"stick\": {}, \"sphere\": {\"scale\": 0.25}});\n",
              "\tviewer_17115383270705304.addLabel(\"1\",{\"position\": {\"x\": 0.93887, \"y\": -0.7639999999999999, \"z\": 0.00056}, \"alignment\": \"center\", \"fontColor\": 0, \"backgroundColor\": 16777215, \"backgroundOpacity\": 0.0});\n",
              "\tviewer_17115383270705304.addLabel(\"2\",{\"position\": {\"x\": -0.3959, \"y\": -1.0929899999999997, \"z\": 0.0006399999999999999}, \"alignment\": \"center\", \"fontColor\": 0, \"backgroundColor\": 16777215, \"backgroundOpacity\": 0.0});\n",
              "\tviewer_17115383270705304.addLabel(\"3\",{\"position\": {\"x\": -1.1736999999999997, \"y\": 0.03591, \"z\": 0.0017}, \"alignment\": \"center\", \"fontColor\": 0, \"backgroundColor\": 16777215, \"backgroundOpacity\": 0.0});\n",
              "\tviewer_17115383270705304.addLabel(\"4\",{\"position\": {\"x\": -0.32748, \"y\": 1.03995, \"z\": 0.00211}, \"alignment\": \"center\", \"fontColor\": 0, \"backgroundColor\": 16777215, \"backgroundOpacity\": 0.0});\n",
              "\tviewer_17115383270705304.addLabel(\"5\",{\"position\": {\"x\": 0.96675, \"y\": 0.60315, \"z\": 0.00083}, \"alignment\": \"center\", \"fontColor\": 0, \"backgroundColor\": 16777215, \"backgroundOpacity\": 0.0});\n",
              "\tviewer_17115383270705304.addLabel(\"6\",{\"position\": {\"x\": 1.83821, \"y\": -1.36264, \"z\": 0.0002}, \"alignment\": \"center\", \"fontColor\": 0, \"backgroundColor\": 16777215, \"backgroundOpacity\": 0.0});\n",
              "\tviewer_17115383270705304.addLabel(\"7\",{\"position\": {\"x\": -0.83862, \"y\": -2.08069, \"z\": 0.00011}, \"alignment\": \"center\", \"fontColor\": 0, \"backgroundColor\": 16777215, \"backgroundOpacity\": 0.0});\n",
              "\tviewer_17115383270705304.addLabel(\"8\",{\"position\": {\"x\": -0.58839, \"y\": 2.08984, \"z\": 0.00327}, \"alignment\": \"center\", \"fontColor\": 0, \"backgroundColor\": 16777215, \"backgroundOpacity\": 0.0});\n",
              "\tviewer_17115383270705304.addLabel(\"9\",{\"position\": {\"x\": 1.7897399999999999, \"y\": 1.1897199999999999, \"z\": 0.00034}, \"alignment\": \"center\", \"fontColor\": 0, \"backgroundColor\": 16777215, \"backgroundOpacity\": 0.0});\n",
              "\tviewer_17115383270705304.zoomTo();\n",
              "viewer_17115383270705304.render();\n",
              "});\n",
              "</script>"
            ]
          },
          "metadata": {}
        }
      ],
      "source": [
        "#@title Define your molecule, either asa SMILES code or xyz-coordinates above\n",
        "#@markdown - Enter the SMILES code\n",
        "smiles_code = 'C1=CN=CN1' #@param {type:\"string\"}\n",
        "#@markdown - If you want to use the xyz coordinates in the previous cell check box\n",
        "use_xyz = False # @param {type:\"boolean\"}\n",
        "if use_xyz == False:\n",
        "  molecule = vlx.Molecule.read_smiles(smiles_code)\n",
        "else:\n",
        "  molecule = vlx.Molecule.read_str(xyz_coordinates)\n",
        "print('Structure of the molecule entered: ')\n",
        "molecule.show(atom_indices=True)"
      ]
    },
    {
      "cell_type": "code",
      "source": [
        "#@title Pre-optimization of the geometry with xTB\n",
        "#@markdown Example timing: Ibuprofen (59 sec)\n",
        "scf_drv = vlx.XtbDriver()\n",
        "scf_drv.ostream.mute()\n",
        "\n",
        "opt_drv = vlx.OptimizationDriver(scf_drv)\n",
        "opt_drv.ostream.mute()\n",
        "opt_results = opt_drv.compute(molecule)\n",
        "\n",
        "molecule = vlx.Molecule.read_xyz_string(opt_results[\"final_geometry\"])\n",
        "print('xTB optimized geometry:')\n",
        "molecule.show()\n"
      ],
      "metadata": {
        "cellView": "form",
        "colab": {
          "base_uri": "https://localhost:8080/",
          "height": 355
        },
        "id": "ian4rHCLesum",
        "outputId": "52d6b34c-3ab5-4c5b-ef6e-1f022ff31103"
      },
      "execution_count": null,
      "outputs": [
        {
          "output_type": "stream",
          "name": "stdout",
          "text": [
            "xTB optimized geometry:\n"
          ]
        },
        {
          "output_type": "display_data",
          "data": {
            "application/3dmoljs_load.v0": "<div id=\"3dmolviewer_17115383564264777\"  style=\"position: relative; width: 400px; height: 300px;\">\n        <p id=\"3dmolwarning_17115383564264777\" style=\"background-color:#ffcccc;color:black\">3Dmol.js failed to load for some reason.  Please check your browser console for error messages.<br></p>\n        </div>\n<script>\n\nvar loadScriptAsync = function(uri){\n  return new Promise((resolve, reject) => {\n    //this is to ignore the existence of requirejs amd\n    var savedexports, savedmodule;\n    if (typeof exports !== 'undefined') savedexports = exports;\n    else exports = {}\n    if (typeof module !== 'undefined') savedmodule = module;\n    else module = {}\n\n    var tag = document.createElement('script');\n    tag.src = uri;\n    tag.async = true;\n    tag.onload = () => {\n        exports = savedexports;\n        module = savedmodule;\n        resolve();\n    };\n  var firstScriptTag = document.getElementsByTagName('script')[0];\n  firstScriptTag.parentNode.insertBefore(tag, firstScriptTag);\n});\n};\n\nif(typeof $3Dmolpromise === 'undefined') {\n$3Dmolpromise = null;\n  $3Dmolpromise = loadScriptAsync('https://cdnjs.cloudflare.com/ajax/libs/3Dmol/2.1.0/3Dmol-min.js');\n}\n\nvar viewer_17115383564264777 = null;\nvar warn = document.getElementById(\"3dmolwarning_17115383564264777\");\nif(warn) {\n    warn.parentNode.removeChild(warn);\n}\n$3Dmolpromise.then(function() {\nviewer_17115383564264777 = $3Dmol.createViewer(document.getElementById(\"3dmolviewer_17115383564264777\"),{backgroundColor:\"white\"});\nviewer_17115383564264777.zoomTo();\n\tviewer_17115383564264777.addModel(\"9\\n\\nC              0.932218722988        -0.756889555727         0.000306397733\\nC             -0.390770043789        -1.090260182586         0.000794229028\\nN             -1.155395988189         0.032843098607         0.001812384541\\nC             -0.320451977153         1.030798256840         0.001964801335\\nN              0.967476830575         0.609320257351         0.001153597760\\nH              1.821043575371        -1.353134975834        -0.000471457818\\nH             -0.840995934411        -2.062125084205         0.000456694818\\nH             -0.598984913907         2.065577841210         0.002695307113\\nH              1.795339728515         1.182120344345         0.001048045490\\n\");\n\tviewer_17115383564264777.setViewStyle({\"style\": \"outline\", \"width\": 0.05});\n\tviewer_17115383564264777.setStyle({\"stick\": {}, \"sphere\": {\"scale\": 0.25}});\n\tviewer_17115383564264777.zoomTo();\nviewer_17115383564264777.render();\n});\n</script>",
            "text/html": [
              "<div id=\"3dmolviewer_17115383564264777\"  style=\"position: relative; width: 400px; height: 300px;\">\n",
              "        <p id=\"3dmolwarning_17115383564264777\" style=\"background-color:#ffcccc;color:black\">3Dmol.js failed to load for some reason.  Please check your browser console for error messages.<br></p>\n",
              "        </div>\n",
              "<script>\n",
              "\n",
              "var loadScriptAsync = function(uri){\n",
              "  return new Promise((resolve, reject) => {\n",
              "    //this is to ignore the existence of requirejs amd\n",
              "    var savedexports, savedmodule;\n",
              "    if (typeof exports !== 'undefined') savedexports = exports;\n",
              "    else exports = {}\n",
              "    if (typeof module !== 'undefined') savedmodule = module;\n",
              "    else module = {}\n",
              "\n",
              "    var tag = document.createElement('script');\n",
              "    tag.src = uri;\n",
              "    tag.async = true;\n",
              "    tag.onload = () => {\n",
              "        exports = savedexports;\n",
              "        module = savedmodule;\n",
              "        resolve();\n",
              "    };\n",
              "  var firstScriptTag = document.getElementsByTagName('script')[0];\n",
              "  firstScriptTag.parentNode.insertBefore(tag, firstScriptTag);\n",
              "});\n",
              "};\n",
              "\n",
              "if(typeof $3Dmolpromise === 'undefined') {\n",
              "$3Dmolpromise = null;\n",
              "  $3Dmolpromise = loadScriptAsync('https://cdnjs.cloudflare.com/ajax/libs/3Dmol/2.1.0/3Dmol-min.js');\n",
              "}\n",
              "\n",
              "var viewer_17115383564264777 = null;\n",
              "var warn = document.getElementById(\"3dmolwarning_17115383564264777\");\n",
              "if(warn) {\n",
              "    warn.parentNode.removeChild(warn);\n",
              "}\n",
              "$3Dmolpromise.then(function() {\n",
              "viewer_17115383564264777 = $3Dmol.createViewer(document.getElementById(\"3dmolviewer_17115383564264777\"),{backgroundColor:\"white\"});\n",
              "viewer_17115383564264777.zoomTo();\n",
              "\tviewer_17115383564264777.addModel(\"9\\n\\nC              0.932218722988        -0.756889555727         0.000306397733\\nC             -0.390770043789        -1.090260182586         0.000794229028\\nN             -1.155395988189         0.032843098607         0.001812384541\\nC             -0.320451977153         1.030798256840         0.001964801335\\nN              0.967476830575         0.609320257351         0.001153597760\\nH              1.821043575371        -1.353134975834        -0.000471457818\\nH             -0.840995934411        -2.062125084205         0.000456694818\\nH             -0.598984913907         2.065577841210         0.002695307113\\nH              1.795339728515         1.182120344345         0.001048045490\\n\");\n",
              "\tviewer_17115383564264777.setViewStyle({\"style\": \"outline\", \"width\": 0.05});\n",
              "\tviewer_17115383564264777.setStyle({\"stick\": {}, \"sphere\": {\"scale\": 0.25}});\n",
              "\tviewer_17115383564264777.zoomTo();\n",
              "viewer_17115383564264777.render();\n",
              "});\n",
              "</script>"
            ]
          },
          "metadata": {}
        }
      ]
    },
    {
      "cell_type": "code",
      "execution_count": null,
      "metadata": {
        "id": "rifGr4E0Jdcn",
        "cellView": "form"
      },
      "outputs": [],
      "source": [
        "#@title Generate structure objects without one hydrogen atom each\n",
        "def remove_atom_iteratively(molecule, atom):\n",
        "    mol_string = molecule.get_xyz_string()\n",
        "    number_of_atoms = molecule.number_of_atoms()\n",
        "    mol_string = mol_string.split('\\n')\n",
        "    # Identify the lines that start with atom and save the positions\n",
        "    atom_positions = []\n",
        "    for i, line in enumerate(mol_string):\n",
        "        if line.startswith(atom):\n",
        "            atom_positions.append(i)\n",
        "    # Remove the atom lines one by one and generate one molecule for each\n",
        "    molecules = []\n",
        "    for i, position in enumerate(atom_positions):\n",
        "        new_mol = mol_string.copy()\n",
        "        new_mol.pop(position)\n",
        "        # Update the number of atoms\n",
        "        new_mol[0] = str(number_of_atoms - 1)\n",
        "        new_mol = '\\n'.join(new_mol)\n",
        "        molecules.append(vlx.Molecule.read_xyz_string(new_mol))\n",
        "    return molecules\n",
        "molecules = remove_atom_iteratively(molecule, 'H')\n",
        "#for mol in molecules:\n",
        "#    mol.show()\n"
      ]
    },
    {
      "cell_type": "code",
      "execution_count": null,
      "metadata": {
        "id": "PMlFXjMBHfI_",
        "cellView": "form",
        "colab": {
          "base_uri": "https://localhost:8080/"
        },
        "outputId": "c29a8fd3-5ba5-45cb-fd7a-0b2ed7bf715f"
      },
      "outputs": [
        {
          "output_type": "stream",
          "name": "stdout",
          "text": [
            "Computing energy of structure 1 of 5\n",
            "Done\n",
            "Computing energy of structure 2 of 5\n",
            "Done\n",
            "Computing energy of structure 3 of 5\n",
            "Done\n",
            "Computing energy of structure 4 of 5\n",
            "Done\n",
            "Computing energy of structure 5 of 5\n",
            "Done\n"
          ]
        }
      ],
      "source": [
        "#@title DFT single point\n",
        "#@markdown Example timing: Indole (24 min) PBE/6-31G*\n",
        "print('Computing energy of structure 1' + ' of ' + str(len(molecules)+1))\n",
        "basis_set = '6-31G*' #@param  ['6-31++G', '6-31++G*', '6-31++G**', '6-31+G', '6-31+G*', '6-31+G**', '6-311++G', '6-311++G(2D,2P)', '6-311++G(3DF,3PD)', '6-311++G*', '6-311++G**', '6-311+G', '6-311+G(2D,P)', '6-311+G*', '6-311+G**', '6-311G', '6-311G(2DF,2PD)', '6-311G*', '6-311G**', '6-31G', '6-31G(2DF,P)', '6-31G(3DF,3PD)', '6-31G*', '6-31G**', 'ANO-L-MB', 'ANO-L-VDZP', 'ANO-L-VQZP', 'ANO-L-VTZP', 'ANO-S-MB', 'ANO-S-VDZP', 'AO-START-GUESS', 'AUG-CC-PCV5Z', 'AUG-CC-PCVDZ', 'AUG-CC-PCVQZ', 'AUG-CC-PCVTZ', 'AUG-CC-PV5Z', 'AUG-CC-PV6Z', 'AUG-CC-PVDZ', 'AUG-CC-PVQZ', 'AUG-CC-PVTZ', 'AUG-PCSEG-0', 'AUG-PCSEG-1', 'AUG-PCSEG-2', 'AUG-PCSEG-3', 'AUG-PCSEG-4', 'AUG-PCX-1', 'AUG-PCX-2', 'AUG-PCX-3', 'AUG-PCX-4', 'CC-PCV5Z', 'CC-PCVDZ', 'CC-PCVQZ', 'CC-PCVTZ', 'CC-PV5Z', 'CC-PV6Z', 'CC-PVDZ', 'CC-PVQZ', 'CC-PVTZ', 'DAUG-CC-PCV5Z', 'DAUG-CC-PCVDZ', 'DAUG-CC-PCVQZ', 'DAUG-CC-PCVTZ', 'DAUG-CC-PV5Z', 'DAUG-CC-PV6Z', 'DAUG-CC-PVDZ', 'DAUG-CC-PVQZ', 'DAUG-CC-PVTZ', 'DEF2-QZVP', 'DEF2-QZVPD', 'DEF2-QZVPP', 'DEF2-QZVPPD', 'DEF2-SV(P)', 'DEF2-SVP', 'DEF2-SVPD', 'DEF2-TZVP', 'DEF2-TZVPD', 'DEF2-TZVPP', 'DEF2-TZVPPD', 'PCSEG-0', 'PCSEG-1', 'PCSEG-2', 'PCSEG-3', 'PCSEG-4', 'PCX-1', 'PCX-2', 'PCX-3', 'PCX-4', 'SADLEJ-PVTZ', 'STO-3G', 'STO-3G-OLD', 'STO-6G', 'TAUG-CC-PCV5Z', 'TAUG-CC-PCVDZ', 'TAUG-CC-PCVQZ', 'TAUG-CC-PCVTZ', 'TAUG-CC-PV5Z', 'TAUG-CC-PV6Z', 'TAUG-CC-PVDZ', 'TAUG-CC-PVQZ', 'TAUG-CC-PVTZ']\n",
        "basis = vlx.MolecularBasis.read(molecule, basis_set, ostream=None)\n",
        "scf_drv = vlx.ScfUnrestrictedDriver()\n",
        "mute_output = True # @param {type:\"boolean\"}\n",
        "if mute_output == True:\n",
        "  scf_drv.ostream.mute()\n",
        "else:\n",
        "  scf_drv.ostream\n",
        "functional = 'PBE0' #@param ['SLATER', 'SLDA', 'B88X', 'BLYP', 'B3LYP', 'BHANDH', 'BHANDHLYP', 'PBE', 'PBE0', 'REVPBE', 'BP86', 'PW91', 'MPW1K', 'OLYP', 'O3LYP', 'X3LYP', 'B97', 'B97-1', 'B97-2', 'B97-3', 'TPSS', 'TPSSH', 'REVTPSS', 'PKZB', 'SCAN', 'RSCAN', 'R2SCAN', 'M05', 'M05-2X', 'M06', 'M06-2X', 'M06-HF', 'M06-L', 'M11-L', 'MPW1B95', 'MPWB1K', 'PW6B95', 'PWB6K']\n",
        "scf_drv.xcfun = functional\n",
        "scf_results = scf_drv.compute(molecule, basis)\n",
        "print('Done')\n",
        "#print(f\"DFT energy: {scf_drv.get_scf_energy():14.10f} a.u.\")\n",
        "\n",
        "hydrogen = vlx.Molecule.read_str(\"\"\" H 0.0 0.0 0.0 \"\"\")\n",
        "hydrogen.set_multiplicity(2)\n",
        "basis = vlx.MolecularBasis.read(hydrogen, basis_set, ostream=None)\n",
        "scf_resultsH = scf_drv.compute(hydrogen, basis)\n",
        "#print(f\"DFT energy: {scf_drv.get_scf_energy():14.10f} a.u.\")\n",
        "i = 1\n",
        "results = []\n",
        "for mol in molecules:\n",
        "    i = i + 1\n",
        "    print('Computing energy of structure ' + str(i) + ' of ' + str(len(molecules)+1))\n",
        "    basis = vlx.MolecularBasis.read(mol, basis_set, ostream=None)\n",
        "    mol.set_multiplicity(2)\n",
        "    scf_resultsmol = scf_drv.compute(mol, basis)\n",
        "    print('Done')\n",
        "    results.append(scf_resultsmol)"
      ]
    },
    {
      "cell_type": "code",
      "execution_count": null,
      "metadata": {
        "id": "OKQWtkZKVR8B",
        "cellView": "form",
        "colab": {
          "base_uri": "https://localhost:8080/",
          "height": 427
        },
        "outputId": "f1c977c0-0a9b-4289-c905-a3197954b3ee"
      },
      "outputs": [
        {
          "output_type": "display_data",
          "data": {
            "application/3dmoljs_load.v0": "<div id=\"3dmolviewer_17115386041070383\"  style=\"position: relative; width: 400px; height: 300px;\">\n        <p id=\"3dmolwarning_17115386041070383\" style=\"background-color:#ffcccc;color:black\">3Dmol.js failed to load for some reason.  Please check your browser console for error messages.<br></p>\n        </div>\n<script>\n\nvar loadScriptAsync = function(uri){\n  return new Promise((resolve, reject) => {\n    //this is to ignore the existence of requirejs amd\n    var savedexports, savedmodule;\n    if (typeof exports !== 'undefined') savedexports = exports;\n    else exports = {}\n    if (typeof module !== 'undefined') savedmodule = module;\n    else module = {}\n\n    var tag = document.createElement('script');\n    tag.src = uri;\n    tag.async = true;\n    tag.onload = () => {\n        exports = savedexports;\n        module = savedmodule;\n        resolve();\n    };\n  var firstScriptTag = document.getElementsByTagName('script')[0];\n  firstScriptTag.parentNode.insertBefore(tag, firstScriptTag);\n});\n};\n\nif(typeof $3Dmolpromise === 'undefined') {\n$3Dmolpromise = null;\n  $3Dmolpromise = loadScriptAsync('https://cdnjs.cloudflare.com/ajax/libs/3Dmol/2.1.0/3Dmol-min.js');\n}\n\nvar viewer_17115386041070383 = null;\nvar warn = document.getElementById(\"3dmolwarning_17115386041070383\");\nif(warn) {\n    warn.parentNode.removeChild(warn);\n}\n$3Dmolpromise.then(function() {\nviewer_17115386041070383 = $3Dmol.createViewer(document.getElementById(\"3dmolviewer_17115386041070383\"),{backgroundColor:\"white\"});\nviewer_17115386041070383.zoomTo();\n\tviewer_17115386041070383.addModel(\"9\\n\\nC              0.932218722988        -0.756889555727         0.000306397733\\nC             -0.390770043789        -1.090260182586         0.000794229028\\nN             -1.155395988189         0.032843098607         0.001812384541\\nC             -0.320451977153         1.030798256840         0.001964801335\\nN              0.967476830575         0.609320257351         0.001153597760\\nH              1.821043575371        -1.353134975834        -0.000471457818\\nH             -0.840995934411        -2.062125084205         0.000456694818\\nH             -0.598984913907         2.065577841210         0.002695307113\\nH              1.795339728515         1.182120344345         0.001048045490\\n\");\n\tviewer_17115386041070383.setViewStyle({\"style\": \"outline\", \"width\": 0.05});\n\tviewer_17115386041070383.setStyle({\"stick\": {}, \"sphere\": {\"scale\": 0.25}});\n\tviewer_17115386041070383.addLabel(\"1\",{\"position\": {\"x\": 0.932218722988, \"y\": -0.756889555727, \"z\": 0.000306397733}, \"alignment\": \"center\", \"fontColor\": 0, \"backgroundColor\": 16777215, \"backgroundOpacity\": 0.0});\n\tviewer_17115386041070383.addLabel(\"2\",{\"position\": {\"x\": -0.390770043789, \"y\": -1.090260182586, \"z\": 0.0007942290279999999}, \"alignment\": \"center\", \"fontColor\": 0, \"backgroundColor\": 16777215, \"backgroundOpacity\": 0.0});\n\tviewer_17115386041070383.addLabel(\"3\",{\"position\": {\"x\": -1.155395988189, \"y\": 0.032843098607, \"z\": 0.001812384541}, \"alignment\": \"center\", \"fontColor\": 0, \"backgroundColor\": 16777215, \"backgroundOpacity\": 0.0});\n\tviewer_17115386041070383.addLabel(\"4\",{\"position\": {\"x\": -0.320451977153, \"y\": 1.03079825684, \"z\": 0.001964801335}, \"alignment\": \"center\", \"fontColor\": 0, \"backgroundColor\": 16777215, \"backgroundOpacity\": 0.0});\n\tviewer_17115386041070383.addLabel(\"5\",{\"position\": {\"x\": 0.967476830575, \"y\": 0.6093202573509999, \"z\": 0.0011535977599999997}, \"alignment\": \"center\", \"fontColor\": 0, \"backgroundColor\": 16777215, \"backgroundOpacity\": 0.0});\n\tviewer_17115386041070383.addLabel(\"6\",{\"position\": {\"x\": 1.821043575371, \"y\": -1.3531349758339999, \"z\": -0.000471457818}, \"alignment\": \"center\", \"fontColor\": 0, \"backgroundColor\": 16777215, \"backgroundOpacity\": 0.0});\n\tviewer_17115386041070383.addLabel(\"7\",{\"position\": {\"x\": -0.840995934411, \"y\": -2.062125084205, \"z\": 0.00045669481799999993}, \"alignment\": \"center\", \"fontColor\": 0, \"backgroundColor\": 16777215, \"backgroundOpacity\": 0.0});\n\tviewer_17115386041070383.addLabel(\"8\",{\"position\": {\"x\": -0.598984913907, \"y\": 2.06557784121, \"z\": 0.0026953071129999996}, \"alignment\": \"center\", \"fontColor\": 0, \"backgroundColor\": 16777215, \"backgroundOpacity\": 0.0});\n\tviewer_17115386041070383.addLabel(\"9\",{\"position\": {\"x\": 1.795339728515, \"y\": 1.182120344345, \"z\": 0.0010480454899999998}, \"alignment\": \"center\", \"fontColor\": 0, \"backgroundColor\": 16777215, \"backgroundOpacity\": 0.0});\n\tviewer_17115386041070383.zoomTo();\nviewer_17115386041070383.render();\n});\n</script>",
            "text/html": [
              "<div id=\"3dmolviewer_17115386041070383\"  style=\"position: relative; width: 400px; height: 300px;\">\n",
              "        <p id=\"3dmolwarning_17115386041070383\" style=\"background-color:#ffcccc;color:black\">3Dmol.js failed to load for some reason.  Please check your browser console for error messages.<br></p>\n",
              "        </div>\n",
              "<script>\n",
              "\n",
              "var loadScriptAsync = function(uri){\n",
              "  return new Promise((resolve, reject) => {\n",
              "    //this is to ignore the existence of requirejs amd\n",
              "    var savedexports, savedmodule;\n",
              "    if (typeof exports !== 'undefined') savedexports = exports;\n",
              "    else exports = {}\n",
              "    if (typeof module !== 'undefined') savedmodule = module;\n",
              "    else module = {}\n",
              "\n",
              "    var tag = document.createElement('script');\n",
              "    tag.src = uri;\n",
              "    tag.async = true;\n",
              "    tag.onload = () => {\n",
              "        exports = savedexports;\n",
              "        module = savedmodule;\n",
              "        resolve();\n",
              "    };\n",
              "  var firstScriptTag = document.getElementsByTagName('script')[0];\n",
              "  firstScriptTag.parentNode.insertBefore(tag, firstScriptTag);\n",
              "});\n",
              "};\n",
              "\n",
              "if(typeof $3Dmolpromise === 'undefined') {\n",
              "$3Dmolpromise = null;\n",
              "  $3Dmolpromise = loadScriptAsync('https://cdnjs.cloudflare.com/ajax/libs/3Dmol/2.1.0/3Dmol-min.js');\n",
              "}\n",
              "\n",
              "var viewer_17115386041070383 = null;\n",
              "var warn = document.getElementById(\"3dmolwarning_17115386041070383\");\n",
              "if(warn) {\n",
              "    warn.parentNode.removeChild(warn);\n",
              "}\n",
              "$3Dmolpromise.then(function() {\n",
              "viewer_17115386041070383 = $3Dmol.createViewer(document.getElementById(\"3dmolviewer_17115386041070383\"),{backgroundColor:\"white\"});\n",
              "viewer_17115386041070383.zoomTo();\n",
              "\tviewer_17115386041070383.addModel(\"9\\n\\nC              0.932218722988        -0.756889555727         0.000306397733\\nC             -0.390770043789        -1.090260182586         0.000794229028\\nN             -1.155395988189         0.032843098607         0.001812384541\\nC             -0.320451977153         1.030798256840         0.001964801335\\nN              0.967476830575         0.609320257351         0.001153597760\\nH              1.821043575371        -1.353134975834        -0.000471457818\\nH             -0.840995934411        -2.062125084205         0.000456694818\\nH             -0.598984913907         2.065577841210         0.002695307113\\nH              1.795339728515         1.182120344345         0.001048045490\\n\");\n",
              "\tviewer_17115386041070383.setViewStyle({\"style\": \"outline\", \"width\": 0.05});\n",
              "\tviewer_17115386041070383.setStyle({\"stick\": {}, \"sphere\": {\"scale\": 0.25}});\n",
              "\tviewer_17115386041070383.addLabel(\"1\",{\"position\": {\"x\": 0.932218722988, \"y\": -0.756889555727, \"z\": 0.000306397733}, \"alignment\": \"center\", \"fontColor\": 0, \"backgroundColor\": 16777215, \"backgroundOpacity\": 0.0});\n",
              "\tviewer_17115386041070383.addLabel(\"2\",{\"position\": {\"x\": -0.390770043789, \"y\": -1.090260182586, \"z\": 0.0007942290279999999}, \"alignment\": \"center\", \"fontColor\": 0, \"backgroundColor\": 16777215, \"backgroundOpacity\": 0.0});\n",
              "\tviewer_17115386041070383.addLabel(\"3\",{\"position\": {\"x\": -1.155395988189, \"y\": 0.032843098607, \"z\": 0.001812384541}, \"alignment\": \"center\", \"fontColor\": 0, \"backgroundColor\": 16777215, \"backgroundOpacity\": 0.0});\n",
              "\tviewer_17115386041070383.addLabel(\"4\",{\"position\": {\"x\": -0.320451977153, \"y\": 1.03079825684, \"z\": 0.001964801335}, \"alignment\": \"center\", \"fontColor\": 0, \"backgroundColor\": 16777215, \"backgroundOpacity\": 0.0});\n",
              "\tviewer_17115386041070383.addLabel(\"5\",{\"position\": {\"x\": 0.967476830575, \"y\": 0.6093202573509999, \"z\": 0.0011535977599999997}, \"alignment\": \"center\", \"fontColor\": 0, \"backgroundColor\": 16777215, \"backgroundOpacity\": 0.0});\n",
              "\tviewer_17115386041070383.addLabel(\"6\",{\"position\": {\"x\": 1.821043575371, \"y\": -1.3531349758339999, \"z\": -0.000471457818}, \"alignment\": \"center\", \"fontColor\": 0, \"backgroundColor\": 16777215, \"backgroundOpacity\": 0.0});\n",
              "\tviewer_17115386041070383.addLabel(\"7\",{\"position\": {\"x\": -0.840995934411, \"y\": -2.062125084205, \"z\": 0.00045669481799999993}, \"alignment\": \"center\", \"fontColor\": 0, \"backgroundColor\": 16777215, \"backgroundOpacity\": 0.0});\n",
              "\tviewer_17115386041070383.addLabel(\"8\",{\"position\": {\"x\": -0.598984913907, \"y\": 2.06557784121, \"z\": 0.0026953071129999996}, \"alignment\": \"center\", \"fontColor\": 0, \"backgroundColor\": 16777215, \"backgroundOpacity\": 0.0});\n",
              "\tviewer_17115386041070383.addLabel(\"9\",{\"position\": {\"x\": 1.795339728515, \"y\": 1.182120344345, \"z\": 0.0010480454899999998}, \"alignment\": \"center\", \"fontColor\": 0, \"backgroundColor\": 16777215, \"backgroundOpacity\": 0.0});\n",
              "\tviewer_17115386041070383.zoomTo();\n",
              "viewer_17115386041070383.render();\n",
              "});\n",
              "</script>"
            ]
          },
          "metadata": {}
        },
        {
          "output_type": "stream",
          "name": "stdout",
          "text": [
            "\n",
            "BDE to H6:123.94690777580948 kcal/mol\n",
            "BDE to H7:121.12403734395748 kcal/mol\n",
            "BDE to H8:121.13119190087623 kcal/mol\n",
            "BDE to H9:124.26168561959855 kcal/mol\n"
          ]
        }
      ],
      "source": [
        "#@title Print BDEs and geometry\n",
        "last_energies = []\n",
        "bdes = []\n",
        "\n",
        "for i in range(len(molecules)):\n",
        "  res = results[i]['scf_energy']\n",
        "  last_energies.append(res)\n",
        "#for i in range(len(molecules)):\n",
        "#  print('Energy', last_energies[i])\n",
        "\n",
        "molecule.show(atom_indices=True)\n",
        "\n",
        "\n",
        "for i in range(len(molecules)):\n",
        "  bde =  scf_resultsH['scf_energy'] + last_energies[i] -scf_results['scf_energy']\n",
        "  bdes.append(bde)\n",
        "#for i in range(len(molecules)):\n",
        "#  molecules[i].show()\n",
        "#  print('BDE: ', 627.5*bdes[i])\n",
        "\n",
        "print()\n",
        "mol_string = molecule.get_xyz_string()\n",
        "number_of_atoms = molecule.number_of_atoms()\n",
        "mol_string = mol_string.split('\\n')\n",
        "# Identify the lines that start with atom and save the positions\n",
        "atom_positions = []\n",
        "for i, line in enumerate(mol_string):\n",
        "    if line.startswith('H'):\n",
        "        atom_positions.append(i)\n",
        "\n",
        "for i in range(len(molecules)):\n",
        "  print('BDE to H' + str(atom_positions[i] - 1) + ':' + str(627.5*bdes[i]) + ' kcal/mol')\n"
      ]
    },
    {
      "cell_type": "code",
      "source": [],
      "metadata": {
        "id": "OkDGocFyQTPm"
      },
      "execution_count": null,
      "outputs": []
    }
  ],
  "metadata": {
    "colab": {
      "provenance": [],
      "authorship_tag": "ABX9TyObIE14KDwqb1Iji75Rezs8",
      "include_colab_link": true
    },
    "kernelspec": {
      "display_name": "Python 3",
      "name": "python3"
    },
    "language_info": {
      "name": "python"
    }
  },
  "nbformat": 4,
  "nbformat_minor": 0
}