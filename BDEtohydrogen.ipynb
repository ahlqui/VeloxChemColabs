{
  "cells": [
    {
      "cell_type": "markdown",
      "metadata": {
        "id": "view-in-github",
        "colab_type": "text"
      },
      "source": [
        "<a href=\"https://colab.research.google.com/github/ahlqui/VeloxChemColabs/blob/main/BDEtohydrogen.ipynb\" target=\"_parent\"><img src=\"https://colab.research.google.com/assets/colab-badge.svg\" alt=\"Open In Colab\"/></a>"
      ]
    },
    {
      "cell_type": "code",
      "execution_count": 1,
      "metadata": {
        "cellView": "form",
        "id": "0L_oJd_RW_qC"
      },
      "outputs": [],
      "source": [
        "#@title Install VeloxChem and dependencies (ca 1 min)\n",
        "#@markdown Before you can run anything a few things need to be installed. It all runs on the Google Colab server an you do not need to install anything on your computer.\n",
        "%%capture\n",
        "import sys\n",
        "\n",
        "!wget -qnc https://github.com/conda-forge/miniforge/releases/latest/download/Miniforge3-Linux-x86_64.sh\n",
        "!bash Miniforge3-Linux-x86_64.sh -bfp /usr/local\n",
        "!mamba config --set auto_update_conda false\n",
        "!mamba install --yes -c conda-forge -c veloxchem veloxchem openbabel py3Dmol python=3.10\n",
        "\n",
        "sys.path.append('/usr/local/lib/python3.10/site-packages/')\n",
        "\n",
        "import veloxchem as vlx"
      ]
    },
    {
      "cell_type": "code",
      "execution_count": null,
      "metadata": {
        "id": "4SrA0-JgCv-3"
      },
      "outputs": [],
      "source": [
        "xyz_coordinates = \"\"\"\n",
        "C          0.32160        0.72410       -0.00040\n",
        "C         -0.90270        1.41980        0.00660\n",
        "C         -2.10150        0.69710        0.01120\n",
        "C         -2.09140       -0.69640        0.00890\n",
        "C         -0.88830       -1.40910        0.00200\n",
        "C          0.30120       -0.67090       -0.00250\n",
        "C          1.68680        1.12310       -0.00630\n",
        "C          2.45750       -0.01710       -0.01180\n",
        "N          1.61120       -1.09430       -0.00950\n",
        "H         -0.91840        2.50550        0.00840\n",
        "H         -3.04870        1.23060        0.01660\n",
        "H         -3.03380       -1.23930        0.01250\n",
        "H         -0.88450       -2.49400        0.00020\n",
        "H          2.06150        2.13810       -0.00640\n",
        "H          3.53030       -0.15430       -0.01710\n",
        "H          1.89930       -2.06280       -0.01240\n",
        "\"\"\""
      ]
    },
    {
      "cell_type": "code",
      "execution_count": null,
      "metadata": {
        "cellView": "form",
        "id": "M24lU9ajDHsH"
      },
      "outputs": [],
      "source": [
        "#@title Define your molecule, either asa SMILES code or xyz-coordinates above\n",
        "#@markdown - Enter the SMILES code\n",
        "smiles_code = 'C1=CN=CN1' #@param {type:\"string\"}\n",
        "#@markdown - If you want to use the xyz coordinates in the previous cell check box\n",
        "use_xyz = False # @param {type:\"boolean\"}\n",
        "if use_xyz == False:\n",
        "  molecule = vlx.Molecule.read_smiles(smiles_code)\n",
        "else:\n",
        "  molecule = vlx.Molecule.read_str(xyz_coordinates)\n",
        "print('Structure of the molecule entered: ')\n",
        "molecule.show(atom_indices=True)"
      ]
    },
    {
      "cell_type": "code",
      "source": [
        "#@title Pre-optimization of the geometry with xTB\n",
        "#@markdown Example timing: Ibuprofen (59 sec)\n",
        "scf_drv = vlx.XtbDriver()\n",
        "scf_drv.ostream.mute()\n",
        "\n",
        "opt_drv = vlx.OptimizationDriver(scf_drv)\n",
        "opt_drv.ostream.mute()\n",
        "opt_results = opt_drv.compute(molecule)\n",
        "\n",
        "molecule = vlx.Molecule.read_xyz_string(opt_results[\"final_geometry\"])\n",
        "print('xTB optimized geometry:')\n",
        "molecule.show()\n"
      ],
      "metadata": {
        "cellView": "form",
        "id": "ian4rHCLesum"
      },
      "execution_count": null,
      "outputs": []
    },
    {
      "cell_type": "code",
      "execution_count": null,
      "metadata": {
        "id": "rifGr4E0Jdcn",
        "cellView": "form"
      },
      "outputs": [],
      "source": [
        "#@title Generate structure objects without one hydrogen atom each\n",
        "def remove_atom_iteratively(molecule, atom):\n",
        "    mol_string = molecule.get_xyz_string()\n",
        "    number_of_atoms = molecule.number_of_atoms()\n",
        "    mol_string = mol_string.split('\\n')\n",
        "    # Identify the lines that start with atom and save the positions\n",
        "    atom_positions = []\n",
        "    for i, line in enumerate(mol_string):\n",
        "        if line.startswith(atom):\n",
        "            atom_positions.append(i)\n",
        "    # Remove the atom lines one by one and generate one molecule for each\n",
        "    molecules = []\n",
        "    for i, position in enumerate(atom_positions):\n",
        "        new_mol = mol_string.copy()\n",
        "        new_mol.pop(position)\n",
        "        # Update the number of atoms\n",
        "        new_mol[0] = str(number_of_atoms - 1)\n",
        "        new_mol = '\\n'.join(new_mol)\n",
        "        molecules.append(vlx.Molecule.read_xyz_string(new_mol))\n",
        "    return molecules\n",
        "molecules = remove_atom_iteratively(molecule, 'H')\n",
        "#for mol in molecules:\n",
        "#    mol.show()\n"
      ]
    },
    {
      "cell_type": "code",
      "execution_count": null,
      "metadata": {
        "id": "PMlFXjMBHfI_",
        "cellView": "form"
      },
      "outputs": [],
      "source": [
        "#@title DFT single point\n",
        "#@markdown Example timing: Indole (24 min) PBE/6-31G*\n",
        "print('Computing energy of structure 1' + ' of ' + str(len(molecules)+1))\n",
        "basis_set = '6-31G*' #@param  ['6-31++G', '6-31++G*', '6-31++G**', '6-31+G', '6-31+G*', '6-31+G**', '6-311++G', '6-311++G(2D,2P)', '6-311++G(3DF,3PD)', '6-311++G*', '6-311++G**', '6-311+G', '6-311+G(2D,P)', '6-311+G*', '6-311+G**', '6-311G', '6-311G(2DF,2PD)', '6-311G*', '6-311G**', '6-31G', '6-31G(2DF,P)', '6-31G(3DF,3PD)', '6-31G*', '6-31G**', 'ANO-L-MB', 'ANO-L-VDZP', 'ANO-L-VQZP', 'ANO-L-VTZP', 'ANO-S-MB', 'ANO-S-VDZP', 'AO-START-GUESS', 'AUG-CC-PCV5Z', 'AUG-CC-PCVDZ', 'AUG-CC-PCVQZ', 'AUG-CC-PCVTZ', 'AUG-CC-PV5Z', 'AUG-CC-PV6Z', 'AUG-CC-PVDZ', 'AUG-CC-PVQZ', 'AUG-CC-PVTZ', 'AUG-PCSEG-0', 'AUG-PCSEG-1', 'AUG-PCSEG-2', 'AUG-PCSEG-3', 'AUG-PCSEG-4', 'AUG-PCX-1', 'AUG-PCX-2', 'AUG-PCX-3', 'AUG-PCX-4', 'CC-PCV5Z', 'CC-PCVDZ', 'CC-PCVQZ', 'CC-PCVTZ', 'CC-PV5Z', 'CC-PV6Z', 'CC-PVDZ', 'CC-PVQZ', 'CC-PVTZ', 'DAUG-CC-PCV5Z', 'DAUG-CC-PCVDZ', 'DAUG-CC-PCVQZ', 'DAUG-CC-PCVTZ', 'DAUG-CC-PV5Z', 'DAUG-CC-PV6Z', 'DAUG-CC-PVDZ', 'DAUG-CC-PVQZ', 'DAUG-CC-PVTZ', 'DEF2-QZVP', 'DEF2-QZVPD', 'DEF2-QZVPP', 'DEF2-QZVPPD', 'DEF2-SV(P)', 'DEF2-SVP', 'DEF2-SVPD', 'DEF2-TZVP', 'DEF2-TZVPD', 'DEF2-TZVPP', 'DEF2-TZVPPD', 'PCSEG-0', 'PCSEG-1', 'PCSEG-2', 'PCSEG-3', 'PCSEG-4', 'PCX-1', 'PCX-2', 'PCX-3', 'PCX-4', 'SADLEJ-PVTZ', 'STO-3G', 'STO-3G-OLD', 'STO-6G', 'TAUG-CC-PCV5Z', 'TAUG-CC-PCVDZ', 'TAUG-CC-PCVQZ', 'TAUG-CC-PCVTZ', 'TAUG-CC-PV5Z', 'TAUG-CC-PV6Z', 'TAUG-CC-PVDZ', 'TAUG-CC-PVQZ', 'TAUG-CC-PVTZ']\n",
        "basis = vlx.MolecularBasis.read(molecule, basis_set, ostream=None)\n",
        "scf_drv = vlx.ScfUnrestrictedDriver()\n",
        "mute_output = True # @param {type:\"boolean\"}\n",
        "if mute_output == True:\n",
        "  scf_drv.ostream.mute()\n",
        "else:\n",
        "  scf_drv.ostream\n",
        "functional = 'PBE0' #@param ['SLATER', 'SLDA', 'B88X', 'BLYP', 'B3LYP', 'BHANDH', 'BHANDHLYP', 'PBE', 'PBE0', 'REVPBE', 'BP86', 'PW91', 'MPW1K', 'OLYP', 'O3LYP', 'X3LYP', 'B97', 'B97-1', 'B97-2', 'B97-3', 'TPSS', 'TPSSH', 'REVTPSS', 'PKZB', 'SCAN', 'RSCAN', 'R2SCAN', 'M05', 'M05-2X', 'M06', 'M06-2X', 'M06-HF', 'M06-L', 'M11-L', 'MPW1B95', 'MPWB1K', 'PW6B95', 'PWB6K']\n",
        "scf_drv.xcfun = functional\n",
        "scf_results = scf_drv.compute(molecule, basis)\n",
        "print('Done')\n",
        "#print(f\"DFT energy: {scf_drv.get_scf_energy():14.10f} a.u.\")\n",
        "\n",
        "hydrogen = vlx.Molecule.read_str(\"\"\" H 0.0 0.0 0.0 \"\"\")\n",
        "hydrogen.set_multiplicity(2)\n",
        "basis = vlx.MolecularBasis.read(hydrogen, basis_set, ostream=None)\n",
        "scf_resultsH = scf_drv.compute(hydrogen, basis)\n",
        "#print(f\"DFT energy: {scf_drv.get_scf_energy():14.10f} a.u.\")\n",
        "i = 1\n",
        "results = []\n",
        "for mol in molecules:\n",
        "    i = i + 1\n",
        "    print('Computing energy of structure ' + str(i) + ' of ' + str(len(molecules)+1))\n",
        "    basis = vlx.MolecularBasis.read(mol, basis_set, ostream=None)\n",
        "    mol.set_multiplicity(2)\n",
        "    scf_resultsmol = scf_drv.compute(mol, basis)\n",
        "    print('Done')\n",
        "    results.append(scf_resultsmol)"
      ]
    },
    {
      "cell_type": "code",
      "execution_count": null,
      "metadata": {
        "id": "OKQWtkZKVR8B",
        "cellView": "form"
      },
      "outputs": [],
      "source": [
        "#@title Print BDEs and geometry\n",
        "last_energies = []\n",
        "bdes = []\n",
        "\n",
        "for i in range(len(molecules)):\n",
        "  res = results[i]['scf_energy']\n",
        "  last_energies.append(res)\n",
        "#for i in range(len(molecules)):\n",
        "#  print('Energy', last_energies[i])\n",
        "\n",
        "molecule.show(atom_indices=True)\n",
        "\n",
        "\n",
        "for i in range(len(molecules)):\n",
        "  bde =  scf_resultsH['scf_energy'] + last_energies[i] -scf_results['scf_energy']\n",
        "  bdes.append(bde)\n",
        "#for i in range(len(molecules)):\n",
        "#  molecules[i].show()\n",
        "#  print('BDE: ', 627.5*bdes[i])\n",
        "\n",
        "print()\n",
        "mol_string = molecule.get_xyz_string()\n",
        "number_of_atoms = molecule.number_of_atoms()\n",
        "mol_string = mol_string.split('\\n')\n",
        "# Identify the lines that start with atom and save the positions\n",
        "atom_positions = []\n",
        "for i, line in enumerate(mol_string):\n",
        "    if line.startswith('H'):\n",
        "        atom_positions.append(i)\n",
        "\n",
        "for i in range(len(molecules)):\n",
        "  print('BDE to H' + str(atom_positions[i] - 1) + ':' + str(627.5*bdes[i]) + ' kcal/mol')\n"
      ]
    }
  ],
  "metadata": {
    "colab": {
      "provenance": [],
      "include_colab_link": true
    },
    "kernelspec": {
      "display_name": "Python 3",
      "name": "python3"
    },
    "language_info": {
      "name": "python"
    }
  },
  "nbformat": 4,
  "nbformat_minor": 0
}