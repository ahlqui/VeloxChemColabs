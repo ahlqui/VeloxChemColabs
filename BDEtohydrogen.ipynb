{
  "cells": [
    {
      "cell_type": "markdown",
      "metadata": {
        "id": "view-in-github",
        "colab_type": "text"
      },
      "source": [
        "<a href=\"https://colab.research.google.com/github/ahlqui/VeloxChemColabs/blob/main/BDEtohydrogen.ipynb\" target=\"_parent\"><img src=\"https://colab.research.google.com/assets/colab-badge.svg\" alt=\"Open In Colab\"/></a>"
      ]
    },
    {
      "cell_type": "code",
      "execution_count": null,
      "metadata": {
        "cellView": "form",
        "id": "0L_oJd_RW_qC"
      },
      "outputs": [],
      "source": [
        "#@title Install VeloxChem and dependencies (ca 2 min)\n",
        "#@markdown Before you can run anything a few things need to be installed. It all runs on the Google Colab server an you do not need to install anything on your computer.\n",
        "%%capture\n",
        "! wget -qnc https://github.com/ahlqui/VeloxChemColabs/raw/refs/heads/main/install.py\n",
        "! python install.py\n",
        "import sys\n",
        "python_version = f\"{sys.version_info.major}.{sys.version_info.minor}\"\n",
        "sys.path.append(f'/usr/local/lib/python{python_version}/site-packages/')\n",
        "import veloxchem as vlx\n"
      ]
    },
    {
      "cell_type": "code",
      "execution_count": null,
      "metadata": {
        "id": "4SrA0-JgCv-3"
      },
      "outputs": [],
      "source": [
        "xyz_coordinates = \"\"\"\n",
        "C          0.32160        0.72410       -0.00040\n",
        "C         -0.90270        1.41980        0.00660\n",
        "C         -2.10150        0.69710        0.01120\n",
        "C         -2.09140       -0.69640        0.00890\n",
        "C         -0.88830       -1.40910        0.00200\n",
        "C          0.30120       -0.67090       -0.00250\n",
        "C          1.68680        1.12310       -0.00630\n",
        "C          2.45750       -0.01710       -0.01180\n",
        "N          1.61120       -1.09430       -0.00950\n",
        "H         -0.91840        2.50550        0.00840\n",
        "H         -3.04870        1.23060        0.01660\n",
        "H         -3.03380       -1.23930        0.01250\n",
        "H         -0.88450       -2.49400        0.00020\n",
        "H          2.06150        2.13810       -0.00640\n",
        "H          3.53030       -0.15430       -0.01710\n",
        "H          1.89930       -2.06280       -0.01240\n",
        "\"\"\""
      ]
    },
    {
      "cell_type": "code",
      "execution_count": null,
      "metadata": {
        "cellView": "form",
        "id": "M24lU9ajDHsH",
        "colab": {
          "base_uri": "https://localhost:8080/",
          "height": 335
        },
        "outputId": "542a53f3-21d7-4f66-ed9f-98b00e6f1752"
      },
      "outputs": [
        {
          "output_type": "stream",
          "name": "stdout",
          "text": [
            "Structure of the molecule entered: \n"
          ]
        },
        {
          "output_type": "display_data",
          "data": {
            "application/3dmoljs_load.v0": "<div id=\"3dmolviewer_17473122174928381\"  style=\"position: relative; width: 400px; height: 300px;\">\n        <p id=\"3dmolwarning_17473122174928381\" style=\"background-color:#ffcccc;color:black\">3Dmol.js failed to load for some reason.  Please check your browser console for error messages.<br></p>\n        </div>\n<script>\n\nvar loadScriptAsync = function(uri){\n  return new Promise((resolve, reject) => {\n    //this is to ignore the existence of requirejs amd\n    var savedexports, savedmodule;\n    if (typeof exports !== 'undefined') savedexports = exports;\n    else exports = {}\n    if (typeof module !== 'undefined') savedmodule = module;\n    else module = {}\n\n    var tag = document.createElement('script');\n    tag.src = uri;\n    tag.async = true;\n    tag.onload = () => {\n        exports = savedexports;\n        module = savedmodule;\n        resolve();\n    };\n  var firstScriptTag = document.getElementsByTagName('script')[0];\n  firstScriptTag.parentNode.insertBefore(tag, firstScriptTag);\n});\n};\n\nif(typeof $3Dmolpromise === 'undefined') {\n$3Dmolpromise = null;\n  $3Dmolpromise = loadScriptAsync('https://cdnjs.cloudflare.com/ajax/libs/3Dmol/2.4.2/3Dmol-min.js');\n}\n\nvar viewer_17473122174928381 = null;\nvar warn = document.getElementById(\"3dmolwarning_17473122174928381\");\nif(warn) {\n    warn.parentNode.removeChild(warn);\n}\n$3Dmolpromise.then(function() {\nviewer_17473122174928381 = $3Dmol.createViewer(document.getElementById(\"3dmolviewer_17473122174928381\"),{backgroundColor:\"white\"});\nviewer_17473122174928381.zoomTo();\n\tviewer_17473122174928381.addModel(\"9\\n\\nC              0.110127000000         1.265894000000         1.235476000000\\nC             -0.434106000000         0.768224000000         2.397081000000\\nN             -0.747032000000        -0.531741000000         2.225764000000\\nC             -0.382273000000        -0.794699000000         0.953442000000\\nN              0.140156000000         0.277075000000         0.330119000000\\nH              0.459005000000         2.275360000000         1.062373000000\\nH             -0.593819000000         1.318632000000         3.314493000000\\nH             -0.498003000000        -1.763639000000         0.485983000000\\nH              0.494000000000         0.328217000000        -0.650638000000\\n\");\n\tviewer_17473122174928381.setViewStyle({\"style\": \"outline\", \"width\": 0.05});\n\tviewer_17473122174928381.setStyle({\"stick\": {}, \"sphere\": {\"scale\": 0.25}});\n\tviewer_17473122174928381.addLabel(\"1\",{\"position\": {\"x\": 0.110127, \"y\": 1.2658939999999999, \"z\": 1.235476}, \"alignment\": \"center\", \"fontColor\": 0, \"backgroundColor\": 16777215, \"backgroundOpacity\": 0.0});\n\tviewer_17473122174928381.addLabel(\"2\",{\"position\": {\"x\": -0.43410599999999994, \"y\": 0.768224, \"z\": 2.397081}, \"alignment\": \"center\", \"fontColor\": 0, \"backgroundColor\": 16777215, \"backgroundOpacity\": 0.0});\n\tviewer_17473122174928381.addLabel(\"3\",{\"position\": {\"x\": -0.7470319999999999, \"y\": -0.531741, \"z\": 2.225764}, \"alignment\": \"center\", \"fontColor\": 0, \"backgroundColor\": 16777215, \"backgroundOpacity\": 0.0});\n\tviewer_17473122174928381.addLabel(\"4\",{\"position\": {\"x\": -0.3822729999999999, \"y\": -0.794699, \"z\": 0.9534419999999999}, \"alignment\": \"center\", \"fontColor\": 0, \"backgroundColor\": 16777215, \"backgroundOpacity\": 0.0});\n\tviewer_17473122174928381.addLabel(\"5\",{\"position\": {\"x\": 0.140156, \"y\": 0.277075, \"z\": 0.33011899999999994}, \"alignment\": \"center\", \"fontColor\": 0, \"backgroundColor\": 16777215, \"backgroundOpacity\": 0.0});\n\tviewer_17473122174928381.addLabel(\"6\",{\"position\": {\"x\": 0.45900499999999994, \"y\": 2.2753599999999996, \"z\": 1.062373}, \"alignment\": \"center\", \"fontColor\": 0, \"backgroundColor\": 16777215, \"backgroundOpacity\": 0.0});\n\tviewer_17473122174928381.addLabel(\"7\",{\"position\": {\"x\": -0.593819, \"y\": 1.318632, \"z\": 3.314493}, \"alignment\": \"center\", \"fontColor\": 0, \"backgroundColor\": 16777215, \"backgroundOpacity\": 0.0});\n\tviewer_17473122174928381.addLabel(\"8\",{\"position\": {\"x\": -0.498003, \"y\": -1.763639, \"z\": 0.485983}, \"alignment\": \"center\", \"fontColor\": 0, \"backgroundColor\": 16777215, \"backgroundOpacity\": 0.0});\n\tviewer_17473122174928381.addLabel(\"9\",{\"position\": {\"x\": 0.494, \"y\": 0.328217, \"z\": -0.650638}, \"alignment\": \"center\", \"fontColor\": 0, \"backgroundColor\": 16777215, \"backgroundOpacity\": 0.0});\n\tviewer_17473122174928381.zoomTo();\nviewer_17473122174928381.render();\n});\n</script>",
            "text/html": [
              "<div id=\"3dmolviewer_17473122174928381\"  style=\"position: relative; width: 400px; height: 300px;\">\n",
              "        <p id=\"3dmolwarning_17473122174928381\" style=\"background-color:#ffcccc;color:black\">3Dmol.js failed to load for some reason.  Please check your browser console for error messages.<br></p>\n",
              "        </div>\n",
              "<script>\n",
              "\n",
              "var loadScriptAsync = function(uri){\n",
              "  return new Promise((resolve, reject) => {\n",
              "    //this is to ignore the existence of requirejs amd\n",
              "    var savedexports, savedmodule;\n",
              "    if (typeof exports !== 'undefined') savedexports = exports;\n",
              "    else exports = {}\n",
              "    if (typeof module !== 'undefined') savedmodule = module;\n",
              "    else module = {}\n",
              "\n",
              "    var tag = document.createElement('script');\n",
              "    tag.src = uri;\n",
              "    tag.async = true;\n",
              "    tag.onload = () => {\n",
              "        exports = savedexports;\n",
              "        module = savedmodule;\n",
              "        resolve();\n",
              "    };\n",
              "  var firstScriptTag = document.getElementsByTagName('script')[0];\n",
              "  firstScriptTag.parentNode.insertBefore(tag, firstScriptTag);\n",
              "});\n",
              "};\n",
              "\n",
              "if(typeof $3Dmolpromise === 'undefined') {\n",
              "$3Dmolpromise = null;\n",
              "  $3Dmolpromise = loadScriptAsync('https://cdnjs.cloudflare.com/ajax/libs/3Dmol/2.4.2/3Dmol-min.js');\n",
              "}\n",
              "\n",
              "var viewer_17473122174928381 = null;\n",
              "var warn = document.getElementById(\"3dmolwarning_17473122174928381\");\n",
              "if(warn) {\n",
              "    warn.parentNode.removeChild(warn);\n",
              "}\n",
              "$3Dmolpromise.then(function() {\n",
              "viewer_17473122174928381 = $3Dmol.createViewer(document.getElementById(\"3dmolviewer_17473122174928381\"),{backgroundColor:\"white\"});\n",
              "viewer_17473122174928381.zoomTo();\n",
              "\tviewer_17473122174928381.addModel(\"9\\n\\nC              0.110127000000         1.265894000000         1.235476000000\\nC             -0.434106000000         0.768224000000         2.397081000000\\nN             -0.747032000000        -0.531741000000         2.225764000000\\nC             -0.382273000000        -0.794699000000         0.953442000000\\nN              0.140156000000         0.277075000000         0.330119000000\\nH              0.459005000000         2.275360000000         1.062373000000\\nH             -0.593819000000         1.318632000000         3.314493000000\\nH             -0.498003000000        -1.763639000000         0.485983000000\\nH              0.494000000000         0.328217000000        -0.650638000000\\n\");\n",
              "\tviewer_17473122174928381.setViewStyle({\"style\": \"outline\", \"width\": 0.05});\n",
              "\tviewer_17473122174928381.setStyle({\"stick\": {}, \"sphere\": {\"scale\": 0.25}});\n",
              "\tviewer_17473122174928381.addLabel(\"1\",{\"position\": {\"x\": 0.110127, \"y\": 1.2658939999999999, \"z\": 1.235476}, \"alignment\": \"center\", \"fontColor\": 0, \"backgroundColor\": 16777215, \"backgroundOpacity\": 0.0});\n",
              "\tviewer_17473122174928381.addLabel(\"2\",{\"position\": {\"x\": -0.43410599999999994, \"y\": 0.768224, \"z\": 2.397081}, \"alignment\": \"center\", \"fontColor\": 0, \"backgroundColor\": 16777215, \"backgroundOpacity\": 0.0});\n",
              "\tviewer_17473122174928381.addLabel(\"3\",{\"position\": {\"x\": -0.7470319999999999, \"y\": -0.531741, \"z\": 2.225764}, \"alignment\": \"center\", \"fontColor\": 0, \"backgroundColor\": 16777215, \"backgroundOpacity\": 0.0});\n",
              "\tviewer_17473122174928381.addLabel(\"4\",{\"position\": {\"x\": -0.3822729999999999, \"y\": -0.794699, \"z\": 0.9534419999999999}, \"alignment\": \"center\", \"fontColor\": 0, \"backgroundColor\": 16777215, \"backgroundOpacity\": 0.0});\n",
              "\tviewer_17473122174928381.addLabel(\"5\",{\"position\": {\"x\": 0.140156, \"y\": 0.277075, \"z\": 0.33011899999999994}, \"alignment\": \"center\", \"fontColor\": 0, \"backgroundColor\": 16777215, \"backgroundOpacity\": 0.0});\n",
              "\tviewer_17473122174928381.addLabel(\"6\",{\"position\": {\"x\": 0.45900499999999994, \"y\": 2.2753599999999996, \"z\": 1.062373}, \"alignment\": \"center\", \"fontColor\": 0, \"backgroundColor\": 16777215, \"backgroundOpacity\": 0.0});\n",
              "\tviewer_17473122174928381.addLabel(\"7\",{\"position\": {\"x\": -0.593819, \"y\": 1.318632, \"z\": 3.314493}, \"alignment\": \"center\", \"fontColor\": 0, \"backgroundColor\": 16777215, \"backgroundOpacity\": 0.0});\n",
              "\tviewer_17473122174928381.addLabel(\"8\",{\"position\": {\"x\": -0.498003, \"y\": -1.763639, \"z\": 0.485983}, \"alignment\": \"center\", \"fontColor\": 0, \"backgroundColor\": 16777215, \"backgroundOpacity\": 0.0});\n",
              "\tviewer_17473122174928381.addLabel(\"9\",{\"position\": {\"x\": 0.494, \"y\": 0.328217, \"z\": -0.650638}, \"alignment\": \"center\", \"fontColor\": 0, \"backgroundColor\": 16777215, \"backgroundOpacity\": 0.0});\n",
              "\tviewer_17473122174928381.zoomTo();\n",
              "viewer_17473122174928381.render();\n",
              "});\n",
              "</script>"
            ]
          },
          "metadata": {}
        }
      ],
      "source": [
        "#@title Define your molecule, either asa SMILES code or xyz-coordinates above\n",
        "#@markdown - Enter the SMILES code\n",
        "smiles_code = 'C1=CN=CN1' #@param {type:\"string\"}\n",
        "#@markdown - If you want to use the xyz coordinates in the previous cell check box\n",
        "use_xyz = False # @param {type:\"boolean\"}\n",
        "if use_xyz == False:\n",
        "  molecule = vlx.Molecule.read_smiles(smiles_code)\n",
        "else:\n",
        "  molecule = vlx.Molecule.read_str(xyz_coordinates)\n",
        "print('Structure of the molecule entered: ')\n",
        "molecule.show(atom_indices=True)"
      ]
    },
    {
      "cell_type": "code",
      "execution_count": null,
      "metadata": {
        "id": "rifGr4E0Jdcn",
        "cellView": "form"
      },
      "outputs": [],
      "source": [
        "#@title Generate structure objects without one hydrogen atom each\n",
        "def remove_atom_iteratively(molecule, atom):\n",
        "    mol_string = molecule.get_xyz_string()\n",
        "    number_of_atoms = molecule.number_of_atoms()\n",
        "    mol_string = mol_string.split('\\n')\n",
        "    # Identify the lines that start with atom and save the positions\n",
        "    atom_positions = []\n",
        "    for i, line in enumerate(mol_string):\n",
        "        if line.startswith(atom):\n",
        "            atom_positions.append(i)\n",
        "    # Remove the atom lines one by one and generate one molecule for each\n",
        "    molecules = []\n",
        "    for i, position in enumerate(atom_positions):\n",
        "        new_mol = mol_string.copy()\n",
        "        new_mol.pop(position)\n",
        "        # Update the number of atoms\n",
        "        new_mol[0] = str(number_of_atoms - 1)\n",
        "        new_mol = '\\n'.join(new_mol)\n",
        "        molecules.append(vlx.Molecule.read_xyz_string(new_mol))\n",
        "    return molecules\n",
        "molecules = remove_atom_iteratively(molecule, 'H')\n",
        "#for mol in molecules:\n",
        "#    mol.show()\n"
      ]
    },
    {
      "cell_type": "code",
      "execution_count": null,
      "metadata": {
        "id": "PMlFXjMBHfI_",
        "cellView": "form",
        "colab": {
          "base_uri": "https://localhost:8080/"
        },
        "outputId": "1a9717d5-ceab-4467-df1e-35a15ae96874"
      },
      "outputs": [
        {
          "output_type": "stream",
          "name": "stdout",
          "text": [
            "Computing energy of structure 1 of 5\n",
            "Done\n",
            "Computing energy of structure 2 of 5\n",
            "Done\n",
            "Computing energy of structure 3 of 5\n",
            "Done\n",
            "Computing energy of structure 4 of 5\n",
            "Done\n",
            "Computing energy of structure 5 of 5\n",
            "Done\n"
          ]
        }
      ],
      "source": [
        "#@title DFT single point\n",
        "#@markdown Example timing: Indole (24 min) PBE/6-31G*\n",
        "print('Computing energy of structure 1' + ' of ' + str(len(molecules)+1))\n",
        "basis_set = 'STO-3G' #@param  ['6-31++G', '6-31++G*', '6-31++G**', '6-31+G', '6-31+G*', '6-31+G**', '6-311++G', '6-311++G(2D,2P)', '6-311++G(3DF,3PD)', '6-311++G*', '6-311++G**', '6-311+G', '6-311+G(2D,P)', '6-311+G*', '6-311+G**', '6-311G', '6-311G(2DF,2PD)', '6-311G*', '6-311G**', '6-31G', '6-31G(2DF,P)', '6-31G(3DF,3PD)', '6-31G*', '6-31G**', 'ANO-L-MB', 'ANO-L-VDZP', 'ANO-L-VQZP', 'ANO-L-VTZP', 'ANO-S-MB', 'ANO-S-VDZP', 'AO-START-GUESS', 'AUG-CC-PCV5Z', 'AUG-CC-PCVDZ', 'AUG-CC-PCVQZ', 'AUG-CC-PCVTZ', 'AUG-CC-PV5Z', 'AUG-CC-PV6Z', 'AUG-CC-PVDZ', 'AUG-CC-PVQZ', 'AUG-CC-PVTZ', 'AUG-PCSEG-0', 'AUG-PCSEG-1', 'AUG-PCSEG-2', 'AUG-PCSEG-3', 'AUG-PCSEG-4', 'AUG-PCX-1', 'AUG-PCX-2', 'AUG-PCX-3', 'AUG-PCX-4', 'CC-PCV5Z', 'CC-PCVDZ', 'CC-PCVQZ', 'CC-PCVTZ', 'CC-PV5Z', 'CC-PV6Z', 'CC-PVDZ', 'CC-PVQZ', 'CC-PVTZ', 'DAUG-CC-PCV5Z', 'DAUG-CC-PCVDZ', 'DAUG-CC-PCVQZ', 'DAUG-CC-PCVTZ', 'DAUG-CC-PV5Z', 'DAUG-CC-PV6Z', 'DAUG-CC-PVDZ', 'DAUG-CC-PVQZ', 'DAUG-CC-PVTZ', 'DEF2-QZVP', 'DEF2-QZVPD', 'DEF2-QZVPP', 'DEF2-QZVPPD', 'DEF2-SV(P)', 'DEF2-SVP', 'DEF2-SVPD', 'DEF2-TZVP', 'DEF2-TZVPD', 'DEF2-TZVPP', 'DEF2-TZVPPD', 'PCSEG-0', 'PCSEG-1', 'PCSEG-2', 'PCSEG-3', 'PCSEG-4', 'PCX-1', 'PCX-2', 'PCX-3', 'PCX-4', 'SADLEJ-PVTZ', 'STO-3G', 'STO-3G-OLD', 'STO-6G', 'TAUG-CC-PCV5Z', 'TAUG-CC-PCVDZ', 'TAUG-CC-PCVQZ', 'TAUG-CC-PCVTZ', 'TAUG-CC-PV5Z', 'TAUG-CC-PV6Z', 'TAUG-CC-PVDZ', 'TAUG-CC-PVQZ', 'TAUG-CC-PVTZ']\n",
        "basis = vlx.MolecularBasis.read(molecule, basis_set, ostream=None)\n",
        "scf_drv = vlx.ScfUnrestrictedDriver()\n",
        "mute_output = True # @param {type:\"boolean\"}\n",
        "if mute_output == True:\n",
        "  scf_drv.ostream.mute()\n",
        "else:\n",
        "  scf_drv.ostream\n",
        "functional = 'PBE0' #@param ['SLATER', 'SLDA', 'B88X', 'BLYP', 'B3LYP', 'BHANDH', 'BHANDHLYP', 'PBE', 'PBE0', 'REVPBE', 'BP86', 'PW91', 'MPW1K', 'OLYP', 'O3LYP', 'X3LYP', 'B97', 'B97-1', 'B97-2', 'B97-3', 'TPSS', 'TPSSH', 'REVTPSS', 'PKZB', 'SCAN', 'RSCAN', 'R2SCAN', 'M05', 'M05-2X', 'M06', 'M06-2X', 'M06-HF', 'M06-L', 'M11-L', 'MPW1B95', 'MPWB1K', 'PW6B95', 'PWB6K']\n",
        "scf_drv.xcfun = functional\n",
        "scf_results = scf_drv.compute(molecule, basis)\n",
        "print('Done')\n",
        "#print(f\"DFT energy: {scf_drv.get_scf_energy():14.10f} a.u.\")\n",
        "\n",
        "hydrogen = vlx.Molecule.read_str(\"\"\" H 0.0 0.0 0.0 \"\"\")\n",
        "hydrogen.set_multiplicity(2)\n",
        "basis = vlx.MolecularBasis.read(hydrogen, basis_set, ostream=None)\n",
        "scf_resultsH = scf_drv.compute(hydrogen, basis)\n",
        "#print(f\"DFT energy: {scf_drv.get_scf_energy():14.10f} a.u.\")\n",
        "i = 1\n",
        "results = []\n",
        "for mol in molecules:\n",
        "    i = i + 1\n",
        "    print('Computing energy of structure ' + str(i) + ' of ' + str(len(molecules)+1))\n",
        "    basis = vlx.MolecularBasis.read(mol, basis_set, ostream=None)\n",
        "    mol.set_multiplicity(2)\n",
        "    scf_resultsmol = scf_drv.compute(mol, basis)\n",
        "    print('Done')\n",
        "    results.append(scf_resultsmol)"
      ]
    },
    {
      "cell_type": "code",
      "execution_count": null,
      "metadata": {
        "id": "OKQWtkZKVR8B",
        "cellView": "form",
        "colab": {
          "base_uri": "https://localhost:8080/",
          "height": 406
        },
        "outputId": "c8a9ac8a-69db-4847-a870-cf027af16cf3"
      },
      "outputs": [
        {
          "output_type": "display_data",
          "data": {
            "application/3dmoljs_load.v0": "<div id=\"3dmolviewer_17473129348238387\"  style=\"position: relative; width: 400px; height: 300px;\">\n        <p id=\"3dmolwarning_17473129348238387\" style=\"background-color:#ffcccc;color:black\">3Dmol.js failed to load for some reason.  Please check your browser console for error messages.<br></p>\n        </div>\n<script>\n\nvar loadScriptAsync = function(uri){\n  return new Promise((resolve, reject) => {\n    //this is to ignore the existence of requirejs amd\n    var savedexports, savedmodule;\n    if (typeof exports !== 'undefined') savedexports = exports;\n    else exports = {}\n    if (typeof module !== 'undefined') savedmodule = module;\n    else module = {}\n\n    var tag = document.createElement('script');\n    tag.src = uri;\n    tag.async = true;\n    tag.onload = () => {\n        exports = savedexports;\n        module = savedmodule;\n        resolve();\n    };\n  var firstScriptTag = document.getElementsByTagName('script')[0];\n  firstScriptTag.parentNode.insertBefore(tag, firstScriptTag);\n});\n};\n\nif(typeof $3Dmolpromise === 'undefined') {\n$3Dmolpromise = null;\n  $3Dmolpromise = loadScriptAsync('https://cdnjs.cloudflare.com/ajax/libs/3Dmol/2.4.2/3Dmol-min.js');\n}\n\nvar viewer_17473129348238387 = null;\nvar warn = document.getElementById(\"3dmolwarning_17473129348238387\");\nif(warn) {\n    warn.parentNode.removeChild(warn);\n}\n$3Dmolpromise.then(function() {\nviewer_17473129348238387 = $3Dmol.createViewer(document.getElementById(\"3dmolviewer_17473129348238387\"),{backgroundColor:\"white\"});\nviewer_17473129348238387.zoomTo();\n\tviewer_17473129348238387.addModel(\"9\\n\\nC              0.110127000000         1.265894000000         1.235476000000\\nC             -0.434106000000         0.768224000000         2.397081000000\\nN             -0.747032000000        -0.531741000000         2.225764000000\\nC             -0.382273000000        -0.794699000000         0.953442000000\\nN              0.140156000000         0.277075000000         0.330119000000\\nH              0.459005000000         2.275360000000         1.062373000000\\nH             -0.593819000000         1.318632000000         3.314493000000\\nH             -0.498003000000        -1.763639000000         0.485983000000\\nH              0.494000000000         0.328217000000        -0.650638000000\\n\");\n\tviewer_17473129348238387.setViewStyle({\"style\": \"outline\", \"width\": 0.05});\n\tviewer_17473129348238387.setStyle({\"stick\": {}, \"sphere\": {\"scale\": 0.25}});\n\tviewer_17473129348238387.addLabel(\"1\",{\"position\": {\"x\": 0.110127, \"y\": 1.2658939999999999, \"z\": 1.235476}, \"alignment\": \"center\", \"fontColor\": 0, \"backgroundColor\": 16777215, \"backgroundOpacity\": 0.0});\n\tviewer_17473129348238387.addLabel(\"2\",{\"position\": {\"x\": -0.43410599999999994, \"y\": 0.768224, \"z\": 2.397081}, \"alignment\": \"center\", \"fontColor\": 0, \"backgroundColor\": 16777215, \"backgroundOpacity\": 0.0});\n\tviewer_17473129348238387.addLabel(\"3\",{\"position\": {\"x\": -0.7470319999999999, \"y\": -0.531741, \"z\": 2.225764}, \"alignment\": \"center\", \"fontColor\": 0, \"backgroundColor\": 16777215, \"backgroundOpacity\": 0.0});\n\tviewer_17473129348238387.addLabel(\"4\",{\"position\": {\"x\": -0.3822729999999999, \"y\": -0.794699, \"z\": 0.9534419999999999}, \"alignment\": \"center\", \"fontColor\": 0, \"backgroundColor\": 16777215, \"backgroundOpacity\": 0.0});\n\tviewer_17473129348238387.addLabel(\"5\",{\"position\": {\"x\": 0.140156, \"y\": 0.277075, \"z\": 0.33011899999999994}, \"alignment\": \"center\", \"fontColor\": 0, \"backgroundColor\": 16777215, \"backgroundOpacity\": 0.0});\n\tviewer_17473129348238387.addLabel(\"6\",{\"position\": {\"x\": 0.45900499999999994, \"y\": 2.2753599999999996, \"z\": 1.062373}, \"alignment\": \"center\", \"fontColor\": 0, \"backgroundColor\": 16777215, \"backgroundOpacity\": 0.0});\n\tviewer_17473129348238387.addLabel(\"7\",{\"position\": {\"x\": -0.593819, \"y\": 1.318632, \"z\": 3.314493}, \"alignment\": \"center\", \"fontColor\": 0, \"backgroundColor\": 16777215, \"backgroundOpacity\": 0.0});\n\tviewer_17473129348238387.addLabel(\"8\",{\"position\": {\"x\": -0.498003, \"y\": -1.763639, \"z\": 0.485983}, \"alignment\": \"center\", \"fontColor\": 0, \"backgroundColor\": 16777215, \"backgroundOpacity\": 0.0});\n\tviewer_17473129348238387.addLabel(\"9\",{\"position\": {\"x\": 0.494, \"y\": 0.328217, \"z\": -0.650638}, \"alignment\": \"center\", \"fontColor\": 0, \"backgroundColor\": 16777215, \"backgroundOpacity\": 0.0});\n\tviewer_17473129348238387.zoomTo();\nviewer_17473129348238387.render();\n});\n</script>",
            "text/html": [
              "<div id=\"3dmolviewer_17473129348238387\"  style=\"position: relative; width: 400px; height: 300px;\">\n",
              "        <p id=\"3dmolwarning_17473129348238387\" style=\"background-color:#ffcccc;color:black\">3Dmol.js failed to load for some reason.  Please check your browser console for error messages.<br></p>\n",
              "        </div>\n",
              "<script>\n",
              "\n",
              "var loadScriptAsync = function(uri){\n",
              "  return new Promise((resolve, reject) => {\n",
              "    //this is to ignore the existence of requirejs amd\n",
              "    var savedexports, savedmodule;\n",
              "    if (typeof exports !== 'undefined') savedexports = exports;\n",
              "    else exports = {}\n",
              "    if (typeof module !== 'undefined') savedmodule = module;\n",
              "    else module = {}\n",
              "\n",
              "    var tag = document.createElement('script');\n",
              "    tag.src = uri;\n",
              "    tag.async = true;\n",
              "    tag.onload = () => {\n",
              "        exports = savedexports;\n",
              "        module = savedmodule;\n",
              "        resolve();\n",
              "    };\n",
              "  var firstScriptTag = document.getElementsByTagName('script')[0];\n",
              "  firstScriptTag.parentNode.insertBefore(tag, firstScriptTag);\n",
              "});\n",
              "};\n",
              "\n",
              "if(typeof $3Dmolpromise === 'undefined') {\n",
              "$3Dmolpromise = null;\n",
              "  $3Dmolpromise = loadScriptAsync('https://cdnjs.cloudflare.com/ajax/libs/3Dmol/2.4.2/3Dmol-min.js');\n",
              "}\n",
              "\n",
              "var viewer_17473129348238387 = null;\n",
              "var warn = document.getElementById(\"3dmolwarning_17473129348238387\");\n",
              "if(warn) {\n",
              "    warn.parentNode.removeChild(warn);\n",
              "}\n",
              "$3Dmolpromise.then(function() {\n",
              "viewer_17473129348238387 = $3Dmol.createViewer(document.getElementById(\"3dmolviewer_17473129348238387\"),{backgroundColor:\"white\"});\n",
              "viewer_17473129348238387.zoomTo();\n",
              "\tviewer_17473129348238387.addModel(\"9\\n\\nC              0.110127000000         1.265894000000         1.235476000000\\nC             -0.434106000000         0.768224000000         2.397081000000\\nN             -0.747032000000        -0.531741000000         2.225764000000\\nC             -0.382273000000        -0.794699000000         0.953442000000\\nN              0.140156000000         0.277075000000         0.330119000000\\nH              0.459005000000         2.275360000000         1.062373000000\\nH             -0.593819000000         1.318632000000         3.314493000000\\nH             -0.498003000000        -1.763639000000         0.485983000000\\nH              0.494000000000         0.328217000000        -0.650638000000\\n\");\n",
              "\tviewer_17473129348238387.setViewStyle({\"style\": \"outline\", \"width\": 0.05});\n",
              "\tviewer_17473129348238387.setStyle({\"stick\": {}, \"sphere\": {\"scale\": 0.25}});\n",
              "\tviewer_17473129348238387.addLabel(\"1\",{\"position\": {\"x\": 0.110127, \"y\": 1.2658939999999999, \"z\": 1.235476}, \"alignment\": \"center\", \"fontColor\": 0, \"backgroundColor\": 16777215, \"backgroundOpacity\": 0.0});\n",
              "\tviewer_17473129348238387.addLabel(\"2\",{\"position\": {\"x\": -0.43410599999999994, \"y\": 0.768224, \"z\": 2.397081}, \"alignment\": \"center\", \"fontColor\": 0, \"backgroundColor\": 16777215, \"backgroundOpacity\": 0.0});\n",
              "\tviewer_17473129348238387.addLabel(\"3\",{\"position\": {\"x\": -0.7470319999999999, \"y\": -0.531741, \"z\": 2.225764}, \"alignment\": \"center\", \"fontColor\": 0, \"backgroundColor\": 16777215, \"backgroundOpacity\": 0.0});\n",
              "\tviewer_17473129348238387.addLabel(\"4\",{\"position\": {\"x\": -0.3822729999999999, \"y\": -0.794699, \"z\": 0.9534419999999999}, \"alignment\": \"center\", \"fontColor\": 0, \"backgroundColor\": 16777215, \"backgroundOpacity\": 0.0});\n",
              "\tviewer_17473129348238387.addLabel(\"5\",{\"position\": {\"x\": 0.140156, \"y\": 0.277075, \"z\": 0.33011899999999994}, \"alignment\": \"center\", \"fontColor\": 0, \"backgroundColor\": 16777215, \"backgroundOpacity\": 0.0});\n",
              "\tviewer_17473129348238387.addLabel(\"6\",{\"position\": {\"x\": 0.45900499999999994, \"y\": 2.2753599999999996, \"z\": 1.062373}, \"alignment\": \"center\", \"fontColor\": 0, \"backgroundColor\": 16777215, \"backgroundOpacity\": 0.0});\n",
              "\tviewer_17473129348238387.addLabel(\"7\",{\"position\": {\"x\": -0.593819, \"y\": 1.318632, \"z\": 3.314493}, \"alignment\": \"center\", \"fontColor\": 0, \"backgroundColor\": 16777215, \"backgroundOpacity\": 0.0});\n",
              "\tviewer_17473129348238387.addLabel(\"8\",{\"position\": {\"x\": -0.498003, \"y\": -1.763639, \"z\": 0.485983}, \"alignment\": \"center\", \"fontColor\": 0, \"backgroundColor\": 16777215, \"backgroundOpacity\": 0.0});\n",
              "\tviewer_17473129348238387.addLabel(\"9\",{\"position\": {\"x\": 0.494, \"y\": 0.328217, \"z\": -0.650638}, \"alignment\": \"center\", \"fontColor\": 0, \"backgroundColor\": 16777215, \"backgroundOpacity\": 0.0});\n",
              "\tviewer_17473129348238387.zoomTo();\n",
              "viewer_17473129348238387.render();\n",
              "});\n",
              "</script>"
            ]
          },
          "metadata": {}
        },
        {
          "output_type": "stream",
          "name": "stdout",
          "text": [
            "\n",
            "BDE to H6 : 608.7 kJ/mol\n",
            "BDE to H7 : 606.5 kJ/mol\n",
            "BDE to H8 : 608.8 kJ/mol\n",
            "BDE to H9 : 567.2 kJ/mol\n"
          ]
        }
      ],
      "source": [
        "#@title Print BDEs and geometry\n",
        "last_energies = []\n",
        "bdes = []\n",
        "\n",
        "for i in range(len(molecules)):\n",
        "  res = results[i]['scf_energy']\n",
        "  last_energies.append(res)\n",
        "#for i in range(len(molecules)):\n",
        "#  print('Energy', last_energies[i])\n",
        "\n",
        "molecule.show(atom_indices=True)\n",
        "\n",
        "\n",
        "for i in range(len(molecules)):\n",
        "  bde =  scf_resultsH['scf_energy'] + last_energies[i] -scf_results['scf_energy']\n",
        "  bdes.append(bde)\n",
        "#for i in range(len(molecules)):\n",
        "#  molecules[i].show()\n",
        "#  print('BDE: ', 627.5*bdes[i])\n",
        "\n",
        "print()\n",
        "mol_string = molecule.get_xyz_string()\n",
        "number_of_atoms = molecule.number_of_atoms()\n",
        "mol_string = mol_string.split('\\n')\n",
        "# Identify the lines that start with atom and save the positions\n",
        "atom_positions = []\n",
        "for i, line in enumerate(mol_string):\n",
        "    if line.startswith('H'):\n",
        "        atom_positions.append(i)\n",
        "\n",
        "for i in range(len(molecules)):\n",
        "  print('BDE to H' + str(atom_positions[i] - 1) + ' : ' + f\"{2627.5*bdes[i]:.1f}\" + ' kJ/mol')\n"
      ]
    }
  ],
  "metadata": {
    "colab": {
      "provenance": [],
      "include_colab_link": true
    },
    "kernelspec": {
      "display_name": "Python 3",
      "name": "python3"
    },
    "language_info": {
      "name": "python"
    }
  },
  "nbformat": 4,
  "nbformat_minor": 0
}