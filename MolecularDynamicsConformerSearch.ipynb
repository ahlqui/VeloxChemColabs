{
  "nbformat": 4,
  "nbformat_minor": 0,
  "metadata": {
    "colab": {
      "provenance": [],
      "gpuType": "T4",
      "include_colab_link": true
    },
    "kernelspec": {
      "name": "python3",
      "display_name": "Python 3"
    },
    "language_info": {
      "name": "python"
    },
    "accelerator": "GPU"
  },
  "cells": [
    {
      "cell_type": "markdown",
      "metadata": {
        "id": "view-in-github",
        "colab_type": "text"
      },
      "source": [
        "<a href=\"https://colab.research.google.com/github/ahlqui/VeloxChemColabs/blob/main/MolecularDynamicsConformerSearch.ipynb\" target=\"_parent\"><img src=\"https://colab.research.google.com/assets/colab-badge.svg\" alt=\"Open In Colab\"/></a>"
      ]
    },
    {
      "cell_type": "markdown",
      "source": [
        "\n",
        "\n",
        "\n",
        "# Generate a force field from XYZ and run dynamics\n"
      ],
      "metadata": {
        "id": "_f9U7ujQXRh7"
      }
    },
    {
      "cell_type": "markdown",
      "source": [
        "This notebook requires that you have a molecular structure. Two options:\n",
        "\n",
        "Define Molecule as XYZ-coordinates: Can be generatred with free software such as www.avogadro.cc\n",
        "\n",
        "Define Molecule with SMILES code, A molecule can be defined using a SMILES code (example below). We have two suggested ways to generate smiles from structure. 1) Sketch your molecule at https://www.rcsb.org/chemical-sketch and the SMILES code will be shown right below the structure. 2) Build your molecule at https://molview.org/ , go to Tools/Information Card and it will show you the SMILES code. Just copy/paste it into the SMILES box below.\n",
        "\n",
        "Example of xyz-coordinates for CO2:\n",
        "\n",
        "O 0.00 0.00 0.00\n",
        "\n",
        "C 0.00 0.00 1.20\n",
        "\n",
        "O 0.00 0.00 2.40\n",
        "\n",
        "Example of SMILES for CO2:\n",
        "\n",
        "O=C=O"
      ],
      "metadata": {
        "id": "jsrGVECSXfex"
      }
    },
    {
      "cell_type": "code",
      "execution_count": 9,
      "metadata": {
        "cellView": "form",
        "id": "LjiFcUn5LT-g"
      },
      "outputs": [],
      "source": [
        "#@title Install VeloxChem and dependencies (ca 2 min)\n",
        "#@markdown Before you can run anything a few things need to be installed. It all runs on the Google Colab server an you do not need to install anything on your computer.\n",
        "%%capture\n",
        "import sys\n",
        "\n",
        "! wget -qnc https://github.com/conda-forge/miniforge/releases/latest/download/Miniforge3-Linux-x86_64.sh\n",
        "! bash Miniforge3-Linux-x86_64.sh -bfp /usr/local\n",
        "! mamba config --set auto_update_conda false\n",
        "import sys\n",
        "sys.path.append('/usr/local/lib/python3.11/site-packages/')\n",
        "!mamba install -y -c conda-forge -c veloxchem veloxchem xtb-python py3Dmol MDAnalysis openmm matplotlib python=3.11\n",
        "! pip install rdkit\n",
        "import veloxchem as vlx"
      ]
    },
    {
      "cell_type": "code",
      "source": [
        "xyz_coordinates = \"\"\"\n",
        "N     0.4785967928750  -0.4330741880750  -0.4934317502006\n",
        "H     1.3794564278886   0.0429751463168  -0.5120458348956\n",
        "C     0.4573285404340  -1.3154740355836  -1.6452845209868\n",
        "H     1.2794157350200  -2.0270971721773  -1.5868316520123\n",
        "H    -0.4697908768414  -1.8882598290096  -1.6558792536570\n",
        "C     0.3747047426388  -1.2102491878280   0.7331072010194\n",
        "H    -0.4082292852521  -1.9567463178277   0.6148319854093\n",
        "H     1.2952953868059  -1.7540437197433   0.9183116804327\n",
        "C     0.6956425554192   0.9059967227241  -5.3588904651214\n",
        "C     1.6690431285267  -0.0704102447688  -5.0614336089256\n",
        "C     1.5905279342425  -0.7922292640998  -3.8527793116028\n",
        "C     0.5421211238334  -0.5430166236398  -2.9451176135833\n",
        "C    -0.4312572408155   0.4285446612223  -3.2497814984180\n",
        "C    -0.3564249048118   1.1570067527526  -4.4544417171718\n",
        "H     0.7549521548685   1.4652126122086  -6.2812972715425\n",
        "H     2.3338053657174  -1.5390048087124  -3.6163728176857\n",
        "H    -1.2215586002930   0.6165771400284  -2.5371827271696\n",
        "C    -0.5809783149118   1.1061887532548   4.2819306994214\n",
        "C    -1.0539691464599  -0.2152180430193   4.1484967454886\n",
        "C    -0.7402866542775  -0.9585904738513   2.9917812697427\n",
        "C     0.0501603450518  -0.3918335577218   1.9715484114033\n",
        "C     0.5329231859523   0.9234697295847   2.1220017776407\n",
        "C     0.2096151223583   1.6793509886579   3.2655299818144\n",
        "H    -0.8298576406810   1.6816374807225   5.1614537759970\n",
        "H    -1.1155297675244  -1.9639771384900   2.8737258346041\n",
        "H     1.1311551788061   1.3586475153088   1.3389498331805\n",
        "C     2.7985412681099  -0.3440921389086  -6.0320361103160\n",
        "H     3.0137177612643  -1.4119025048439  -6.0784904425001\n",
        "H     2.5433990952730  -0.0090827377477  -7.0376742707821\n",
        "H     3.7013243404231   0.1769923076871  -5.7132670703364\n",
        "C    -1.3956677617432   2.2110713683443  -4.7713360805252\n",
        "H    -2.2850215726603   2.0829577471538  -4.1532353918110\n",
        "H    -0.9892606342753   3.2051959925139  -4.5854917335667\n",
        "H    -1.6989550492144   2.1496453780473  -5.8166145479409\n",
        "C    -1.9096053739985  -0.8269385079269   5.2372774019485\n",
        "H    -1.8730938416183  -1.9157634078951   5.1986764605346\n",
        "H    -1.5629099527925  -0.5125717843390   6.2218512212214\n",
        "H    -2.9465170241487  -0.5126306418706   5.1188520156529\n",
        "C     0.7055071531436   3.1039291474455   3.3878074482962\n",
        "H     0.6996321098764   3.5926125742168   2.4126899821207\n",
        "H     0.0720511304863   3.6841458846608   4.0587668370105\n",
        "H     1.7245462284362   3.1151446899290   3.7742478882927\n",
        "\"\"\"\n"
      ],
      "metadata": {
        "id": "NzBaWJTJ8mrU"
      },
      "execution_count": 2,
      "outputs": []
    },
    {
      "cell_type": "markdown",
      "metadata": {
        "id": "4P9wqdJtiNbu"
      },
      "source": [
        "In the box below you can input the smiles code of the molecule. If you want to generate forcefields for molecular dynamics, enter the name that you want for your files and a three letter residue name. This code will generate a GAFF2 force field with RESP-charges calculated at the HF/sto-3g level of theory. Since this is a quantum chemical computations it may take some time if your molecule is larger.\n",
        "\n",
        "(If you want a different basis set you can change the basis = vlx.MolecularBasis.read(molecule, 'sto-3g') line in the \"Generate a force field\" cell below)"
      ]
    },
    {
      "cell_type": "code",
      "execution_count": 3,
      "metadata": {
        "id": "kd3SxiFQFm6r",
        "cellView": "form",
        "colab": {
          "base_uri": "https://localhost:8080/",
          "height": 335
        },
        "outputId": "d3fbfcee-0b2b-456a-d615-77671062acd8"
      },
      "outputs": [
        {
          "output_type": "stream",
          "name": "stdout",
          "text": [
            "Structure of the molecule entered: \n"
          ]
        },
        {
          "output_type": "display_data",
          "data": {
            "application/3dmoljs_load.v0": "<div id=\"3dmolviewer_17473145253936012\"  style=\"position: relative; width: 400px; height: 300px;\">\n        <p id=\"3dmolwarning_17473145253936012\" style=\"background-color:#ffcccc;color:black\">3Dmol.js failed to load for some reason.  Please check your browser console for error messages.<br></p>\n        </div>\n<script>\n\nvar loadScriptAsync = function(uri){\n  return new Promise((resolve, reject) => {\n    //this is to ignore the existence of requirejs amd\n    var savedexports, savedmodule;\n    if (typeof exports !== 'undefined') savedexports = exports;\n    else exports = {}\n    if (typeof module !== 'undefined') savedmodule = module;\n    else module = {}\n\n    var tag = document.createElement('script');\n    tag.src = uri;\n    tag.async = true;\n    tag.onload = () => {\n        exports = savedexports;\n        module = savedmodule;\n        resolve();\n    };\n  var firstScriptTag = document.getElementsByTagName('script')[0];\n  firstScriptTag.parentNode.insertBefore(tag, firstScriptTag);\n});\n};\n\nif(typeof $3Dmolpromise === 'undefined') {\n$3Dmolpromise = null;\n  $3Dmolpromise = loadScriptAsync('https://cdnjs.cloudflare.com/ajax/libs/3Dmol/2.4.2/3Dmol-min.js');\n}\n\nvar viewer_17473145253936012 = null;\nvar warn = document.getElementById(\"3dmolwarning_17473145253936012\");\nif(warn) {\n    warn.parentNode.removeChild(warn);\n}\n$3Dmolpromise.then(function() {\nviewer_17473145253936012 = $3Dmol.createViewer(document.getElementById(\"3dmolviewer_17473145253936012\"),{backgroundColor:\"white\"});\nviewer_17473145253936012.zoomTo();\n\tviewer_17473145253936012.addModel(\"11\\n\\nO              0.404413000000         1.986409000000         0.584596000000\\nC             -0.446827000000         0.920760000000         0.911528000000\\nC              0.323179000000        -0.201096000000         1.614992000000\\nC              1.331688000000        -0.836189000000         0.703564000000\\nO              2.308835000000        -0.209331000000         0.325983000000\\nH              0.592465000000         2.469765000000         1.431215000000\\nH             -1.270168000000         1.277560000000         1.571159000000\\nH             -0.910200000000         0.529921000000        -0.019752000000\\nH              0.833849000000         0.194457000000         2.519367000000\\nH             -0.400221000000        -0.978099000000         1.943006000000\\nH              1.203968000000        -1.867256000000         0.390219000000\\n\");\n\tviewer_17473145253936012.setViewStyle({\"style\": \"outline\", \"width\": 0.05});\n\tviewer_17473145253936012.setStyle({\"stick\": {}, \"sphere\": {\"scale\": 0.25}});\n\tviewer_17473145253936012.addLabel(\"1\",{\"position\": {\"x\": 0.40441299999999997, \"y\": 1.986409, \"z\": 0.584596}, \"alignment\": \"center\", \"fontColor\": 0, \"backgroundColor\": 16777215, \"backgroundOpacity\": 0.0});\n\tviewer_17473145253936012.addLabel(\"2\",{\"position\": {\"x\": -0.446827, \"y\": 0.92076, \"z\": 0.911528}, \"alignment\": \"center\", \"fontColor\": 0, \"backgroundColor\": 16777215, \"backgroundOpacity\": 0.0});\n\tviewer_17473145253936012.addLabel(\"3\",{\"position\": {\"x\": 0.323179, \"y\": -0.201096, \"z\": 1.614992}, \"alignment\": \"center\", \"fontColor\": 0, \"backgroundColor\": 16777215, \"backgroundOpacity\": 0.0});\n\tviewer_17473145253936012.addLabel(\"4\",{\"position\": {\"x\": 1.331688, \"y\": -0.836189, \"z\": 0.703564}, \"alignment\": \"center\", \"fontColor\": 0, \"backgroundColor\": 16777215, \"backgroundOpacity\": 0.0});\n\tviewer_17473145253936012.addLabel(\"5\",{\"position\": {\"x\": 2.3088349999999997, \"y\": -0.209331, \"z\": 0.325983}, \"alignment\": \"center\", \"fontColor\": 0, \"backgroundColor\": 16777215, \"backgroundOpacity\": 0.0});\n\tviewer_17473145253936012.addLabel(\"6\",{\"position\": {\"x\": 0.592465, \"y\": 2.469765, \"z\": 1.431215}, \"alignment\": \"center\", \"fontColor\": 0, \"backgroundColor\": 16777215, \"backgroundOpacity\": 0.0});\n\tviewer_17473145253936012.addLabel(\"7\",{\"position\": {\"x\": -1.270168, \"y\": 1.27756, \"z\": 1.571159}, \"alignment\": \"center\", \"fontColor\": 0, \"backgroundColor\": 16777215, \"backgroundOpacity\": 0.0});\n\tviewer_17473145253936012.addLabel(\"8\",{\"position\": {\"x\": -0.9102, \"y\": 0.529921, \"z\": -0.019751999999999995}, \"alignment\": \"center\", \"fontColor\": 0, \"backgroundColor\": 16777215, \"backgroundOpacity\": 0.0});\n\tviewer_17473145253936012.addLabel(\"9\",{\"position\": {\"x\": 0.8338489999999998, \"y\": 0.194457, \"z\": 2.5193669999999995}, \"alignment\": \"center\", \"fontColor\": 0, \"backgroundColor\": 16777215, \"backgroundOpacity\": 0.0});\n\tviewer_17473145253936012.addLabel(\"10\",{\"position\": {\"x\": -0.400221, \"y\": -0.9780989999999999, \"z\": 1.943006}, \"alignment\": \"center\", \"fontColor\": 0, \"backgroundColor\": 16777215, \"backgroundOpacity\": 0.0});\n\tviewer_17473145253936012.addLabel(\"11\",{\"position\": {\"x\": 1.2039679999999997, \"y\": -1.867256, \"z\": 0.390219}, \"alignment\": \"center\", \"fontColor\": 0, \"backgroundColor\": 16777215, \"backgroundOpacity\": 0.0});\n\tviewer_17473145253936012.zoomTo();\nviewer_17473145253936012.render();\n});\n</script>",
            "text/html": [
              "<div id=\"3dmolviewer_17473145253936012\"  style=\"position: relative; width: 400px; height: 300px;\">\n",
              "        <p id=\"3dmolwarning_17473145253936012\" style=\"background-color:#ffcccc;color:black\">3Dmol.js failed to load for some reason.  Please check your browser console for error messages.<br></p>\n",
              "        </div>\n",
              "<script>\n",
              "\n",
              "var loadScriptAsync = function(uri){\n",
              "  return new Promise((resolve, reject) => {\n",
              "    //this is to ignore the existence of requirejs amd\n",
              "    var savedexports, savedmodule;\n",
              "    if (typeof exports !== 'undefined') savedexports = exports;\n",
              "    else exports = {}\n",
              "    if (typeof module !== 'undefined') savedmodule = module;\n",
              "    else module = {}\n",
              "\n",
              "    var tag = document.createElement('script');\n",
              "    tag.src = uri;\n",
              "    tag.async = true;\n",
              "    tag.onload = () => {\n",
              "        exports = savedexports;\n",
              "        module = savedmodule;\n",
              "        resolve();\n",
              "    };\n",
              "  var firstScriptTag = document.getElementsByTagName('script')[0];\n",
              "  firstScriptTag.parentNode.insertBefore(tag, firstScriptTag);\n",
              "});\n",
              "};\n",
              "\n",
              "if(typeof $3Dmolpromise === 'undefined') {\n",
              "$3Dmolpromise = null;\n",
              "  $3Dmolpromise = loadScriptAsync('https://cdnjs.cloudflare.com/ajax/libs/3Dmol/2.4.2/3Dmol-min.js');\n",
              "}\n",
              "\n",
              "var viewer_17473145253936012 = null;\n",
              "var warn = document.getElementById(\"3dmolwarning_17473145253936012\");\n",
              "if(warn) {\n",
              "    warn.parentNode.removeChild(warn);\n",
              "}\n",
              "$3Dmolpromise.then(function() {\n",
              "viewer_17473145253936012 = $3Dmol.createViewer(document.getElementById(\"3dmolviewer_17473145253936012\"),{backgroundColor:\"white\"});\n",
              "viewer_17473145253936012.zoomTo();\n",
              "\tviewer_17473145253936012.addModel(\"11\\n\\nO              0.404413000000         1.986409000000         0.584596000000\\nC             -0.446827000000         0.920760000000         0.911528000000\\nC              0.323179000000        -0.201096000000         1.614992000000\\nC              1.331688000000        -0.836189000000         0.703564000000\\nO              2.308835000000        -0.209331000000         0.325983000000\\nH              0.592465000000         2.469765000000         1.431215000000\\nH             -1.270168000000         1.277560000000         1.571159000000\\nH             -0.910200000000         0.529921000000        -0.019752000000\\nH              0.833849000000         0.194457000000         2.519367000000\\nH             -0.400221000000        -0.978099000000         1.943006000000\\nH              1.203968000000        -1.867256000000         0.390219000000\\n\");\n",
              "\tviewer_17473145253936012.setViewStyle({\"style\": \"outline\", \"width\": 0.05});\n",
              "\tviewer_17473145253936012.setStyle({\"stick\": {}, \"sphere\": {\"scale\": 0.25}});\n",
              "\tviewer_17473145253936012.addLabel(\"1\",{\"position\": {\"x\": 0.40441299999999997, \"y\": 1.986409, \"z\": 0.584596}, \"alignment\": \"center\", \"fontColor\": 0, \"backgroundColor\": 16777215, \"backgroundOpacity\": 0.0});\n",
              "\tviewer_17473145253936012.addLabel(\"2\",{\"position\": {\"x\": -0.446827, \"y\": 0.92076, \"z\": 0.911528}, \"alignment\": \"center\", \"fontColor\": 0, \"backgroundColor\": 16777215, \"backgroundOpacity\": 0.0});\n",
              "\tviewer_17473145253936012.addLabel(\"3\",{\"position\": {\"x\": 0.323179, \"y\": -0.201096, \"z\": 1.614992}, \"alignment\": \"center\", \"fontColor\": 0, \"backgroundColor\": 16777215, \"backgroundOpacity\": 0.0});\n",
              "\tviewer_17473145253936012.addLabel(\"4\",{\"position\": {\"x\": 1.331688, \"y\": -0.836189, \"z\": 0.703564}, \"alignment\": \"center\", \"fontColor\": 0, \"backgroundColor\": 16777215, \"backgroundOpacity\": 0.0});\n",
              "\tviewer_17473145253936012.addLabel(\"5\",{\"position\": {\"x\": 2.3088349999999997, \"y\": -0.209331, \"z\": 0.325983}, \"alignment\": \"center\", \"fontColor\": 0, \"backgroundColor\": 16777215, \"backgroundOpacity\": 0.0});\n",
              "\tviewer_17473145253936012.addLabel(\"6\",{\"position\": {\"x\": 0.592465, \"y\": 2.469765, \"z\": 1.431215}, \"alignment\": \"center\", \"fontColor\": 0, \"backgroundColor\": 16777215, \"backgroundOpacity\": 0.0});\n",
              "\tviewer_17473145253936012.addLabel(\"7\",{\"position\": {\"x\": -1.270168, \"y\": 1.27756, \"z\": 1.571159}, \"alignment\": \"center\", \"fontColor\": 0, \"backgroundColor\": 16777215, \"backgroundOpacity\": 0.0});\n",
              "\tviewer_17473145253936012.addLabel(\"8\",{\"position\": {\"x\": -0.9102, \"y\": 0.529921, \"z\": -0.019751999999999995}, \"alignment\": \"center\", \"fontColor\": 0, \"backgroundColor\": 16777215, \"backgroundOpacity\": 0.0});\n",
              "\tviewer_17473145253936012.addLabel(\"9\",{\"position\": {\"x\": 0.8338489999999998, \"y\": 0.194457, \"z\": 2.5193669999999995}, \"alignment\": \"center\", \"fontColor\": 0, \"backgroundColor\": 16777215, \"backgroundOpacity\": 0.0});\n",
              "\tviewer_17473145253936012.addLabel(\"10\",{\"position\": {\"x\": -0.400221, \"y\": -0.9780989999999999, \"z\": 1.943006}, \"alignment\": \"center\", \"fontColor\": 0, \"backgroundColor\": 16777215, \"backgroundOpacity\": 0.0});\n",
              "\tviewer_17473145253936012.addLabel(\"11\",{\"position\": {\"x\": 1.2039679999999997, \"y\": -1.867256, \"z\": 0.390219}, \"alignment\": \"center\", \"fontColor\": 0, \"backgroundColor\": 16777215, \"backgroundOpacity\": 0.0});\n",
              "\tviewer_17473145253936012.zoomTo();\n",
              "viewer_17473145253936012.render();\n",
              "});\n",
              "</script>"
            ]
          },
          "metadata": {}
        }
      ],
      "source": [
        "#@title Define your molecule, either asa SMILES code or xyz-coordinates above\n",
        "#@markdown - Enter the SMILES code\n",
        "smiles_code = 'OCCC=O' #@param {type:\"string\"}\n",
        "#@markdown - If you want to use the xyz coordinates in the previous cell check box\n",
        "use_xyz = False # @param {type:\"boolean\"}\n",
        "if use_xyz == False:\n",
        "  molecule = vlx.Molecule.read_smiles(smiles_code)\n",
        "else:\n",
        "  molecule = vlx.Molecule.read_str(xyz_coordinates)\n",
        "print('Structure of the molecule entered: ')\n",
        "molecule.show(atom_indices=True)\n",
        "#@markdown - Give your Gromacs files a name\n",
        "gromacs_file = 'test' #@param {type:\"string\"}\n",
        "#@markdown - Give your molecule a residue name (three letters)\n",
        "residue_name = 'tes' #@param {type:\"string\"}\n",
        "\n"
      ]
    },
    {
      "cell_type": "code",
      "source": [
        "#@title Generate a force field and write Gromacs files\n",
        "#@markdown - Run this cell to generate the force field\n",
        "#@markdown - Example timing: Ibuprofen (1 min)\n",
        "#@markdown - The files can be found on the left panel (\"Files\")\n",
        "ff_gen = vlx.MMForceFieldGenerator()\n",
        "basis = vlx.MolecularBasis.read(molecule, 'sto-3g')\n",
        "ff_gen.ostream.mute()\n",
        "ff_gen.create_topology(molecule, basis)\n",
        "\n",
        "ff_gen.write_gromacs_files(gromacs_file, residue_name)\n"
      ],
      "metadata": {
        "id": "rW9KHJqfNqBx",
        "cellView": "form"
      },
      "execution_count": 4,
      "outputs": []
    },
    {
      "cell_type": "code",
      "execution_count": 5,
      "metadata": {
        "id": "O0J87UqYXbCK",
        "cellView": "form",
        "colab": {
          "base_uri": "https://localhost:8080/"
        },
        "outputId": "52182139-d471-4019-81e6-79b323d584a4"
      },
      "outputs": [
        {
          "output_type": "stream",
          "name": "stderr",
          "text": [
            "WARNING:MDAnalysis.coordinates.AMBER:netCDF4 is not available. Writing AMBER ncdf files will be slow.\n"
          ]
        },
        {
          "output_type": "stream",
          "name": "stdout",
          "text": [
            "No constraint used\n",
            "#\"Step\",\"Potential Energy (kJ/mole)\",\"Temperature (K)\"\n",
            "10000,-31.643272399902344,363.28394838555533\n",
            "20000,-37.3568115234375,413.5267240561314\n",
            "30000,-2.4736251831054688,189.04531847448592\n",
            "40000,-35.207252502441406,257.3518031798924\n",
            "50000,-27.644874572753906,359.64841694421267\n",
            "60000,-22.772857666015625,280.3539070204257\n",
            "70000,-27.277969360351562,221.91836374620829\n",
            "80000,-31.656517028808594,274.08864914198733\n",
            "90000,-35.25224304199219,200.23484490661463\n",
            "100000,-25.50194549560547,408.5093594020257\n"
          ]
        }
      ],
      "source": [
        "#@title Run dynamics\n",
        "#@markdown - Example timings: 200 ps MD of ibuprofen (22 sec)\n",
        "from openmm.app import *\n",
        "from openmm import *\n",
        "from openmm.unit import *\n",
        "from sys import stdout\n",
        "import MDAnalysis as mda\n",
        "universe = mda.Universe(gromacs_file + '.gro')\n",
        "with mda.Writer(gromacs_file + '.gro') as gro:\n",
        "    gro.write(universe)\n",
        "gro = GromacsGroFile(gromacs_file + '.gro')\n",
        "top = GromacsTopFile(gromacs_file + '.top')\n",
        "system = top.createSystem(nonbondedMethod=NoCutoff)\n",
        "#@markdown - Check the add_constraint box if you want to constrain the distance between two atoms in the dynamics\n",
        "add_constraint = False # @param {type:\"boolean\"}\n",
        "atom1 = 6 #@param {type:\"integer\"}\n",
        "atom2 = 5 #@param {type:\"integer\"}\n",
        "distance_nm = 0.2 #@param {type:\"number\"}\n",
        "if add_constraint == True:\n",
        "  system.addConstraint(atom1-1, atom2-1, distance_nm)\n",
        "else:\n",
        "  print(\"No constraint used\")\n",
        "#@markdown - Set the timestep in femtoseconds\n",
        "#time_step = 2 #@param {type:\"integer\"}\n",
        "time_step = 2 #@param [1, 2]\n",
        "#@markdown - Set the temperature in Kelvin\n",
        "temp = 300 #@param {type:\"slider\", min:200, max:700, step:1}\n",
        "integrator = LangevinMiddleIntegrator(temp*kelvin, 1/picosecond, 0.001*time_step*picoseconds)\n",
        "simulation = Simulation(top.topology, system, integrator)\n",
        "simulation.context.setPositions(gro.positions)\n",
        "simulation.minimizeEnergy()\n",
        "#@markdown - Set the number of steps you want to take (ex 100000 steps * 2 fs= 200 ps)\n",
        "steps = 100000 #@param {type:\"integer\"}\n",
        "#@markdown - Number of snapshots saved. Select how many structures you want to save from your dynamics run\n",
        "snapshots = 10 #@param {type:\"integer\"}\n",
        "outputdata = steps / snapshots\n",
        "simulation.reporters.append(PDBReporter(gromacs_file + '.pdb', outputdata))\n",
        "simulation.reporters.append(StateDataReporter(stdout, outputdata, step=True,\n",
        "        potentialEnergy=True, temperature=True))\n",
        "simulation.step(steps)"
      ]
    },
    {
      "cell_type": "code",
      "execution_count": 6,
      "metadata": {
        "id": "zWvAG92YWJCt",
        "cellView": "form",
        "colab": {
          "base_uri": "https://localhost:8080/",
          "height": 285
        },
        "outputId": "5d683c38-97b7-452e-8521-2d2fd280fe48"
      },
      "outputs": [
        {
          "output_type": "stream",
          "name": "stdout",
          "text": [
            "Output geometry:\n"
          ]
        },
        {
          "output_type": "display_data",
          "data": {
            "application/3dmoljs_load.v0": "<div id=\"3dmolviewer_17473145334379106\"  style=\"position: relative; width: 400px; height: 250px;\">\n        <p id=\"3dmolwarning_17473145334379106\" style=\"background-color:#ffcccc;color:black\">3Dmol.js failed to load for some reason.  Please check your browser console for error messages.<br></p>\n        </div>\n<script>\n\nvar loadScriptAsync = function(uri){\n  return new Promise((resolve, reject) => {\n    //this is to ignore the existence of requirejs amd\n    var savedexports, savedmodule;\n    if (typeof exports !== 'undefined') savedexports = exports;\n    else exports = {}\n    if (typeof module !== 'undefined') savedmodule = module;\n    else module = {}\n\n    var tag = document.createElement('script');\n    tag.src = uri;\n    tag.async = true;\n    tag.onload = () => {\n        exports = savedexports;\n        module = savedmodule;\n        resolve();\n    };\n  var firstScriptTag = document.getElementsByTagName('script')[0];\n  firstScriptTag.parentNode.insertBefore(tag, firstScriptTag);\n});\n};\n\nif(typeof $3Dmolpromise === 'undefined') {\n$3Dmolpromise = null;\n  $3Dmolpromise = loadScriptAsync('https://cdnjs.cloudflare.com/ajax/libs/3Dmol/2.4.2/3Dmol-min.js');\n}\n\nvar viewer_17473145334379106 = null;\nvar warn = document.getElementById(\"3dmolwarning_17473145334379106\");\nif(warn) {\n    warn.parentNode.removeChild(warn);\n}\n$3Dmolpromise.then(function() {\nviewer_17473145334379106 = $3Dmol.createViewer(document.getElementById(\"3dmolviewer_17473145334379106\"),{backgroundColor:\"white\"});\nviewer_17473145334379106.zoomTo();\n\tviewer_17473145334379106.addModelsAsFrames(\"REMARK   1 CREATED WITH OPENMM 8.2, 2025-05-15\\nMODEL        1\\nHETATM    1  O1  tes A   1       0.344   0.434   2.586  1.00  0.00           O  \\nHETATM    2  C1  tes A   1       1.452   0.942   1.910  1.00  0.00           C  \\nHETATM    3  C2  tes A   1       1.038   1.168   0.381  1.00  0.00           C  \\nHETATM    4  C3  tes A   1       0.760  -0.076  -0.483  1.00  0.00           C  \\nHETATM    5  O2  tes A   1       0.532  -1.121   0.025  1.00  0.00           O  \\nHETATM    6  H1  tes A   1       0.031  -0.339   2.062  1.00  0.00           H  \\nHETATM    7  H2  tes A   1       1.704   1.949   2.377  1.00  0.00           H  \\nHETATM    8  H3  tes A   1       2.280   0.155   2.020  1.00  0.00           H  \\nHETATM    9  H4  tes A   1       0.145   1.899   0.308  1.00  0.00           H  \\nHETATM   10  H5  tes A   1       1.899   1.736  -0.156  1.00  0.00           H  \\nHETATM   11  H6  tes A   1       0.652   0.009  -1.557  1.00  0.00           H  \\nTER      12      tes A   1\\nENDMDL\\nMODEL        2\\nHETATM    1  O1  tes A   1       2.455  -0.029   1.995  1.00  0.00           O  \\nHETATM    2  C1  tes A   1       1.159  -0.548   2.060  1.00  0.00           C  \\nHETATM    3  C2  tes A   1       0.472  -0.410   0.681  1.00  0.00           C  \\nHETATM    4  C3  tes A   1       0.334   0.994   0.243  1.00  0.00           C  \\nHETATM    5  O2  tes A   1      -0.498   1.259  -0.573  1.00  0.00           O  \\nHETATM    6  H1  tes A   1       2.820   0.108   2.922  1.00  0.00           H  \\nHETATM    7  H2  tes A   1       1.110  -1.635   2.434  1.00  0.00           H  \\nHETATM    8  H3  tes A   1       0.516  -0.046   2.796  1.00  0.00           H  \\nHETATM    9  H4  tes A   1       1.016  -0.956  -0.113  1.00  0.00           H  \\nHETATM   10  H5  tes A   1      -0.568  -0.813   0.836  1.00  0.00           H  \\nHETATM   11  H6  tes A   1       0.878   1.810   0.678  1.00  0.00           H  \\nTER      12      tes A   1\\nENDMDL\\nMODEL        3\\nHETATM    1  O1  tes A   1       1.160  -1.028   2.069  1.00  0.00           O  \\nHETATM    2  C1  tes A   1      -0.100  -0.421   1.651  1.00  0.00           C  \\nHETATM    3  C2  tes A   1      -0.006   0.098   0.110  1.00  0.00           C  \\nHETATM    4  C3  tes A   1       1.342   0.839  -0.155  1.00  0.00           C  \\nHETATM    5  O2  tes A   1       1.686   1.750   0.619  1.00  0.00           O  \\nHETATM    6  H1  tes A   1       1.525  -0.325   2.614  1.00  0.00           H  \\nHETATM    7  H2  tes A   1      -1.021  -1.095   1.747  1.00  0.00           H  \\nHETATM    8  H3  tes A   1      -0.446   0.440   2.286  1.00  0.00           H  \\nHETATM    9  H4  tes A   1      -0.258  -0.599  -0.699  1.00  0.00           H  \\nHETATM   10  H5  tes A   1      -0.890   0.799  -0.081  1.00  0.00           H  \\nHETATM   11  H6  tes A   1       1.904   0.518  -1.000  1.00  0.00           H  \\nTER      12      tes A   1\\nENDMDL\\nMODEL        4\\nHETATM    1  O1  tes A   1      -0.037   0.016   2.462  1.00  0.00           O  \\nHETATM    2  C1  tes A   1       1.070   0.730   2.023  1.00  0.00           C  \\nHETATM    3  C2  tes A   1       0.894   1.189   0.542  1.00  0.00           C  \\nHETATM    4  C3  tes A   1       0.823   0.123  -0.455  1.00  0.00           C  \\nHETATM    5  O2  tes A   1       1.496  -0.872  -0.329  1.00  0.00           O  \\nHETATM    6  H1  tes A   1      -0.585   0.592   3.097  1.00  0.00           H  \\nHETATM    7  H2  tes A   1       1.363   1.592   2.654  1.00  0.00           H  \\nHETATM    8  H3  tes A   1       1.910  -0.036   2.083  1.00  0.00           H  \\nHETATM    9  H4  tes A   1      -0.063   1.783   0.399  1.00  0.00           H  \\nHETATM   10  H5  tes A   1       1.754   1.834   0.236  1.00  0.00           H  \\nHETATM   11  H6  tes A   1       0.089   0.149  -1.299  1.00  0.00           H  \\nTER      12      tes A   1\\nENDMDL\\nMODEL        5\\nHETATM    1  O1  tes A   1       2.037  -0.942   0.613  1.00  0.00           O  \\nHETATM    2  C1  tes A   1       0.994  -0.511  -0.309  1.00  0.00           C  \\nHETATM    3  C2  tes A   1       0.434   0.842   0.149  1.00  0.00           C  \\nHETATM    4  C3  tes A   1      -0.132   0.827   1.514  1.00  0.00           C  \\nHETATM    5  O2  tes A   1       0.568   1.071   2.461  1.00  0.00           O  \\nHETATM    6  H1  tes A   1       1.907  -0.551   1.513  1.00  0.00           H  \\nHETATM    7  H2  tes A   1       1.387  -0.639  -1.332  1.00  0.00           H  \\nHETATM    8  H3  tes A   1       0.199  -1.265  -0.291  1.00  0.00           H  \\nHETATM    9  H4  tes A   1       1.124   1.639   0.013  1.00  0.00           H  \\nHETATM   10  H5  tes A   1      -0.326   1.158  -0.557  1.00  0.00           H  \\nHETATM   11  H6  tes A   1      -1.188   0.611   1.700  1.00  0.00           H  \\nTER      12      tes A   1\\nENDMDL\\nMODEL        6\\nHETATM    1  O1  tes A   1       1.695   0.580  -0.491  1.00  0.00           O  \\nHETATM    2  C1  tes A   1       0.821  -0.453  -0.324  1.00  0.00           C  \\nHETATM    3  C2  tes A   1      -0.147  -0.066   0.753  1.00  0.00           C  \\nHETATM    4  C3  tes A   1       0.499  -0.046   2.093  1.00  0.00           C  \\nHETATM    5  O2  tes A   1       1.062   0.952   2.531  1.00  0.00           O  \\nHETATM    6  H1  tes A   1       1.432   1.388   0.050  1.00  0.00           H  \\nHETATM    7  H2  tes A   1       0.166  -0.593  -1.255  1.00  0.00           H  \\nHETATM    8  H3  tes A   1       1.366  -1.390  -0.191  1.00  0.00           H  \\nHETATM    9  H4  tes A   1      -0.613   0.898   0.430  1.00  0.00           H  \\nHETATM   10  H5  tes A   1      -0.981  -0.809   0.845  1.00  0.00           H  \\nHETATM   11  H6  tes A   1       0.622  -0.883   2.641  1.00  0.00           H  \\nTER      12      tes A   1\\nENDMDL\\nMODEL        7\\nHETATM    1  O1  tes A   1       2.581  -0.217   1.238  1.00  0.00           O  \\nHETATM    2  C1  tes A   1       1.370  -0.698   1.674  1.00  0.00           C  \\nHETATM    3  C2  tes A   1       0.385  -0.522   0.652  1.00  0.00           C  \\nHETATM    4  C3  tes A   1       0.163   0.915   0.188  1.00  0.00           C  \\nHETATM    5  O2  tes A   1      -0.677   1.699   0.646  1.00  0.00           O  \\nHETATM    6  H1  tes A   1       3.196  -0.326   1.980  1.00  0.00           H  \\nHETATM    7  H2  tes A   1       1.485  -1.776   1.942  1.00  0.00           H  \\nHETATM    8  H3  tes A   1       1.024  -0.160   2.600  1.00  0.00           H  \\nHETATM    9  H4  tes A   1       0.740  -1.125  -0.234  1.00  0.00           H  \\nHETATM   10  H5  tes A   1      -0.583  -0.867   0.911  1.00  0.00           H  \\nHETATM   11  H6  tes A   1       0.889   1.295  -0.507  1.00  0.00           H  \\nTER      12      tes A   1\\nENDMDL\\nMODEL        8\\nHETATM    1  O1  tes A   1       1.857   1.730   1.421  1.00  0.00           O  \\nHETATM    2  C1  tes A   1       2.039   0.345   1.462  1.00  0.00           C  \\nHETATM    3  C2  tes A   1       1.279  -0.296   0.285  1.00  0.00           C  \\nHETATM    4  C3  tes A   1      -0.228  -0.042   0.316  1.00  0.00           C  \\nHETATM    5  O2  tes A   1      -0.986  -0.739   0.965  1.00  0.00           O  \\nHETATM    6  H1  tes A   1       2.739   2.169   1.709  1.00  0.00           H  \\nHETATM    7  H2  tes A   1       3.076   0.176   1.323  1.00  0.00           H  \\nHETATM    8  H3  tes A   1       1.811  -0.161   2.472  1.00  0.00           H  \\nHETATM    9  H4  tes A   1       1.667   0.039  -0.644  1.00  0.00           H  \\nHETATM   10  H5  tes A   1       1.416  -1.407   0.272  1.00  0.00           H  \\nHETATM   11  H6  tes A   1      -0.579   0.761  -0.332  1.00  0.00           H  \\nTER      12      tes A   1\\nENDMDL\\nMODEL        9\\nHETATM    1  O1  tes A   1       1.616   0.080   2.512  1.00  0.00           O  \\nHETATM    2  C1  tes A   1       0.679  -0.738   1.893  1.00  0.00           C  \\nHETATM    3  C2  tes A   1       0.755  -0.570   0.385  1.00  0.00           C  \\nHETATM    4  C3  tes A   1       0.930   0.900   0.041  1.00  0.00           C  \\nHETATM    5  O2  tes A   1       0.029   1.526  -0.505  1.00  0.00           O  \\nHETATM    6  H1  tes A   1       2.087  -0.492   3.193  1.00  0.00           H  \\nHETATM    7  H2  tes A   1       0.814  -1.756   2.195  1.00  0.00           H  \\nHETATM    8  H3  tes A   1      -0.276  -0.411   2.304  1.00  0.00           H  \\nHETATM    9  H4  tes A   1       1.637  -1.153  -0.018  1.00  0.00           H  \\nHETATM   10  H5  tes A   1      -0.087  -1.040  -0.141  1.00  0.00           H  \\nHETATM   11  H6  tes A   1       1.861   1.388   0.378  1.00  0.00           H  \\nTER      12      tes A   1\\nENDMDL\\nMODEL       10\\nHETATM    1  O1  tes A   1       1.896  -0.882   2.106  1.00  0.00           O  \\nHETATM    2  C1  tes A   1       0.679  -0.893   1.375  1.00  0.00           C  \\nHETATM    3  C2  tes A   1       0.797  -0.200   0.065  1.00  0.00           C  \\nHETATM    4  C3  tes A   1       0.868   1.324   0.232  1.00  0.00           C  \\nHETATM    5  O2  tes A   1      -0.166   1.914   0.581  1.00  0.00           O  \\nHETATM    6  H1  tes A   1       1.592  -0.597   3.043  1.00  0.00           H  \\nHETATM    7  H2  tes A   1       0.367  -1.936   1.068  1.00  0.00           H  \\nHETATM    8  H3  tes A   1      -0.243  -0.500   1.935  1.00  0.00           H  \\nHETATM    9  H4  tes A   1       1.794  -0.486  -0.366  1.00  0.00           H  \\nHETATM   10  H5  tes A   1      -0.015  -0.461  -0.608  1.00  0.00           H  \\nHETATM   11  H6  tes A   1       1.776   1.791  -0.010  1.00  0.00           H  \\nTER      12      tes A   1\\nENDMDL\\n\",\"pdb\",{\"keepH\": true});\n\tviewer_17473145334379106.animate({\"interval\": 1200, \"loop\": \"forward\", \"reps\": 10});\n\tviewer_17473145334379106.setStyle({\"stick\": {}, \"sphere\": {\"scale\": 0.25}});\n\tviewer_17473145334379106.zoomTo();\nviewer_17473145334379106.render();\n});\n</script>",
            "text/html": [
              "<div id=\"3dmolviewer_17473145334379106\"  style=\"position: relative; width: 400px; height: 250px;\">\n",
              "        <p id=\"3dmolwarning_17473145334379106\" style=\"background-color:#ffcccc;color:black\">3Dmol.js failed to load for some reason.  Please check your browser console for error messages.<br></p>\n",
              "        </div>\n",
              "<script>\n",
              "\n",
              "var loadScriptAsync = function(uri){\n",
              "  return new Promise((resolve, reject) => {\n",
              "    //this is to ignore the existence of requirejs amd\n",
              "    var savedexports, savedmodule;\n",
              "    if (typeof exports !== 'undefined') savedexports = exports;\n",
              "    else exports = {}\n",
              "    if (typeof module !== 'undefined') savedmodule = module;\n",
              "    else module = {}\n",
              "\n",
              "    var tag = document.createElement('script');\n",
              "    tag.src = uri;\n",
              "    tag.async = true;\n",
              "    tag.onload = () => {\n",
              "        exports = savedexports;\n",
              "        module = savedmodule;\n",
              "        resolve();\n",
              "    };\n",
              "  var firstScriptTag = document.getElementsByTagName('script')[0];\n",
              "  firstScriptTag.parentNode.insertBefore(tag, firstScriptTag);\n",
              "});\n",
              "};\n",
              "\n",
              "if(typeof $3Dmolpromise === 'undefined') {\n",
              "$3Dmolpromise = null;\n",
              "  $3Dmolpromise = loadScriptAsync('https://cdnjs.cloudflare.com/ajax/libs/3Dmol/2.4.2/3Dmol-min.js');\n",
              "}\n",
              "\n",
              "var viewer_17473145334379106 = null;\n",
              "var warn = document.getElementById(\"3dmolwarning_17473145334379106\");\n",
              "if(warn) {\n",
              "    warn.parentNode.removeChild(warn);\n",
              "}\n",
              "$3Dmolpromise.then(function() {\n",
              "viewer_17473145334379106 = $3Dmol.createViewer(document.getElementById(\"3dmolviewer_17473145334379106\"),{backgroundColor:\"white\"});\n",
              "viewer_17473145334379106.zoomTo();\n",
              "\tviewer_17473145334379106.addModelsAsFrames(\"REMARK   1 CREATED WITH OPENMM 8.2, 2025-05-15\\nMODEL        1\\nHETATM    1  O1  tes A   1       0.344   0.434   2.586  1.00  0.00           O  \\nHETATM    2  C1  tes A   1       1.452   0.942   1.910  1.00  0.00           C  \\nHETATM    3  C2  tes A   1       1.038   1.168   0.381  1.00  0.00           C  \\nHETATM    4  C3  tes A   1       0.760  -0.076  -0.483  1.00  0.00           C  \\nHETATM    5  O2  tes A   1       0.532  -1.121   0.025  1.00  0.00           O  \\nHETATM    6  H1  tes A   1       0.031  -0.339   2.062  1.00  0.00           H  \\nHETATM    7  H2  tes A   1       1.704   1.949   2.377  1.00  0.00           H  \\nHETATM    8  H3  tes A   1       2.280   0.155   2.020  1.00  0.00           H  \\nHETATM    9  H4  tes A   1       0.145   1.899   0.308  1.00  0.00           H  \\nHETATM   10  H5  tes A   1       1.899   1.736  -0.156  1.00  0.00           H  \\nHETATM   11  H6  tes A   1       0.652   0.009  -1.557  1.00  0.00           H  \\nTER      12      tes A   1\\nENDMDL\\nMODEL        2\\nHETATM    1  O1  tes A   1       2.455  -0.029   1.995  1.00  0.00           O  \\nHETATM    2  C1  tes A   1       1.159  -0.548   2.060  1.00  0.00           C  \\nHETATM    3  C2  tes A   1       0.472  -0.410   0.681  1.00  0.00           C  \\nHETATM    4  C3  tes A   1       0.334   0.994   0.243  1.00  0.00           C  \\nHETATM    5  O2  tes A   1      -0.498   1.259  -0.573  1.00  0.00           O  \\nHETATM    6  H1  tes A   1       2.820   0.108   2.922  1.00  0.00           H  \\nHETATM    7  H2  tes A   1       1.110  -1.635   2.434  1.00  0.00           H  \\nHETATM    8  H3  tes A   1       0.516  -0.046   2.796  1.00  0.00           H  \\nHETATM    9  H4  tes A   1       1.016  -0.956  -0.113  1.00  0.00           H  \\nHETATM   10  H5  tes A   1      -0.568  -0.813   0.836  1.00  0.00           H  \\nHETATM   11  H6  tes A   1       0.878   1.810   0.678  1.00  0.00           H  \\nTER      12      tes A   1\\nENDMDL\\nMODEL        3\\nHETATM    1  O1  tes A   1       1.160  -1.028   2.069  1.00  0.00           O  \\nHETATM    2  C1  tes A   1      -0.100  -0.421   1.651  1.00  0.00           C  \\nHETATM    3  C2  tes A   1      -0.006   0.098   0.110  1.00  0.00           C  \\nHETATM    4  C3  tes A   1       1.342   0.839  -0.155  1.00  0.00           C  \\nHETATM    5  O2  tes A   1       1.686   1.750   0.619  1.00  0.00           O  \\nHETATM    6  H1  tes A   1       1.525  -0.325   2.614  1.00  0.00           H  \\nHETATM    7  H2  tes A   1      -1.021  -1.095   1.747  1.00  0.00           H  \\nHETATM    8  H3  tes A   1      -0.446   0.440   2.286  1.00  0.00           H  \\nHETATM    9  H4  tes A   1      -0.258  -0.599  -0.699  1.00  0.00           H  \\nHETATM   10  H5  tes A   1      -0.890   0.799  -0.081  1.00  0.00           H  \\nHETATM   11  H6  tes A   1       1.904   0.518  -1.000  1.00  0.00           H  \\nTER      12      tes A   1\\nENDMDL\\nMODEL        4\\nHETATM    1  O1  tes A   1      -0.037   0.016   2.462  1.00  0.00           O  \\nHETATM    2  C1  tes A   1       1.070   0.730   2.023  1.00  0.00           C  \\nHETATM    3  C2  tes A   1       0.894   1.189   0.542  1.00  0.00           C  \\nHETATM    4  C3  tes A   1       0.823   0.123  -0.455  1.00  0.00           C  \\nHETATM    5  O2  tes A   1       1.496  -0.872  -0.329  1.00  0.00           O  \\nHETATM    6  H1  tes A   1      -0.585   0.592   3.097  1.00  0.00           H  \\nHETATM    7  H2  tes A   1       1.363   1.592   2.654  1.00  0.00           H  \\nHETATM    8  H3  tes A   1       1.910  -0.036   2.083  1.00  0.00           H  \\nHETATM    9  H4  tes A   1      -0.063   1.783   0.399  1.00  0.00           H  \\nHETATM   10  H5  tes A   1       1.754   1.834   0.236  1.00  0.00           H  \\nHETATM   11  H6  tes A   1       0.089   0.149  -1.299  1.00  0.00           H  \\nTER      12      tes A   1\\nENDMDL\\nMODEL        5\\nHETATM    1  O1  tes A   1       2.037  -0.942   0.613  1.00  0.00           O  \\nHETATM    2  C1  tes A   1       0.994  -0.511  -0.309  1.00  0.00           C  \\nHETATM    3  C2  tes A   1       0.434   0.842   0.149  1.00  0.00           C  \\nHETATM    4  C3  tes A   1      -0.132   0.827   1.514  1.00  0.00           C  \\nHETATM    5  O2  tes A   1       0.568   1.071   2.461  1.00  0.00           O  \\nHETATM    6  H1  tes A   1       1.907  -0.551   1.513  1.00  0.00           H  \\nHETATM    7  H2  tes A   1       1.387  -0.639  -1.332  1.00  0.00           H  \\nHETATM    8  H3  tes A   1       0.199  -1.265  -0.291  1.00  0.00           H  \\nHETATM    9  H4  tes A   1       1.124   1.639   0.013  1.00  0.00           H  \\nHETATM   10  H5  tes A   1      -0.326   1.158  -0.557  1.00  0.00           H  \\nHETATM   11  H6  tes A   1      -1.188   0.611   1.700  1.00  0.00           H  \\nTER      12      tes A   1\\nENDMDL\\nMODEL        6\\nHETATM    1  O1  tes A   1       1.695   0.580  -0.491  1.00  0.00           O  \\nHETATM    2  C1  tes A   1       0.821  -0.453  -0.324  1.00  0.00           C  \\nHETATM    3  C2  tes A   1      -0.147  -0.066   0.753  1.00  0.00           C  \\nHETATM    4  C3  tes A   1       0.499  -0.046   2.093  1.00  0.00           C  \\nHETATM    5  O2  tes A   1       1.062   0.952   2.531  1.00  0.00           O  \\nHETATM    6  H1  tes A   1       1.432   1.388   0.050  1.00  0.00           H  \\nHETATM    7  H2  tes A   1       0.166  -0.593  -1.255  1.00  0.00           H  \\nHETATM    8  H3  tes A   1       1.366  -1.390  -0.191  1.00  0.00           H  \\nHETATM    9  H4  tes A   1      -0.613   0.898   0.430  1.00  0.00           H  \\nHETATM   10  H5  tes A   1      -0.981  -0.809   0.845  1.00  0.00           H  \\nHETATM   11  H6  tes A   1       0.622  -0.883   2.641  1.00  0.00           H  \\nTER      12      tes A   1\\nENDMDL\\nMODEL        7\\nHETATM    1  O1  tes A   1       2.581  -0.217   1.238  1.00  0.00           O  \\nHETATM    2  C1  tes A   1       1.370  -0.698   1.674  1.00  0.00           C  \\nHETATM    3  C2  tes A   1       0.385  -0.522   0.652  1.00  0.00           C  \\nHETATM    4  C3  tes A   1       0.163   0.915   0.188  1.00  0.00           C  \\nHETATM    5  O2  tes A   1      -0.677   1.699   0.646  1.00  0.00           O  \\nHETATM    6  H1  tes A   1       3.196  -0.326   1.980  1.00  0.00           H  \\nHETATM    7  H2  tes A   1       1.485  -1.776   1.942  1.00  0.00           H  \\nHETATM    8  H3  tes A   1       1.024  -0.160   2.600  1.00  0.00           H  \\nHETATM    9  H4  tes A   1       0.740  -1.125  -0.234  1.00  0.00           H  \\nHETATM   10  H5  tes A   1      -0.583  -0.867   0.911  1.00  0.00           H  \\nHETATM   11  H6  tes A   1       0.889   1.295  -0.507  1.00  0.00           H  \\nTER      12      tes A   1\\nENDMDL\\nMODEL        8\\nHETATM    1  O1  tes A   1       1.857   1.730   1.421  1.00  0.00           O  \\nHETATM    2  C1  tes A   1       2.039   0.345   1.462  1.00  0.00           C  \\nHETATM    3  C2  tes A   1       1.279  -0.296   0.285  1.00  0.00           C  \\nHETATM    4  C3  tes A   1      -0.228  -0.042   0.316  1.00  0.00           C  \\nHETATM    5  O2  tes A   1      -0.986  -0.739   0.965  1.00  0.00           O  \\nHETATM    6  H1  tes A   1       2.739   2.169   1.709  1.00  0.00           H  \\nHETATM    7  H2  tes A   1       3.076   0.176   1.323  1.00  0.00           H  \\nHETATM    8  H3  tes A   1       1.811  -0.161   2.472  1.00  0.00           H  \\nHETATM    9  H4  tes A   1       1.667   0.039  -0.644  1.00  0.00           H  \\nHETATM   10  H5  tes A   1       1.416  -1.407   0.272  1.00  0.00           H  \\nHETATM   11  H6  tes A   1      -0.579   0.761  -0.332  1.00  0.00           H  \\nTER      12      tes A   1\\nENDMDL\\nMODEL        9\\nHETATM    1  O1  tes A   1       1.616   0.080   2.512  1.00  0.00           O  \\nHETATM    2  C1  tes A   1       0.679  -0.738   1.893  1.00  0.00           C  \\nHETATM    3  C2  tes A   1       0.755  -0.570   0.385  1.00  0.00           C  \\nHETATM    4  C3  tes A   1       0.930   0.900   0.041  1.00  0.00           C  \\nHETATM    5  O2  tes A   1       0.029   1.526  -0.505  1.00  0.00           O  \\nHETATM    6  H1  tes A   1       2.087  -0.492   3.193  1.00  0.00           H  \\nHETATM    7  H2  tes A   1       0.814  -1.756   2.195  1.00  0.00           H  \\nHETATM    8  H3  tes A   1      -0.276  -0.411   2.304  1.00  0.00           H  \\nHETATM    9  H4  tes A   1       1.637  -1.153  -0.018  1.00  0.00           H  \\nHETATM   10  H5  tes A   1      -0.087  -1.040  -0.141  1.00  0.00           H  \\nHETATM   11  H6  tes A   1       1.861   1.388   0.378  1.00  0.00           H  \\nTER      12      tes A   1\\nENDMDL\\nMODEL       10\\nHETATM    1  O1  tes A   1       1.896  -0.882   2.106  1.00  0.00           O  \\nHETATM    2  C1  tes A   1       0.679  -0.893   1.375  1.00  0.00           C  \\nHETATM    3  C2  tes A   1       0.797  -0.200   0.065  1.00  0.00           C  \\nHETATM    4  C3  tes A   1       0.868   1.324   0.232  1.00  0.00           C  \\nHETATM    5  O2  tes A   1      -0.166   1.914   0.581  1.00  0.00           O  \\nHETATM    6  H1  tes A   1       1.592  -0.597   3.043  1.00  0.00           H  \\nHETATM    7  H2  tes A   1       0.367  -1.936   1.068  1.00  0.00           H  \\nHETATM    8  H3  tes A   1      -0.243  -0.500   1.935  1.00  0.00           H  \\nHETATM    9  H4  tes A   1       1.794  -0.486  -0.366  1.00  0.00           H  \\nHETATM   10  H5  tes A   1      -0.015  -0.461  -0.608  1.00  0.00           H  \\nHETATM   11  H6  tes A   1       1.776   1.791  -0.010  1.00  0.00           H  \\nTER      12      tes A   1\\nENDMDL\\n\",\"pdb\",{\"keepH\": true});\n",
              "\tviewer_17473145334379106.animate({\"interval\": 1200, \"loop\": \"forward\", \"reps\": 10});\n",
              "\tviewer_17473145334379106.setStyle({\"stick\": {}, \"sphere\": {\"scale\": 0.25}});\n",
              "\tviewer_17473145334379106.zoomTo();\n",
              "viewer_17473145334379106.render();\n",
              "});\n",
              "</script>"
            ]
          },
          "metadata": {}
        }
      ],
      "source": [
        "#@title Visualize the dynamics\n",
        "import py3Dmol as p3d\n",
        "interval = 1200 #@param  {type:\"slider\", min:100, max:2000, step:100}\n",
        "print('Output geometry:')\n",
        "viewer = p3d.view(width=400,height=250)\n",
        "viewer.addModelsAsFrames(open(gromacs_file + '.pdb', 'r').read(),'pdb', {'keepH': True})\n",
        "viewer.animate({'interval': interval, 'loop': \"forward\", 'reps': 10})\n",
        "viewer.setStyle({\"stick\":{},\"sphere\": {\"scale\":0.25}})\n",
        "viewer.zoomTo()\n",
        "viewer.show()"
      ]
    },
    {
      "cell_type": "code",
      "source": [
        "#@title MM optimization of all snapshots\n",
        "#@markdown 10 snapshots of ibuprofen (3 min)\n",
        "import MDAnalysis as mda\n",
        "\n",
        "for i in range(snapshots):\n",
        "  universe = mda.Universe(gromacs_file + '.pdb')\n",
        "  universe.trajectory[i]\n",
        "  allatoms = universe.select_atoms('all')\n",
        "  allatoms.write(gromacs_file + str(i+1) + '.xyz')\n",
        "  #with mda.Writer(gromacs_file + '.xyz') as xyz:\n",
        "  #   xyz.write(universe)\n",
        "\n",
        "total_results = []\n",
        "for i in range(snapshots):\n",
        "  molecule = vlx.Molecule.read_xyz_file(gromacs_file + str(i+1) + '.xyz')\n",
        "  print('Optimizing structure ' + str(i+1) + ' of ' + str(snapshots))\n",
        "  vlxopenmm = vlx.OpenMMDriver()\n",
        "  vlxopenmm.add_topology(gromacs_file + '.top')\n",
        "  opt = vlx.OptimizationDriver(vlxopenmm)\n",
        "  opt.ostream.mute()\n",
        "#    opt.constraints = [\"freeze dihedral 18 14 12 11\"]\n",
        "  results = opt.compute(molecule)\n",
        "\n",
        "  total_results.append(results)\n",
        "\n",
        "print(' ')\n",
        "\n",
        "last_energies = []\n",
        "final_geometries = []\n",
        "\n",
        "for i in range(snapshots):\n",
        "  res = total_results[i]['opt_energies'][-1]\n",
        "  last_energies.append(res)\n",
        "for i in range(snapshots):\n",
        "  geos = total_results[i]['final_geometry']\n",
        "  final_geometries.append(geos)\n",
        "for i in range(snapshots):\n",
        "  print('Energy', last_energies[i])\n",
        "\n",
        "m = min(last_energies)\n",
        "m_index = last_energies.index(m)\n",
        "print(final_geometries[m_index])\n",
        "lowest_geometry = vlx.Molecule.read_xyz_string(final_geometries[m_index])\n",
        "lowest_geometry.show()"
      ],
      "metadata": {
        "id": "J3Se4x8IpZXm",
        "cellView": "form",
        "colab": {
          "base_uri": "https://localhost:8080/",
          "height": 942
        },
        "outputId": "39d35b9b-5d68-44e2-a54e-a69c329449c1"
      },
      "execution_count": 7,
      "outputs": [
        {
          "output_type": "stream",
          "name": "stdout",
          "text": [
            "Optimizing structure 1 of 10\n",
            "Optimizing structure 2 of 10\n",
            "Optimizing structure 3 of 10\n",
            "Optimizing structure 4 of 10\n",
            "Optimizing structure 5 of 10\n",
            "Optimizing structure 6 of 10\n",
            "Optimizing structure 7 of 10\n",
            "Optimizing structure 8 of 10\n",
            "Optimizing structure 9 of 10\n",
            "Optimizing structure 10 of 10\n",
            " \n",
            "Energy -0.023392775868574838\n",
            "Energy -0.022898113232657297\n",
            "Energy -0.023392775868574838\n",
            "Energy -0.021723779113623394\n",
            "Energy -0.02339276715092611\n",
            "Energy -0.02339276715092611\n",
            "Energy -0.0228983892915337\n",
            "Energy -0.02289839219741661\n",
            "Energy -0.02289839510329952\n",
            "Energy -0.022898406726831157\n",
            "11\n",
            "\n",
            "O              0.230148738850         0.446645375717         2.503248093439\n",
            "C              1.363337954649         0.947904765804         1.849728408947\n",
            "C              1.084439013178         1.203492161926         0.360785495318\n",
            "C              0.722969293617        -0.028488710104        -0.429095469676\n",
            "O              0.766134223705        -1.145846184495         0.064689188016\n",
            "H              0.096143797452        -0.467954608819         2.136857753555\n",
            "H              1.684734030614         1.899267170404         2.330810043885\n",
            "H              2.196889698932         0.222049649790         1.963079787055\n",
            "H              0.277179844448         1.959521656416         0.250360078163\n",
            "H              1.998835433351         1.641748321238        -0.092962810175\n",
            "H              0.416188350784         0.077661028276        -1.464499197322\n",
            "\n"
          ]
        },
        {
          "output_type": "display_data",
          "data": {
            "application/3dmoljs_load.v0": "<div id=\"3dmolviewer_17473145496204836\"  style=\"position: relative; width: 400px; height: 300px;\">\n        <p id=\"3dmolwarning_17473145496204836\" style=\"background-color:#ffcccc;color:black\">3Dmol.js failed to load for some reason.  Please check your browser console for error messages.<br></p>\n        </div>\n<script>\n\nvar loadScriptAsync = function(uri){\n  return new Promise((resolve, reject) => {\n    //this is to ignore the existence of requirejs amd\n    var savedexports, savedmodule;\n    if (typeof exports !== 'undefined') savedexports = exports;\n    else exports = {}\n    if (typeof module !== 'undefined') savedmodule = module;\n    else module = {}\n\n    var tag = document.createElement('script');\n    tag.src = uri;\n    tag.async = true;\n    tag.onload = () => {\n        exports = savedexports;\n        module = savedmodule;\n        resolve();\n    };\n  var firstScriptTag = document.getElementsByTagName('script')[0];\n  firstScriptTag.parentNode.insertBefore(tag, firstScriptTag);\n});\n};\n\nif(typeof $3Dmolpromise === 'undefined') {\n$3Dmolpromise = null;\n  $3Dmolpromise = loadScriptAsync('https://cdnjs.cloudflare.com/ajax/libs/3Dmol/2.4.2/3Dmol-min.js');\n}\n\nvar viewer_17473145496204836 = null;\nvar warn = document.getElementById(\"3dmolwarning_17473145496204836\");\nif(warn) {\n    warn.parentNode.removeChild(warn);\n}\n$3Dmolpromise.then(function() {\nviewer_17473145496204836 = $3Dmol.createViewer(document.getElementById(\"3dmolviewer_17473145496204836\"),{backgroundColor:\"white\"});\nviewer_17473145496204836.zoomTo();\n\tviewer_17473145496204836.addModel(\"11\\n\\nO              0.230148738850         0.446645375717         2.503248093439\\nC              1.363337954649         0.947904765804         1.849728408947\\nC              1.084439013178         1.203492161926         0.360785495318\\nC              0.722969293617        -0.028488710104        -0.429095469676\\nO              0.766134223705        -1.145846184495         0.064689188016\\nH              0.096143797452        -0.467954608819         2.136857753555\\nH              1.684734030614         1.899267170404         2.330810043885\\nH              2.196889698932         0.222049649790         1.963079787055\\nH              0.277179844448         1.959521656416         0.250360078163\\nH              1.998835433351         1.641748321238        -0.092962810175\\nH              0.416188350784         0.077661028276        -1.464499197322\\n\");\n\tviewer_17473145496204836.setViewStyle({\"style\": \"outline\", \"width\": 0.05});\n\tviewer_17473145496204836.setStyle({\"stick\": {}, \"sphere\": {\"scale\": 0.25}});\n\tviewer_17473145496204836.zoomTo();\nviewer_17473145496204836.render();\n});\n</script>",
            "text/html": [
              "<div id=\"3dmolviewer_17473145496204836\"  style=\"position: relative; width: 400px; height: 300px;\">\n",
              "        <p id=\"3dmolwarning_17473145496204836\" style=\"background-color:#ffcccc;color:black\">3Dmol.js failed to load for some reason.  Please check your browser console for error messages.<br></p>\n",
              "        </div>\n",
              "<script>\n",
              "\n",
              "var loadScriptAsync = function(uri){\n",
              "  return new Promise((resolve, reject) => {\n",
              "    //this is to ignore the existence of requirejs amd\n",
              "    var savedexports, savedmodule;\n",
              "    if (typeof exports !== 'undefined') savedexports = exports;\n",
              "    else exports = {}\n",
              "    if (typeof module !== 'undefined') savedmodule = module;\n",
              "    else module = {}\n",
              "\n",
              "    var tag = document.createElement('script');\n",
              "    tag.src = uri;\n",
              "    tag.async = true;\n",
              "    tag.onload = () => {\n",
              "        exports = savedexports;\n",
              "        module = savedmodule;\n",
              "        resolve();\n",
              "    };\n",
              "  var firstScriptTag = document.getElementsByTagName('script')[0];\n",
              "  firstScriptTag.parentNode.insertBefore(tag, firstScriptTag);\n",
              "});\n",
              "};\n",
              "\n",
              "if(typeof $3Dmolpromise === 'undefined') {\n",
              "$3Dmolpromise = null;\n",
              "  $3Dmolpromise = loadScriptAsync('https://cdnjs.cloudflare.com/ajax/libs/3Dmol/2.4.2/3Dmol-min.js');\n",
              "}\n",
              "\n",
              "var viewer_17473145496204836 = null;\n",
              "var warn = document.getElementById(\"3dmolwarning_17473145496204836\");\n",
              "if(warn) {\n",
              "    warn.parentNode.removeChild(warn);\n",
              "}\n",
              "$3Dmolpromise.then(function() {\n",
              "viewer_17473145496204836 = $3Dmol.createViewer(document.getElementById(\"3dmolviewer_17473145496204836\"),{backgroundColor:\"white\"});\n",
              "viewer_17473145496204836.zoomTo();\n",
              "\tviewer_17473145496204836.addModel(\"11\\n\\nO              0.230148738850         0.446645375717         2.503248093439\\nC              1.363337954649         0.947904765804         1.849728408947\\nC              1.084439013178         1.203492161926         0.360785495318\\nC              0.722969293617        -0.028488710104        -0.429095469676\\nO              0.766134223705        -1.145846184495         0.064689188016\\nH              0.096143797452        -0.467954608819         2.136857753555\\nH              1.684734030614         1.899267170404         2.330810043885\\nH              2.196889698932         0.222049649790         1.963079787055\\nH              0.277179844448         1.959521656416         0.250360078163\\nH              1.998835433351         1.641748321238        -0.092962810175\\nH              0.416188350784         0.077661028276        -1.464499197322\\n\");\n",
              "\tviewer_17473145496204836.setViewStyle({\"style\": \"outline\", \"width\": 0.05});\n",
              "\tviewer_17473145496204836.setStyle({\"stick\": {}, \"sphere\": {\"scale\": 0.25}});\n",
              "\tviewer_17473145496204836.zoomTo();\n",
              "viewer_17473145496204836.render();\n",
              "});\n",
              "</script>"
            ]
          },
          "metadata": {}
        }
      ]
    },
    {
      "cell_type": "code",
      "source": [
        "#@title XTB optimization of all snapshots\n",
        "#@markdown Example timing: ibuprofen (7 min)\n",
        "import MDAnalysis as mda\n",
        "\n",
        "\n",
        "for i in range(snapshots):\n",
        "  universe = mda.Universe(gromacs_file + '.pdb')\n",
        "  universe.trajectory[i]\n",
        "  allatoms = universe.select_atoms('all')\n",
        "  allatoms.write(gromacs_file + str(i+1) + '.xyz')\n",
        "  #with mda.Writer(gromacs_file + '.xyz') as xyz:\n",
        "  #   xyz.write(universe)\n",
        "\n",
        "total_results = []\n",
        "for i in range(snapshots):\n",
        "  print('Optimizing structure ' + str(i+1) + ' of ' + str(snapshots))\n",
        "  molecule = vlx.Molecule.read_xyz_file(gromacs_file + str(i+1) + '.xyz')\n",
        "  vlxXtb = vlx.XtbDriver()\n",
        "  opt = vlx.OptimizationDriver(vlxXtb)\n",
        "  opt.ostream.mute()\n",
        "#    opt.constraints = [\"freeze dihedral 18 14 12 11\"]\n",
        "  results = opt.compute(molecule)\n",
        "\n",
        "  total_results.append(results)\n",
        "\n",
        "print(' ')\n",
        "last_energies = []\n",
        "final_geometries = []\n",
        "\n",
        "for i in range(snapshots):\n",
        "  res = total_results[i]['opt_energies'][-1]\n",
        "  last_energies.append(res)\n",
        "for i in range(snapshots):\n",
        "  geos = total_results[i]['final_geometry']\n",
        "  final_geometries.append(geos)\n",
        "for i in range(snapshots):\n",
        "  print('Energy', last_energies[i])\n",
        "\n",
        "m = min(last_energies)\n",
        "m_index = last_energies.index(m)\n",
        "print(final_geometries[m_index])\n",
        "lowest_geometry = vlx.Molecule.read_xyz_string(final_geometries[m_index])\n",
        "lowest_geometry.show()"
      ],
      "metadata": {
        "cellView": "form",
        "id": "8bl9Ybyxu_kA",
        "colab": {
          "base_uri": "https://localhost:8080/",
          "height": 382
        },
        "outputId": "d34a3eba-7784-4c7b-b7be-fe49810dd661"
      },
      "execution_count": 10,
      "outputs": [
        {
          "output_type": "stream",
          "name": "stdout",
          "text": [
            "Optimizing structure 1 of 10\n"
          ]
        },
        {
          "output_type": "error",
          "ename": "AssertionError",
          "evalue": "XtbDriver: xtb-python is not available. Please install xtb-python.",
          "traceback": [
            "\u001b[0;31m---------------------------------------------------------------------------\u001b[0m",
            "\u001b[0;31mAssertionError\u001b[0m                            Traceback (most recent call last)",
            "\u001b[0;32m<ipython-input-10-65411ad456c2>\u001b[0m in \u001b[0;36m<cell line: 0>\u001b[0;34m()\u001b[0m\n\u001b[1;32m     20\u001b[0m   \u001b[0mopt\u001b[0m\u001b[0;34m.\u001b[0m\u001b[0mostream\u001b[0m\u001b[0;34m.\u001b[0m\u001b[0mmute\u001b[0m\u001b[0;34m(\u001b[0m\u001b[0;34m)\u001b[0m\u001b[0;34m\u001b[0m\u001b[0;34m\u001b[0m\u001b[0m\n\u001b[1;32m     21\u001b[0m \u001b[0;31m#    opt.constraints = [\"freeze dihedral 18 14 12 11\"]\u001b[0m\u001b[0;34m\u001b[0m\u001b[0;34m\u001b[0m\u001b[0m\n\u001b[0;32m---> 22\u001b[0;31m   \u001b[0mresults\u001b[0m \u001b[0;34m=\u001b[0m \u001b[0mopt\u001b[0m\u001b[0;34m.\u001b[0m\u001b[0mcompute\u001b[0m\u001b[0;34m(\u001b[0m\u001b[0mmolecule\u001b[0m\u001b[0;34m)\u001b[0m\u001b[0;34m\u001b[0m\u001b[0;34m\u001b[0m\u001b[0m\n\u001b[0m\u001b[1;32m     23\u001b[0m \u001b[0;34m\u001b[0m\u001b[0m\n\u001b[1;32m     24\u001b[0m   \u001b[0mtotal_results\u001b[0m\u001b[0;34m.\u001b[0m\u001b[0mappend\u001b[0m\u001b[0;34m(\u001b[0m\u001b[0mresults\u001b[0m\u001b[0;34m)\u001b[0m\u001b[0;34m\u001b[0m\u001b[0;34m\u001b[0m\u001b[0m\n",
            "\u001b[0;32m/usr/local/lib/python3.11/site-packages/veloxchem/optimizationdriver.py\u001b[0m in \u001b[0;36mcompute\u001b[0;34m(self, molecule, *args)\u001b[0m\n\u001b[1;32m    361\u001b[0m                 StringIO()) as fg_err:\n\u001b[1;32m    362\u001b[0m             \u001b[0;32mtry\u001b[0m\u001b[0;34m:\u001b[0m\u001b[0;34m\u001b[0m\u001b[0;34m\u001b[0m\u001b[0m\n\u001b[0;32m--> 363\u001b[0;31m                 m = geometric.optimize.run_optimizer(\n\u001b[0m\u001b[1;32m    364\u001b[0m                     \u001b[0mcustomengine\u001b[0m\u001b[0;34m=\u001b[0m\u001b[0mopt_engine\u001b[0m\u001b[0;34m,\u001b[0m\u001b[0;34m\u001b[0m\u001b[0;34m\u001b[0m\u001b[0m\n\u001b[1;32m    365\u001b[0m                     \u001b[0mcoordsys\u001b[0m\u001b[0;34m=\u001b[0m\u001b[0mself\u001b[0m\u001b[0;34m.\u001b[0m\u001b[0mcoordsys\u001b[0m\u001b[0;34m,\u001b[0m\u001b[0;34m\u001b[0m\u001b[0;34m\u001b[0m\u001b[0m\n",
            "\u001b[0;32m/usr/local/lib/python3.11/site-packages/geometric/optimize.py\u001b[0m in \u001b[0;36mrun_optimizer\u001b[0;34m(**kwargs)\u001b[0m\n\u001b[1;32m   1298\u001b[0m             \u001b[0madd\u001b[0m \u001b[0;34m=\u001b[0m \u001b[0;34m\"_irc.xyz\"\u001b[0m\u001b[0;34m\u001b[0m\u001b[0;34m\u001b[0m\u001b[0m\n\u001b[1;32m   1299\u001b[0m         \u001b[0mparams\u001b[0m\u001b[0;34m.\u001b[0m\u001b[0mxyzout\u001b[0m \u001b[0;34m=\u001b[0m \u001b[0mprefix\u001b[0m\u001b[0;34m+\u001b[0m\u001b[0madd\u001b[0m\u001b[0;34m\u001b[0m\u001b[0;34m\u001b[0m\u001b[0m\n\u001b[0;32m-> 1300\u001b[0;31m         \u001b[0mprogress\u001b[0m \u001b[0;34m=\u001b[0m \u001b[0mOptimize\u001b[0m\u001b[0;34m(\u001b[0m\u001b[0mcoords\u001b[0m\u001b[0;34m,\u001b[0m \u001b[0mM\u001b[0m\u001b[0;34m,\u001b[0m \u001b[0mIC\u001b[0m\u001b[0;34m,\u001b[0m \u001b[0mengine\u001b[0m\u001b[0;34m,\u001b[0m \u001b[0mdirname\u001b[0m\u001b[0;34m,\u001b[0m \u001b[0mparams\u001b[0m\u001b[0;34m)\u001b[0m\u001b[0;34m\u001b[0m\u001b[0;34m\u001b[0m\u001b[0m\n\u001b[0m\u001b[1;32m   1301\u001b[0m     \u001b[0;32melse\u001b[0m\u001b[0;34m:\u001b[0m\u001b[0;34m\u001b[0m\u001b[0;34m\u001b[0m\u001b[0m\n\u001b[1;32m   1302\u001b[0m         \u001b[0;31m# Run a single constrained geometry optimization or scan over a grid of values\u001b[0m\u001b[0;34m\u001b[0m\u001b[0;34m\u001b[0m\u001b[0m\n",
            "\u001b[0;32m/usr/local/lib/python3.11/site-packages/geometric/optimize.py\u001b[0m in \u001b[0;36mOptimize\u001b[0;34m(coords, molecule, IC, engine, dirname, params, print_info)\u001b[0m\n\u001b[1;32m   1114\u001b[0m     \"\"\"\n\u001b[1;32m   1115\u001b[0m     \u001b[0moptimizer\u001b[0m \u001b[0;34m=\u001b[0m \u001b[0mOptimizer\u001b[0m\u001b[0;34m(\u001b[0m\u001b[0mcoords\u001b[0m\u001b[0;34m,\u001b[0m \u001b[0mmolecule\u001b[0m\u001b[0;34m,\u001b[0m \u001b[0mIC\u001b[0m\u001b[0;34m,\u001b[0m \u001b[0mengine\u001b[0m\u001b[0;34m,\u001b[0m \u001b[0mdirname\u001b[0m\u001b[0;34m,\u001b[0m \u001b[0mparams\u001b[0m\u001b[0;34m,\u001b[0m \u001b[0mprint_info\u001b[0m\u001b[0;34m)\u001b[0m\u001b[0;34m\u001b[0m\u001b[0;34m\u001b[0m\u001b[0m\n\u001b[0;32m-> 1116\u001b[0;31m     \u001b[0;32mreturn\u001b[0m \u001b[0moptimizer\u001b[0m\u001b[0;34m.\u001b[0m\u001b[0moptimizeGeometry\u001b[0m\u001b[0;34m(\u001b[0m\u001b[0;34m)\u001b[0m\u001b[0;34m\u001b[0m\u001b[0;34m\u001b[0m\u001b[0m\n\u001b[0m\u001b[1;32m   1117\u001b[0m \u001b[0;34m\u001b[0m\u001b[0m\n\u001b[1;32m   1118\u001b[0m \u001b[0;32mdef\u001b[0m \u001b[0mrun_optimizer\u001b[0m\u001b[0;34m(\u001b[0m\u001b[0;34m**\u001b[0m\u001b[0mkwargs\u001b[0m\u001b[0;34m)\u001b[0m\u001b[0;34m:\u001b[0m\u001b[0;34m\u001b[0m\u001b[0;34m\u001b[0m\u001b[0m\n",
            "\u001b[0;32m/usr/local/lib/python3.11/site-packages/geometric/optimize.py\u001b[0m in \u001b[0;36moptimizeGeometry\u001b[0;34m(self)\u001b[0m\n\u001b[1;32m   1027\u001b[0m         \u001b[0mThis\u001b[0m \u001b[0mallows\u001b[0m \u001b[0mcalcEnergyForce\u001b[0m\u001b[0;34m(\u001b[0m\u001b[0;34m)\u001b[0m \u001b[0mto\u001b[0m \u001b[0mbe\u001b[0m \u001b[0mseparated\u001b[0m \u001b[0;32mfrom\u001b[0m \u001b[0mthe\u001b[0m \u001b[0mrest\u001b[0m \u001b[0mof\u001b[0m \u001b[0mthe\u001b[0m \u001b[0mcodes\u001b[0m\u001b[0;34m\u001b[0m\u001b[0;34m\u001b[0m\u001b[0m\n\u001b[1;32m   1028\u001b[0m         \"\"\"\n\u001b[0;32m-> 1029\u001b[0;31m         \u001b[0mself\u001b[0m\u001b[0;34m.\u001b[0m\u001b[0mcalcEnergyForce\u001b[0m\u001b[0;34m(\u001b[0m\u001b[0;34m)\u001b[0m\u001b[0;34m\u001b[0m\u001b[0;34m\u001b[0m\u001b[0m\n\u001b[0m\u001b[1;32m   1030\u001b[0m         \u001b[0mself\u001b[0m\u001b[0;34m.\u001b[0m\u001b[0mprepareFirstStep\u001b[0m\u001b[0;34m(\u001b[0m\u001b[0;34m)\u001b[0m\u001b[0;34m\u001b[0m\u001b[0;34m\u001b[0m\u001b[0m\n\u001b[1;32m   1031\u001b[0m         \u001b[0;32mwhile\u001b[0m \u001b[0mself\u001b[0m\u001b[0;34m.\u001b[0m\u001b[0mstate\u001b[0m \u001b[0;32mnot\u001b[0m \u001b[0;32min\u001b[0m \u001b[0;34m[\u001b[0m\u001b[0mOPT_STATE\u001b[0m\u001b[0;34m.\u001b[0m\u001b[0mCONVERGED\u001b[0m\u001b[0;34m,\u001b[0m \u001b[0mOPT_STATE\u001b[0m\u001b[0;34m.\u001b[0m\u001b[0mFAILED\u001b[0m\u001b[0;34m]\u001b[0m\u001b[0;34m:\u001b[0m\u001b[0;34m\u001b[0m\u001b[0;34m\u001b[0m\u001b[0m\n",
            "\u001b[0;32m/usr/local/lib/python3.11/site-packages/geometric/optimize.py\u001b[0m in \u001b[0;36mcalcEnergyForce\u001b[0;34m(self)\u001b[0m\n\u001b[1;32m    309\u001b[0m         \u001b[0;31m# For frequency calculations and multi-step jobs, the gradient from an existing\u001b[0m\u001b[0;34m\u001b[0m\u001b[0;34m\u001b[0m\u001b[0m\n\u001b[1;32m    310\u001b[0m         \u001b[0;31m# output file may be read in.\u001b[0m\u001b[0;34m\u001b[0m\u001b[0;34m\u001b[0m\u001b[0m\n\u001b[0;32m--> 311\u001b[0;31m         \u001b[0mspcalc\u001b[0m \u001b[0;34m=\u001b[0m \u001b[0mself\u001b[0m\u001b[0;34m.\u001b[0m\u001b[0mengine\u001b[0m\u001b[0;34m.\u001b[0m\u001b[0mcalc\u001b[0m\u001b[0;34m(\u001b[0m\u001b[0mself\u001b[0m\u001b[0;34m.\u001b[0m\u001b[0mX\u001b[0m\u001b[0;34m,\u001b[0m \u001b[0mself\u001b[0m\u001b[0;34m.\u001b[0m\u001b[0mdirname\u001b[0m\u001b[0;34m,\u001b[0m \u001b[0mread_data\u001b[0m\u001b[0;34m=\u001b[0m\u001b[0;34m(\u001b[0m\u001b[0mself\u001b[0m\u001b[0;34m.\u001b[0m\u001b[0mIteration\u001b[0m\u001b[0;34m==\u001b[0m\u001b[0;36m0\u001b[0m\u001b[0;34m)\u001b[0m\u001b[0;34m)\u001b[0m\u001b[0;34m\u001b[0m\u001b[0;34m\u001b[0m\u001b[0m\n\u001b[0m\u001b[1;32m    312\u001b[0m         \u001b[0;32mif\u001b[0m \u001b[0mself\u001b[0m\u001b[0;34m.\u001b[0m\u001b[0mparams\u001b[0m\u001b[0;34m.\u001b[0m\u001b[0msubfrctor\u001b[0m \u001b[0;34m==\u001b[0m \u001b[0;36m2\u001b[0m \u001b[0;32mor\u001b[0m \u001b[0;34m(\u001b[0m\u001b[0mself\u001b[0m\u001b[0;34m.\u001b[0m\u001b[0mparams\u001b[0m\u001b[0;34m.\u001b[0m\u001b[0msubfrctor\u001b[0m \u001b[0;34m==\u001b[0m \u001b[0;36m1\u001b[0m \u001b[0;32mand\u001b[0m \u001b[0;34m(\u001b[0m\u001b[0mself\u001b[0m\u001b[0;34m.\u001b[0m\u001b[0mlowq_tr_count\u001b[0m \u001b[0;34m>=\u001b[0m \u001b[0mself\u001b[0m\u001b[0;34m.\u001b[0m\u001b[0mlowq_tr_limit\u001b[0m\u001b[0;34m)\u001b[0m\u001b[0;34m)\u001b[0m\u001b[0;34m:\u001b[0m\u001b[0;34m\u001b[0m\u001b[0;34m\u001b[0m\u001b[0m\n\u001b[1;32m    313\u001b[0m             \u001b[0;31m# Subtract out the overall translational and rotational components of the force\u001b[0m\u001b[0;34m\u001b[0m\u001b[0;34m\u001b[0m\u001b[0m\n",
            "\u001b[0;32m/usr/local/lib/python3.11/site-packages/geometric/engine.py\u001b[0m in \u001b[0;36mcalc\u001b[0;34m(self, coords, dirname, read_data, copydir)\u001b[0m\n\u001b[1;32m    253\u001b[0m                     \u001b[0mself\u001b[0m\u001b[0;34m.\u001b[0m\u001b[0mcopy_scratch\u001b[0m\u001b[0;34m(\u001b[0m\u001b[0mcopydir\u001b[0m\u001b[0;34m,\u001b[0m \u001b[0mdirname\u001b[0m\u001b[0;34m)\u001b[0m\u001b[0;34m\u001b[0m\u001b[0;34m\u001b[0m\u001b[0m\n\u001b[1;32m    254\u001b[0m                 \u001b[0;32melif\u001b[0m \u001b[0;32mnot\u001b[0m \u001b[0mos\u001b[0m\u001b[0;34m.\u001b[0m\u001b[0mpath\u001b[0m\u001b[0;34m.\u001b[0m\u001b[0mexists\u001b[0m\u001b[0;34m(\u001b[0m\u001b[0mdirname\u001b[0m\u001b[0;34m)\u001b[0m\u001b[0;34m:\u001b[0m \u001b[0mos\u001b[0m\u001b[0;34m.\u001b[0m\u001b[0mmakedirs\u001b[0m\u001b[0;34m(\u001b[0m\u001b[0mdirname\u001b[0m\u001b[0;34m)\u001b[0m\u001b[0;34m\u001b[0m\u001b[0;34m\u001b[0m\u001b[0m\n\u001b[0;32m--> 255\u001b[0;31m                 \u001b[0mresult\u001b[0m \u001b[0;34m=\u001b[0m \u001b[0mself\u001b[0m\u001b[0;34m.\u001b[0m\u001b[0mcalc_new\u001b[0m\u001b[0;34m(\u001b[0m\u001b[0mcoords\u001b[0m\u001b[0;34m,\u001b[0m \u001b[0mdirname\u001b[0m\u001b[0;34m)\u001b[0m\u001b[0;34m\u001b[0m\u001b[0;34m\u001b[0m\u001b[0m\n\u001b[0m\u001b[1;32m    256\u001b[0m             \u001b[0mself\u001b[0m\u001b[0;34m.\u001b[0m\u001b[0mstored_calcs\u001b[0m\u001b[0;34m[\u001b[0m\u001b[0mcoord_hash\u001b[0m\u001b[0;34m]\u001b[0m \u001b[0;34m=\u001b[0m \u001b[0;34m{\u001b[0m\u001b[0;34m'coords'\u001b[0m\u001b[0;34m:\u001b[0m\u001b[0mcoords\u001b[0m\u001b[0;34m,\u001b[0m \u001b[0;34m'result'\u001b[0m\u001b[0;34m:\u001b[0m\u001b[0mresult\u001b[0m\u001b[0;34m}\u001b[0m\u001b[0;34m\u001b[0m\u001b[0;34m\u001b[0m\u001b[0m\n\u001b[1;32m    257\u001b[0m         \u001b[0;32mreturn\u001b[0m \u001b[0mresult\u001b[0m\u001b[0;34m\u001b[0m\u001b[0;34m\u001b[0m\u001b[0m\n",
            "\u001b[0;32m/usr/local/lib/python3.11/site-packages/veloxchem/optimizationengine.py\u001b[0m in \u001b[0;36mcalc_new\u001b[0;34m(self, coords, dirname)\u001b[0m\n\u001b[1;32m    138\u001b[0m             \u001b[0;32mpass\u001b[0m\u001b[0;34m\u001b[0m\u001b[0;34m\u001b[0m\u001b[0m\n\u001b[1;32m    139\u001b[0m \u001b[0;34m\u001b[0m\u001b[0m\n\u001b[0;32m--> 140\u001b[0;31m         \u001b[0menergy\u001b[0m \u001b[0;34m=\u001b[0m \u001b[0mself\u001b[0m\u001b[0;34m.\u001b[0m\u001b[0mgrad_drv\u001b[0m\u001b[0;34m.\u001b[0m\u001b[0mcompute_energy\u001b[0m\u001b[0;34m(\u001b[0m\u001b[0mnew_mol\u001b[0m\u001b[0;34m,\u001b[0m \u001b[0;34m*\u001b[0m\u001b[0mself\u001b[0m\u001b[0;34m.\u001b[0m\u001b[0margs\u001b[0m\u001b[0;34m)\u001b[0m\u001b[0;34m\u001b[0m\u001b[0;34m\u001b[0m\u001b[0m\n\u001b[0m\u001b[1;32m    141\u001b[0m         \u001b[0mself\u001b[0m\u001b[0;34m.\u001b[0m\u001b[0mgrad_drv\u001b[0m\u001b[0;34m.\u001b[0m\u001b[0mcompute\u001b[0m\u001b[0;34m(\u001b[0m\u001b[0mnew_mol\u001b[0m\u001b[0;34m,\u001b[0m \u001b[0;34m*\u001b[0m\u001b[0mself\u001b[0m\u001b[0;34m.\u001b[0m\u001b[0margs\u001b[0m\u001b[0;34m)\u001b[0m\u001b[0;34m\u001b[0m\u001b[0;34m\u001b[0m\u001b[0m\n\u001b[1;32m    142\u001b[0m         \u001b[0mgradient\u001b[0m \u001b[0;34m=\u001b[0m \u001b[0mself\u001b[0m\u001b[0;34m.\u001b[0m\u001b[0mgrad_drv\u001b[0m\u001b[0;34m.\u001b[0m\u001b[0mget_gradient\u001b[0m\u001b[0;34m(\u001b[0m\u001b[0;34m)\u001b[0m\u001b[0;34m\u001b[0m\u001b[0;34m\u001b[0m\u001b[0m\n",
            "\u001b[0;32m/usr/local/lib/python3.11/site-packages/veloxchem/xtbgradientdriver.py\u001b[0m in \u001b[0;36mcompute_energy\u001b[0;34m(self, molecule)\u001b[0m\n\u001b[1;32m     89\u001b[0m \u001b[0;34m\u001b[0m\u001b[0m\n\u001b[1;32m     90\u001b[0m         \u001b[0mself\u001b[0m\u001b[0;34m.\u001b[0m\u001b[0mostream\u001b[0m\u001b[0;34m.\u001b[0m\u001b[0mmute\u001b[0m\u001b[0;34m(\u001b[0m\u001b[0;34m)\u001b[0m\u001b[0;34m\u001b[0m\u001b[0;34m\u001b[0m\u001b[0m\n\u001b[0;32m---> 91\u001b[0;31m         \u001b[0mself\u001b[0m\u001b[0;34m.\u001b[0m\u001b[0mxtb_driver\u001b[0m\u001b[0;34m.\u001b[0m\u001b[0mcompute\u001b[0m\u001b[0;34m(\u001b[0m\u001b[0mmolecule\u001b[0m\u001b[0;34m)\u001b[0m\u001b[0;34m\u001b[0m\u001b[0;34m\u001b[0m\u001b[0m\n\u001b[0m\u001b[1;32m     92\u001b[0m         \u001b[0mself\u001b[0m\u001b[0;34m.\u001b[0m\u001b[0mostream\u001b[0m\u001b[0;34m.\u001b[0m\u001b[0munmute\u001b[0m\u001b[0;34m(\u001b[0m\u001b[0;34m)\u001b[0m\u001b[0;34m\u001b[0m\u001b[0;34m\u001b[0m\u001b[0m\n\u001b[1;32m     93\u001b[0m \u001b[0;34m\u001b[0m\u001b[0m\n",
            "\u001b[0;32m/usr/local/lib/python3.11/site-packages/veloxchem/xtbdriver.py\u001b[0m in \u001b[0;36mcompute\u001b[0;34m(self, molecule)\u001b[0m\n\u001b[1;32m    154\u001b[0m         \u001b[0merrmsg\u001b[0m \u001b[0;34m=\u001b[0m \u001b[0;34m'XtbDriver: xtb-python is not available. '\u001b[0m\u001b[0;34m\u001b[0m\u001b[0;34m\u001b[0m\u001b[0m\n\u001b[1;32m    155\u001b[0m         \u001b[0merrmsg\u001b[0m \u001b[0;34m+=\u001b[0m \u001b[0;34m'Please install xtb-python.'\u001b[0m\u001b[0;34m\u001b[0m\u001b[0;34m\u001b[0m\u001b[0m\n\u001b[0;32m--> 156\u001b[0;31m         \u001b[0massert_msg_critical\u001b[0m\u001b[0;34m(\u001b[0m\u001b[0mself\u001b[0m\u001b[0;34m.\u001b[0m\u001b[0mis_available\u001b[0m\u001b[0;34m(\u001b[0m\u001b[0;34m)\u001b[0m\u001b[0;34m,\u001b[0m \u001b[0merrmsg\u001b[0m\u001b[0;34m)\u001b[0m\u001b[0;34m\u001b[0m\u001b[0;34m\u001b[0m\u001b[0m\n\u001b[0m\u001b[1;32m    157\u001b[0m \u001b[0;34m\u001b[0m\u001b[0m\n\u001b[1;32m    158\u001b[0m         \u001b[0midentifiers\u001b[0m \u001b[0;34m=\u001b[0m \u001b[0mnp\u001b[0m\u001b[0;34m.\u001b[0m\u001b[0marray\u001b[0m\u001b[0;34m(\u001b[0m\u001b[0mmolecule\u001b[0m\u001b[0;34m.\u001b[0m\u001b[0mget_identifiers\u001b[0m\u001b[0;34m(\u001b[0m\u001b[0;34m)\u001b[0m\u001b[0;34m)\u001b[0m\u001b[0;34m\u001b[0m\u001b[0;34m\u001b[0m\u001b[0m\n",
            "\u001b[0;32m/usr/local/lib/python3.11/site-packages/veloxchem/errorhandler.py\u001b[0m in \u001b[0;36massert_msg_critical\u001b[0;34m(condition, msg)\u001b[0m\n\u001b[1;32m     48\u001b[0m     \"\"\"\n\u001b[1;32m     49\u001b[0m     \u001b[0;32mif\u001b[0m \u001b[0m__debug__\u001b[0m \u001b[0;32mand\u001b[0m \u001b[0mMPI\u001b[0m\u001b[0;34m.\u001b[0m\u001b[0mCOMM_WORLD\u001b[0m\u001b[0;34m.\u001b[0m\u001b[0mGet_size\u001b[0m\u001b[0;34m(\u001b[0m\u001b[0;34m)\u001b[0m \u001b[0;34m==\u001b[0m \u001b[0;36m1\u001b[0m\u001b[0;34m:\u001b[0m\u001b[0;34m\u001b[0m\u001b[0;34m\u001b[0m\u001b[0m\n\u001b[0;32m---> 50\u001b[0;31m         \u001b[0;32massert\u001b[0m \u001b[0mcondition\u001b[0m\u001b[0;34m,\u001b[0m \u001b[0mmsg\u001b[0m\u001b[0;34m\u001b[0m\u001b[0;34m\u001b[0m\u001b[0m\n\u001b[0m\u001b[1;32m     51\u001b[0m     \u001b[0;32melse\u001b[0m\u001b[0;34m:\u001b[0m\u001b[0;34m\u001b[0m\u001b[0;34m\u001b[0m\u001b[0m\n\u001b[1;32m     52\u001b[0m         \u001b[0;32mif\u001b[0m \u001b[0;32mnot\u001b[0m \u001b[0mcondition\u001b[0m\u001b[0;34m:\u001b[0m\u001b[0;34m\u001b[0m\u001b[0;34m\u001b[0m\u001b[0m\n",
            "\u001b[0;31mAssertionError\u001b[0m: XtbDriver: xtb-python is not available. Please install xtb-python."
          ]
        }
      ]
    },
    {
      "cell_type": "code",
      "source": [
        "#@title Print relative energies of all structures\n",
        "for i in range(snapshots):\n",
        "  lowest_geometry = vlx.Molecule.read_xyz_string(final_geometries[i])\n",
        "  print('Relative energy: ', (last_energies[i] - last_energies[m_index])*627.5)\n",
        "  lowest_geometry.show()\n",
        "  print(final_geometries[i])\n"
      ],
      "metadata": {
        "cellView": "form",
        "id": "pBwsxFuDk0b-"
      },
      "execution_count": null,
      "outputs": []
    },
    {
      "cell_type": "code",
      "source": [
        "#@title Write optimized coordinates to files\n",
        "for i in range(snapshots):\n",
        "  optimized_geometry = vlx.Molecule.read_xyz_string(final_geometries[i])\n",
        "  optimized_geometry.write_xyz_file('opt' + str(i+1) + '.xyz')"
      ],
      "metadata": {
        "cellView": "form",
        "id": "kejwBxnKFYRL"
      },
      "execution_count": null,
      "outputs": []
    }
  ]
}