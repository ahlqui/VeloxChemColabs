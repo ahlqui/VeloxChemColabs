{
  "nbformat": 4,
  "nbformat_minor": 0,
  "metadata": {
    "colab": {
      "provenance": [],
      "gpuType": "T4",
      "include_colab_link": true
    },
    "kernelspec": {
      "name": "python3",
      "display_name": "Python 3"
    },
    "language_info": {
      "name": "python"
    },
    "accelerator": "GPU"
  },
  "cells": [
    {
      "cell_type": "markdown",
      "metadata": {
        "id": "view-in-github",
        "colab_type": "text"
      },
      "source": [
        "<a href=\"https://colab.research.google.com/github/ahlqui/VeloxChemColabs/blob/main/MolecularDynamicsConformerSearch.ipynb\" target=\"_parent\"><img src=\"https://colab.research.google.com/assets/colab-badge.svg\" alt=\"Open In Colab\"/></a>"
      ]
    },
    {
      "cell_type": "markdown",
      "source": [
        "\n",
        "\n",
        "\n",
        "# Generate a force field from XYZ and run dynamics\n"
      ],
      "metadata": {
        "id": "_f9U7ujQXRh7"
      }
    },
    {
      "cell_type": "markdown",
      "source": [
        "This notebook requires that you have a molecular structure. Two options:\n",
        "\n",
        "Define Molecule as XYZ-coordinates: Can be generatred with free software such as www.avogadro.cc\n",
        "\n",
        "Define Molecule with SMILES code, A molecule can be defined using a SMILES code (example below). We have two suggested ways to generate smiles from structure. 1) Sketch your molecule at https://www.rcsb.org/chemical-sketch and the SMILES code will be shown right below the structure. 2) Build your molecule at https://molview.org/ , go to Tools/Information Card and it will show you the SMILES code. Just copy/paste it into the SMILES box below.\n",
        "\n",
        "Example of xyz-coordinates for CO2:\n",
        "\n",
        "O 0.00 0.00 0.00\n",
        "\n",
        "C 0.00 0.00 1.20\n",
        "\n",
        "O 0.00 0.00 2.40\n",
        "\n",
        "Example of SMILES for CO2:\n",
        "\n",
        "O=C=O"
      ],
      "metadata": {
        "id": "jsrGVECSXfex"
      }
    },
    {
      "cell_type": "code",
      "execution_count": 1,
      "metadata": {
        "cellView": "form",
        "id": "LjiFcUn5LT-g"
      },
      "outputs": [],
      "source": [
        "#@title Install VeloxChem and dependencies (ca 2 min)\n",
        "#@markdown Before you can run anything a few things need to be installed. It all runs on the Google Colab server an you do not need to install anything on your computer.\n",
        "%%capture\n",
        "import sys\n",
        "\n",
        "! wget -qnc https://github.com/conda-forge/miniforge/releases/latest/download/Miniforge3-Linux-x86_64.sh\n",
        "! bash Miniforge3-Linux-x86_64.sh -bfp /usr/local\n",
        "! mamba config --set auto_update_conda false\n",
        "import sys\n",
        "sys.path.append('/usr/local/lib/python3.11/site-packages/')\n",
        "!mamba install -y -c conda-forge -c veloxchem veloxchem xtb-python py3Dmol MDAnalysis openmm matplotlib python=3.11\n",
        "! pip install rdkit\n",
        "import veloxchem as vlx"
      ]
    },
    {
      "cell_type": "code",
      "source": [
        "xyz_coordinates = \"\"\"\n",
        "N     0.4785967928750  -0.4330741880750  -0.4934317502006\n",
        "H     1.3794564278886   0.0429751463168  -0.5120458348956\n",
        "C     0.4573285404340  -1.3154740355836  -1.6452845209868\n",
        "H     1.2794157350200  -2.0270971721773  -1.5868316520123\n",
        "H    -0.4697908768414  -1.8882598290096  -1.6558792536570\n",
        "C     0.3747047426388  -1.2102491878280   0.7331072010194\n",
        "H    -0.4082292852521  -1.9567463178277   0.6148319854093\n",
        "H     1.2952953868059  -1.7540437197433   0.9183116804327\n",
        "C     0.6956425554192   0.9059967227241  -5.3588904651214\n",
        "C     1.6690431285267  -0.0704102447688  -5.0614336089256\n",
        "C     1.5905279342425  -0.7922292640998  -3.8527793116028\n",
        "C     0.5421211238334  -0.5430166236398  -2.9451176135833\n",
        "C    -0.4312572408155   0.4285446612223  -3.2497814984180\n",
        "C    -0.3564249048118   1.1570067527526  -4.4544417171718\n",
        "H     0.7549521548685   1.4652126122086  -6.2812972715425\n",
        "H     2.3338053657174  -1.5390048087124  -3.6163728176857\n",
        "H    -1.2215586002930   0.6165771400284  -2.5371827271696\n",
        "C    -0.5809783149118   1.1061887532548   4.2819306994214\n",
        "C    -1.0539691464599  -0.2152180430193   4.1484967454886\n",
        "C    -0.7402866542775  -0.9585904738513   2.9917812697427\n",
        "C     0.0501603450518  -0.3918335577218   1.9715484114033\n",
        "C     0.5329231859523   0.9234697295847   2.1220017776407\n",
        "C     0.2096151223583   1.6793509886579   3.2655299818144\n",
        "H    -0.8298576406810   1.6816374807225   5.1614537759970\n",
        "H    -1.1155297675244  -1.9639771384900   2.8737258346041\n",
        "H     1.1311551788061   1.3586475153088   1.3389498331805\n",
        "C     2.7985412681099  -0.3440921389086  -6.0320361103160\n",
        "H     3.0137177612643  -1.4119025048439  -6.0784904425001\n",
        "H     2.5433990952730  -0.0090827377477  -7.0376742707821\n",
        "H     3.7013243404231   0.1769923076871  -5.7132670703364\n",
        "C    -1.3956677617432   2.2110713683443  -4.7713360805252\n",
        "H    -2.2850215726603   2.0829577471538  -4.1532353918110\n",
        "H    -0.9892606342753   3.2051959925139  -4.5854917335667\n",
        "H    -1.6989550492144   2.1496453780473  -5.8166145479409\n",
        "C    -1.9096053739985  -0.8269385079269   5.2372774019485\n",
        "H    -1.8730938416183  -1.9157634078951   5.1986764605346\n",
        "H    -1.5629099527925  -0.5125717843390   6.2218512212214\n",
        "H    -2.9465170241487  -0.5126306418706   5.1188520156529\n",
        "C     0.7055071531436   3.1039291474455   3.3878074482962\n",
        "H     0.6996321098764   3.5926125742168   2.4126899821207\n",
        "H     0.0720511304863   3.6841458846608   4.0587668370105\n",
        "H     1.7245462284362   3.1151446899290   3.7742478882927\n",
        "\"\"\"\n"
      ],
      "metadata": {
        "id": "NzBaWJTJ8mrU"
      },
      "execution_count": 2,
      "outputs": []
    },
    {
      "cell_type": "markdown",
      "metadata": {
        "id": "4P9wqdJtiNbu"
      },
      "source": [
        "In the box below you can input the smiles code of the molecule. If you want to generate forcefields for molecular dynamics, enter the name that you want for your files and a three letter residue name. This code will generate a GAFF2 force field with RESP-charges calculated at the HF/sto-3g level of theory. Since this is a quantum chemical computations it may take some time if your molecule is larger.\n",
        "\n",
        "(If you want a different basis set you can change the basis = vlx.MolecularBasis.read(molecule, 'sto-3g') line in the \"Generate a force field\" cell below)"
      ]
    },
    {
      "cell_type": "code",
      "execution_count": 3,
      "metadata": {
        "id": "kd3SxiFQFm6r",
        "cellView": "form",
        "colab": {
          "base_uri": "https://localhost:8080/",
          "height": 335
        },
        "outputId": "abf1e38f-166c-40e2-d780-8fa59c612c13"
      },
      "outputs": [
        {
          "output_type": "stream",
          "name": "stdout",
          "text": [
            "Structure of the molecule entered: \n"
          ]
        },
        {
          "output_type": "display_data",
          "data": {
            "application/3dmoljs_load.v0": "<div id=\"3dmolviewer_17473147479382033\"  style=\"position: relative; width: 400px; height: 300px;\">\n        <p id=\"3dmolwarning_17473147479382033\" style=\"background-color:#ffcccc;color:black\">3Dmol.js failed to load for some reason.  Please check your browser console for error messages.<br></p>\n        </div>\n<script>\n\nvar loadScriptAsync = function(uri){\n  return new Promise((resolve, reject) => {\n    //this is to ignore the existence of requirejs amd\n    var savedexports, savedmodule;\n    if (typeof exports !== 'undefined') savedexports = exports;\n    else exports = {}\n    if (typeof module !== 'undefined') savedmodule = module;\n    else module = {}\n\n    var tag = document.createElement('script');\n    tag.src = uri;\n    tag.async = true;\n    tag.onload = () => {\n        exports = savedexports;\n        module = savedmodule;\n        resolve();\n    };\n  var firstScriptTag = document.getElementsByTagName('script')[0];\n  firstScriptTag.parentNode.insertBefore(tag, firstScriptTag);\n});\n};\n\nif(typeof $3Dmolpromise === 'undefined') {\n$3Dmolpromise = null;\n  $3Dmolpromise = loadScriptAsync('https://cdnjs.cloudflare.com/ajax/libs/3Dmol/2.4.2/3Dmol-min.js');\n}\n\nvar viewer_17473147479382033 = null;\nvar warn = document.getElementById(\"3dmolwarning_17473147479382033\");\nif(warn) {\n    warn.parentNode.removeChild(warn);\n}\n$3Dmolpromise.then(function() {\nviewer_17473147479382033 = $3Dmol.createViewer(document.getElementById(\"3dmolviewer_17473147479382033\"),{backgroundColor:\"white\"});\nviewer_17473147479382033.zoomTo();\n\tviewer_17473147479382033.addModel(\"11\\n\\nO              0.404413000000         1.986409000000         0.584596000000\\nC             -0.446827000000         0.920760000000         0.911528000000\\nC              0.323179000000        -0.201096000000         1.614992000000\\nC              1.331688000000        -0.836189000000         0.703564000000\\nO              2.308835000000        -0.209331000000         0.325983000000\\nH              0.592465000000         2.469765000000         1.431215000000\\nH             -1.270168000000         1.277560000000         1.571159000000\\nH             -0.910200000000         0.529921000000        -0.019752000000\\nH              0.833849000000         0.194457000000         2.519367000000\\nH             -0.400221000000        -0.978099000000         1.943006000000\\nH              1.203968000000        -1.867256000000         0.390219000000\\n\");\n\tviewer_17473147479382033.setViewStyle({\"style\": \"outline\", \"width\": 0.05});\n\tviewer_17473147479382033.setStyle({\"stick\": {}, \"sphere\": {\"scale\": 0.25}});\n\tviewer_17473147479382033.addLabel(\"1\",{\"position\": {\"x\": 0.40441299999999997, \"y\": 1.986409, \"z\": 0.584596}, \"alignment\": \"center\", \"fontColor\": 0, \"backgroundColor\": 16777215, \"backgroundOpacity\": 0.0});\n\tviewer_17473147479382033.addLabel(\"2\",{\"position\": {\"x\": -0.446827, \"y\": 0.92076, \"z\": 0.911528}, \"alignment\": \"center\", \"fontColor\": 0, \"backgroundColor\": 16777215, \"backgroundOpacity\": 0.0});\n\tviewer_17473147479382033.addLabel(\"3\",{\"position\": {\"x\": 0.323179, \"y\": -0.201096, \"z\": 1.614992}, \"alignment\": \"center\", \"fontColor\": 0, \"backgroundColor\": 16777215, \"backgroundOpacity\": 0.0});\n\tviewer_17473147479382033.addLabel(\"4\",{\"position\": {\"x\": 1.331688, \"y\": -0.836189, \"z\": 0.703564}, \"alignment\": \"center\", \"fontColor\": 0, \"backgroundColor\": 16777215, \"backgroundOpacity\": 0.0});\n\tviewer_17473147479382033.addLabel(\"5\",{\"position\": {\"x\": 2.3088349999999997, \"y\": -0.209331, \"z\": 0.325983}, \"alignment\": \"center\", \"fontColor\": 0, \"backgroundColor\": 16777215, \"backgroundOpacity\": 0.0});\n\tviewer_17473147479382033.addLabel(\"6\",{\"position\": {\"x\": 0.592465, \"y\": 2.469765, \"z\": 1.431215}, \"alignment\": \"center\", \"fontColor\": 0, \"backgroundColor\": 16777215, \"backgroundOpacity\": 0.0});\n\tviewer_17473147479382033.addLabel(\"7\",{\"position\": {\"x\": -1.270168, \"y\": 1.27756, \"z\": 1.571159}, \"alignment\": \"center\", \"fontColor\": 0, \"backgroundColor\": 16777215, \"backgroundOpacity\": 0.0});\n\tviewer_17473147479382033.addLabel(\"8\",{\"position\": {\"x\": -0.9102, \"y\": 0.529921, \"z\": -0.019751999999999995}, \"alignment\": \"center\", \"fontColor\": 0, \"backgroundColor\": 16777215, \"backgroundOpacity\": 0.0});\n\tviewer_17473147479382033.addLabel(\"9\",{\"position\": {\"x\": 0.8338489999999998, \"y\": 0.194457, \"z\": 2.5193669999999995}, \"alignment\": \"center\", \"fontColor\": 0, \"backgroundColor\": 16777215, \"backgroundOpacity\": 0.0});\n\tviewer_17473147479382033.addLabel(\"10\",{\"position\": {\"x\": -0.400221, \"y\": -0.9780989999999999, \"z\": 1.943006}, \"alignment\": \"center\", \"fontColor\": 0, \"backgroundColor\": 16777215, \"backgroundOpacity\": 0.0});\n\tviewer_17473147479382033.addLabel(\"11\",{\"position\": {\"x\": 1.2039679999999997, \"y\": -1.867256, \"z\": 0.390219}, \"alignment\": \"center\", \"fontColor\": 0, \"backgroundColor\": 16777215, \"backgroundOpacity\": 0.0});\n\tviewer_17473147479382033.zoomTo();\nviewer_17473147479382033.render();\n});\n</script>",
            "text/html": [
              "<div id=\"3dmolviewer_17473147479382033\"  style=\"position: relative; width: 400px; height: 300px;\">\n",
              "        <p id=\"3dmolwarning_17473147479382033\" style=\"background-color:#ffcccc;color:black\">3Dmol.js failed to load for some reason.  Please check your browser console for error messages.<br></p>\n",
              "        </div>\n",
              "<script>\n",
              "\n",
              "var loadScriptAsync = function(uri){\n",
              "  return new Promise((resolve, reject) => {\n",
              "    //this is to ignore the existence of requirejs amd\n",
              "    var savedexports, savedmodule;\n",
              "    if (typeof exports !== 'undefined') savedexports = exports;\n",
              "    else exports = {}\n",
              "    if (typeof module !== 'undefined') savedmodule = module;\n",
              "    else module = {}\n",
              "\n",
              "    var tag = document.createElement('script');\n",
              "    tag.src = uri;\n",
              "    tag.async = true;\n",
              "    tag.onload = () => {\n",
              "        exports = savedexports;\n",
              "        module = savedmodule;\n",
              "        resolve();\n",
              "    };\n",
              "  var firstScriptTag = document.getElementsByTagName('script')[0];\n",
              "  firstScriptTag.parentNode.insertBefore(tag, firstScriptTag);\n",
              "});\n",
              "};\n",
              "\n",
              "if(typeof $3Dmolpromise === 'undefined') {\n",
              "$3Dmolpromise = null;\n",
              "  $3Dmolpromise = loadScriptAsync('https://cdnjs.cloudflare.com/ajax/libs/3Dmol/2.4.2/3Dmol-min.js');\n",
              "}\n",
              "\n",
              "var viewer_17473147479382033 = null;\n",
              "var warn = document.getElementById(\"3dmolwarning_17473147479382033\");\n",
              "if(warn) {\n",
              "    warn.parentNode.removeChild(warn);\n",
              "}\n",
              "$3Dmolpromise.then(function() {\n",
              "viewer_17473147479382033 = $3Dmol.createViewer(document.getElementById(\"3dmolviewer_17473147479382033\"),{backgroundColor:\"white\"});\n",
              "viewer_17473147479382033.zoomTo();\n",
              "\tviewer_17473147479382033.addModel(\"11\\n\\nO              0.404413000000         1.986409000000         0.584596000000\\nC             -0.446827000000         0.920760000000         0.911528000000\\nC              0.323179000000        -0.201096000000         1.614992000000\\nC              1.331688000000        -0.836189000000         0.703564000000\\nO              2.308835000000        -0.209331000000         0.325983000000\\nH              0.592465000000         2.469765000000         1.431215000000\\nH             -1.270168000000         1.277560000000         1.571159000000\\nH             -0.910200000000         0.529921000000        -0.019752000000\\nH              0.833849000000         0.194457000000         2.519367000000\\nH             -0.400221000000        -0.978099000000         1.943006000000\\nH              1.203968000000        -1.867256000000         0.390219000000\\n\");\n",
              "\tviewer_17473147479382033.setViewStyle({\"style\": \"outline\", \"width\": 0.05});\n",
              "\tviewer_17473147479382033.setStyle({\"stick\": {}, \"sphere\": {\"scale\": 0.25}});\n",
              "\tviewer_17473147479382033.addLabel(\"1\",{\"position\": {\"x\": 0.40441299999999997, \"y\": 1.986409, \"z\": 0.584596}, \"alignment\": \"center\", \"fontColor\": 0, \"backgroundColor\": 16777215, \"backgroundOpacity\": 0.0});\n",
              "\tviewer_17473147479382033.addLabel(\"2\",{\"position\": {\"x\": -0.446827, \"y\": 0.92076, \"z\": 0.911528}, \"alignment\": \"center\", \"fontColor\": 0, \"backgroundColor\": 16777215, \"backgroundOpacity\": 0.0});\n",
              "\tviewer_17473147479382033.addLabel(\"3\",{\"position\": {\"x\": 0.323179, \"y\": -0.201096, \"z\": 1.614992}, \"alignment\": \"center\", \"fontColor\": 0, \"backgroundColor\": 16777215, \"backgroundOpacity\": 0.0});\n",
              "\tviewer_17473147479382033.addLabel(\"4\",{\"position\": {\"x\": 1.331688, \"y\": -0.836189, \"z\": 0.703564}, \"alignment\": \"center\", \"fontColor\": 0, \"backgroundColor\": 16777215, \"backgroundOpacity\": 0.0});\n",
              "\tviewer_17473147479382033.addLabel(\"5\",{\"position\": {\"x\": 2.3088349999999997, \"y\": -0.209331, \"z\": 0.325983}, \"alignment\": \"center\", \"fontColor\": 0, \"backgroundColor\": 16777215, \"backgroundOpacity\": 0.0});\n",
              "\tviewer_17473147479382033.addLabel(\"6\",{\"position\": {\"x\": 0.592465, \"y\": 2.469765, \"z\": 1.431215}, \"alignment\": \"center\", \"fontColor\": 0, \"backgroundColor\": 16777215, \"backgroundOpacity\": 0.0});\n",
              "\tviewer_17473147479382033.addLabel(\"7\",{\"position\": {\"x\": -1.270168, \"y\": 1.27756, \"z\": 1.571159}, \"alignment\": \"center\", \"fontColor\": 0, \"backgroundColor\": 16777215, \"backgroundOpacity\": 0.0});\n",
              "\tviewer_17473147479382033.addLabel(\"8\",{\"position\": {\"x\": -0.9102, \"y\": 0.529921, \"z\": -0.019751999999999995}, \"alignment\": \"center\", \"fontColor\": 0, \"backgroundColor\": 16777215, \"backgroundOpacity\": 0.0});\n",
              "\tviewer_17473147479382033.addLabel(\"9\",{\"position\": {\"x\": 0.8338489999999998, \"y\": 0.194457, \"z\": 2.5193669999999995}, \"alignment\": \"center\", \"fontColor\": 0, \"backgroundColor\": 16777215, \"backgroundOpacity\": 0.0});\n",
              "\tviewer_17473147479382033.addLabel(\"10\",{\"position\": {\"x\": -0.400221, \"y\": -0.9780989999999999, \"z\": 1.943006}, \"alignment\": \"center\", \"fontColor\": 0, \"backgroundColor\": 16777215, \"backgroundOpacity\": 0.0});\n",
              "\tviewer_17473147479382033.addLabel(\"11\",{\"position\": {\"x\": 1.2039679999999997, \"y\": -1.867256, \"z\": 0.390219}, \"alignment\": \"center\", \"fontColor\": 0, \"backgroundColor\": 16777215, \"backgroundOpacity\": 0.0});\n",
              "\tviewer_17473147479382033.zoomTo();\n",
              "viewer_17473147479382033.render();\n",
              "});\n",
              "</script>"
            ]
          },
          "metadata": {}
        }
      ],
      "source": [
        "#@title Define your molecule, either asa SMILES code or xyz-coordinates above\n",
        "#@markdown - Enter the SMILES code\n",
        "smiles_code = 'OCCC=O' #@param {type:\"string\"}\n",
        "#@markdown - If you want to use the xyz coordinates in the previous cell check box\n",
        "use_xyz = False # @param {type:\"boolean\"}\n",
        "if use_xyz == False:\n",
        "  molecule = vlx.Molecule.read_smiles(smiles_code)\n",
        "else:\n",
        "  molecule = vlx.Molecule.read_str(xyz_coordinates)\n",
        "print('Structure of the molecule entered: ')\n",
        "molecule.show(atom_indices=True)\n",
        "#@markdown - Give your Gromacs files a name\n",
        "gromacs_file = 'test' #@param {type:\"string\"}\n",
        "#@markdown - Give your molecule a residue name (three letters)\n",
        "residue_name = 'tes' #@param {type:\"string\"}\n",
        "\n"
      ]
    },
    {
      "cell_type": "code",
      "source": [
        "#@title Generate a force field and write Gromacs files\n",
        "#@markdown - Run this cell to generate the force field\n",
        "#@markdown - Example timing: Ibuprofen (1 min)\n",
        "#@markdown - The files can be found on the left panel (\"Files\")\n",
        "ff_gen = vlx.MMForceFieldGenerator()\n",
        "basis = vlx.MolecularBasis.read(molecule, 'sto-3g')\n",
        "ff_gen.ostream.mute()\n",
        "ff_gen.create_topology(molecule, basis)\n",
        "\n",
        "ff_gen.write_gromacs_files(gromacs_file, residue_name)\n"
      ],
      "metadata": {
        "id": "rW9KHJqfNqBx",
        "cellView": "form"
      },
      "execution_count": 4,
      "outputs": []
    },
    {
      "cell_type": "code",
      "execution_count": 5,
      "metadata": {
        "id": "O0J87UqYXbCK",
        "cellView": "form",
        "colab": {
          "base_uri": "https://localhost:8080/"
        },
        "outputId": "7d6bedf7-5f9a-48aa-c641-3bd120c58291"
      },
      "outputs": [
        {
          "output_type": "stream",
          "name": "stderr",
          "text": [
            "WARNING:MDAnalysis.coordinates.AMBER:netCDF4 is not available. Writing AMBER ncdf files will be slow.\n"
          ]
        },
        {
          "output_type": "stream",
          "name": "stdout",
          "text": [
            "No constraint used\n",
            "#\"Step\",\"Potential Energy (kJ/mole)\",\"Temperature (K)\"\n",
            "10000,-33.64550018310547,361.01908739355207\n",
            "20000,-17.0234375,296.5062465941569\n",
            "30000,-27.673797607421875,249.85600897466742\n",
            "40000,-7.181404113769531,214.12311432546952\n",
            "50000,-17.184402465820312,193.363886109225\n",
            "60000,-23.893463134765625,327.3432822200825\n",
            "70000,-24.110733032226562,318.50411954759676\n",
            "80000,-31.05816650390625,407.0371058699575\n",
            "90000,-38.686058044433594,244.9562053241481\n",
            "100000,-31.217819213867188,313.6469754606327\n"
          ]
        }
      ],
      "source": [
        "#@title Run dynamics\n",
        "#@markdown - Example timings: 200 ps MD of ibuprofen (22 sec)\n",
        "from openmm.app import *\n",
        "from openmm import *\n",
        "from openmm.unit import *\n",
        "from sys import stdout\n",
        "import MDAnalysis as mda\n",
        "universe = mda.Universe(gromacs_file + '.gro')\n",
        "with mda.Writer(gromacs_file + '.gro') as gro:\n",
        "    gro.write(universe)\n",
        "gro = GromacsGroFile(gromacs_file + '.gro')\n",
        "top = GromacsTopFile(gromacs_file + '.top')\n",
        "system = top.createSystem(nonbondedMethod=NoCutoff)\n",
        "#@markdown - Check the add_constraint box if you want to constrain the distance between two atoms in the dynamics\n",
        "add_constraint = False # @param {type:\"boolean\"}\n",
        "atom1 = 6 #@param {type:\"integer\"}\n",
        "atom2 = 5 #@param {type:\"integer\"}\n",
        "distance_nm = 0.2 #@param {type:\"number\"}\n",
        "if add_constraint == True:\n",
        "  system.addConstraint(atom1-1, atom2-1, distance_nm)\n",
        "else:\n",
        "  print(\"No constraint used\")\n",
        "#@markdown - Set the timestep in femtoseconds\n",
        "#time_step = 2 #@param {type:\"integer\"}\n",
        "time_step = 2 #@param [1, 2]\n",
        "#@markdown - Set the temperature in Kelvin\n",
        "temp = 300 #@param {type:\"slider\", min:200, max:700, step:1}\n",
        "integrator = LangevinMiddleIntegrator(temp*kelvin, 1/picosecond, 0.001*time_step*picoseconds)\n",
        "simulation = Simulation(top.topology, system, integrator)\n",
        "simulation.context.setPositions(gro.positions)\n",
        "simulation.minimizeEnergy()\n",
        "#@markdown - Set the number of steps you want to take (ex 100000 steps * 2 fs= 200 ps)\n",
        "steps = 100000 #@param {type:\"integer\"}\n",
        "#@markdown - Number of snapshots saved. Select how many structures you want to save from your dynamics run\n",
        "snapshots = 10 #@param {type:\"integer\"}\n",
        "outputdata = steps / snapshots\n",
        "simulation.reporters.append(PDBReporter(gromacs_file + '.pdb', outputdata))\n",
        "simulation.reporters.append(StateDataReporter(stdout, outputdata, step=True,\n",
        "        potentialEnergy=True, temperature=True))\n",
        "simulation.step(steps)"
      ]
    },
    {
      "cell_type": "code",
      "execution_count": 6,
      "metadata": {
        "id": "zWvAG92YWJCt",
        "cellView": "form",
        "colab": {
          "base_uri": "https://localhost:8080/",
          "height": 285
        },
        "outputId": "614913ad-f680-43b5-b03a-012ce8e7ca1c"
      },
      "outputs": [
        {
          "output_type": "stream",
          "name": "stdout",
          "text": [
            "Output geometry:\n"
          ]
        },
        {
          "output_type": "display_data",
          "data": {
            "application/3dmoljs_load.v0": "<div id=\"3dmolviewer_17473147625560868\"  style=\"position: relative; width: 400px; height: 250px;\">\n        <p id=\"3dmolwarning_17473147625560868\" style=\"background-color:#ffcccc;color:black\">3Dmol.js failed to load for some reason.  Please check your browser console for error messages.<br></p>\n        </div>\n<script>\n\nvar loadScriptAsync = function(uri){\n  return new Promise((resolve, reject) => {\n    //this is to ignore the existence of requirejs amd\n    var savedexports, savedmodule;\n    if (typeof exports !== 'undefined') savedexports = exports;\n    else exports = {}\n    if (typeof module !== 'undefined') savedmodule = module;\n    else module = {}\n\n    var tag = document.createElement('script');\n    tag.src = uri;\n    tag.async = true;\n    tag.onload = () => {\n        exports = savedexports;\n        module = savedmodule;\n        resolve();\n    };\n  var firstScriptTag = document.getElementsByTagName('script')[0];\n  firstScriptTag.parentNode.insertBefore(tag, firstScriptTag);\n});\n};\n\nif(typeof $3Dmolpromise === 'undefined') {\n$3Dmolpromise = null;\n  $3Dmolpromise = loadScriptAsync('https://cdnjs.cloudflare.com/ajax/libs/3Dmol/2.4.2/3Dmol-min.js');\n}\n\nvar viewer_17473147625560868 = null;\nvar warn = document.getElementById(\"3dmolwarning_17473147625560868\");\nif(warn) {\n    warn.parentNode.removeChild(warn);\n}\n$3Dmolpromise.then(function() {\nviewer_17473147625560868 = $3Dmol.createViewer(document.getElementById(\"3dmolviewer_17473147625560868\"),{backgroundColor:\"white\"});\nviewer_17473147625560868.zoomTo();\n\tviewer_17473147625560868.addModelsAsFrames(\"REMARK   1 CREATED WITH OPENMM 8.2, 2025-05-15\\nMODEL        1\\nHETATM    1  O1  tes A   1       0.400   1.451   1.967  1.00  0.00           O  \\nHETATM    2  C1  tes A   1       0.561   1.584   0.570  1.00  0.00           C  \\nHETATM    3  C2  tes A   1       0.239   0.203   0.024  1.00  0.00           C  \\nHETATM    4  C3  tes A   1       1.202  -0.919   0.413  1.00  0.00           C  \\nHETATM    5  O2  tes A   1       1.705  -1.076   1.501  1.00  0.00           O  \\nHETATM    6  H1  tes A   1       0.868   0.619   2.198  1.00  0.00           H  \\nHETATM    7  H2  tes A   1      -0.139   2.316   0.171  1.00  0.00           H  \\nHETATM    8  H3  tes A   1       1.590   1.794   0.305  1.00  0.00           H  \\nHETATM    9  H4  tes A   1      -0.840  -0.092   0.239  1.00  0.00           H  \\nHETATM   10  H5  tes A   1       0.283   0.329  -1.110  1.00  0.00           H  \\nHETATM   11  H6  tes A   1       1.271  -1.715  -0.295  1.00  0.00           H  \\nTER      12      tes A   1\\nENDMDL\\nMODEL        2\\nHETATM    1  O1  tes A   1      -0.024   1.494  -0.030  1.00  0.00           O  \\nHETATM    2  C1  tes A   1       0.204   0.194  -0.189  1.00  0.00           C  \\nHETATM    3  C2  tes A   1       0.235  -0.533   1.108  1.00  0.00           C  \\nHETATM    4  C3  tes A   1       1.596  -0.585   1.798  1.00  0.00           C  \\nHETATM    5  O2  tes A   1       2.155   0.507   2.015  1.00  0.00           O  \\nHETATM    6  H1  tes A   1       0.611   1.730   0.655  1.00  0.00           H  \\nHETATM    7  H2  tes A   1      -0.577  -0.266  -0.816  1.00  0.00           H  \\nHETATM    8  H3  tes A   1       1.169  -0.074  -0.749  1.00  0.00           H  \\nHETATM    9  H4  tes A   1      -0.455  -0.019   1.873  1.00  0.00           H  \\nHETATM   10  H5  tes A   1      -0.179  -1.534   1.009  1.00  0.00           H  \\nHETATM   11  H6  tes A   1       2.149  -1.507   2.126  1.00  0.00           H  \\nTER      12      tes A   1\\nENDMDL\\nMODEL        3\\nHETATM    1  O1  tes A   1       0.022  -0.434  -0.376  1.00  0.00           O  \\nHETATM    2  C1  tes A   1      -0.310   0.628   0.507  1.00  0.00           C  \\nHETATM    3  C2  tes A   1       0.919   1.411   1.036  1.00  0.00           C  \\nHETATM    4  C3  tes A   1       1.967   0.500   1.483  1.00  0.00           C  \\nHETATM    5  O2  tes A   1       1.722  -0.509   2.076  1.00  0.00           O  \\nHETATM    6  H1  tes A   1      -0.206  -1.274   0.101  1.00  0.00           H  \\nHETATM    7  H2  tes A   1      -0.935   1.249  -0.190  1.00  0.00           H  \\nHETATM    8  H3  tes A   1      -0.955   0.175   1.328  1.00  0.00           H  \\nHETATM    9  H4  tes A   1       1.399   1.932   0.223  1.00  0.00           H  \\nHETATM   10  H5  tes A   1       0.647   2.113   1.876  1.00  0.00           H  \\nHETATM   11  H6  tes A   1       3.036   0.674   1.266  1.00  0.00           H  \\nTER      12      tes A   1\\nENDMDL\\nMODEL        4\\nHETATM    1  O1  tes A   1       0.527   0.977  -0.821  1.00  0.00           O  \\nHETATM    2  C1  tes A   1       0.056   1.326   0.466  1.00  0.00           C  \\nHETATM    3  C2  tes A   1       1.247   0.934   1.550  1.00  0.00           C  \\nHETATM    4  C3  tes A   1       1.663  -0.517   1.686  1.00  0.00           C  \\nHETATM    5  O2  tes A   1       0.805  -1.363   1.886  1.00  0.00           O  \\nHETATM    6  H1  tes A   1      -0.129   1.455  -1.378  1.00  0.00           H  \\nHETATM    7  H2  tes A   1      -0.185   2.385   0.604  1.00  0.00           H  \\nHETATM    8  H3  tes A   1      -0.840   0.692   0.709  1.00  0.00           H  \\nHETATM    9  H4  tes A   1       2.219   1.295   1.182  1.00  0.00           H  \\nHETATM   10  H5  tes A   1       1.085   1.432   2.534  1.00  0.00           H  \\nHETATM   11  H6  tes A   1       2.713  -0.677   1.688  1.00  0.00           H  \\nTER      12      tes A   1\\nENDMDL\\nMODEL        5\\nHETATM    1  O1  tes A   1      -1.137   1.267   1.073  1.00  0.00           O  \\nHETATM    2  C1  tes A   1      -0.040   0.377   1.413  1.00  0.00           C  \\nHETATM    3  C2  tes A   1       0.838   0.339   0.164  1.00  0.00           C  \\nHETATM    4  C3  tes A   1       2.020  -0.451   0.447  1.00  0.00           C  \\nHETATM    5  O2  tes A   1       2.779  -0.173   1.339  1.00  0.00           O  \\nHETATM    6  H1  tes A   1      -1.778   1.315   1.843  1.00  0.00           H  \\nHETATM    7  H2  tes A   1       0.459   0.720   2.371  1.00  0.00           H  \\nHETATM    8  H3  tes A   1      -0.367  -0.641   1.525  1.00  0.00           H  \\nHETATM    9  H4  tes A   1       0.298  -0.143  -0.771  1.00  0.00           H  \\nHETATM   10  H5  tes A   1       1.291   1.304  -0.092  1.00  0.00           H  \\nHETATM   11  H6  tes A   1       2.318  -1.246  -0.184  1.00  0.00           H  \\nTER      12      tes A   1\\nENDMDL\\nMODEL        6\\nHETATM    1  O1  tes A   1       0.693   0.327   3.199  1.00  0.00           O  \\nHETATM    2  C1  tes A   1       1.340   0.143   1.906  1.00  0.00           C  \\nHETATM    3  C2  tes A   1       0.361   0.717   0.852  1.00  0.00           C  \\nHETATM    4  C3  tes A   1       0.968   0.638  -0.466  1.00  0.00           C  \\nHETATM    5  O2  tes A   1       0.835  -0.305  -1.193  1.00  0.00           O  \\nHETATM    6  H1  tes A   1      -0.210  -0.044   3.055  1.00  0.00           H  \\nHETATM    7  H2  tes A   1       2.291   0.649   1.895  1.00  0.00           H  \\nHETATM    8  H3  tes A   1       1.458  -1.004   1.811  1.00  0.00           H  \\nHETATM    9  H4  tes A   1      -0.622   0.221   0.784  1.00  0.00           H  \\nHETATM   10  H5  tes A   1       0.234   1.836   0.969  1.00  0.00           H  \\nHETATM   11  H6  tes A   1       1.569   1.427  -0.780  1.00  0.00           H  \\nTER      12      tes A   1\\nENDMDL\\nMODEL        7\\nHETATM    1  O1  tes A   1       2.522  -0.160   0.168  1.00  0.00           O  \\nHETATM    2  C1  tes A   1       1.338   0.308  -0.484  1.00  0.00           C  \\nHETATM    3  C2  tes A   1       0.288   0.893   0.495  1.00  0.00           C  \\nHETATM    4  C3  tes A   1       0.152   0.008   1.668  1.00  0.00           C  \\nHETATM    5  O2  tes A   1      -0.350   0.464   2.704  1.00  0.00           O  \\nHETATM    6  H1  tes A   1       2.946   0.611   0.674  1.00  0.00           H  \\nHETATM    7  H2  tes A   1       1.488   1.018  -1.342  1.00  0.00           H  \\nHETATM    8  H3  tes A   1       0.844  -0.599  -0.932  1.00  0.00           H  \\nHETATM    9  H4  tes A   1       0.708   1.890   0.972  1.00  0.00           H  \\nHETATM   10  H5  tes A   1      -0.736   1.103   0.042  1.00  0.00           H  \\nHETATM   11  H6  tes A   1       0.523  -1.011   1.659  1.00  0.00           H  \\nTER      12      tes A   1\\nENDMDL\\nMODEL        8\\nHETATM    1  O1  tes A   1       0.261   1.530   1.893  1.00  0.00           O  \\nHETATM    2  C1  tes A   1       0.112   0.136   2.011  1.00  0.00           C  \\nHETATM    3  C2  tes A   1       0.096  -0.521   0.588  1.00  0.00           C  \\nHETATM    4  C3  tes A   1       1.201   0.109  -0.206  1.00  0.00           C  \\nHETATM    5  O2  tes A   1       2.403   0.010   0.029  1.00  0.00           O  \\nHETATM    6  H1  tes A   1      -0.029   1.960   2.741  1.00  0.00           H  \\nHETATM    7  H2  tes A   1       0.965  -0.237   2.582  1.00  0.00           H  \\nHETATM    8  H3  tes A   1      -0.797  -0.158   2.666  1.00  0.00           H  \\nHETATM    9  H4  tes A   1       0.244  -1.630   0.583  1.00  0.00           H  \\nHETATM   10  H5  tes A   1      -0.851  -0.354   0.004  1.00  0.00           H  \\nHETATM   11  H6  tes A   1       0.955   0.775  -0.988  1.00  0.00           H  \\nTER      12      tes A   1\\nENDMDL\\nMODEL        9\\nHETATM    1  O1  tes A   1       0.613  -1.152   1.963  1.00  0.00           O  \\nHETATM    2  C1  tes A   1       1.390  -0.904   0.784  1.00  0.00           C  \\nHETATM    3  C2  tes A   1       0.657   0.128  -0.106  1.00  0.00           C  \\nHETATM    4  C3  tes A   1       0.295   1.443   0.539  1.00  0.00           C  \\nHETATM    5  O2  tes A   1       1.185   2.153   1.040  1.00  0.00           O  \\nHETATM    6  H1  tes A   1       1.248  -1.630   2.561  1.00  0.00           H  \\nHETATM    7  H2  tes A   1       2.419  -0.616   1.110  1.00  0.00           H  \\nHETATM    8  H3  tes A   1       1.410  -1.888   0.276  1.00  0.00           H  \\nHETATM    9  H4  tes A   1       1.230   0.388  -1.009  1.00  0.00           H  \\nHETATM   10  H5  tes A   1      -0.227  -0.395  -0.513  1.00  0.00           H  \\nHETATM   11  H6  tes A   1      -0.706   1.811   0.709  1.00  0.00           H  \\nTER      12      tes A   1\\nENDMDL\\nMODEL       10\\nHETATM    1  O1  tes A   1       0.936   2.097   1.222  1.00  0.00           O  \\nHETATM    2  C1  tes A   1       1.751   1.123   0.705  1.00  0.00           C  \\nHETATM    3  C2  tes A   1       1.587  -0.245   1.363  1.00  0.00           C  \\nHETATM    4  C3  tes A   1       0.170  -0.688   1.176  1.00  0.00           C  \\nHETATM    5  O2  tes A   1      -0.164  -1.190   0.127  1.00  0.00           O  \\nHETATM    6  H1  tes A   1       1.173   2.922   0.704  1.00  0.00           H  \\nHETATM    7  H2  tes A   1       1.702   1.124  -0.446  1.00  0.00           H  \\nHETATM    8  H3  tes A   1       2.817   1.409   0.854  1.00  0.00           H  \\nHETATM    9  H4  tes A   1       2.298  -1.050   1.008  1.00  0.00           H  \\nHETATM   10  H5  tes A   1       1.717  -0.155   2.448  1.00  0.00           H  \\nHETATM   11  H6  tes A   1      -0.590  -0.412   1.798  1.00  0.00           H  \\nTER      12      tes A   1\\nENDMDL\\n\",\"pdb\",{\"keepH\": true});\n\tviewer_17473147625560868.animate({\"interval\": 1200, \"loop\": \"forward\", \"reps\": 10});\n\tviewer_17473147625560868.setStyle({\"stick\": {}, \"sphere\": {\"scale\": 0.25}});\n\tviewer_17473147625560868.zoomTo();\nviewer_17473147625560868.render();\n});\n</script>",
            "text/html": [
              "<div id=\"3dmolviewer_17473147625560868\"  style=\"position: relative; width: 400px; height: 250px;\">\n",
              "        <p id=\"3dmolwarning_17473147625560868\" style=\"background-color:#ffcccc;color:black\">3Dmol.js failed to load for some reason.  Please check your browser console for error messages.<br></p>\n",
              "        </div>\n",
              "<script>\n",
              "\n",
              "var loadScriptAsync = function(uri){\n",
              "  return new Promise((resolve, reject) => {\n",
              "    //this is to ignore the existence of requirejs amd\n",
              "    var savedexports, savedmodule;\n",
              "    if (typeof exports !== 'undefined') savedexports = exports;\n",
              "    else exports = {}\n",
              "    if (typeof module !== 'undefined') savedmodule = module;\n",
              "    else module = {}\n",
              "\n",
              "    var tag = document.createElement('script');\n",
              "    tag.src = uri;\n",
              "    tag.async = true;\n",
              "    tag.onload = () => {\n",
              "        exports = savedexports;\n",
              "        module = savedmodule;\n",
              "        resolve();\n",
              "    };\n",
              "  var firstScriptTag = document.getElementsByTagName('script')[0];\n",
              "  firstScriptTag.parentNode.insertBefore(tag, firstScriptTag);\n",
              "});\n",
              "};\n",
              "\n",
              "if(typeof $3Dmolpromise === 'undefined') {\n",
              "$3Dmolpromise = null;\n",
              "  $3Dmolpromise = loadScriptAsync('https://cdnjs.cloudflare.com/ajax/libs/3Dmol/2.4.2/3Dmol-min.js');\n",
              "}\n",
              "\n",
              "var viewer_17473147625560868 = null;\n",
              "var warn = document.getElementById(\"3dmolwarning_17473147625560868\");\n",
              "if(warn) {\n",
              "    warn.parentNode.removeChild(warn);\n",
              "}\n",
              "$3Dmolpromise.then(function() {\n",
              "viewer_17473147625560868 = $3Dmol.createViewer(document.getElementById(\"3dmolviewer_17473147625560868\"),{backgroundColor:\"white\"});\n",
              "viewer_17473147625560868.zoomTo();\n",
              "\tviewer_17473147625560868.addModelsAsFrames(\"REMARK   1 CREATED WITH OPENMM 8.2, 2025-05-15\\nMODEL        1\\nHETATM    1  O1  tes A   1       0.400   1.451   1.967  1.00  0.00           O  \\nHETATM    2  C1  tes A   1       0.561   1.584   0.570  1.00  0.00           C  \\nHETATM    3  C2  tes A   1       0.239   0.203   0.024  1.00  0.00           C  \\nHETATM    4  C3  tes A   1       1.202  -0.919   0.413  1.00  0.00           C  \\nHETATM    5  O2  tes A   1       1.705  -1.076   1.501  1.00  0.00           O  \\nHETATM    6  H1  tes A   1       0.868   0.619   2.198  1.00  0.00           H  \\nHETATM    7  H2  tes A   1      -0.139   2.316   0.171  1.00  0.00           H  \\nHETATM    8  H3  tes A   1       1.590   1.794   0.305  1.00  0.00           H  \\nHETATM    9  H4  tes A   1      -0.840  -0.092   0.239  1.00  0.00           H  \\nHETATM   10  H5  tes A   1       0.283   0.329  -1.110  1.00  0.00           H  \\nHETATM   11  H6  tes A   1       1.271  -1.715  -0.295  1.00  0.00           H  \\nTER      12      tes A   1\\nENDMDL\\nMODEL        2\\nHETATM    1  O1  tes A   1      -0.024   1.494  -0.030  1.00  0.00           O  \\nHETATM    2  C1  tes A   1       0.204   0.194  -0.189  1.00  0.00           C  \\nHETATM    3  C2  tes A   1       0.235  -0.533   1.108  1.00  0.00           C  \\nHETATM    4  C3  tes A   1       1.596  -0.585   1.798  1.00  0.00           C  \\nHETATM    5  O2  tes A   1       2.155   0.507   2.015  1.00  0.00           O  \\nHETATM    6  H1  tes A   1       0.611   1.730   0.655  1.00  0.00           H  \\nHETATM    7  H2  tes A   1      -0.577  -0.266  -0.816  1.00  0.00           H  \\nHETATM    8  H3  tes A   1       1.169  -0.074  -0.749  1.00  0.00           H  \\nHETATM    9  H4  tes A   1      -0.455  -0.019   1.873  1.00  0.00           H  \\nHETATM   10  H5  tes A   1      -0.179  -1.534   1.009  1.00  0.00           H  \\nHETATM   11  H6  tes A   1       2.149  -1.507   2.126  1.00  0.00           H  \\nTER      12      tes A   1\\nENDMDL\\nMODEL        3\\nHETATM    1  O1  tes A   1       0.022  -0.434  -0.376  1.00  0.00           O  \\nHETATM    2  C1  tes A   1      -0.310   0.628   0.507  1.00  0.00           C  \\nHETATM    3  C2  tes A   1       0.919   1.411   1.036  1.00  0.00           C  \\nHETATM    4  C3  tes A   1       1.967   0.500   1.483  1.00  0.00           C  \\nHETATM    5  O2  tes A   1       1.722  -0.509   2.076  1.00  0.00           O  \\nHETATM    6  H1  tes A   1      -0.206  -1.274   0.101  1.00  0.00           H  \\nHETATM    7  H2  tes A   1      -0.935   1.249  -0.190  1.00  0.00           H  \\nHETATM    8  H3  tes A   1      -0.955   0.175   1.328  1.00  0.00           H  \\nHETATM    9  H4  tes A   1       1.399   1.932   0.223  1.00  0.00           H  \\nHETATM   10  H5  tes A   1       0.647   2.113   1.876  1.00  0.00           H  \\nHETATM   11  H6  tes A   1       3.036   0.674   1.266  1.00  0.00           H  \\nTER      12      tes A   1\\nENDMDL\\nMODEL        4\\nHETATM    1  O1  tes A   1       0.527   0.977  -0.821  1.00  0.00           O  \\nHETATM    2  C1  tes A   1       0.056   1.326   0.466  1.00  0.00           C  \\nHETATM    3  C2  tes A   1       1.247   0.934   1.550  1.00  0.00           C  \\nHETATM    4  C3  tes A   1       1.663  -0.517   1.686  1.00  0.00           C  \\nHETATM    5  O2  tes A   1       0.805  -1.363   1.886  1.00  0.00           O  \\nHETATM    6  H1  tes A   1      -0.129   1.455  -1.378  1.00  0.00           H  \\nHETATM    7  H2  tes A   1      -0.185   2.385   0.604  1.00  0.00           H  \\nHETATM    8  H3  tes A   1      -0.840   0.692   0.709  1.00  0.00           H  \\nHETATM    9  H4  tes A   1       2.219   1.295   1.182  1.00  0.00           H  \\nHETATM   10  H5  tes A   1       1.085   1.432   2.534  1.00  0.00           H  \\nHETATM   11  H6  tes A   1       2.713  -0.677   1.688  1.00  0.00           H  \\nTER      12      tes A   1\\nENDMDL\\nMODEL        5\\nHETATM    1  O1  tes A   1      -1.137   1.267   1.073  1.00  0.00           O  \\nHETATM    2  C1  tes A   1      -0.040   0.377   1.413  1.00  0.00           C  \\nHETATM    3  C2  tes A   1       0.838   0.339   0.164  1.00  0.00           C  \\nHETATM    4  C3  tes A   1       2.020  -0.451   0.447  1.00  0.00           C  \\nHETATM    5  O2  tes A   1       2.779  -0.173   1.339  1.00  0.00           O  \\nHETATM    6  H1  tes A   1      -1.778   1.315   1.843  1.00  0.00           H  \\nHETATM    7  H2  tes A   1       0.459   0.720   2.371  1.00  0.00           H  \\nHETATM    8  H3  tes A   1      -0.367  -0.641   1.525  1.00  0.00           H  \\nHETATM    9  H4  tes A   1       0.298  -0.143  -0.771  1.00  0.00           H  \\nHETATM   10  H5  tes A   1       1.291   1.304  -0.092  1.00  0.00           H  \\nHETATM   11  H6  tes A   1       2.318  -1.246  -0.184  1.00  0.00           H  \\nTER      12      tes A   1\\nENDMDL\\nMODEL        6\\nHETATM    1  O1  tes A   1       0.693   0.327   3.199  1.00  0.00           O  \\nHETATM    2  C1  tes A   1       1.340   0.143   1.906  1.00  0.00           C  \\nHETATM    3  C2  tes A   1       0.361   0.717   0.852  1.00  0.00           C  \\nHETATM    4  C3  tes A   1       0.968   0.638  -0.466  1.00  0.00           C  \\nHETATM    5  O2  tes A   1       0.835  -0.305  -1.193  1.00  0.00           O  \\nHETATM    6  H1  tes A   1      -0.210  -0.044   3.055  1.00  0.00           H  \\nHETATM    7  H2  tes A   1       2.291   0.649   1.895  1.00  0.00           H  \\nHETATM    8  H3  tes A   1       1.458  -1.004   1.811  1.00  0.00           H  \\nHETATM    9  H4  tes A   1      -0.622   0.221   0.784  1.00  0.00           H  \\nHETATM   10  H5  tes A   1       0.234   1.836   0.969  1.00  0.00           H  \\nHETATM   11  H6  tes A   1       1.569   1.427  -0.780  1.00  0.00           H  \\nTER      12      tes A   1\\nENDMDL\\nMODEL        7\\nHETATM    1  O1  tes A   1       2.522  -0.160   0.168  1.00  0.00           O  \\nHETATM    2  C1  tes A   1       1.338   0.308  -0.484  1.00  0.00           C  \\nHETATM    3  C2  tes A   1       0.288   0.893   0.495  1.00  0.00           C  \\nHETATM    4  C3  tes A   1       0.152   0.008   1.668  1.00  0.00           C  \\nHETATM    5  O2  tes A   1      -0.350   0.464   2.704  1.00  0.00           O  \\nHETATM    6  H1  tes A   1       2.946   0.611   0.674  1.00  0.00           H  \\nHETATM    7  H2  tes A   1       1.488   1.018  -1.342  1.00  0.00           H  \\nHETATM    8  H3  tes A   1       0.844  -0.599  -0.932  1.00  0.00           H  \\nHETATM    9  H4  tes A   1       0.708   1.890   0.972  1.00  0.00           H  \\nHETATM   10  H5  tes A   1      -0.736   1.103   0.042  1.00  0.00           H  \\nHETATM   11  H6  tes A   1       0.523  -1.011   1.659  1.00  0.00           H  \\nTER      12      tes A   1\\nENDMDL\\nMODEL        8\\nHETATM    1  O1  tes A   1       0.261   1.530   1.893  1.00  0.00           O  \\nHETATM    2  C1  tes A   1       0.112   0.136   2.011  1.00  0.00           C  \\nHETATM    3  C2  tes A   1       0.096  -0.521   0.588  1.00  0.00           C  \\nHETATM    4  C3  tes A   1       1.201   0.109  -0.206  1.00  0.00           C  \\nHETATM    5  O2  tes A   1       2.403   0.010   0.029  1.00  0.00           O  \\nHETATM    6  H1  tes A   1      -0.029   1.960   2.741  1.00  0.00           H  \\nHETATM    7  H2  tes A   1       0.965  -0.237   2.582  1.00  0.00           H  \\nHETATM    8  H3  tes A   1      -0.797  -0.158   2.666  1.00  0.00           H  \\nHETATM    9  H4  tes A   1       0.244  -1.630   0.583  1.00  0.00           H  \\nHETATM   10  H5  tes A   1      -0.851  -0.354   0.004  1.00  0.00           H  \\nHETATM   11  H6  tes A   1       0.955   0.775  -0.988  1.00  0.00           H  \\nTER      12      tes A   1\\nENDMDL\\nMODEL        9\\nHETATM    1  O1  tes A   1       0.613  -1.152   1.963  1.00  0.00           O  \\nHETATM    2  C1  tes A   1       1.390  -0.904   0.784  1.00  0.00           C  \\nHETATM    3  C2  tes A   1       0.657   0.128  -0.106  1.00  0.00           C  \\nHETATM    4  C3  tes A   1       0.295   1.443   0.539  1.00  0.00           C  \\nHETATM    5  O2  tes A   1       1.185   2.153   1.040  1.00  0.00           O  \\nHETATM    6  H1  tes A   1       1.248  -1.630   2.561  1.00  0.00           H  \\nHETATM    7  H2  tes A   1       2.419  -0.616   1.110  1.00  0.00           H  \\nHETATM    8  H3  tes A   1       1.410  -1.888   0.276  1.00  0.00           H  \\nHETATM    9  H4  tes A   1       1.230   0.388  -1.009  1.00  0.00           H  \\nHETATM   10  H5  tes A   1      -0.227  -0.395  -0.513  1.00  0.00           H  \\nHETATM   11  H6  tes A   1      -0.706   1.811   0.709  1.00  0.00           H  \\nTER      12      tes A   1\\nENDMDL\\nMODEL       10\\nHETATM    1  O1  tes A   1       0.936   2.097   1.222  1.00  0.00           O  \\nHETATM    2  C1  tes A   1       1.751   1.123   0.705  1.00  0.00           C  \\nHETATM    3  C2  tes A   1       1.587  -0.245   1.363  1.00  0.00           C  \\nHETATM    4  C3  tes A   1       0.170  -0.688   1.176  1.00  0.00           C  \\nHETATM    5  O2  tes A   1      -0.164  -1.190   0.127  1.00  0.00           O  \\nHETATM    6  H1  tes A   1       1.173   2.922   0.704  1.00  0.00           H  \\nHETATM    7  H2  tes A   1       1.702   1.124  -0.446  1.00  0.00           H  \\nHETATM    8  H3  tes A   1       2.817   1.409   0.854  1.00  0.00           H  \\nHETATM    9  H4  tes A   1       2.298  -1.050   1.008  1.00  0.00           H  \\nHETATM   10  H5  tes A   1       1.717  -0.155   2.448  1.00  0.00           H  \\nHETATM   11  H6  tes A   1      -0.590  -0.412   1.798  1.00  0.00           H  \\nTER      12      tes A   1\\nENDMDL\\n\",\"pdb\",{\"keepH\": true});\n",
              "\tviewer_17473147625560868.animate({\"interval\": 1200, \"loop\": \"forward\", \"reps\": 10});\n",
              "\tviewer_17473147625560868.setStyle({\"stick\": {}, \"sphere\": {\"scale\": 0.25}});\n",
              "\tviewer_17473147625560868.zoomTo();\n",
              "viewer_17473147625560868.render();\n",
              "});\n",
              "</script>"
            ]
          },
          "metadata": {}
        }
      ],
      "source": [
        "#@title Visualize the dynamics\n",
        "import py3Dmol as p3d\n",
        "interval = 1200 #@param  {type:\"slider\", min:100, max:2000, step:100}\n",
        "print('Output geometry:')\n",
        "viewer = p3d.view(width=400,height=250)\n",
        "viewer.addModelsAsFrames(open(gromacs_file + '.pdb', 'r').read(),'pdb', {'keepH': True})\n",
        "viewer.animate({'interval': interval, 'loop': \"forward\", 'reps': 10})\n",
        "viewer.setStyle({\"stick\":{},\"sphere\": {\"scale\":0.25}})\n",
        "viewer.zoomTo()\n",
        "viewer.show()"
      ]
    },
    {
      "cell_type": "code",
      "source": [
        "#@title MM optimization of all snapshots\n",
        "#@markdown 10 snapshots of ibuprofen (3 min)\n",
        "import MDAnalysis as mda\n",
        "\n",
        "for i in range(snapshots):\n",
        "  universe = mda.Universe(gromacs_file + '.pdb')\n",
        "  universe.trajectory[i]\n",
        "  allatoms = universe.select_atoms('all')\n",
        "  allatoms.write(gromacs_file + str(i+1) + '.xyz')\n",
        "  #with mda.Writer(gromacs_file + '.xyz') as xyz:\n",
        "  #   xyz.write(universe)\n",
        "\n",
        "total_results = []\n",
        "for i in range(snapshots):\n",
        "  molecule = vlx.Molecule.read_xyz_file(gromacs_file + str(i+1) + '.xyz')\n",
        "  print('Optimizing structure ' + str(i+1) + ' of ' + str(snapshots))\n",
        "  vlxopenmm = vlx.OpenMMDriver()\n",
        "  vlxopenmm.add_topology(gromacs_file + '.top')\n",
        "  opt = vlx.OptimizationDriver(vlxopenmm)\n",
        "  opt.ostream.mute()\n",
        "#    opt.constraints = [\"freeze dihedral 18 14 12 11\"]\n",
        "  results = opt.compute(molecule)\n",
        "\n",
        "  total_results.append(results)\n",
        "\n",
        "print(' ')\n",
        "\n",
        "last_energies = []\n",
        "final_geometries = []\n",
        "\n",
        "for i in range(snapshots):\n",
        "  res = total_results[i]['opt_energies'][-1]\n",
        "  last_energies.append(res)\n",
        "for i in range(snapshots):\n",
        "  geos = total_results[i]['final_geometry']\n",
        "  final_geometries.append(geos)\n",
        "for i in range(snapshots):\n",
        "  print('Energy', last_energies[i])\n",
        "\n",
        "m = min(last_energies)\n",
        "m_index = last_energies.index(m)\n",
        "print(final_geometries[m_index])\n",
        "lowest_geometry = vlx.Molecule.read_xyz_string(final_geometries[m_index])\n",
        "lowest_geometry.show()"
      ],
      "metadata": {
        "id": "J3Se4x8IpZXm",
        "cellView": "form",
        "colab": {
          "base_uri": "https://localhost:8080/",
          "height": 942
        },
        "outputId": "0c78ee98-e6e9-49aa-a9f9-1479aabcb42b"
      },
      "execution_count": 7,
      "outputs": [
        {
          "output_type": "stream",
          "name": "stdout",
          "text": [
            "Optimizing structure 1 of 10\n",
            "Optimizing structure 2 of 10\n",
            "Optimizing structure 3 of 10\n",
            "Optimizing structure 4 of 10\n",
            "Optimizing structure 5 of 10\n",
            "Optimizing structure 6 of 10\n",
            "Optimizing structure 7 of 10\n",
            "Optimizing structure 8 of 10\n",
            "Optimizing structure 9 of 10\n",
            "Optimizing structure 10 of 10\n",
            " \n",
            "Energy -0.0233927642450432\n",
            "Energy -0.02339276133916029\n",
            "Energy -0.02339277005680902\n",
            "Energy -0.02289839219741661\n",
            "Energy -0.022519180289493314\n",
            "Energy -0.022022437041412577\n",
            "Energy -0.02120145828417328\n",
            "Energy -0.022902751021780854\n",
            "Energy -0.022902056515765483\n",
            "Energy -0.022902646409996112\n",
            "11\n",
            "\n",
            "O             -0.206993738084        -0.397487887774        -0.402780448075\n",
            "C             -0.396180528605         0.635618660846         0.524238687611\n",
            "C              0.932763580491         1.318696908370         0.881128242769\n",
            "C              1.943117117757         0.416069049749         1.542036887065\n",
            "O              1.668745239083        -0.730641937832         1.864457566435\n",
            "H              0.288256293152        -1.106293073749         0.088152266368\n",
            "H             -1.096509193937         1.393131325965         0.105264390330\n",
            "H             -0.869012738263         0.218523428809         1.439106606587\n",
            "H              1.384107914522         1.769389225497        -0.029149278902\n",
            "H              0.716124116138         2.154912234833         1.579617420220\n",
            "H              2.941581598967         0.793082379464         1.737927440399\n",
            "\n"
          ]
        },
        {
          "output_type": "display_data",
          "data": {
            "application/3dmoljs_load.v0": "<div id=\"3dmolviewer_17473147809277096\"  style=\"position: relative; width: 400px; height: 300px;\">\n        <p id=\"3dmolwarning_17473147809277096\" style=\"background-color:#ffcccc;color:black\">3Dmol.js failed to load for some reason.  Please check your browser console for error messages.<br></p>\n        </div>\n<script>\n\nvar loadScriptAsync = function(uri){\n  return new Promise((resolve, reject) => {\n    //this is to ignore the existence of requirejs amd\n    var savedexports, savedmodule;\n    if (typeof exports !== 'undefined') savedexports = exports;\n    else exports = {}\n    if (typeof module !== 'undefined') savedmodule = module;\n    else module = {}\n\n    var tag = document.createElement('script');\n    tag.src = uri;\n    tag.async = true;\n    tag.onload = () => {\n        exports = savedexports;\n        module = savedmodule;\n        resolve();\n    };\n  var firstScriptTag = document.getElementsByTagName('script')[0];\n  firstScriptTag.parentNode.insertBefore(tag, firstScriptTag);\n});\n};\n\nif(typeof $3Dmolpromise === 'undefined') {\n$3Dmolpromise = null;\n  $3Dmolpromise = loadScriptAsync('https://cdnjs.cloudflare.com/ajax/libs/3Dmol/2.4.2/3Dmol-min.js');\n}\n\nvar viewer_17473147809277096 = null;\nvar warn = document.getElementById(\"3dmolwarning_17473147809277096\");\nif(warn) {\n    warn.parentNode.removeChild(warn);\n}\n$3Dmolpromise.then(function() {\nviewer_17473147809277096 = $3Dmol.createViewer(document.getElementById(\"3dmolviewer_17473147809277096\"),{backgroundColor:\"white\"});\nviewer_17473147809277096.zoomTo();\n\tviewer_17473147809277096.addModel(\"11\\n\\nO             -0.206993738084        -0.397487887774        -0.402780448075\\nC             -0.396180528605         0.635618660846         0.524238687611\\nC              0.932763580491         1.318696908370         0.881128242769\\nC              1.943117117757         0.416069049749         1.542036887065\\nO              1.668745239083        -0.730641937832         1.864457566435\\nH              0.288256293152        -1.106293073749         0.088152266368\\nH             -1.096509193937         1.393131325965         0.105264390330\\nH             -0.869012738263         0.218523428809         1.439106606587\\nH              1.384107914522         1.769389225497        -0.029149278902\\nH              0.716124116138         2.154912234833         1.579617420220\\nH              2.941581598967         0.793082379464         1.737927440399\\n\");\n\tviewer_17473147809277096.setViewStyle({\"style\": \"outline\", \"width\": 0.05});\n\tviewer_17473147809277096.setStyle({\"stick\": {}, \"sphere\": {\"scale\": 0.25}});\n\tviewer_17473147809277096.zoomTo();\nviewer_17473147809277096.render();\n});\n</script>",
            "text/html": [
              "<div id=\"3dmolviewer_17473147809277096\"  style=\"position: relative; width: 400px; height: 300px;\">\n",
              "        <p id=\"3dmolwarning_17473147809277096\" style=\"background-color:#ffcccc;color:black\">3Dmol.js failed to load for some reason.  Please check your browser console for error messages.<br></p>\n",
              "        </div>\n",
              "<script>\n",
              "\n",
              "var loadScriptAsync = function(uri){\n",
              "  return new Promise((resolve, reject) => {\n",
              "    //this is to ignore the existence of requirejs amd\n",
              "    var savedexports, savedmodule;\n",
              "    if (typeof exports !== 'undefined') savedexports = exports;\n",
              "    else exports = {}\n",
              "    if (typeof module !== 'undefined') savedmodule = module;\n",
              "    else module = {}\n",
              "\n",
              "    var tag = document.createElement('script');\n",
              "    tag.src = uri;\n",
              "    tag.async = true;\n",
              "    tag.onload = () => {\n",
              "        exports = savedexports;\n",
              "        module = savedmodule;\n",
              "        resolve();\n",
              "    };\n",
              "  var firstScriptTag = document.getElementsByTagName('script')[0];\n",
              "  firstScriptTag.parentNode.insertBefore(tag, firstScriptTag);\n",
              "});\n",
              "};\n",
              "\n",
              "if(typeof $3Dmolpromise === 'undefined') {\n",
              "$3Dmolpromise = null;\n",
              "  $3Dmolpromise = loadScriptAsync('https://cdnjs.cloudflare.com/ajax/libs/3Dmol/2.4.2/3Dmol-min.js');\n",
              "}\n",
              "\n",
              "var viewer_17473147809277096 = null;\n",
              "var warn = document.getElementById(\"3dmolwarning_17473147809277096\");\n",
              "if(warn) {\n",
              "    warn.parentNode.removeChild(warn);\n",
              "}\n",
              "$3Dmolpromise.then(function() {\n",
              "viewer_17473147809277096 = $3Dmol.createViewer(document.getElementById(\"3dmolviewer_17473147809277096\"),{backgroundColor:\"white\"});\n",
              "viewer_17473147809277096.zoomTo();\n",
              "\tviewer_17473147809277096.addModel(\"11\\n\\nO             -0.206993738084        -0.397487887774        -0.402780448075\\nC             -0.396180528605         0.635618660846         0.524238687611\\nC              0.932763580491         1.318696908370         0.881128242769\\nC              1.943117117757         0.416069049749         1.542036887065\\nO              1.668745239083        -0.730641937832         1.864457566435\\nH              0.288256293152        -1.106293073749         0.088152266368\\nH             -1.096509193937         1.393131325965         0.105264390330\\nH             -0.869012738263         0.218523428809         1.439106606587\\nH              1.384107914522         1.769389225497        -0.029149278902\\nH              0.716124116138         2.154912234833         1.579617420220\\nH              2.941581598967         0.793082379464         1.737927440399\\n\");\n",
              "\tviewer_17473147809277096.setViewStyle({\"style\": \"outline\", \"width\": 0.05});\n",
              "\tviewer_17473147809277096.setStyle({\"stick\": {}, \"sphere\": {\"scale\": 0.25}});\n",
              "\tviewer_17473147809277096.zoomTo();\n",
              "viewer_17473147809277096.render();\n",
              "});\n",
              "</script>"
            ]
          },
          "metadata": {}
        }
      ]
    },
    {
      "cell_type": "code",
      "source": [
        "#@title XTB optimization of all snapshots\n",
        "#@markdown Example timing: ibuprofen (7 min)\n",
        "import MDAnalysis as mda\n",
        "\n",
        "\n",
        "for i in range(snapshots):\n",
        "  universe = mda.Universe(gromacs_file + '.pdb')\n",
        "  universe.trajectory[i]\n",
        "  allatoms = universe.select_atoms('all')\n",
        "  allatoms.write(gromacs_file + str(i+1) + '.xyz')\n",
        "  #with mda.Writer(gromacs_file + '.xyz') as xyz:\n",
        "  #   xyz.write(universe)\n",
        "\n",
        "total_results = []\n",
        "for i in range(snapshots):\n",
        "  print('Optimizing structure ' + str(i+1) + ' of ' + str(snapshots))\n",
        "  molecule = vlx.Molecule.read_xyz_file(gromacs_file + str(i+1) + '.xyz')\n",
        "  vlxXtb = vlx.XtbDriver()\n",
        "  opt = vlx.OptimizationDriver(vlxXtb)\n",
        "  opt.ostream.mute()\n",
        "#    opt.constraints = [\"freeze dihedral 18 14 12 11\"]\n",
        "  results = opt.compute(molecule)\n",
        "\n",
        "  total_results.append(results)\n",
        "\n",
        "print(' ')\n",
        "last_energies = []\n",
        "final_geometries = []\n",
        "\n",
        "for i in range(snapshots):\n",
        "  res = total_results[i]['opt_energies'][-1]\n",
        "  last_energies.append(res)\n",
        "for i in range(snapshots):\n",
        "  geos = total_results[i]['final_geometry']\n",
        "  final_geometries.append(geos)\n",
        "for i in range(snapshots):\n",
        "  print('Energy', last_energies[i])\n",
        "\n",
        "m = min(last_energies)\n",
        "m_index = last_energies.index(m)\n",
        "print(final_geometries[m_index])\n",
        "lowest_geometry = vlx.Molecule.read_xyz_string(final_geometries[m_index])\n",
        "lowest_geometry.show()"
      ],
      "metadata": {
        "cellView": "form",
        "id": "8bl9Ybyxu_kA",
        "colab": {
          "base_uri": "https://localhost:8080/"
        },
        "outputId": "0490eb20-c38c-4b3b-d29a-2e1f5e232eb4"
      },
      "execution_count": null,
      "outputs": [
        {
          "output_type": "stream",
          "name": "stdout",
          "text": [
            "Optimizing structure 1 of 10\n",
            "Optimizing structure 2 of 10\n"
          ]
        }
      ]
    },
    {
      "cell_type": "code",
      "source": [
        "#@title Print relative energies of all structures\n",
        "for i in range(snapshots):\n",
        "  lowest_geometry = vlx.Molecule.read_xyz_string(final_geometries[i])\n",
        "  print('Relative energy: ', (last_energies[i] - last_energies[m_index])*627.5)\n",
        "  lowest_geometry.show()\n",
        "  print(final_geometries[i])\n"
      ],
      "metadata": {
        "cellView": "form",
        "id": "pBwsxFuDk0b-"
      },
      "execution_count": null,
      "outputs": []
    },
    {
      "cell_type": "code",
      "source": [
        "#@title Write optimized coordinates to files\n",
        "for i in range(snapshots):\n",
        "  optimized_geometry = vlx.Molecule.read_xyz_string(final_geometries[i])\n",
        "  optimized_geometry.write_xyz_file('opt' + str(i+1) + '.xyz')"
      ],
      "metadata": {
        "cellView": "form",
        "id": "kejwBxnKFYRL"
      },
      "execution_count": null,
      "outputs": []
    }
  ]
}