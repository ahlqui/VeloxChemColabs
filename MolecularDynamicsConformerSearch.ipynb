{
  "nbformat": 4,
  "nbformat_minor": 0,
  "metadata": {
    "colab": {
      "provenance": [],
      "gpuType": "T4",
      "include_colab_link": true
    },
    "kernelspec": {
      "name": "python3",
      "display_name": "Python 3"
    },
    "language_info": {
      "name": "python"
    },
    "accelerator": "GPU"
  },
  "cells": [
    {
      "cell_type": "markdown",
      "metadata": {
        "id": "view-in-github",
        "colab_type": "text"
      },
      "source": [
        "<a href=\"https://colab.research.google.com/github/ahlqui/VeloxChemColabs/blob/main/MolecularDynamicsConformerSearch.ipynb\" target=\"_parent\"><img src=\"https://colab.research.google.com/assets/colab-badge.svg\" alt=\"Open In Colab\"/></a>"
      ]
    },
    {
      "cell_type": "markdown",
      "source": [
        "\n",
        "\n",
        "\n",
        "# Generate a force field from XYZ and run dynamics\n"
      ],
      "metadata": {
        "id": "_f9U7ujQXRh7"
      }
    },
    {
      "cell_type": "markdown",
      "source": [
        "This notebook requires that you have a molecular structure. Two options:\n",
        "\n",
        "Define Molecule as XYZ-coordinates: Can be generatred with free software such as www.avogadro.cc\n",
        "\n",
        "Define Molecule with SMILES code, A molecule can be defined using a SMILES code (example below). We have two suggested ways to generate smiles from structure. 1) Sketch your molecule at https://www.rcsb.org/chemical-sketch and the SMILES code will be shown right below the structure. 2) Build your molecule at https://molview.org/ , go to Tools/Information Card and it will show you the SMILES code. Just copy/paste it into the SMILES box below.\n",
        "\n",
        "Example of xyz-coordinates for CO2:\n",
        "\n",
        "O 0.00 0.00 0.00\n",
        "\n",
        "C 0.00 0.00 1.20\n",
        "\n",
        "O 0.00 0.00 2.40\n",
        "\n",
        "Example of SMILES for CO2:\n",
        "\n",
        "O=C=O"
      ],
      "metadata": {
        "id": "jsrGVECSXfex"
      }
    },
    {
      "cell_type": "code",
      "execution_count": 1,
      "metadata": {
        "cellView": "form",
        "id": "LjiFcUn5LT-g"
      },
      "outputs": [],
      "source": [
        "#@title Install VeloxChem and dependencies (ca 2 min)\n",
        "#@markdown Before you can run anything a few things need to be installed. It all runs on the Google Colab server an you do not need to install anything on your computer.\n",
        "%%capture\n",
        "import sys\n",
        "\n",
        "! wget -qnc https://github.com/conda-forge/miniforge/releases/latest/download/Miniforge3-Linux-x86_64.sh\n",
        "! bash Miniforge3-Linux-x86_64.sh -bfp /usr/local\n",
        "! mamba config --set auto_update_conda false\n",
        "import sys\n",
        "sys.path.append('/usr/local/lib/python3.11/site-packages/')\n",
        "!mamba install -y -c conda-forge -c veloxchem veloxchem xtb-python dftd4-python py3Dmol MDAnalysis openmm matplotlib python=3.11\n",
        "! pip install rdkit\n",
        "import veloxchem as vlx"
      ]
    },
    {
      "cell_type": "code",
      "source": [
        "xyz_coordinates = \"\"\"\n",
        "N     0.4785967928750  -0.4330741880750  -0.4934317502006\n",
        "H     1.3794564278886   0.0429751463168  -0.5120458348956\n",
        "C     0.4573285404340  -1.3154740355836  -1.6452845209868\n",
        "H     1.2794157350200  -2.0270971721773  -1.5868316520123\n",
        "H    -0.4697908768414  -1.8882598290096  -1.6558792536570\n",
        "C     0.3747047426388  -1.2102491878280   0.7331072010194\n",
        "H    -0.4082292852521  -1.9567463178277   0.6148319854093\n",
        "H     1.2952953868059  -1.7540437197433   0.9183116804327\n",
        "C     0.6956425554192   0.9059967227241  -5.3588904651214\n",
        "C     1.6690431285267  -0.0704102447688  -5.0614336089256\n",
        "C     1.5905279342425  -0.7922292640998  -3.8527793116028\n",
        "C     0.5421211238334  -0.5430166236398  -2.9451176135833\n",
        "C    -0.4312572408155   0.4285446612223  -3.2497814984180\n",
        "C    -0.3564249048118   1.1570067527526  -4.4544417171718\n",
        "H     0.7549521548685   1.4652126122086  -6.2812972715425\n",
        "H     2.3338053657174  -1.5390048087124  -3.6163728176857\n",
        "H    -1.2215586002930   0.6165771400284  -2.5371827271696\n",
        "C    -0.5809783149118   1.1061887532548   4.2819306994214\n",
        "C    -1.0539691464599  -0.2152180430193   4.1484967454886\n",
        "C    -0.7402866542775  -0.9585904738513   2.9917812697427\n",
        "C     0.0501603450518  -0.3918335577218   1.9715484114033\n",
        "C     0.5329231859523   0.9234697295847   2.1220017776407\n",
        "C     0.2096151223583   1.6793509886579   3.2655299818144\n",
        "H    -0.8298576406810   1.6816374807225   5.1614537759970\n",
        "H    -1.1155297675244  -1.9639771384900   2.8737258346041\n",
        "H     1.1311551788061   1.3586475153088   1.3389498331805\n",
        "C     2.7985412681099  -0.3440921389086  -6.0320361103160\n",
        "H     3.0137177612643  -1.4119025048439  -6.0784904425001\n",
        "H     2.5433990952730  -0.0090827377477  -7.0376742707821\n",
        "H     3.7013243404231   0.1769923076871  -5.7132670703364\n",
        "C    -1.3956677617432   2.2110713683443  -4.7713360805252\n",
        "H    -2.2850215726603   2.0829577471538  -4.1532353918110\n",
        "H    -0.9892606342753   3.2051959925139  -4.5854917335667\n",
        "H    -1.6989550492144   2.1496453780473  -5.8166145479409\n",
        "C    -1.9096053739985  -0.8269385079269   5.2372774019485\n",
        "H    -1.8730938416183  -1.9157634078951   5.1986764605346\n",
        "H    -1.5629099527925  -0.5125717843390   6.2218512212214\n",
        "H    -2.9465170241487  -0.5126306418706   5.1188520156529\n",
        "C     0.7055071531436   3.1039291474455   3.3878074482962\n",
        "H     0.6996321098764   3.5926125742168   2.4126899821207\n",
        "H     0.0720511304863   3.6841458846608   4.0587668370105\n",
        "H     1.7245462284362   3.1151446899290   3.7742478882927\n",
        "\"\"\"\n"
      ],
      "metadata": {
        "id": "NzBaWJTJ8mrU"
      },
      "execution_count": 2,
      "outputs": []
    },
    {
      "cell_type": "markdown",
      "metadata": {
        "id": "4P9wqdJtiNbu"
      },
      "source": [
        "In the box below you can input the smiles code of the molecule. If you want to generate forcefields for molecular dynamics, enter the name that you want for your files and a three letter residue name. This code will generate a GAFF2 force field with RESP-charges calculated at the HF/sto-3g level of theory. Since this is a quantum chemical computations it may take some time if your molecule is larger.\n",
        "\n",
        "(If you want a different basis set you can change the basis = vlx.MolecularBasis.read(molecule, 'sto-3g') line in the \"Generate a force field\" cell below)"
      ]
    },
    {
      "cell_type": "code",
      "execution_count": 9,
      "metadata": {
        "id": "kd3SxiFQFm6r",
        "cellView": "form",
        "colab": {
          "base_uri": "https://localhost:8080/",
          "height": 335
        },
        "outputId": "e184e20e-e61f-456c-b888-66f42618f81d"
      },
      "outputs": [
        {
          "output_type": "stream",
          "name": "stdout",
          "text": [
            "Structure of the molecule entered: \n"
          ]
        },
        {
          "output_type": "display_data",
          "data": {
            "application/3dmoljs_load.v0": "<div id=\"3dmolviewer_17507407132984774\"  style=\"position: relative; width: 400px; height: 300px;\">\n        <p id=\"3dmolwarning_17507407132984774\" style=\"background-color:#ffcccc;color:black\">3Dmol.js failed to load for some reason.  Please check your browser console for error messages.<br></p>\n        </div>\n<script>\n\nvar loadScriptAsync = function(uri){\n  return new Promise((resolve, reject) => {\n    //this is to ignore the existence of requirejs amd\n    var savedexports, savedmodule;\n    if (typeof exports !== 'undefined') savedexports = exports;\n    else exports = {}\n    if (typeof module !== 'undefined') savedmodule = module;\n    else module = {}\n\n    var tag = document.createElement('script');\n    tag.src = uri;\n    tag.async = true;\n    tag.onload = () => {\n        exports = savedexports;\n        module = savedmodule;\n        resolve();\n    };\n  var firstScriptTag = document.getElementsByTagName('script')[0];\n  firstScriptTag.parentNode.insertBefore(tag, firstScriptTag);\n});\n};\n\nif(typeof $3Dmolpromise === 'undefined') {\n$3Dmolpromise = null;\n  $3Dmolpromise = loadScriptAsync('https://cdn.jsdelivr.net/npm/3dmol@2.5.0/build/3Dmol-min.js');\n}\n\nvar viewer_17507407132984774 = null;\nvar warn = document.getElementById(\"3dmolwarning_17507407132984774\");\nif(warn) {\n    warn.parentNode.removeChild(warn);\n}\n$3Dmolpromise.then(function() {\nviewer_17507407132984774 = $3Dmol.createViewer(document.getElementById(\"3dmolviewer_17507407132984774\"),{backgroundColor:\"white\"});\nviewer_17507407132984774.zoomTo();\n\tviewer_17507407132984774.addModel(\"33\\n\\nC             -0.022755000000         1.171572000000        -3.233801000000\\nC             -0.767651000000         1.909206000000        -2.113149000000\\nC              0.215931000000         2.426350000000        -1.054851000000\\nC             -1.897532000000         1.052214000000        -1.495908000000\\nC             -1.409648000000        -0.209555000000        -0.822611000000\\nC             -1.292495000000        -1.403361000000        -1.550972000000\\nC             -0.828519000000        -2.567435000000        -0.932403000000\\nC             -0.473520000000        -2.560353000000         0.427463000000\\nC             -0.599081000000        -1.363316000000         1.156951000000\\nC             -1.063180000000        -0.200243000000         0.537176000000\\nC              0.026361000000        -3.829440000000         1.087888000000\\nC             -0.942043000000        -4.305647000000         2.177222000000\\nC              1.416304000000        -3.632031000000         1.630492000000\\nO              2.413253000000        -3.908080000000         0.910597000000\\nO              1.611223000000        -3.100716000000         2.903019000000\\nH              0.676211000000         1.867043000000        -3.745532000000\\nH             -0.743198000000         0.789012000000        -3.987739000000\\nH              0.564605000000         0.320643000000        -2.828490000000\\nH             -1.252570000000         2.799173000000        -2.572530000000\\nH             -0.332801000000         2.946414000000        -0.241072000000\\nH              0.920449000000         3.151656000000        -1.514948000000\\nH              0.806745000000         1.592917000000        -0.619325000000\\nH             -2.628279000000         0.787998000000        -2.291828000000\\nH             -2.460749000000         1.669308000000        -0.761556000000\\nH             -1.558004000000        -1.432275000000        -2.600485000000\\nH             -0.746199000000        -3.474481000000        -1.518141000000\\nH             -0.336488000000        -1.327838000000         2.206240000000\\nH             -1.149477000000         0.709836000000         1.117776000000\\nH              0.077349000000        -4.645900000000         0.332531000000\\nH             -1.038175000000        -3.554803000000         2.990102000000\\nH             -1.946989000000        -4.484090000000         1.738189000000\\nH             -0.580194000000        -5.260039000000         2.616286000000\\nH              2.544797000000        -2.948403000000         3.265284000000\\n\");\n\tviewer_17507407132984774.setViewStyle({\"style\": \"outline\", \"width\": 0.05});\n\tviewer_17507407132984774.setStyle({\"stick\": {}, \"sphere\": {\"scale\": 0.25}});\n\tviewer_17507407132984774.addLabel(\"1\",{\"position\": {\"x\": -0.022755, \"y\": 1.1715719999999998, \"z\": -3.233801}, \"alignment\": \"center\", \"fontColor\": 0, \"backgroundColor\": 16777215, \"backgroundOpacity\": 0.0});\n\tviewer_17507407132984774.addLabel(\"2\",{\"position\": {\"x\": -0.7676509999999999, \"y\": 1.909206, \"z\": -2.113149}, \"alignment\": \"center\", \"fontColor\": 0, \"backgroundColor\": 16777215, \"backgroundOpacity\": 0.0});\n\tviewer_17507407132984774.addLabel(\"3\",{\"position\": {\"x\": 0.21593099999999998, \"y\": 2.4263499999999993, \"z\": -1.054851}, \"alignment\": \"center\", \"fontColor\": 0, \"backgroundColor\": 16777215, \"backgroundOpacity\": 0.0});\n\tviewer_17507407132984774.addLabel(\"4\",{\"position\": {\"x\": -1.8975319999999998, \"y\": 1.052214, \"z\": -1.495908}, \"alignment\": \"center\", \"fontColor\": 0, \"backgroundColor\": 16777215, \"backgroundOpacity\": 0.0});\n\tviewer_17507407132984774.addLabel(\"5\",{\"position\": {\"x\": -1.409648, \"y\": -0.209555, \"z\": -0.822611}, \"alignment\": \"center\", \"fontColor\": 0, \"backgroundColor\": 16777215, \"backgroundOpacity\": 0.0});\n\tviewer_17507407132984774.addLabel(\"6\",{\"position\": {\"x\": -1.292495, \"y\": -1.403361, \"z\": -1.550972}, \"alignment\": \"center\", \"fontColor\": 0, \"backgroundColor\": 16777215, \"backgroundOpacity\": 0.0});\n\tviewer_17507407132984774.addLabel(\"7\",{\"position\": {\"x\": -0.828519, \"y\": -2.567435, \"z\": -0.932403}, \"alignment\": \"center\", \"fontColor\": 0, \"backgroundColor\": 16777215, \"backgroundOpacity\": 0.0});\n\tviewer_17507407132984774.addLabel(\"8\",{\"position\": {\"x\": -0.47352, \"y\": -2.560353, \"z\": 0.427463}, \"alignment\": \"center\", \"fontColor\": 0, \"backgroundColor\": 16777215, \"backgroundOpacity\": 0.0});\n\tviewer_17507407132984774.addLabel(\"9\",{\"position\": {\"x\": -0.5990809999999999, \"y\": -1.363316, \"z\": 1.156951}, \"alignment\": \"center\", \"fontColor\": 0, \"backgroundColor\": 16777215, \"backgroundOpacity\": 0.0});\n\tviewer_17507407132984774.addLabel(\"10\",{\"position\": {\"x\": -1.0631799999999998, \"y\": -0.200243, \"z\": 0.537176}, \"alignment\": \"center\", \"fontColor\": 0, \"backgroundColor\": 16777215, \"backgroundOpacity\": 0.0});\n\tviewer_17507407132984774.addLabel(\"11\",{\"position\": {\"x\": 0.026361, \"y\": -3.82944, \"z\": 1.087888}, \"alignment\": \"center\", \"fontColor\": 0, \"backgroundColor\": 16777215, \"backgroundOpacity\": 0.0});\n\tviewer_17507407132984774.addLabel(\"12\",{\"position\": {\"x\": -0.942043, \"y\": -4.305647, \"z\": 2.177222}, \"alignment\": \"center\", \"fontColor\": 0, \"backgroundColor\": 16777215, \"backgroundOpacity\": 0.0});\n\tviewer_17507407132984774.addLabel(\"13\",{\"position\": {\"x\": 1.416304, \"y\": -3.632031, \"z\": 1.6304919999999998}, \"alignment\": \"center\", \"fontColor\": 0, \"backgroundColor\": 16777215, \"backgroundOpacity\": 0.0});\n\tviewer_17507407132984774.addLabel(\"14\",{\"position\": {\"x\": 2.413253, \"y\": -3.90808, \"z\": 0.910597}, \"alignment\": \"center\", \"fontColor\": 0, \"backgroundColor\": 16777215, \"backgroundOpacity\": 0.0});\n\tviewer_17507407132984774.addLabel(\"15\",{\"position\": {\"x\": 1.611223, \"y\": -3.100716, \"z\": 2.9030189999999996}, \"alignment\": \"center\", \"fontColor\": 0, \"backgroundColor\": 16777215, \"backgroundOpacity\": 0.0});\n\tviewer_17507407132984774.addLabel(\"16\",{\"position\": {\"x\": 0.676211, \"y\": 1.867043, \"z\": -3.7455319999999994}, \"alignment\": \"center\", \"fontColor\": 0, \"backgroundColor\": 16777215, \"backgroundOpacity\": 0.0});\n\tviewer_17507407132984774.addLabel(\"17\",{\"position\": {\"x\": -0.7431979999999999, \"y\": 0.789012, \"z\": -3.987739}, \"alignment\": \"center\", \"fontColor\": 0, \"backgroundColor\": 16777215, \"backgroundOpacity\": 0.0});\n\tviewer_17507407132984774.addLabel(\"18\",{\"position\": {\"x\": 0.564605, \"y\": 0.320643, \"z\": -2.82849}, \"alignment\": \"center\", \"fontColor\": 0, \"backgroundColor\": 16777215, \"backgroundOpacity\": 0.0});\n\tviewer_17507407132984774.addLabel(\"19\",{\"position\": {\"x\": -1.25257, \"y\": 2.799173, \"z\": -2.5725299999999995}, \"alignment\": \"center\", \"fontColor\": 0, \"backgroundColor\": 16777215, \"backgroundOpacity\": 0.0});\n\tviewer_17507407132984774.addLabel(\"20\",{\"position\": {\"x\": -0.332801, \"y\": 2.946414, \"z\": -0.24107199999999998}, \"alignment\": \"center\", \"fontColor\": 0, \"backgroundColor\": 16777215, \"backgroundOpacity\": 0.0});\n\tviewer_17507407132984774.addLabel(\"21\",{\"position\": {\"x\": 0.920449, \"y\": 3.151656, \"z\": -1.514948}, \"alignment\": \"center\", \"fontColor\": 0, \"backgroundColor\": 16777215, \"backgroundOpacity\": 0.0});\n\tviewer_17507407132984774.addLabel(\"22\",{\"position\": {\"x\": 0.806745, \"y\": 1.592917, \"z\": -0.619325}, \"alignment\": \"center\", \"fontColor\": 0, \"backgroundColor\": 16777215, \"backgroundOpacity\": 0.0});\n\tviewer_17507407132984774.addLabel(\"23\",{\"position\": {\"x\": -2.628279, \"y\": 0.7879979999999999, \"z\": -2.291828}, \"alignment\": \"center\", \"fontColor\": 0, \"backgroundColor\": 16777215, \"backgroundOpacity\": 0.0});\n\tviewer_17507407132984774.addLabel(\"24\",{\"position\": {\"x\": -2.4607489999999994, \"y\": 1.669308, \"z\": -0.761556}, \"alignment\": \"center\", \"fontColor\": 0, \"backgroundColor\": 16777215, \"backgroundOpacity\": 0.0});\n\tviewer_17507407132984774.addLabel(\"25\",{\"position\": {\"x\": -1.558004, \"y\": -1.432275, \"z\": -2.6004849999999995}, \"alignment\": \"center\", \"fontColor\": 0, \"backgroundColor\": 16777215, \"backgroundOpacity\": 0.0});\n\tviewer_17507407132984774.addLabel(\"26\",{\"position\": {\"x\": -0.746199, \"y\": -3.4744809999999995, \"z\": -1.518141}, \"alignment\": \"center\", \"fontColor\": 0, \"backgroundColor\": 16777215, \"backgroundOpacity\": 0.0});\n\tviewer_17507407132984774.addLabel(\"27\",{\"position\": {\"x\": -0.336488, \"y\": -1.327838, \"z\": 2.20624}, \"alignment\": \"center\", \"fontColor\": 0, \"backgroundColor\": 16777215, \"backgroundOpacity\": 0.0});\n\tviewer_17507407132984774.addLabel(\"28\",{\"position\": {\"x\": -1.1494769999999999, \"y\": 0.709836, \"z\": 1.117776}, \"alignment\": \"center\", \"fontColor\": 0, \"backgroundColor\": 16777215, \"backgroundOpacity\": 0.0});\n\tviewer_17507407132984774.addLabel(\"29\",{\"position\": {\"x\": 0.07734899999999999, \"y\": -4.6459, \"z\": 0.332531}, \"alignment\": \"center\", \"fontColor\": 0, \"backgroundColor\": 16777215, \"backgroundOpacity\": 0.0});\n\tviewer_17507407132984774.addLabel(\"30\",{\"position\": {\"x\": -1.038175, \"y\": -3.5548029999999997, \"z\": 2.990102}, \"alignment\": \"center\", \"fontColor\": 0, \"backgroundColor\": 16777215, \"backgroundOpacity\": 0.0});\n\tviewer_17507407132984774.addLabel(\"31\",{\"position\": {\"x\": -1.9469889999999999, \"y\": -4.48409, \"z\": 1.738189}, \"alignment\": \"center\", \"fontColor\": 0, \"backgroundColor\": 16777215, \"backgroundOpacity\": 0.0});\n\tviewer_17507407132984774.addLabel(\"32\",{\"position\": {\"x\": -0.580194, \"y\": -5.260039, \"z\": 2.616286}, \"alignment\": \"center\", \"fontColor\": 0, \"backgroundColor\": 16777215, \"backgroundOpacity\": 0.0});\n\tviewer_17507407132984774.addLabel(\"33\",{\"position\": {\"x\": 2.544797, \"y\": -2.948403, \"z\": 3.265284}, \"alignment\": \"center\", \"fontColor\": 0, \"backgroundColor\": 16777215, \"backgroundOpacity\": 0.0});\n\tviewer_17507407132984774.zoomTo();\nviewer_17507407132984774.render();\n});\n</script>",
            "text/html": [
              "<div id=\"3dmolviewer_17507407132984774\"  style=\"position: relative; width: 400px; height: 300px;\">\n",
              "        <p id=\"3dmolwarning_17507407132984774\" style=\"background-color:#ffcccc;color:black\">3Dmol.js failed to load for some reason.  Please check your browser console for error messages.<br></p>\n",
              "        </div>\n",
              "<script>\n",
              "\n",
              "var loadScriptAsync = function(uri){\n",
              "  return new Promise((resolve, reject) => {\n",
              "    //this is to ignore the existence of requirejs amd\n",
              "    var savedexports, savedmodule;\n",
              "    if (typeof exports !== 'undefined') savedexports = exports;\n",
              "    else exports = {}\n",
              "    if (typeof module !== 'undefined') savedmodule = module;\n",
              "    else module = {}\n",
              "\n",
              "    var tag = document.createElement('script');\n",
              "    tag.src = uri;\n",
              "    tag.async = true;\n",
              "    tag.onload = () => {\n",
              "        exports = savedexports;\n",
              "        module = savedmodule;\n",
              "        resolve();\n",
              "    };\n",
              "  var firstScriptTag = document.getElementsByTagName('script')[0];\n",
              "  firstScriptTag.parentNode.insertBefore(tag, firstScriptTag);\n",
              "});\n",
              "};\n",
              "\n",
              "if(typeof $3Dmolpromise === 'undefined') {\n",
              "$3Dmolpromise = null;\n",
              "  $3Dmolpromise = loadScriptAsync('https://cdn.jsdelivr.net/npm/3dmol@2.5.0/build/3Dmol-min.js');\n",
              "}\n",
              "\n",
              "var viewer_17507407132984774 = null;\n",
              "var warn = document.getElementById(\"3dmolwarning_17507407132984774\");\n",
              "if(warn) {\n",
              "    warn.parentNode.removeChild(warn);\n",
              "}\n",
              "$3Dmolpromise.then(function() {\n",
              "viewer_17507407132984774 = $3Dmol.createViewer(document.getElementById(\"3dmolviewer_17507407132984774\"),{backgroundColor:\"white\"});\n",
              "viewer_17507407132984774.zoomTo();\n",
              "\tviewer_17507407132984774.addModel(\"33\\n\\nC             -0.022755000000         1.171572000000        -3.233801000000\\nC             -0.767651000000         1.909206000000        -2.113149000000\\nC              0.215931000000         2.426350000000        -1.054851000000\\nC             -1.897532000000         1.052214000000        -1.495908000000\\nC             -1.409648000000        -0.209555000000        -0.822611000000\\nC             -1.292495000000        -1.403361000000        -1.550972000000\\nC             -0.828519000000        -2.567435000000        -0.932403000000\\nC             -0.473520000000        -2.560353000000         0.427463000000\\nC             -0.599081000000        -1.363316000000         1.156951000000\\nC             -1.063180000000        -0.200243000000         0.537176000000\\nC              0.026361000000        -3.829440000000         1.087888000000\\nC             -0.942043000000        -4.305647000000         2.177222000000\\nC              1.416304000000        -3.632031000000         1.630492000000\\nO              2.413253000000        -3.908080000000         0.910597000000\\nO              1.611223000000        -3.100716000000         2.903019000000\\nH              0.676211000000         1.867043000000        -3.745532000000\\nH             -0.743198000000         0.789012000000        -3.987739000000\\nH              0.564605000000         0.320643000000        -2.828490000000\\nH             -1.252570000000         2.799173000000        -2.572530000000\\nH             -0.332801000000         2.946414000000        -0.241072000000\\nH              0.920449000000         3.151656000000        -1.514948000000\\nH              0.806745000000         1.592917000000        -0.619325000000\\nH             -2.628279000000         0.787998000000        -2.291828000000\\nH             -2.460749000000         1.669308000000        -0.761556000000\\nH             -1.558004000000        -1.432275000000        -2.600485000000\\nH             -0.746199000000        -3.474481000000        -1.518141000000\\nH             -0.336488000000        -1.327838000000         2.206240000000\\nH             -1.149477000000         0.709836000000         1.117776000000\\nH              0.077349000000        -4.645900000000         0.332531000000\\nH             -1.038175000000        -3.554803000000         2.990102000000\\nH             -1.946989000000        -4.484090000000         1.738189000000\\nH             -0.580194000000        -5.260039000000         2.616286000000\\nH              2.544797000000        -2.948403000000         3.265284000000\\n\");\n",
              "\tviewer_17507407132984774.setViewStyle({\"style\": \"outline\", \"width\": 0.05});\n",
              "\tviewer_17507407132984774.setStyle({\"stick\": {}, \"sphere\": {\"scale\": 0.25}});\n",
              "\tviewer_17507407132984774.addLabel(\"1\",{\"position\": {\"x\": -0.022755, \"y\": 1.1715719999999998, \"z\": -3.233801}, \"alignment\": \"center\", \"fontColor\": 0, \"backgroundColor\": 16777215, \"backgroundOpacity\": 0.0});\n",
              "\tviewer_17507407132984774.addLabel(\"2\",{\"position\": {\"x\": -0.7676509999999999, \"y\": 1.909206, \"z\": -2.113149}, \"alignment\": \"center\", \"fontColor\": 0, \"backgroundColor\": 16777215, \"backgroundOpacity\": 0.0});\n",
              "\tviewer_17507407132984774.addLabel(\"3\",{\"position\": {\"x\": 0.21593099999999998, \"y\": 2.4263499999999993, \"z\": -1.054851}, \"alignment\": \"center\", \"fontColor\": 0, \"backgroundColor\": 16777215, \"backgroundOpacity\": 0.0});\n",
              "\tviewer_17507407132984774.addLabel(\"4\",{\"position\": {\"x\": -1.8975319999999998, \"y\": 1.052214, \"z\": -1.495908}, \"alignment\": \"center\", \"fontColor\": 0, \"backgroundColor\": 16777215, \"backgroundOpacity\": 0.0});\n",
              "\tviewer_17507407132984774.addLabel(\"5\",{\"position\": {\"x\": -1.409648, \"y\": -0.209555, \"z\": -0.822611}, \"alignment\": \"center\", \"fontColor\": 0, \"backgroundColor\": 16777215, \"backgroundOpacity\": 0.0});\n",
              "\tviewer_17507407132984774.addLabel(\"6\",{\"position\": {\"x\": -1.292495, \"y\": -1.403361, \"z\": -1.550972}, \"alignment\": \"center\", \"fontColor\": 0, \"backgroundColor\": 16777215, \"backgroundOpacity\": 0.0});\n",
              "\tviewer_17507407132984774.addLabel(\"7\",{\"position\": {\"x\": -0.828519, \"y\": -2.567435, \"z\": -0.932403}, \"alignment\": \"center\", \"fontColor\": 0, \"backgroundColor\": 16777215, \"backgroundOpacity\": 0.0});\n",
              "\tviewer_17507407132984774.addLabel(\"8\",{\"position\": {\"x\": -0.47352, \"y\": -2.560353, \"z\": 0.427463}, \"alignment\": \"center\", \"fontColor\": 0, \"backgroundColor\": 16777215, \"backgroundOpacity\": 0.0});\n",
              "\tviewer_17507407132984774.addLabel(\"9\",{\"position\": {\"x\": -0.5990809999999999, \"y\": -1.363316, \"z\": 1.156951}, \"alignment\": \"center\", \"fontColor\": 0, \"backgroundColor\": 16777215, \"backgroundOpacity\": 0.0});\n",
              "\tviewer_17507407132984774.addLabel(\"10\",{\"position\": {\"x\": -1.0631799999999998, \"y\": -0.200243, \"z\": 0.537176}, \"alignment\": \"center\", \"fontColor\": 0, \"backgroundColor\": 16777215, \"backgroundOpacity\": 0.0});\n",
              "\tviewer_17507407132984774.addLabel(\"11\",{\"position\": {\"x\": 0.026361, \"y\": -3.82944, \"z\": 1.087888}, \"alignment\": \"center\", \"fontColor\": 0, \"backgroundColor\": 16777215, \"backgroundOpacity\": 0.0});\n",
              "\tviewer_17507407132984774.addLabel(\"12\",{\"position\": {\"x\": -0.942043, \"y\": -4.305647, \"z\": 2.177222}, \"alignment\": \"center\", \"fontColor\": 0, \"backgroundColor\": 16777215, \"backgroundOpacity\": 0.0});\n",
              "\tviewer_17507407132984774.addLabel(\"13\",{\"position\": {\"x\": 1.416304, \"y\": -3.632031, \"z\": 1.6304919999999998}, \"alignment\": \"center\", \"fontColor\": 0, \"backgroundColor\": 16777215, \"backgroundOpacity\": 0.0});\n",
              "\tviewer_17507407132984774.addLabel(\"14\",{\"position\": {\"x\": 2.413253, \"y\": -3.90808, \"z\": 0.910597}, \"alignment\": \"center\", \"fontColor\": 0, \"backgroundColor\": 16777215, \"backgroundOpacity\": 0.0});\n",
              "\tviewer_17507407132984774.addLabel(\"15\",{\"position\": {\"x\": 1.611223, \"y\": -3.100716, \"z\": 2.9030189999999996}, \"alignment\": \"center\", \"fontColor\": 0, \"backgroundColor\": 16777215, \"backgroundOpacity\": 0.0});\n",
              "\tviewer_17507407132984774.addLabel(\"16\",{\"position\": {\"x\": 0.676211, \"y\": 1.867043, \"z\": -3.7455319999999994}, \"alignment\": \"center\", \"fontColor\": 0, \"backgroundColor\": 16777215, \"backgroundOpacity\": 0.0});\n",
              "\tviewer_17507407132984774.addLabel(\"17\",{\"position\": {\"x\": -0.7431979999999999, \"y\": 0.789012, \"z\": -3.987739}, \"alignment\": \"center\", \"fontColor\": 0, \"backgroundColor\": 16777215, \"backgroundOpacity\": 0.0});\n",
              "\tviewer_17507407132984774.addLabel(\"18\",{\"position\": {\"x\": 0.564605, \"y\": 0.320643, \"z\": -2.82849}, \"alignment\": \"center\", \"fontColor\": 0, \"backgroundColor\": 16777215, \"backgroundOpacity\": 0.0});\n",
              "\tviewer_17507407132984774.addLabel(\"19\",{\"position\": {\"x\": -1.25257, \"y\": 2.799173, \"z\": -2.5725299999999995}, \"alignment\": \"center\", \"fontColor\": 0, \"backgroundColor\": 16777215, \"backgroundOpacity\": 0.0});\n",
              "\tviewer_17507407132984774.addLabel(\"20\",{\"position\": {\"x\": -0.332801, \"y\": 2.946414, \"z\": -0.24107199999999998}, \"alignment\": \"center\", \"fontColor\": 0, \"backgroundColor\": 16777215, \"backgroundOpacity\": 0.0});\n",
              "\tviewer_17507407132984774.addLabel(\"21\",{\"position\": {\"x\": 0.920449, \"y\": 3.151656, \"z\": -1.514948}, \"alignment\": \"center\", \"fontColor\": 0, \"backgroundColor\": 16777215, \"backgroundOpacity\": 0.0});\n",
              "\tviewer_17507407132984774.addLabel(\"22\",{\"position\": {\"x\": 0.806745, \"y\": 1.592917, \"z\": -0.619325}, \"alignment\": \"center\", \"fontColor\": 0, \"backgroundColor\": 16777215, \"backgroundOpacity\": 0.0});\n",
              "\tviewer_17507407132984774.addLabel(\"23\",{\"position\": {\"x\": -2.628279, \"y\": 0.7879979999999999, \"z\": -2.291828}, \"alignment\": \"center\", \"fontColor\": 0, \"backgroundColor\": 16777215, \"backgroundOpacity\": 0.0});\n",
              "\tviewer_17507407132984774.addLabel(\"24\",{\"position\": {\"x\": -2.4607489999999994, \"y\": 1.669308, \"z\": -0.761556}, \"alignment\": \"center\", \"fontColor\": 0, \"backgroundColor\": 16777215, \"backgroundOpacity\": 0.0});\n",
              "\tviewer_17507407132984774.addLabel(\"25\",{\"position\": {\"x\": -1.558004, \"y\": -1.432275, \"z\": -2.6004849999999995}, \"alignment\": \"center\", \"fontColor\": 0, \"backgroundColor\": 16777215, \"backgroundOpacity\": 0.0});\n",
              "\tviewer_17507407132984774.addLabel(\"26\",{\"position\": {\"x\": -0.746199, \"y\": -3.4744809999999995, \"z\": -1.518141}, \"alignment\": \"center\", \"fontColor\": 0, \"backgroundColor\": 16777215, \"backgroundOpacity\": 0.0});\n",
              "\tviewer_17507407132984774.addLabel(\"27\",{\"position\": {\"x\": -0.336488, \"y\": -1.327838, \"z\": 2.20624}, \"alignment\": \"center\", \"fontColor\": 0, \"backgroundColor\": 16777215, \"backgroundOpacity\": 0.0});\n",
              "\tviewer_17507407132984774.addLabel(\"28\",{\"position\": {\"x\": -1.1494769999999999, \"y\": 0.709836, \"z\": 1.117776}, \"alignment\": \"center\", \"fontColor\": 0, \"backgroundColor\": 16777215, \"backgroundOpacity\": 0.0});\n",
              "\tviewer_17507407132984774.addLabel(\"29\",{\"position\": {\"x\": 0.07734899999999999, \"y\": -4.6459, \"z\": 0.332531}, \"alignment\": \"center\", \"fontColor\": 0, \"backgroundColor\": 16777215, \"backgroundOpacity\": 0.0});\n",
              "\tviewer_17507407132984774.addLabel(\"30\",{\"position\": {\"x\": -1.038175, \"y\": -3.5548029999999997, \"z\": 2.990102}, \"alignment\": \"center\", \"fontColor\": 0, \"backgroundColor\": 16777215, \"backgroundOpacity\": 0.0});\n",
              "\tviewer_17507407132984774.addLabel(\"31\",{\"position\": {\"x\": -1.9469889999999999, \"y\": -4.48409, \"z\": 1.738189}, \"alignment\": \"center\", \"fontColor\": 0, \"backgroundColor\": 16777215, \"backgroundOpacity\": 0.0});\n",
              "\tviewer_17507407132984774.addLabel(\"32\",{\"position\": {\"x\": -0.580194, \"y\": -5.260039, \"z\": 2.616286}, \"alignment\": \"center\", \"fontColor\": 0, \"backgroundColor\": 16777215, \"backgroundOpacity\": 0.0});\n",
              "\tviewer_17507407132984774.addLabel(\"33\",{\"position\": {\"x\": 2.544797, \"y\": -2.948403, \"z\": 3.265284}, \"alignment\": \"center\", \"fontColor\": 0, \"backgroundColor\": 16777215, \"backgroundOpacity\": 0.0});\n",
              "\tviewer_17507407132984774.zoomTo();\n",
              "viewer_17507407132984774.render();\n",
              "});\n",
              "</script>"
            ]
          },
          "metadata": {}
        }
      ],
      "source": [
        "#@title Define your molecule, either asa SMILES code or xyz-coordinates above\n",
        "#@markdown - Enter the SMILES code\n",
        "smiles_code = 'CC(C)CC1=CC=C(C=C1)C(C)C(=O)O' #@param {type:\"string\"}\n",
        "#@markdown - If you want to use the xyz coordinates in the previous cell check box\n",
        "use_xyz = False # @param {type:\"boolean\"}\n",
        "if use_xyz == False:\n",
        "  molecule = vlx.Molecule.read_smiles(smiles_code)\n",
        "else:\n",
        "  molecule = vlx.Molecule.read_str(xyz_coordinates)\n",
        "print('Structure of the molecule entered: ')\n",
        "molecule.show(atom_indices=True)"
      ]
    },
    {
      "cell_type": "code",
      "source": [
        "%%capture\n",
        "#@title Generate a force field\n",
        "#@markdown - Run this cell to generate the force field\n",
        "#@markdown - Example timing: Ibuprofen (1 min)\n",
        "#@markdown - The files can be found on the left panel (\"Files\")\n",
        "basis = vlx.MolecularBasis.read(molecule, 'def2-sv(p)')\n",
        "scf_drv = vlx.ScfRestrictedDriver()\n",
        "scf_drv.xcfun = \"blyp\"\n",
        "scf_drv.ri_coulomb = True\n",
        "scf_drv.grid_level = 2\n",
        "scf_drv.level_shifting = 1.0\n",
        "scf_drv.conv_thresh = 1e-3\n",
        "scf_drv.dispersion = True\n",
        "results = scf_drv.compute(molecule, basis)\n",
        "ff_gen = vlx.MMForceFieldGenerator()\n",
        "ff_gen.create_topology(molecule, basis, results)\n"
      ],
      "metadata": {
        "id": "rW9KHJqfNqBx",
        "cellView": "form"
      },
      "execution_count": 10,
      "outputs": []
    },
    {
      "cell_type": "code",
      "execution_count": null,
      "metadata": {
        "id": "O0J87UqYXbCK",
        "colab": {
          "base_uri": "https://localhost:8080/"
        },
        "outputId": "a7a45d2d-e095-45f8-d892-ccc98149b132"
      },
      "outputs": [
        {
          "output_type": "stream",
          "name": "stdout",
          "text": [
            "* Info * System parameters written to residue_system.xml                                                                  \n",
            "* Info * System coordinates written to residue_system.pdb                                                                 \n",
            "* Info * Minimized energy: -50.00041484832764                                                                             \n",
            "* Info * Saved coordinates for step 5000                                                                                  \n",
            "* Info * Minimized energy: -51.17293334007263                                                                             \n",
            "* Info * Saved coordinates for step 10000                                                                                 \n",
            "* Info * Minimized energy: -57.301178336143494                                                                            \n",
            "* Info * Saved coordinates for step 15000                                                                                 \n"
          ]
        }
      ],
      "source": [
        "#@title Run dynamics\n",
        "#@markdown - Example timings: 200 ps MD of ibuprofen (22 sec)\n",
        "opm_dyn = vlx.OpenMMDynamics()\n",
        "opm_dyn.create_system_from_molecule(molecule, ff_gen)\n",
        "conformers_dict = opm_dyn.conformational_sampling(temperature=1000, ensemble='NVT', nsteps=100000, snapshots=20)"
      ]
    },
    {
      "cell_type": "code",
      "execution_count": 8,
      "metadata": {
        "id": "zWvAG92YWJCt",
        "cellView": "form",
        "colab": {
          "base_uri": "https://localhost:8080/",
          "height": 1000
        },
        "outputId": "01f5b1a0-bce7-4bca-b03e-710ffcf4126b"
      },
      "outputs": [
        {
          "output_type": "display_data",
          "data": {
            "application/3dmoljs_load.v0": "<div id=\"3dmolviewer_17507405499955435\"  style=\"position: relative; width: 400px; height: 300px;\">\n        <p id=\"3dmolwarning_17507405499955435\" style=\"background-color:#ffcccc;color:black\">3Dmol.js failed to load for some reason.  Please check your browser console for error messages.<br></p>\n        </div>\n<script>\n\nvar loadScriptAsync = function(uri){\n  return new Promise((resolve, reject) => {\n    //this is to ignore the existence of requirejs amd\n    var savedexports, savedmodule;\n    if (typeof exports !== 'undefined') savedexports = exports;\n    else exports = {}\n    if (typeof module !== 'undefined') savedmodule = module;\n    else module = {}\n\n    var tag = document.createElement('script');\n    tag.src = uri;\n    tag.async = true;\n    tag.onload = () => {\n        exports = savedexports;\n        module = savedmodule;\n        resolve();\n    };\n  var firstScriptTag = document.getElementsByTagName('script')[0];\n  firstScriptTag.parentNode.insertBefore(tag, firstScriptTag);\n});\n};\n\nif(typeof $3Dmolpromise === 'undefined') {\n$3Dmolpromise = null;\n  $3Dmolpromise = loadScriptAsync('https://cdn.jsdelivr.net/npm/3dmol@2.5.0/build/3Dmol-min.js');\n}\n\nvar viewer_17507405499955435 = null;\nvar warn = document.getElementById(\"3dmolwarning_17507405499955435\");\nif(warn) {\n    warn.parentNode.removeChild(warn);\n}\n$3Dmolpromise.then(function() {\nviewer_17507405499955435 = $3Dmol.createViewer(document.getElementById(\"3dmolviewer_17507405499955435\"),{backgroundColor:\"white\"});\nviewer_17507405499955435.zoomTo();\n\tviewer_17507405499955435.addModel(\"11\\n\\nO              0.055446266197        -0.969003066421         1.536893099546\\nC              0.722518116236        -0.871090516448         0.306759662926\\nC              1.860855817795         0.164431296289         0.350434668362\\nC              1.398278772831         1.573400348425         0.625956729054\\nO              0.255776643753         1.815630048513         0.990920141339\\nH             -0.324687995017        -0.064954869449         1.691797822714\\nH              1.139689311385        -1.864599585533         0.025304560550\\nH             -0.013382716570        -0.588685795665        -0.476470217109\\nH              2.623609900475        -0.129339424893         1.103460341692\\nH              2.369889616966         0.160150732845        -0.637240633368\\nH              2.095308899879         2.395236343145         0.498164519668\\n\");\n\tviewer_17507405499955435.setViewStyle({\"style\": \"outline\", \"width\": 0.05});\n\tviewer_17507405499955435.setStyle({\"stick\": {}, \"sphere\": {\"scale\": 0.25}});\n\tviewer_17507405499955435.zoomTo();\nviewer_17507405499955435.render();\n});\n</script>",
            "text/html": [
              "<div id=\"3dmolviewer_17507405499955435\"  style=\"position: relative; width: 400px; height: 300px;\">\n",
              "        <p id=\"3dmolwarning_17507405499955435\" style=\"background-color:#ffcccc;color:black\">3Dmol.js failed to load for some reason.  Please check your browser console for error messages.<br></p>\n",
              "        </div>\n",
              "<script>\n",
              "\n",
              "var loadScriptAsync = function(uri){\n",
              "  return new Promise((resolve, reject) => {\n",
              "    //this is to ignore the existence of requirejs amd\n",
              "    var savedexports, savedmodule;\n",
              "    if (typeof exports !== 'undefined') savedexports = exports;\n",
              "    else exports = {}\n",
              "    if (typeof module !== 'undefined') savedmodule = module;\n",
              "    else module = {}\n",
              "\n",
              "    var tag = document.createElement('script');\n",
              "    tag.src = uri;\n",
              "    tag.async = true;\n",
              "    tag.onload = () => {\n",
              "        exports = savedexports;\n",
              "        module = savedmodule;\n",
              "        resolve();\n",
              "    };\n",
              "  var firstScriptTag = document.getElementsByTagName('script')[0];\n",
              "  firstScriptTag.parentNode.insertBefore(tag, firstScriptTag);\n",
              "});\n",
              "};\n",
              "\n",
              "if(typeof $3Dmolpromise === 'undefined') {\n",
              "$3Dmolpromise = null;\n",
              "  $3Dmolpromise = loadScriptAsync('https://cdn.jsdelivr.net/npm/3dmol@2.5.0/build/3Dmol-min.js');\n",
              "}\n",
              "\n",
              "var viewer_17507405499955435 = null;\n",
              "var warn = document.getElementById(\"3dmolwarning_17507405499955435\");\n",
              "if(warn) {\n",
              "    warn.parentNode.removeChild(warn);\n",
              "}\n",
              "$3Dmolpromise.then(function() {\n",
              "viewer_17507405499955435 = $3Dmol.createViewer(document.getElementById(\"3dmolviewer_17507405499955435\"),{backgroundColor:\"white\"});\n",
              "viewer_17507405499955435.zoomTo();\n",
              "\tviewer_17507405499955435.addModel(\"11\\n\\nO              0.055446266197        -0.969003066421         1.536893099546\\nC              0.722518116236        -0.871090516448         0.306759662926\\nC              1.860855817795         0.164431296289         0.350434668362\\nC              1.398278772831         1.573400348425         0.625956729054\\nO              0.255776643753         1.815630048513         0.990920141339\\nH             -0.324687995017        -0.064954869449         1.691797822714\\nH              1.139689311385        -1.864599585533         0.025304560550\\nH             -0.013382716570        -0.588685795665        -0.476470217109\\nH              2.623609900475        -0.129339424893         1.103460341692\\nH              2.369889616966         0.160150732845        -0.637240633368\\nH              2.095308899879         2.395236343145         0.498164519668\\n\");\n",
              "\tviewer_17507405499955435.setViewStyle({\"style\": \"outline\", \"width\": 0.05});\n",
              "\tviewer_17507405499955435.setStyle({\"stick\": {}, \"sphere\": {\"scale\": 0.25}});\n",
              "\tviewer_17507405499955435.zoomTo();\n",
              "viewer_17507405499955435.render();\n",
              "});\n",
              "</script>"
            ]
          },
          "metadata": {}
        },
        {
          "output_type": "stream",
          "name": "stdout",
          "text": [
            "-38.910484313964844 kJ/mol\n"
          ]
        },
        {
          "output_type": "display_data",
          "data": {
            "application/3dmoljs_load.v0": "<div id=\"3dmolviewer_1750740549996731\"  style=\"position: relative; width: 400px; height: 300px;\">\n        <p id=\"3dmolwarning_1750740549996731\" style=\"background-color:#ffcccc;color:black\">3Dmol.js failed to load for some reason.  Please check your browser console for error messages.<br></p>\n        </div>\n<script>\n\nvar loadScriptAsync = function(uri){\n  return new Promise((resolve, reject) => {\n    //this is to ignore the existence of requirejs amd\n    var savedexports, savedmodule;\n    if (typeof exports !== 'undefined') savedexports = exports;\n    else exports = {}\n    if (typeof module !== 'undefined') savedmodule = module;\n    else module = {}\n\n    var tag = document.createElement('script');\n    tag.src = uri;\n    tag.async = true;\n    tag.onload = () => {\n        exports = savedexports;\n        module = savedmodule;\n        resolve();\n    };\n  var firstScriptTag = document.getElementsByTagName('script')[0];\n  firstScriptTag.parentNode.insertBefore(tag, firstScriptTag);\n});\n};\n\nif(typeof $3Dmolpromise === 'undefined') {\n$3Dmolpromise = null;\n  $3Dmolpromise = loadScriptAsync('https://cdn.jsdelivr.net/npm/3dmol@2.5.0/build/3Dmol-min.js');\n}\n\nvar viewer_1750740549996731 = null;\nvar warn = document.getElementById(\"3dmolwarning_1750740549996731\");\nif(warn) {\n    warn.parentNode.removeChild(warn);\n}\n$3Dmolpromise.then(function() {\nviewer_1750740549996731 = $3Dmol.createViewer(document.getElementById(\"3dmolviewer_1750740549996731\"),{backgroundColor:\"white\"});\nviewer_1750740549996731.zoomTo();\n\tviewer_1750740549996731.addModel(\"11\\n\\nO              0.446978509426        -0.913608446717        -0.530214533210\\nC              0.693304166198         0.466127656400        -0.472431778908\\nC              1.576235145330         0.830943137407         0.727211311460\\nC              0.917457416654         0.489730536938         2.033321261406\\nO             -0.163871292025         0.972461253405         2.336616665125\\nH             -0.283963922411        -1.030428558588        -1.191899180412\\nH              1.189061626792         0.796347185969        -1.413428783417\\nH             -0.279253665358         0.999953150749        -0.410008169711\\nH              2.557733058929         0.314647778869         0.654555484653\\nH              1.778729259968         1.923271715641         0.705223754048\\nH              1.405818164349        -0.193211995065         2.720847427845\\n\");\n\tviewer_1750740549996731.setViewStyle({\"style\": \"outline\", \"width\": 0.05});\n\tviewer_1750740549996731.setStyle({\"stick\": {}, \"sphere\": {\"scale\": 0.25}});\n\tviewer_1750740549996731.zoomTo();\nviewer_1750740549996731.render();\n});\n</script>",
            "text/html": [
              "<div id=\"3dmolviewer_1750740549996731\"  style=\"position: relative; width: 400px; height: 300px;\">\n",
              "        <p id=\"3dmolwarning_1750740549996731\" style=\"background-color:#ffcccc;color:black\">3Dmol.js failed to load for some reason.  Please check your browser console for error messages.<br></p>\n",
              "        </div>\n",
              "<script>\n",
              "\n",
              "var loadScriptAsync = function(uri){\n",
              "  return new Promise((resolve, reject) => {\n",
              "    //this is to ignore the existence of requirejs amd\n",
              "    var savedexports, savedmodule;\n",
              "    if (typeof exports !== 'undefined') savedexports = exports;\n",
              "    else exports = {}\n",
              "    if (typeof module !== 'undefined') savedmodule = module;\n",
              "    else module = {}\n",
              "\n",
              "    var tag = document.createElement('script');\n",
              "    tag.src = uri;\n",
              "    tag.async = true;\n",
              "    tag.onload = () => {\n",
              "        exports = savedexports;\n",
              "        module = savedmodule;\n",
              "        resolve();\n",
              "    };\n",
              "  var firstScriptTag = document.getElementsByTagName('script')[0];\n",
              "  firstScriptTag.parentNode.insertBefore(tag, firstScriptTag);\n",
              "});\n",
              "};\n",
              "\n",
              "if(typeof $3Dmolpromise === 'undefined') {\n",
              "$3Dmolpromise = null;\n",
              "  $3Dmolpromise = loadScriptAsync('https://cdn.jsdelivr.net/npm/3dmol@2.5.0/build/3Dmol-min.js');\n",
              "}\n",
              "\n",
              "var viewer_1750740549996731 = null;\n",
              "var warn = document.getElementById(\"3dmolwarning_1750740549996731\");\n",
              "if(warn) {\n",
              "    warn.parentNode.removeChild(warn);\n",
              "}\n",
              "$3Dmolpromise.then(function() {\n",
              "viewer_1750740549996731 = $3Dmol.createViewer(document.getElementById(\"3dmolviewer_1750740549996731\"),{backgroundColor:\"white\"});\n",
              "viewer_1750740549996731.zoomTo();\n",
              "\tviewer_1750740549996731.addModel(\"11\\n\\nO              0.446978509426        -0.913608446717        -0.530214533210\\nC              0.693304166198         0.466127656400        -0.472431778908\\nC              1.576235145330         0.830943137407         0.727211311460\\nC              0.917457416654         0.489730536938         2.033321261406\\nO             -0.163871292025         0.972461253405         2.336616665125\\nH             -0.283963922411        -1.030428558588        -1.191899180412\\nH              1.189061626792         0.796347185969        -1.413428783417\\nH             -0.279253665358         0.999953150749        -0.410008169711\\nH              2.557733058929         0.314647778869         0.654555484653\\nH              1.778729259968         1.923271715641         0.705223754048\\nH              1.405818164349        -0.193211995065         2.720847427845\\n\");\n",
              "\tviewer_1750740549996731.setViewStyle({\"style\": \"outline\", \"width\": 0.05});\n",
              "\tviewer_1750740549996731.setStyle({\"stick\": {}, \"sphere\": {\"scale\": 0.25}});\n",
              "\tviewer_1750740549996731.zoomTo();\n",
              "viewer_1750740549996731.render();\n",
              "});\n",
              "</script>"
            ]
          },
          "metadata": {}
        },
        {
          "output_type": "stream",
          "name": "stdout",
          "text": [
            "-33.696510314941406 kJ/mol\n"
          ]
        },
        {
          "output_type": "display_data",
          "data": {
            "application/3dmoljs_load.v0": "<div id=\"3dmolviewer_17507405500018601\"  style=\"position: relative; width: 400px; height: 300px;\">\n        <p id=\"3dmolwarning_17507405500018601\" style=\"background-color:#ffcccc;color:black\">3Dmol.js failed to load for some reason.  Please check your browser console for error messages.<br></p>\n        </div>\n<script>\n\nvar loadScriptAsync = function(uri){\n  return new Promise((resolve, reject) => {\n    //this is to ignore the existence of requirejs amd\n    var savedexports, savedmodule;\n    if (typeof exports !== 'undefined') savedexports = exports;\n    else exports = {}\n    if (typeof module !== 'undefined') savedmodule = module;\n    else module = {}\n\n    var tag = document.createElement('script');\n    tag.src = uri;\n    tag.async = true;\n    tag.onload = () => {\n        exports = savedexports;\n        module = savedmodule;\n        resolve();\n    };\n  var firstScriptTag = document.getElementsByTagName('script')[0];\n  firstScriptTag.parentNode.insertBefore(tag, firstScriptTag);\n});\n};\n\nif(typeof $3Dmolpromise === 'undefined') {\n$3Dmolpromise = null;\n  $3Dmolpromise = loadScriptAsync('https://cdn.jsdelivr.net/npm/3dmol@2.5.0/build/3Dmol-min.js');\n}\n\nvar viewer_17507405500018601 = null;\nvar warn = document.getElementById(\"3dmolwarning_17507405500018601\");\nif(warn) {\n    warn.parentNode.removeChild(warn);\n}\n$3Dmolpromise.then(function() {\nviewer_17507405500018601 = $3Dmol.createViewer(document.getElementById(\"3dmolviewer_17507405500018601\"),{backgroundColor:\"white\"});\nviewer_17507405500018601.zoomTo();\n\tviewer_17507405500018601.addModel(\"11\\n\\nO              2.802160680294         1.508839428425         0.058904513717\\nC              2.128986120224         0.403791815042         0.601008906960\\nC              0.630022659898         0.695112198591         0.770802423358\\nC             -0.132319917902        -0.484514236450         1.311135888100\\nO              0.412381067872        -1.338325738907         1.994823366404\\nH              2.868202626705         2.174012213945         0.792992860079\\nH              2.265207767487        -0.481364801526        -0.060990792699\\nH              2.585918307304         0.164353717119         1.585194170475\\nH              0.475675389171         1.568852812052         1.440081745386\\nH              0.201183445752         0.955292806029        -0.220697484910\\nH             -1.190329566598        -0.581693872809         1.090304851532\\n\");\n\tviewer_17507405500018601.setViewStyle({\"style\": \"outline\", \"width\": 0.05});\n\tviewer_17507405500018601.setStyle({\"stick\": {}, \"sphere\": {\"scale\": 0.25}});\n\tviewer_17507405500018601.zoomTo();\nviewer_17507405500018601.render();\n});\n</script>",
            "text/html": [
              "<div id=\"3dmolviewer_17507405500018601\"  style=\"position: relative; width: 400px; height: 300px;\">\n",
              "        <p id=\"3dmolwarning_17507405500018601\" style=\"background-color:#ffcccc;color:black\">3Dmol.js failed to load for some reason.  Please check your browser console for error messages.<br></p>\n",
              "        </div>\n",
              "<script>\n",
              "\n",
              "var loadScriptAsync = function(uri){\n",
              "  return new Promise((resolve, reject) => {\n",
              "    //this is to ignore the existence of requirejs amd\n",
              "    var savedexports, savedmodule;\n",
              "    if (typeof exports !== 'undefined') savedexports = exports;\n",
              "    else exports = {}\n",
              "    if (typeof module !== 'undefined') savedmodule = module;\n",
              "    else module = {}\n",
              "\n",
              "    var tag = document.createElement('script');\n",
              "    tag.src = uri;\n",
              "    tag.async = true;\n",
              "    tag.onload = () => {\n",
              "        exports = savedexports;\n",
              "        module = savedmodule;\n",
              "        resolve();\n",
              "    };\n",
              "  var firstScriptTag = document.getElementsByTagName('script')[0];\n",
              "  firstScriptTag.parentNode.insertBefore(tag, firstScriptTag);\n",
              "});\n",
              "};\n",
              "\n",
              "if(typeof $3Dmolpromise === 'undefined') {\n",
              "$3Dmolpromise = null;\n",
              "  $3Dmolpromise = loadScriptAsync('https://cdn.jsdelivr.net/npm/3dmol@2.5.0/build/3Dmol-min.js');\n",
              "}\n",
              "\n",
              "var viewer_17507405500018601 = null;\n",
              "var warn = document.getElementById(\"3dmolwarning_17507405500018601\");\n",
              "if(warn) {\n",
              "    warn.parentNode.removeChild(warn);\n",
              "}\n",
              "$3Dmolpromise.then(function() {\n",
              "viewer_17507405500018601 = $3Dmol.createViewer(document.getElementById(\"3dmolviewer_17507405500018601\"),{backgroundColor:\"white\"});\n",
              "viewer_17507405500018601.zoomTo();\n",
              "\tviewer_17507405500018601.addModel(\"11\\n\\nO              2.802160680294         1.508839428425         0.058904513717\\nC              2.128986120224         0.403791815042         0.601008906960\\nC              0.630022659898         0.695112198591         0.770802423358\\nC             -0.132319917902        -0.484514236450         1.311135888100\\nO              0.412381067872        -1.338325738907         1.994823366404\\nH              2.868202626705         2.174012213945         0.792992860079\\nH              2.265207767487        -0.481364801526        -0.060990792699\\nH              2.585918307304         0.164353717119         1.585194170475\\nH              0.475675389171         1.568852812052         1.440081745386\\nH              0.201183445752         0.955292806029        -0.220697484910\\nH             -1.190329566598        -0.581693872809         1.090304851532\\n\");\n",
              "\tviewer_17507405500018601.setViewStyle({\"style\": \"outline\", \"width\": 0.05});\n",
              "\tviewer_17507405500018601.setStyle({\"stick\": {}, \"sphere\": {\"scale\": 0.25}});\n",
              "\tviewer_17507405500018601.zoomTo();\n",
              "viewer_17507405500018601.render();\n",
              "});\n",
              "</script>"
            ]
          },
          "metadata": {}
        },
        {
          "output_type": "stream",
          "name": "stdout",
          "text": [
            "-31.41962432861328 kJ/mol\n"
          ]
        },
        {
          "output_type": "display_data",
          "data": {
            "application/3dmoljs_load.v0": "<div id=\"3dmolviewer_17507405500077574\"  style=\"position: relative; width: 400px; height: 300px;\">\n        <p id=\"3dmolwarning_17507405500077574\" style=\"background-color:#ffcccc;color:black\">3Dmol.js failed to load for some reason.  Please check your browser console for error messages.<br></p>\n        </div>\n<script>\n\nvar loadScriptAsync = function(uri){\n  return new Promise((resolve, reject) => {\n    //this is to ignore the existence of requirejs amd\n    var savedexports, savedmodule;\n    if (typeof exports !== 'undefined') savedexports = exports;\n    else exports = {}\n    if (typeof module !== 'undefined') savedmodule = module;\n    else module = {}\n\n    var tag = document.createElement('script');\n    tag.src = uri;\n    tag.async = true;\n    tag.onload = () => {\n        exports = savedexports;\n        module = savedmodule;\n        resolve();\n    };\n  var firstScriptTag = document.getElementsByTagName('script')[0];\n  firstScriptTag.parentNode.insertBefore(tag, firstScriptTag);\n});\n};\n\nif(typeof $3Dmolpromise === 'undefined') {\n$3Dmolpromise = null;\n  $3Dmolpromise = loadScriptAsync('https://cdn.jsdelivr.net/npm/3dmol@2.5.0/build/3Dmol-min.js');\n}\n\nvar viewer_17507405500077574 = null;\nvar warn = document.getElementById(\"3dmolwarning_17507405500077574\");\nif(warn) {\n    warn.parentNode.removeChild(warn);\n}\n$3Dmolpromise.then(function() {\nviewer_17507405500077574 = $3Dmol.createViewer(document.getElementById(\"3dmolviewer_17507405500077574\"),{backgroundColor:\"white\"});\nviewer_17507405500077574.zoomTo();\n\tviewer_17507405500077574.addModel(\"11\\n\\nO              1.775482296944         1.837896555662         1.314723640680\\nC              0.825700238347         1.719885021448         0.290121585131\\nC             -0.052677812055         0.478607565165         0.472056157887\\nC              0.767736583948        -0.780556648970         0.470337644219\\nO              0.676759332418        -1.586036980152         1.384235024452\\nH              1.264012902975         1.902431845665         2.163271009922\\nH              0.182012822479         2.628451883793         0.268476083875\\nH              1.356506198645         1.664836257696        -0.684534981847\\nH             -0.648023709655         0.561319701374         1.406885683537\\nH             -0.766089856625         0.433755703270        -0.378649197519\\nH              1.447428166866        -0.982278734446        -0.351204089820\\n\");\n\tviewer_17507405500077574.setViewStyle({\"style\": \"outline\", \"width\": 0.05});\n\tviewer_17507405500077574.setStyle({\"stick\": {}, \"sphere\": {\"scale\": 0.25}});\n\tviewer_17507405500077574.zoomTo();\nviewer_17507405500077574.render();\n});\n</script>",
            "text/html": [
              "<div id=\"3dmolviewer_17507405500077574\"  style=\"position: relative; width: 400px; height: 300px;\">\n",
              "        <p id=\"3dmolwarning_17507405500077574\" style=\"background-color:#ffcccc;color:black\">3Dmol.js failed to load for some reason.  Please check your browser console for error messages.<br></p>\n",
              "        </div>\n",
              "<script>\n",
              "\n",
              "var loadScriptAsync = function(uri){\n",
              "  return new Promise((resolve, reject) => {\n",
              "    //this is to ignore the existence of requirejs amd\n",
              "    var savedexports, savedmodule;\n",
              "    if (typeof exports !== 'undefined') savedexports = exports;\n",
              "    else exports = {}\n",
              "    if (typeof module !== 'undefined') savedmodule = module;\n",
              "    else module = {}\n",
              "\n",
              "    var tag = document.createElement('script');\n",
              "    tag.src = uri;\n",
              "    tag.async = true;\n",
              "    tag.onload = () => {\n",
              "        exports = savedexports;\n",
              "        module = savedmodule;\n",
              "        resolve();\n",
              "    };\n",
              "  var firstScriptTag = document.getElementsByTagName('script')[0];\n",
              "  firstScriptTag.parentNode.insertBefore(tag, firstScriptTag);\n",
              "});\n",
              "};\n",
              "\n",
              "if(typeof $3Dmolpromise === 'undefined') {\n",
              "$3Dmolpromise = null;\n",
              "  $3Dmolpromise = loadScriptAsync('https://cdn.jsdelivr.net/npm/3dmol@2.5.0/build/3Dmol-min.js');\n",
              "}\n",
              "\n",
              "var viewer_17507405500077574 = null;\n",
              "var warn = document.getElementById(\"3dmolwarning_17507405500077574\");\n",
              "if(warn) {\n",
              "    warn.parentNode.removeChild(warn);\n",
              "}\n",
              "$3Dmolpromise.then(function() {\n",
              "viewer_17507405500077574 = $3Dmol.createViewer(document.getElementById(\"3dmolviewer_17507405500077574\"),{backgroundColor:\"white\"});\n",
              "viewer_17507405500077574.zoomTo();\n",
              "\tviewer_17507405500077574.addModel(\"11\\n\\nO              1.775482296944         1.837896555662         1.314723640680\\nC              0.825700238347         1.719885021448         0.290121585131\\nC             -0.052677812055         0.478607565165         0.472056157887\\nC              0.767736583948        -0.780556648970         0.470337644219\\nO              0.676759332418        -1.586036980152         1.384235024452\\nH              1.264012902975         1.902431845665         2.163271009922\\nH              0.182012822479         2.628451883793         0.268476083875\\nH              1.356506198645         1.664836257696        -0.684534981847\\nH             -0.648023709655         0.561319701374         1.406885683537\\nH             -0.766089856625         0.433755703270        -0.378649197519\\nH              1.447428166866        -0.982278734446        -0.351204089820\\n\");\n",
              "\tviewer_17507405500077574.setViewStyle({\"style\": \"outline\", \"width\": 0.05});\n",
              "\tviewer_17507405500077574.setStyle({\"stick\": {}, \"sphere\": {\"scale\": 0.25}});\n",
              "\tviewer_17507405500077574.zoomTo();\n",
              "viewer_17507405500077574.render();\n",
              "});\n",
              "</script>"
            ]
          },
          "metadata": {}
        },
        {
          "output_type": "stream",
          "name": "stdout",
          "text": [
            "-27.533355712890625 kJ/mol\n"
          ]
        }
      ],
      "source": [
        "#@title Visualize lowest conformers\n",
        "for mol, e in zip(conformers_dict['molecules'], conformers_dict['energies']):\n",
        "    mol.show()\n",
        "    print(e,'kJ/mol')"
      ]
    },
    {
      "cell_type": "code",
      "source": [
        "#@title MM optimization of all snapshots\n",
        "#@markdown 10 snapshots of ibuprofen (3 min)\n",
        "import MDAnalysis as mda\n",
        "\n",
        "for i in range(snapshots):\n",
        "  universe = mda.Universe(gromacs_file + '.pdb')\n",
        "  universe.trajectory[i]\n",
        "  allatoms = universe.select_atoms('all')\n",
        "  allatoms.write(gromacs_file + str(i+1) + '.xyz')\n",
        "  #with mda.Writer(gromacs_file + '.xyz') as xyz:\n",
        "  #   xyz.write(universe)\n",
        "\n",
        "total_results = []\n",
        "for i in range(snapshots):\n",
        "  molecule = vlx.Molecule.read_xyz_file(gromacs_file + str(i+1) + '.xyz')\n",
        "  print('Optimizing structure ' + str(i+1) + ' of ' + str(snapshots))\n",
        "  vlxopenmm = vlx.OpenMMDriver()\n",
        "  vlxopenmm.add_topology(gromacs_file + '.top')\n",
        "  opt = vlx.OptimizationDriver(vlxopenmm)\n",
        "  opt.ostream.mute()\n",
        "#    opt.constraints = [\"freeze dihedral 18 14 12 11\"]\n",
        "  results = opt.compute(molecule)\n",
        "\n",
        "  total_results.append(results)\n",
        "\n",
        "print(' ')\n",
        "\n",
        "last_energies = []\n",
        "final_geometries = []\n",
        "\n",
        "for i in range(snapshots):\n",
        "  res = total_results[i]['opt_energies'][-1]\n",
        "  last_energies.append(res)\n",
        "for i in range(snapshots):\n",
        "  geos = total_results[i]['final_geometry']\n",
        "  final_geometries.append(geos)\n",
        "for i in range(snapshots):\n",
        "  print('Energy', last_energies[i])\n",
        "\n",
        "m = min(last_energies)\n",
        "m_index = last_energies.index(m)\n",
        "print(final_geometries[m_index])\n",
        "lowest_geometry = vlx.Molecule.read_xyz_string(final_geometries[m_index])\n",
        "lowest_geometry.show()"
      ],
      "metadata": {
        "id": "J3Se4x8IpZXm",
        "cellView": "form"
      },
      "execution_count": null,
      "outputs": []
    },
    {
      "cell_type": "code",
      "source": [
        "#@title XTB optimization of all snapshots\n",
        "#@markdown Example timing: ibuprofen (7 min)\n",
        "import MDAnalysis as mda\n",
        "\n",
        "\n",
        "for i in range(snapshots):\n",
        "  universe = mda.Universe(gromacs_file + '.pdb')\n",
        "  universe.trajectory[i]\n",
        "  allatoms = universe.select_atoms('all')\n",
        "  allatoms.write(gromacs_file + str(i+1) + '.xyz')\n",
        "  #with mda.Writer(gromacs_file + '.xyz') as xyz:\n",
        "  #   xyz.write(universe)\n",
        "\n",
        "total_results = []\n",
        "for i in range(snapshots):\n",
        "  print('Optimizing structure ' + str(i+1) + ' of ' + str(snapshots))\n",
        "  molecule = vlx.Molecule.read_xyz_file(gromacs_file + str(i+1) + '.xyz')\n",
        "  vlxXtb = vlx.XtbDriver()\n",
        "  opt = vlx.OptimizationDriver(vlxXtb)\n",
        "  opt.ostream.mute()\n",
        "#    opt.constraints = [\"freeze dihedral 18 14 12 11\"]\n",
        "  results = opt.compute(molecule)\n",
        "\n",
        "  total_results.append(results)\n",
        "\n",
        "print(' ')\n",
        "last_energies = []\n",
        "final_geometries = []\n",
        "\n",
        "for i in range(snapshots):\n",
        "  res = total_results[i]['opt_energies'][-1]\n",
        "  last_energies.append(res)\n",
        "for i in range(snapshots):\n",
        "  geos = total_results[i]['final_geometry']\n",
        "  final_geometries.append(geos)\n",
        "for i in range(snapshots):\n",
        "  print('Energy', last_energies[i])\n",
        "\n",
        "m = min(last_energies)\n",
        "m_index = last_energies.index(m)\n",
        "print(final_geometries[m_index])\n",
        "lowest_geometry = vlx.Molecule.read_xyz_string(final_geometries[m_index])\n",
        "lowest_geometry.show()"
      ],
      "metadata": {
        "cellView": "form",
        "id": "8bl9Ybyxu_kA"
      },
      "execution_count": null,
      "outputs": []
    },
    {
      "cell_type": "code",
      "source": [
        "#@title Print relative energies of all structures\n",
        "for i in range(snapshots):\n",
        "  lowest_geometry = vlx.Molecule.read_xyz_string(final_geometries[i])\n",
        "  print('Relative energy: ', (last_energies[i] - last_energies[m_index])*627.5)\n",
        "  lowest_geometry.show()\n",
        "  print(final_geometries[i])\n"
      ],
      "metadata": {
        "cellView": "form",
        "id": "pBwsxFuDk0b-"
      },
      "execution_count": null,
      "outputs": []
    },
    {
      "cell_type": "code",
      "source": [
        "#@title Write optimized coordinates to files\n",
        "for i in range(snapshots):\n",
        "  optimized_geometry = vlx.Molecule.read_xyz_string(final_geometries[i])\n",
        "  optimized_geometry.write_xyz_file('opt' + str(i+1) + '.xyz')"
      ],
      "metadata": {
        "cellView": "form",
        "id": "kejwBxnKFYRL"
      },
      "execution_count": null,
      "outputs": []
    }
  ]
}