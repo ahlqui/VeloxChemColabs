{
  "nbformat": 4,
  "nbformat_minor": 0,
  "metadata": {
    "colab": {
      "provenance": [],
      "include_colab_link": true
    },
    "kernelspec": {
      "name": "python3",
      "display_name": "Python 3"
    },
    "language_info": {
      "name": "python"
    }
  },
  "cells": [
    {
      "cell_type": "markdown",
      "metadata": {
        "id": "view-in-github",
        "colab_type": "text"
      },
      "source": [
        "<a href=\"https://colab.research.google.com/github/ahlqui/VeloxChemColabs/blob/main/DihedralScan.ipynb\" target=\"_parent\"><img src=\"https://colab.research.google.com/assets/colab-badge.svg\" alt=\"Open In Colab\"/></a>"
      ]
    },
    {
      "cell_type": "markdown",
      "source": [
        "\n",
        "\n",
        "\n",
        "# Scan a dihedral angle\n"
      ],
      "metadata": {
        "id": "_f9U7ujQXRh7"
      }
    },
    {
      "cell_type": "markdown",
      "source": [
        "This notebook requires that you have a molecular structure. Two options:\n",
        "\n",
        "Define Molecule as XYZ-coordinates: Can be generatred with free software such as www.avogadro.cc\n",
        "\n",
        "Define Molecule with SMILES code, A molecule can be defined using a SMILES code (example below). We have two suggested ways to generate smiles from structure. 1) Sketch your molecule at https://www.rcsb.org/chemical-sketch and the SMILES code will be shown right below the structure. 2) Build your molecule at https://molview.org/ , go to Tools/Information Card and it will show you the SMILES code. Just copy/paste it into the SMILES box below.\n",
        "\n",
        "Example of xyz-coordinates for CO2:\n",
        "\n",
        "O 0.00 0.00 0.00\n",
        "\n",
        "C 0.00 0.00 1.20\n",
        "\n",
        "O 0.00 0.00 2.40\n",
        "\n",
        "Example of SMILES for CO2:\n",
        "\n",
        "O=C=O"
      ],
      "metadata": {
        "id": "jsrGVECSXfex"
      }
    },
    {
      "cell_type": "markdown",
      "source": [
        "## Installation\n",
        "Before you can run anything a few things need to be installed. It all runs on the Google Colab server an you do not need to install anything on your computer. Just run the two cells below by pressing the play button. It can take some minute per cell. The first cell will give a warning that can be ignored."
      ],
      "metadata": {
        "id": "PVSfm_ZGXli4"
      }
    },
    {
      "cell_type": "code",
      "execution_count": null,
      "metadata": {
        "cellView": "form",
        "id": "4NIXKWE1IsA8"
      },
      "outputs": [],
      "source": [
        "#@title Install VeloxChem and dependencies (ca 2 min)\n",
        "#@markdown Before you can run anything a few things need to be installed. It all runs on the Google Colab server an you do not need to install anything on your computer.\n",
        "%%capture\n",
        "import sys\n",
        "\n",
        "! wget -qnc https://github.com/conda-forge/miniforge/releases/latest/download/Miniforge3-Linux-x86_64.sh\n",
        "! bash Miniforge3-Linux-x86_64.sh -bfp /usr/local\n",
        "! mamba config --set auto_update_conda false\n",
        "import sys\n",
        "sys.path.append('/usr/local/lib/python3.11/site-packages/')\n",
        "!mamba install -y -c conda-forge -c veloxchem veloxchem py3Dmol matplotlib python=3.11\n",
        "! pip install rdkit\n",
        "import veloxchem as vlx"
      ]
    },
    {
      "cell_type": "code",
      "source": [
        "xyz_coordinates = \"\"\"\n",
        "N     0.4785967928750  -0.4330741880750  -0.4934317502006\n",
        "H     1.3794564278886   0.0429751463168  -0.5120458348956\n",
        "C     0.4573285404340  -1.3154740355836  -1.6452845209868\n",
        "H     1.2794157350200  -2.0270971721773  -1.5868316520123\n",
        "H    -0.4697908768414  -1.8882598290096  -1.6558792536570\n",
        "C     0.3747047426388  -1.2102491878280   0.7331072010194\n",
        "H    -0.4082292852521  -1.9567463178277   0.6148319854093\n",
        "H     1.2952953868059  -1.7540437197433   0.9183116804327\n",
        "C     0.6956425554192   0.9059967227241  -5.3588904651214\n",
        "C     1.6690431285267  -0.0704102447688  -5.0614336089256\n",
        "C     1.5905279342425  -0.7922292640998  -3.8527793116028\n",
        "C     0.5421211238334  -0.5430166236398  -2.9451176135833\n",
        "C    -0.4312572408155   0.4285446612223  -3.2497814984180\n",
        "C    -0.3564249048118   1.1570067527526  -4.4544417171718\n",
        "H     0.7549521548685   1.4652126122086  -6.2812972715425\n",
        "H     2.3338053657174  -1.5390048087124  -3.6163728176857\n",
        "H    -1.2215586002930   0.6165771400284  -2.5371827271696\n",
        "C    -0.5809783149118   1.1061887532548   4.2819306994214\n",
        "C    -1.0539691464599  -0.2152180430193   4.1484967454886\n",
        "C    -0.7402866542775  -0.9585904738513   2.9917812697427\n",
        "C     0.0501603450518  -0.3918335577218   1.9715484114033\n",
        "C     0.5329231859523   0.9234697295847   2.1220017776407\n",
        "C     0.2096151223583   1.6793509886579   3.2655299818144\n",
        "H    -0.8298576406810   1.6816374807225   5.1614537759970\n",
        "H    -1.1155297675244  -1.9639771384900   2.8737258346041\n",
        "H     1.1311551788061   1.3586475153088   1.3389498331805\n",
        "C     2.7985412681099  -0.3440921389086  -6.0320361103160\n",
        "H     3.0137177612643  -1.4119025048439  -6.0784904425001\n",
        "H     2.5433990952730  -0.0090827377477  -7.0376742707821\n",
        "H     3.7013243404231   0.1769923076871  -5.7132670703364\n",
        "C    -1.3956677617432   2.2110713683443  -4.7713360805252\n",
        "H    -2.2850215726603   2.0829577471538  -4.1532353918110\n",
        "H    -0.9892606342753   3.2051959925139  -4.5854917335667\n",
        "H    -1.6989550492144   2.1496453780473  -5.8166145479409\n",
        "C    -1.9096053739985  -0.8269385079269   5.2372774019485\n",
        "H    -1.8730938416183  -1.9157634078951   5.1986764605346\n",
        "H    -1.5629099527925  -0.5125717843390   6.2218512212214\n",
        "H    -2.9465170241487  -0.5126306418706   5.1188520156529\n",
        "C     0.7055071531436   3.1039291474455   3.3878074482962\n",
        "H     0.6996321098764   3.5926125742168   2.4126899821207\n",
        "H     0.0720511304863   3.6841458846608   4.0587668370105\n",
        "H     1.7245462284362   3.1151446899290   3.7742478882927\n",
        "\"\"\"\n"
      ],
      "metadata": {
        "id": "NzBaWJTJ8mrU"
      },
      "execution_count": null,
      "outputs": []
    },
    {
      "cell_type": "code",
      "execution_count": null,
      "metadata": {
        "id": "kd3SxiFQFm6r",
        "cellView": "form"
      },
      "outputs": [],
      "source": [
        "#@title Define your molecule, either asa SMILES code or xyz-coordinates above\n",
        "#@markdown - Enter the SMILES code\n",
        "smiles_code = 'OCCC=O' #@param {type:\"string\"}\n",
        "#@markdown - If you want to use the xyz coordinates in the previous cell check box\n",
        "use_xyz = False # @param {type:\"boolean\"}\n",
        "if use_xyz == False:\n",
        "  molecule = vlx.Molecule.read_smiles(smiles_code)\n",
        "else:\n",
        "  molecule = vlx.Molecule.read_str(xyz_coordinates)\n",
        "print('Structure of the molecule entered: ')\n",
        "molecule.show(atom_indices=True)\n",
        "#@markdown - Give your Gromacs files a name\n",
        "gromacs_file = 'test' #@param {type:\"string\"}\n",
        "#@markdown - Give your molecule a residue name (three letters)\n",
        "residue_name = 'tes' #@param {type:\"string\"}\n",
        "\n"
      ]
    },
    {
      "cell_type": "code",
      "source": [
        "#@title XTB dihedral scan\n",
        "scf_drv = vlx.XtbDriver()\n",
        "scf_drv.ostream.mute()\n",
        "scan_dihedral = ( 2, 3, 4, 5) #@param {type:\"raw\"}\n",
        "initial_dihedral = molecule.get_dihedral_in_degrees(scan_dihedral)\n",
        "steps = 10 #@param {type:\"integer\"}\n",
        "angles_scanned = 180 #@param {type:\"integer\"}\n",
        "opt_drv = vlx.OptimizationDriver(scf_drv)\n",
        "optimization_settings = {\"coordsys\": \"tric\"}\n",
        "opt_drv.constraints = [\"scan dihedral \" + str(scan_dihedral[0]) + \" \" + str(scan_dihedral[1]) + \" \" + str(scan_dihedral[2]) + \" \" + str(scan_dihedral[3]) + \" \" + str(initial_dihedral) + \" \" + str(initial_dihedral + angles_scanned) + \" \" + str(steps)]\n",
        "opt_drv.ostream.mute()\n",
        "opt_results = opt_drv.compute(molecule)\n",
        "\n",
        "import numpy as np\n",
        "import scipy\n",
        "\n",
        "occc = np.linspace(initial_dihedral, initial_dihedral+angles_scanned, steps)\n",
        "\n",
        "e_min_in_au = min(opt_results[\"scan_energies\"])\n",
        "\n",
        "energy_scan = [\n",
        "    (e - e_min_in_au) * vlx.hartree_in_kcalpermol()\n",
        "    for e in opt_results[\"scan_energies\"]\n",
        "]\n",
        "\n",
        "spline_func = scipy.interpolate.interp1d(occc, energy_scan, kind=\"cubic\")\n",
        "\n",
        "x_spline = np.linspace(occc[0], occc[-1], 200)\n",
        "y_spline = spline_func(x_spline)\n",
        "\n",
        "from matplotlib import pyplot as plt\n",
        "\n",
        "fig, ax = plt.subplots(figsize=(8, 4))\n",
        "\n",
        "ax.plot(x_spline, y_spline, \"-\", color=\"navy\", label=\"cubic spline\")\n",
        "ax.plot(occc, energy_scan, \"o\", color=\"deepskyblue\", label=\"XTB data\")\n",
        "\n",
        "ax.legend(frameon=True, shadow=True, loc=\"lower center\")\n",
        "\n",
        "ax.grid(True)\n",
        "\n",
        "ax.set_title(\"Relaxed scan optimization\")\n",
        "ax.set_xlabel(\"dihedral angle (degrees)\")\n",
        "ax.set_ylabel(\"Energy (kcal/mol)\")\n",
        "\n",
        "plt.show()"
      ],
      "metadata": {
        "id": "hotD9ontXlks",
        "cellView": "form"
      },
      "execution_count": null,
      "outputs": []
    },
    {
      "cell_type": "code",
      "source": [
        "#@title Generate a force field and write Gromacs files\n",
        "#@markdown - Run this cell if you want to run MD or MM optimization.\n",
        "#@markdown - Example timing: Ibuprofen (1 min)\n",
        "ff_gen = vlx.ForceFieldGenerator()\n",
        "basis = vlx.MolecularBasis.read(molecule, 'sto-3g')\n",
        "ff_gen.ostream.mute()\n",
        "ff_gen.create_topology(molecule, basis)\n",
        "\n",
        "ff_gen.write_gromacs_files(gromacs_file, residue_name)\n"
      ],
      "metadata": {
        "id": "rW9KHJqfNqBx",
        "cellView": "form"
      },
      "execution_count": null,
      "outputs": []
    },
    {
      "cell_type": "code",
      "source": [
        "#@title MM dihedral scan\n",
        "\n",
        "scan_dihedral = ( 2, 3, 4, 5) #@param {type:\"raw\"}\n",
        "initial_dihedral = molecule.get_dihedral_in_degrees(scan_dihedral)\n",
        "steps = 10 #@param {type:\"integer\"}\n",
        "angles_scanned = 180 #@param {type:\"integer\"}\n",
        "vlxopenmm = vlx.OpenMMDriver()\n",
        "opt_drv = vlx.OptimizationDriver(vlxopenmm)\n",
        "vlxopenmm.add_topology(gromacs_file + '.top')\n",
        "optimization_settings = {\"coordsys\": \"tric\"}\n",
        "opt_drv.constraints = [\"scan dihedral \" + str(scan_dihedral[0]) + \" \" + str(scan_dihedral[1]) + \" \" + str(scan_dihedral[2]) + \" \" + str(scan_dihedral[3]) + \" \" + str(initial_dihedral) + \" \" + str(initial_dihedral + angles_scanned) + \" \" + str(steps)]\n",
        "opt_drv.ostream.mute()\n",
        "opt_results = opt_drv.compute(molecule)\n",
        "\n",
        "import numpy as np\n",
        "import scipy\n",
        "\n",
        "occc = np.linspace(initial_dihedral, initial_dihedral+angles_scanned, steps)\n",
        "\n",
        "e_min_in_au = min(opt_results[\"scan_energies\"])\n",
        "\n",
        "energy_scan = [\n",
        "    (e - e_min_in_au) * vlx.hartree_in_kcalpermol()\n",
        "    for e in opt_results[\"scan_energies\"]\n",
        "]\n",
        "\n",
        "spline_func = scipy.interpolate.interp1d(occc, energy_scan, kind=\"cubic\")\n",
        "\n",
        "x_spline = np.linspace(occc[0], occc[-1], 200)\n",
        "y_spline = spline_func(x_spline)\n",
        "\n",
        "from matplotlib import pyplot as plt\n",
        "\n",
        "fig, ax = plt.subplots(figsize=(8, 4))\n",
        "\n",
        "ax.plot(x_spline, y_spline, \"-\", color=\"navy\", label=\"cubic spline\")\n",
        "ax.plot(occc, energy_scan, \"o\", color=\"deepskyblue\", label=\"XTB data\")\n",
        "\n",
        "ax.legend(frameon=True, shadow=True, loc=\"lower center\")\n",
        "\n",
        "ax.grid(True)\n",
        "\n",
        "ax.set_title(\"Relaxed scan optimization\")\n",
        "ax.set_xlabel(\"dihedral angle (degrees)\")\n",
        "ax.set_ylabel(\"Energy (kcal/mol)\")\n",
        "\n",
        "plt.show()"
      ],
      "metadata": {
        "cellView": "form",
        "id": "NxhQcgjYmCSv"
      },
      "execution_count": null,
      "outputs": []
    }
  ]
}