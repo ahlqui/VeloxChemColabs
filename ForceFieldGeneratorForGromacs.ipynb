{
  "nbformat": 4,
  "nbformat_minor": 0,
  "metadata": {
    "colab": {
      "provenance": [],
      "include_colab_link": true
    },
    "kernelspec": {
      "name": "python3",
      "display_name": "Python 3"
    },
    "language_info": {
      "name": "python"
    }
  },
  "cells": [
    {
      "cell_type": "markdown",
      "metadata": {
        "id": "view-in-github",
        "colab_type": "text"
      },
      "source": [
        "<a href=\"https://colab.research.google.com/github/ahlqui/VeloxChemColabs/blob/main/ForceFieldGeneratorForGromacs.ipynb\" target=\"_parent\"><img src=\"https://colab.research.google.com/assets/colab-badge.svg\" alt=\"Open In Colab\"/></a>"
      ]
    },
    {
      "cell_type": "markdown",
      "source": [
        "\n",
        "\n",
        "\n",
        "# Generate the necessary gro, top, and itp files for Gromacs for GAFF2 force fields\n"
      ],
      "metadata": {
        "id": "_f9U7ujQXRh7"
      }
    },
    {
      "cell_type": "markdown",
      "source": [
        "This notebook requires that you have a molecular structure. Two options:\n",
        "\n",
        "Define Molecule as XYZ-coordinates: Can be generatred with free software such as www.avogadro.cc\n",
        "\n",
        "Define Molecule with SMILES code, A molecule can be defined using a SMILES code (example below). We have two suggested ways to generate smiles from structure. 1) Sketch your molecule at https://www.rcsb.org/chemical-sketch and the SMILES code will be shown right below the structure. 2) Build your molecule at https://molview.org/ , go to Tools/Information Card and it will show you the SMILES code. Just copy/paste it into the SMILES box below.\n",
        "\n",
        "Example of xyz-coordinates for CO2:\n",
        "\n",
        "O 0.00 0.00 0.00\n",
        "\n",
        "C 0.00 0.00 1.20\n",
        "\n",
        "O 0.00 0.00 2.40\n",
        "\n",
        "Example of SMILES for CO2:\n",
        "\n",
        "O=C=O"
      ],
      "metadata": {
        "id": "jsrGVECSXfex"
      }
    },
    {
      "cell_type": "code",
      "execution_count": 1,
      "metadata": {
        "cellView": "form",
        "id": "CtI-gOdULlF4"
      },
      "outputs": [],
      "source": [
        "#@title Install VeloxChem and dependencies (ca 1 min)\n",
        "#@markdown Before you can run anything a few things need to be installed. It all runs on the Google Colab server an you do not need to install anything on your computer.\n",
        "%%capture\n",
        "import sys\n",
        "\n",
        "! wget https://repo.anaconda.com/miniconda/Miniconda3-latest-Linux-x86_64.sh\n",
        "! chmod +x Miniconda3-latest-Linux-x86_64.sh\n",
        "! bash ./Miniconda3-latest-Linux-x86_64.sh -b -f -p /usr/local\n",
        "import sys\n",
        "sys.path.append('/usr/local/lib/python3.12/site-packages/')\n",
        "!conda install -y -c conda-forge -c veloxchem veloxchem openbabel py3Dmol matplotlib python=3.12\n",
        "! pip install rdkit"
      ]
    },
    {
      "cell_type": "code",
      "source": [
        "xyz_coordinates = \"\"\"\n",
        "N     0.4785967928750  -0.4330741880750  -0.4934317502006\n",
        "H     1.3794564278886   0.0429751463168  -0.5120458348956\n",
        "C     0.4573285404340  -1.3154740355836  -1.6452845209868\n",
        "H     1.2794157350200  -2.0270971721773  -1.5868316520123\n",
        "H    -0.4697908768414  -1.8882598290096  -1.6558792536570\n",
        "C     0.3747047426388  -1.2102491878280   0.7331072010194\n",
        "H    -0.4082292852521  -1.9567463178277   0.6148319854093\n",
        "H     1.2952953868059  -1.7540437197433   0.9183116804327\n",
        "C     0.6956425554192   0.9059967227241  -5.3588904651214\n",
        "C     1.6690431285267  -0.0704102447688  -5.0614336089256\n",
        "C     1.5905279342425  -0.7922292640998  -3.8527793116028\n",
        "C     0.5421211238334  -0.5430166236398  -2.9451176135833\n",
        "C    -0.4312572408155   0.4285446612223  -3.2497814984180\n",
        "C    -0.3564249048118   1.1570067527526  -4.4544417171718\n",
        "H     0.7549521548685   1.4652126122086  -6.2812972715425\n",
        "H     2.3338053657174  -1.5390048087124  -3.6163728176857\n",
        "H    -1.2215586002930   0.6165771400284  -2.5371827271696\n",
        "C    -0.5809783149118   1.1061887532548   4.2819306994214\n",
        "C    -1.0539691464599  -0.2152180430193   4.1484967454886\n",
        "C    -0.7402866542775  -0.9585904738513   2.9917812697427\n",
        "C     0.0501603450518  -0.3918335577218   1.9715484114033\n",
        "C     0.5329231859523   0.9234697295847   2.1220017776407\n",
        "C     0.2096151223583   1.6793509886579   3.2655299818144\n",
        "H    -0.8298576406810   1.6816374807225   5.1614537759970\n",
        "H    -1.1155297675244  -1.9639771384900   2.8737258346041\n",
        "H     1.1311551788061   1.3586475153088   1.3389498331805\n",
        "C     2.7985412681099  -0.3440921389086  -6.0320361103160\n",
        "H     3.0137177612643  -1.4119025048439  -6.0784904425001\n",
        "H     2.5433990952730  -0.0090827377477  -7.0376742707821\n",
        "H     3.7013243404231   0.1769923076871  -5.7132670703364\n",
        "C    -1.3956677617432   2.2110713683443  -4.7713360805252\n",
        "H    -2.2850215726603   2.0829577471538  -4.1532353918110\n",
        "H    -0.9892606342753   3.2051959925139  -4.5854917335667\n",
        "H    -1.6989550492144   2.1496453780473  -5.8166145479409\n",
        "C    -1.9096053739985  -0.8269385079269   5.2372774019485\n",
        "H    -1.8730938416183  -1.9157634078951   5.1986764605346\n",
        "H    -1.5629099527925  -0.5125717843390   6.2218512212214\n",
        "H    -2.9465170241487  -0.5126306418706   5.1188520156529\n",
        "C     0.7055071531436   3.1039291474455   3.3878074482962\n",
        "H     0.6996321098764   3.5926125742168   2.4126899821207\n",
        "H     0.0720511304863   3.6841458846608   4.0587668370105\n",
        "H     1.7245462284362   3.1151446899290   3.7742478882927\n",
        "\"\"\"\n"
      ],
      "metadata": {
        "id": "NzBaWJTJ8mrU"
      },
      "execution_count": null,
      "outputs": []
    },
    {
      "cell_type": "markdown",
      "metadata": {
        "id": "4P9wqdJtiNbu"
      },
      "source": [
        "In the box below you can input the smiles code of the molecule. If you want to generate forcefields for molecular dynamics, enter the name that you want for your files and a three letter residue name. This code will generate a GAFF2 force field with RESP-charges calculated at the HF/sto-3g level of theory. Since this is a quantum chemical computations it may take some time if your molecule is larger.\n",
        "\n",
        "(If you want a different basis set you can change the basis = vlx.MolecularBasis.read(molecule, 'sto-3g') line in the \"Generate a force field\" cell below)"
      ]
    },
    {
      "cell_type": "code",
      "execution_count": null,
      "metadata": {
        "id": "kd3SxiFQFm6r",
        "cellView": "form",
        "colab": {
          "base_uri": "https://localhost:8080/",
          "height": 335
        },
        "outputId": "be193c22-20a9-49fb-df03-adf3d42836ef"
      },
      "outputs": [
        {
          "output_type": "stream",
          "name": "stdout",
          "text": [
            "Structure of the molecule entered: \n"
          ]
        },
        {
          "output_type": "display_data",
          "data": {
            "application/3dmoljs_load.v0": "<div id=\"3dmolviewer_17459937313521795\"  style=\"position: relative; width: 400px; height: 300px;\">\n        <p id=\"3dmolwarning_17459937313521795\" style=\"background-color:#ffcccc;color:black\">3Dmol.js failed to load for some reason.  Please check your browser console for error messages.<br></p>\n        </div>\n<script>\n\nvar loadScriptAsync = function(uri){\n  return new Promise((resolve, reject) => {\n    //this is to ignore the existence of requirejs amd\n    var savedexports, savedmodule;\n    if (typeof exports !== 'undefined') savedexports = exports;\n    else exports = {}\n    if (typeof module !== 'undefined') savedmodule = module;\n    else module = {}\n\n    var tag = document.createElement('script');\n    tag.src = uri;\n    tag.async = true;\n    tag.onload = () => {\n        exports = savedexports;\n        module = savedmodule;\n        resolve();\n    };\n  var firstScriptTag = document.getElementsByTagName('script')[0];\n  firstScriptTag.parentNode.insertBefore(tag, firstScriptTag);\n});\n};\n\nif(typeof $3Dmolpromise === 'undefined') {\n$3Dmolpromise = null;\n  $3Dmolpromise = loadScriptAsync('https://cdnjs.cloudflare.com/ajax/libs/3Dmol/2.4.2/3Dmol-min.js');\n}\n\nvar viewer_17459937313521795 = null;\nvar warn = document.getElementById(\"3dmolwarning_17459937313521795\");\nif(warn) {\n    warn.parentNode.removeChild(warn);\n}\n$3Dmolpromise.then(function() {\nviewer_17459937313521795 = $3Dmol.createViewer(document.getElementById(\"3dmolviewer_17459937313521795\"),{backgroundColor:\"white\"});\nviewer_17459937313521795.zoomTo();\n\tviewer_17459937313521795.addModel(\"11\\n\\nO              0.404413000000         1.986409000000         0.584596000000\\nC             -0.446827000000         0.920760000000         0.911528000000\\nC              0.323179000000        -0.201096000000         1.614992000000\\nC              1.331688000000        -0.836189000000         0.703564000000\\nO              2.308835000000        -0.209331000000         0.325983000000\\nH              0.592465000000         2.469765000000         1.431215000000\\nH             -1.270168000000         1.277560000000         1.571159000000\\nH             -0.910200000000         0.529921000000        -0.019752000000\\nH              0.833849000000         0.194457000000         2.519367000000\\nH             -0.400221000000        -0.978099000000         1.943006000000\\nH              1.203968000000        -1.867256000000         0.390219000000\\n\");\n\tviewer_17459937313521795.setViewStyle({\"style\": \"outline\", \"width\": 0.05});\n\tviewer_17459937313521795.setStyle({\"stick\": {}, \"sphere\": {\"scale\": 0.25}});\n\tviewer_17459937313521795.addLabel(\"1\",{\"position\": {\"x\": 0.40441299999999997, \"y\": 1.986409, \"z\": 0.584596}, \"alignment\": \"center\", \"fontColor\": 0, \"backgroundColor\": 16777215, \"backgroundOpacity\": 0.0});\n\tviewer_17459937313521795.addLabel(\"2\",{\"position\": {\"x\": -0.446827, \"y\": 0.92076, \"z\": 0.911528}, \"alignment\": \"center\", \"fontColor\": 0, \"backgroundColor\": 16777215, \"backgroundOpacity\": 0.0});\n\tviewer_17459937313521795.addLabel(\"3\",{\"position\": {\"x\": 0.323179, \"y\": -0.201096, \"z\": 1.614992}, \"alignment\": \"center\", \"fontColor\": 0, \"backgroundColor\": 16777215, \"backgroundOpacity\": 0.0});\n\tviewer_17459937313521795.addLabel(\"4\",{\"position\": {\"x\": 1.331688, \"y\": -0.836189, \"z\": 0.703564}, \"alignment\": \"center\", \"fontColor\": 0, \"backgroundColor\": 16777215, \"backgroundOpacity\": 0.0});\n\tviewer_17459937313521795.addLabel(\"5\",{\"position\": {\"x\": 2.3088349999999997, \"y\": -0.209331, \"z\": 0.325983}, \"alignment\": \"center\", \"fontColor\": 0, \"backgroundColor\": 16777215, \"backgroundOpacity\": 0.0});\n\tviewer_17459937313521795.addLabel(\"6\",{\"position\": {\"x\": 0.592465, \"y\": 2.469765, \"z\": 1.431215}, \"alignment\": \"center\", \"fontColor\": 0, \"backgroundColor\": 16777215, \"backgroundOpacity\": 0.0});\n\tviewer_17459937313521795.addLabel(\"7\",{\"position\": {\"x\": -1.270168, \"y\": 1.27756, \"z\": 1.571159}, \"alignment\": \"center\", \"fontColor\": 0, \"backgroundColor\": 16777215, \"backgroundOpacity\": 0.0});\n\tviewer_17459937313521795.addLabel(\"8\",{\"position\": {\"x\": -0.9102, \"y\": 0.529921, \"z\": -0.019751999999999995}, \"alignment\": \"center\", \"fontColor\": 0, \"backgroundColor\": 16777215, \"backgroundOpacity\": 0.0});\n\tviewer_17459937313521795.addLabel(\"9\",{\"position\": {\"x\": 0.8338489999999998, \"y\": 0.194457, \"z\": 2.5193669999999995}, \"alignment\": \"center\", \"fontColor\": 0, \"backgroundColor\": 16777215, \"backgroundOpacity\": 0.0});\n\tviewer_17459937313521795.addLabel(\"10\",{\"position\": {\"x\": -0.400221, \"y\": -0.9780989999999999, \"z\": 1.943006}, \"alignment\": \"center\", \"fontColor\": 0, \"backgroundColor\": 16777215, \"backgroundOpacity\": 0.0});\n\tviewer_17459937313521795.addLabel(\"11\",{\"position\": {\"x\": 1.2039679999999997, \"y\": -1.867256, \"z\": 0.390219}, \"alignment\": \"center\", \"fontColor\": 0, \"backgroundColor\": 16777215, \"backgroundOpacity\": 0.0});\n\tviewer_17459937313521795.zoomTo();\nviewer_17459937313521795.render();\n});\n</script>",
            "text/html": [
              "<div id=\"3dmolviewer_17459937313521795\"  style=\"position: relative; width: 400px; height: 300px;\">\n",
              "        <p id=\"3dmolwarning_17459937313521795\" style=\"background-color:#ffcccc;color:black\">3Dmol.js failed to load for some reason.  Please check your browser console for error messages.<br></p>\n",
              "        </div>\n",
              "<script>\n",
              "\n",
              "var loadScriptAsync = function(uri){\n",
              "  return new Promise((resolve, reject) => {\n",
              "    //this is to ignore the existence of requirejs amd\n",
              "    var savedexports, savedmodule;\n",
              "    if (typeof exports !== 'undefined') savedexports = exports;\n",
              "    else exports = {}\n",
              "    if (typeof module !== 'undefined') savedmodule = module;\n",
              "    else module = {}\n",
              "\n",
              "    var tag = document.createElement('script');\n",
              "    tag.src = uri;\n",
              "    tag.async = true;\n",
              "    tag.onload = () => {\n",
              "        exports = savedexports;\n",
              "        module = savedmodule;\n",
              "        resolve();\n",
              "    };\n",
              "  var firstScriptTag = document.getElementsByTagName('script')[0];\n",
              "  firstScriptTag.parentNode.insertBefore(tag, firstScriptTag);\n",
              "});\n",
              "};\n",
              "\n",
              "if(typeof $3Dmolpromise === 'undefined') {\n",
              "$3Dmolpromise = null;\n",
              "  $3Dmolpromise = loadScriptAsync('https://cdnjs.cloudflare.com/ajax/libs/3Dmol/2.4.2/3Dmol-min.js');\n",
              "}\n",
              "\n",
              "var viewer_17459937313521795 = null;\n",
              "var warn = document.getElementById(\"3dmolwarning_17459937313521795\");\n",
              "if(warn) {\n",
              "    warn.parentNode.removeChild(warn);\n",
              "}\n",
              "$3Dmolpromise.then(function() {\n",
              "viewer_17459937313521795 = $3Dmol.createViewer(document.getElementById(\"3dmolviewer_17459937313521795\"),{backgroundColor:\"white\"});\n",
              "viewer_17459937313521795.zoomTo();\n",
              "\tviewer_17459937313521795.addModel(\"11\\n\\nO              0.404413000000         1.986409000000         0.584596000000\\nC             -0.446827000000         0.920760000000         0.911528000000\\nC              0.323179000000        -0.201096000000         1.614992000000\\nC              1.331688000000        -0.836189000000         0.703564000000\\nO              2.308835000000        -0.209331000000         0.325983000000\\nH              0.592465000000         2.469765000000         1.431215000000\\nH             -1.270168000000         1.277560000000         1.571159000000\\nH             -0.910200000000         0.529921000000        -0.019752000000\\nH              0.833849000000         0.194457000000         2.519367000000\\nH             -0.400221000000        -0.978099000000         1.943006000000\\nH              1.203968000000        -1.867256000000         0.390219000000\\n\");\n",
              "\tviewer_17459937313521795.setViewStyle({\"style\": \"outline\", \"width\": 0.05});\n",
              "\tviewer_17459937313521795.setStyle({\"stick\": {}, \"sphere\": {\"scale\": 0.25}});\n",
              "\tviewer_17459937313521795.addLabel(\"1\",{\"position\": {\"x\": 0.40441299999999997, \"y\": 1.986409, \"z\": 0.584596}, \"alignment\": \"center\", \"fontColor\": 0, \"backgroundColor\": 16777215, \"backgroundOpacity\": 0.0});\n",
              "\tviewer_17459937313521795.addLabel(\"2\",{\"position\": {\"x\": -0.446827, \"y\": 0.92076, \"z\": 0.911528}, \"alignment\": \"center\", \"fontColor\": 0, \"backgroundColor\": 16777215, \"backgroundOpacity\": 0.0});\n",
              "\tviewer_17459937313521795.addLabel(\"3\",{\"position\": {\"x\": 0.323179, \"y\": -0.201096, \"z\": 1.614992}, \"alignment\": \"center\", \"fontColor\": 0, \"backgroundColor\": 16777215, \"backgroundOpacity\": 0.0});\n",
              "\tviewer_17459937313521795.addLabel(\"4\",{\"position\": {\"x\": 1.331688, \"y\": -0.836189, \"z\": 0.703564}, \"alignment\": \"center\", \"fontColor\": 0, \"backgroundColor\": 16777215, \"backgroundOpacity\": 0.0});\n",
              "\tviewer_17459937313521795.addLabel(\"5\",{\"position\": {\"x\": 2.3088349999999997, \"y\": -0.209331, \"z\": 0.325983}, \"alignment\": \"center\", \"fontColor\": 0, \"backgroundColor\": 16777215, \"backgroundOpacity\": 0.0});\n",
              "\tviewer_17459937313521795.addLabel(\"6\",{\"position\": {\"x\": 0.592465, \"y\": 2.469765, \"z\": 1.431215}, \"alignment\": \"center\", \"fontColor\": 0, \"backgroundColor\": 16777215, \"backgroundOpacity\": 0.0});\n",
              "\tviewer_17459937313521795.addLabel(\"7\",{\"position\": {\"x\": -1.270168, \"y\": 1.27756, \"z\": 1.571159}, \"alignment\": \"center\", \"fontColor\": 0, \"backgroundColor\": 16777215, \"backgroundOpacity\": 0.0});\n",
              "\tviewer_17459937313521795.addLabel(\"8\",{\"position\": {\"x\": -0.9102, \"y\": 0.529921, \"z\": -0.019751999999999995}, \"alignment\": \"center\", \"fontColor\": 0, \"backgroundColor\": 16777215, \"backgroundOpacity\": 0.0});\n",
              "\tviewer_17459937313521795.addLabel(\"9\",{\"position\": {\"x\": 0.8338489999999998, \"y\": 0.194457, \"z\": 2.5193669999999995}, \"alignment\": \"center\", \"fontColor\": 0, \"backgroundColor\": 16777215, \"backgroundOpacity\": 0.0});\n",
              "\tviewer_17459937313521795.addLabel(\"10\",{\"position\": {\"x\": -0.400221, \"y\": -0.9780989999999999, \"z\": 1.943006}, \"alignment\": \"center\", \"fontColor\": 0, \"backgroundColor\": 16777215, \"backgroundOpacity\": 0.0});\n",
              "\tviewer_17459937313521795.addLabel(\"11\",{\"position\": {\"x\": 1.2039679999999997, \"y\": -1.867256, \"z\": 0.390219}, \"alignment\": \"center\", \"fontColor\": 0, \"backgroundColor\": 16777215, \"backgroundOpacity\": 0.0});\n",
              "\tviewer_17459937313521795.zoomTo();\n",
              "viewer_17459937313521795.render();\n",
              "});\n",
              "</script>"
            ]
          },
          "metadata": {}
        }
      ],
      "source": [
        "#@title Define your molecule, either asa SMILES code or xyz-coordinates above\n",
        "#@markdown - Enter the SMILES code\n",
        "import veloxchem as vlx\n",
        "smiles_code = 'OCCC=O' #@param {type:\"string\"}\n",
        "#@markdown - If you want to use the xyz coordinates in the previous cell check box\n",
        "use_xyz = False # @param {type:\"boolean\"}\n",
        "if use_xyz == False:\n",
        "  molecule = vlx.Molecule.read_smiles(smiles_code)\n",
        "else:\n",
        "  molecule = vlx.Molecule.read_str(xyz_coordinates)\n",
        "print('Structure of the molecule entered: ')\n",
        "molecule.show(atom_indices=True)\n",
        "#@markdown - Give your Gromacs files a name\n",
        "gromacs_file = 'test' #@param {type:\"string\"}\n",
        "#@markdown - Give your molecule a residue name (three letters)\n",
        "residue_name = 'tes' #@param {type:\"string\"}\n",
        "\n"
      ]
    },
    {
      "cell_type": "code",
      "source": [
        "#@title Generate a force field and write Gromacs files\n",
        "#@markdown - Run this cell to generate the force field\n",
        "#@markdown - Example timing: Ibuprofen (1 min)\n",
        "#@markdown - The files can be found on the left panel (\"Files\")\n",
        "ff_gen = vlx.MMForceFieldGenerator()\n",
        "basis = vlx.MolecularBasis.read(molecule, 'sto-3g')\n",
        "ff_gen.ostream.mute()\n",
        "ff_gen.create_topology(molecule, basis)\n",
        "\n",
        "ff_gen.write_gromacs_files(gromacs_file, residue_name)\n"
      ],
      "metadata": {
        "id": "rW9KHJqfNqBx",
        "cellView": "form"
      },
      "execution_count": null,
      "outputs": []
    }
  ]
}