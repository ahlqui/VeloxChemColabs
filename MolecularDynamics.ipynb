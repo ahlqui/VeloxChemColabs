{
  "nbformat": 4,
  "nbformat_minor": 0,
  "metadata": {
    "colab": {
      "provenance": [],
      "gpuType": "T4",
      "include_colab_link": true
    },
    "kernelspec": {
      "name": "python3",
      "display_name": "Python 3"
    },
    "language_info": {
      "name": "python"
    },
    "accelerator": "GPU"
  },
  "cells": [
    {
      "cell_type": "markdown",
      "metadata": {
        "id": "view-in-github",
        "colab_type": "text"
      },
      "source": [
        "<a href=\"https://colab.research.google.com/github/ahlqui/VeloxChemColabs/blob/main/MolecularDynamics.ipynb\" target=\"_parent\"><img src=\"https://colab.research.google.com/assets/colab-badge.svg\" alt=\"Open In Colab\"/></a>"
      ]
    },
    {
      "cell_type": "markdown",
      "source": [
        "\n",
        "\n",
        "\n",
        "# Generate a force field from XYZ and run dynamics\n"
      ],
      "metadata": {
        "id": "_f9U7ujQXRh7"
      }
    },
    {
      "cell_type": "markdown",
      "source": [
        "This notebook requires that you have a molecular structure. Two options:\n",
        "\n",
        "Define Molecule as XYZ-coordinates: Can be generatred with free software such as www.avogadro.cc\n",
        "\n",
        "Define Molecule with SMILES code, A molecule can be defined using a SMILES code (example below). We have two suggested ways to generate smiles from structure. 1) Sketch your molecule at https://www.rcsb.org/chemical-sketch and the SMILES code will be shown right below the structure. 2) Build your molecule at https://molview.org/ , go to Tools/Information Card and it will show you the SMILES code. Just copy/paste it into the SMILES box below.\n",
        "\n",
        "Example of xyz-coordinates for CO2:\n",
        "\n",
        "O 0.00 0.00 0.00\n",
        "\n",
        "C 0.00 0.00 1.20\n",
        "\n",
        "O 0.00 0.00 2.40\n",
        "\n",
        "Example of SMILES for CO2:\n",
        "\n",
        "O=C=O"
      ],
      "metadata": {
        "id": "jsrGVECSXfex"
      }
    },
    {
      "cell_type": "code",
      "execution_count": 7,
      "metadata": {
        "cellView": "form",
        "id": "CtI-gOdULlF4"
      },
      "outputs": [],
      "source": [
        "#@title Install VeloxChem and dependencies (ca 2 min)\n",
        "#@markdown Before you can run anything a few things need to be installed. It all runs on the Google Colab server an you do not need to install anything on your computer.\n",
        "%%capture\n",
        "import sys\n",
        "\n",
        "! wget -qnc https://github.com/conda-forge/miniforge/releases/latest/download/Miniforge3-Linux-x86_64.sh\n",
        "! bash Miniforge3-Linux-x86_64.sh -bfp /usr/local\n",
        "! mamba config --set auto_update_conda false\n",
        "import sys\n",
        "sys.path.append('/usr/local/lib/python3.11/site-packages/')\n",
        "!mamba install -y -c conda-forge -c veloxchem veloxchem py3Dmol MDAnalysis openmm matplotlib python=3.11\n",
        "! pip install rdkit\n",
        "import veloxchem as vlx"
      ]
    },
    {
      "cell_type": "code",
      "source": [
        "xyz_coordinates = \"\"\"\n",
        "N     0.4785967928750  -0.4330741880750  -0.4934317502006\n",
        "H     1.3794564278886   0.0429751463168  -0.5120458348956\n",
        "C     0.4573285404340  -1.3154740355836  -1.6452845209868\n",
        "H     1.2794157350200  -2.0270971721773  -1.5868316520123\n",
        "H    -0.4697908768414  -1.8882598290096  -1.6558792536570\n",
        "C     0.3747047426388  -1.2102491878280   0.7331072010194\n",
        "H    -0.4082292852521  -1.9567463178277   0.6148319854093\n",
        "H     1.2952953868059  -1.7540437197433   0.9183116804327\n",
        "C     0.6956425554192   0.9059967227241  -5.3588904651214\n",
        "C     1.6690431285267  -0.0704102447688  -5.0614336089256\n",
        "C     1.5905279342425  -0.7922292640998  -3.8527793116028\n",
        "C     0.5421211238334  -0.5430166236398  -2.9451176135833\n",
        "C    -0.4312572408155   0.4285446612223  -3.2497814984180\n",
        "C    -0.3564249048118   1.1570067527526  -4.4544417171718\n",
        "H     0.7549521548685   1.4652126122086  -6.2812972715425\n",
        "H     2.3338053657174  -1.5390048087124  -3.6163728176857\n",
        "H    -1.2215586002930   0.6165771400284  -2.5371827271696\n",
        "C    -0.5809783149118   1.1061887532548   4.2819306994214\n",
        "C    -1.0539691464599  -0.2152180430193   4.1484967454886\n",
        "C    -0.7402866542775  -0.9585904738513   2.9917812697427\n",
        "C     0.0501603450518  -0.3918335577218   1.9715484114033\n",
        "C     0.5329231859523   0.9234697295847   2.1220017776407\n",
        "C     0.2096151223583   1.6793509886579   3.2655299818144\n",
        "H    -0.8298576406810   1.6816374807225   5.1614537759970\n",
        "H    -1.1155297675244  -1.9639771384900   2.8737258346041\n",
        "H     1.1311551788061   1.3586475153088   1.3389498331805\n",
        "C     2.7985412681099  -0.3440921389086  -6.0320361103160\n",
        "H     3.0137177612643  -1.4119025048439  -6.0784904425001\n",
        "H     2.5433990952730  -0.0090827377477  -7.0376742707821\n",
        "H     3.7013243404231   0.1769923076871  -5.7132670703364\n",
        "C    -1.3956677617432   2.2110713683443  -4.7713360805252\n",
        "H    -2.2850215726603   2.0829577471538  -4.1532353918110\n",
        "H    -0.9892606342753   3.2051959925139  -4.5854917335667\n",
        "H    -1.6989550492144   2.1496453780473  -5.8166145479409\n",
        "C    -1.9096053739985  -0.8269385079269   5.2372774019485\n",
        "H    -1.8730938416183  -1.9157634078951   5.1986764605346\n",
        "H    -1.5629099527925  -0.5125717843390   6.2218512212214\n",
        "H    -2.9465170241487  -0.5126306418706   5.1188520156529\n",
        "C     0.7055071531436   3.1039291474455   3.3878074482962\n",
        "H     0.6996321098764   3.5926125742168   2.4126899821207\n",
        "H     0.0720511304863   3.6841458846608   4.0587668370105\n",
        "H     1.7245462284362   3.1151446899290   3.7742478882927\n",
        "\"\"\"\n"
      ],
      "metadata": {
        "id": "NzBaWJTJ8mrU"
      },
      "execution_count": 2,
      "outputs": []
    },
    {
      "cell_type": "markdown",
      "metadata": {
        "id": "4P9wqdJtiNbu"
      },
      "source": [
        "In the box below you can input the smiles code of the molecule. If you want to generate forcefields for molecular dynamics, enter the name that you want for your files and a three letter residue name. This code will generate a GAFF2 force field with RESP-charges calculated at the HF/sto-3g level of theory. Since this is a quantum chemical computations it may take some time if your molecule is larger.\n",
        "\n",
        "(If you want a different basis set you can change the basis = vlx.MolecularBasis.read(molecule, 'sto-3g') line in the \"Generate a force field\" cell below)"
      ]
    },
    {
      "cell_type": "code",
      "execution_count": 3,
      "metadata": {
        "id": "kd3SxiFQFm6r",
        "cellView": "form",
        "colab": {
          "base_uri": "https://localhost:8080/",
          "height": 335
        },
        "outputId": "a72de367-8876-45e0-9140-68acc0a0a29a"
      },
      "outputs": [
        {
          "output_type": "stream",
          "name": "stdout",
          "text": [
            "Structure of the molecule entered: \n"
          ]
        },
        {
          "output_type": "display_data",
          "data": {
            "application/3dmoljs_load.v0": "<div id=\"3dmolviewer_1747314072131867\"  style=\"position: relative; width: 400px; height: 300px;\">\n        <p id=\"3dmolwarning_1747314072131867\" style=\"background-color:#ffcccc;color:black\">3Dmol.js failed to load for some reason.  Please check your browser console for error messages.<br></p>\n        </div>\n<script>\n\nvar loadScriptAsync = function(uri){\n  return new Promise((resolve, reject) => {\n    //this is to ignore the existence of requirejs amd\n    var savedexports, savedmodule;\n    if (typeof exports !== 'undefined') savedexports = exports;\n    else exports = {}\n    if (typeof module !== 'undefined') savedmodule = module;\n    else module = {}\n\n    var tag = document.createElement('script');\n    tag.src = uri;\n    tag.async = true;\n    tag.onload = () => {\n        exports = savedexports;\n        module = savedmodule;\n        resolve();\n    };\n  var firstScriptTag = document.getElementsByTagName('script')[0];\n  firstScriptTag.parentNode.insertBefore(tag, firstScriptTag);\n});\n};\n\nif(typeof $3Dmolpromise === 'undefined') {\n$3Dmolpromise = null;\n  $3Dmolpromise = loadScriptAsync('https://cdnjs.cloudflare.com/ajax/libs/3Dmol/2.4.2/3Dmol-min.js');\n}\n\nvar viewer_1747314072131867 = null;\nvar warn = document.getElementById(\"3dmolwarning_1747314072131867\");\nif(warn) {\n    warn.parentNode.removeChild(warn);\n}\n$3Dmolpromise.then(function() {\nviewer_1747314072131867 = $3Dmol.createViewer(document.getElementById(\"3dmolviewer_1747314072131867\"),{backgroundColor:\"white\"});\nviewer_1747314072131867.zoomTo();\n\tviewer_1747314072131867.addModel(\"11\\n\\nO              0.404413000000         1.986409000000         0.584596000000\\nC             -0.446827000000         0.920760000000         0.911528000000\\nC              0.323179000000        -0.201096000000         1.614992000000\\nC              1.331688000000        -0.836189000000         0.703564000000\\nO              2.308835000000        -0.209331000000         0.325983000000\\nH              0.592465000000         2.469765000000         1.431215000000\\nH             -1.270168000000         1.277560000000         1.571159000000\\nH             -0.910200000000         0.529921000000        -0.019752000000\\nH              0.833849000000         0.194457000000         2.519367000000\\nH             -0.400221000000        -0.978099000000         1.943006000000\\nH              1.203968000000        -1.867256000000         0.390219000000\\n\");\n\tviewer_1747314072131867.setViewStyle({\"style\": \"outline\", \"width\": 0.05});\n\tviewer_1747314072131867.setStyle({\"stick\": {}, \"sphere\": {\"scale\": 0.25}});\n\tviewer_1747314072131867.addLabel(\"1\",{\"position\": {\"x\": 0.40441299999999997, \"y\": 1.986409, \"z\": 0.584596}, \"alignment\": \"center\", \"fontColor\": 0, \"backgroundColor\": 16777215, \"backgroundOpacity\": 0.0});\n\tviewer_1747314072131867.addLabel(\"2\",{\"position\": {\"x\": -0.446827, \"y\": 0.92076, \"z\": 0.911528}, \"alignment\": \"center\", \"fontColor\": 0, \"backgroundColor\": 16777215, \"backgroundOpacity\": 0.0});\n\tviewer_1747314072131867.addLabel(\"3\",{\"position\": {\"x\": 0.323179, \"y\": -0.201096, \"z\": 1.614992}, \"alignment\": \"center\", \"fontColor\": 0, \"backgroundColor\": 16777215, \"backgroundOpacity\": 0.0});\n\tviewer_1747314072131867.addLabel(\"4\",{\"position\": {\"x\": 1.331688, \"y\": -0.836189, \"z\": 0.703564}, \"alignment\": \"center\", \"fontColor\": 0, \"backgroundColor\": 16777215, \"backgroundOpacity\": 0.0});\n\tviewer_1747314072131867.addLabel(\"5\",{\"position\": {\"x\": 2.3088349999999997, \"y\": -0.209331, \"z\": 0.325983}, \"alignment\": \"center\", \"fontColor\": 0, \"backgroundColor\": 16777215, \"backgroundOpacity\": 0.0});\n\tviewer_1747314072131867.addLabel(\"6\",{\"position\": {\"x\": 0.592465, \"y\": 2.469765, \"z\": 1.431215}, \"alignment\": \"center\", \"fontColor\": 0, \"backgroundColor\": 16777215, \"backgroundOpacity\": 0.0});\n\tviewer_1747314072131867.addLabel(\"7\",{\"position\": {\"x\": -1.270168, \"y\": 1.27756, \"z\": 1.571159}, \"alignment\": \"center\", \"fontColor\": 0, \"backgroundColor\": 16777215, \"backgroundOpacity\": 0.0});\n\tviewer_1747314072131867.addLabel(\"8\",{\"position\": {\"x\": -0.9102, \"y\": 0.529921, \"z\": -0.019751999999999995}, \"alignment\": \"center\", \"fontColor\": 0, \"backgroundColor\": 16777215, \"backgroundOpacity\": 0.0});\n\tviewer_1747314072131867.addLabel(\"9\",{\"position\": {\"x\": 0.8338489999999998, \"y\": 0.194457, \"z\": 2.5193669999999995}, \"alignment\": \"center\", \"fontColor\": 0, \"backgroundColor\": 16777215, \"backgroundOpacity\": 0.0});\n\tviewer_1747314072131867.addLabel(\"10\",{\"position\": {\"x\": -0.400221, \"y\": -0.9780989999999999, \"z\": 1.943006}, \"alignment\": \"center\", \"fontColor\": 0, \"backgroundColor\": 16777215, \"backgroundOpacity\": 0.0});\n\tviewer_1747314072131867.addLabel(\"11\",{\"position\": {\"x\": 1.2039679999999997, \"y\": -1.867256, \"z\": 0.390219}, \"alignment\": \"center\", \"fontColor\": 0, \"backgroundColor\": 16777215, \"backgroundOpacity\": 0.0});\n\tviewer_1747314072131867.zoomTo();\nviewer_1747314072131867.render();\n});\n</script>",
            "text/html": [
              "<div id=\"3dmolviewer_1747314072131867\"  style=\"position: relative; width: 400px; height: 300px;\">\n",
              "        <p id=\"3dmolwarning_1747314072131867\" style=\"background-color:#ffcccc;color:black\">3Dmol.js failed to load for some reason.  Please check your browser console for error messages.<br></p>\n",
              "        </div>\n",
              "<script>\n",
              "\n",
              "var loadScriptAsync = function(uri){\n",
              "  return new Promise((resolve, reject) => {\n",
              "    //this is to ignore the existence of requirejs amd\n",
              "    var savedexports, savedmodule;\n",
              "    if (typeof exports !== 'undefined') savedexports = exports;\n",
              "    else exports = {}\n",
              "    if (typeof module !== 'undefined') savedmodule = module;\n",
              "    else module = {}\n",
              "\n",
              "    var tag = document.createElement('script');\n",
              "    tag.src = uri;\n",
              "    tag.async = true;\n",
              "    tag.onload = () => {\n",
              "        exports = savedexports;\n",
              "        module = savedmodule;\n",
              "        resolve();\n",
              "    };\n",
              "  var firstScriptTag = document.getElementsByTagName('script')[0];\n",
              "  firstScriptTag.parentNode.insertBefore(tag, firstScriptTag);\n",
              "});\n",
              "};\n",
              "\n",
              "if(typeof $3Dmolpromise === 'undefined') {\n",
              "$3Dmolpromise = null;\n",
              "  $3Dmolpromise = loadScriptAsync('https://cdnjs.cloudflare.com/ajax/libs/3Dmol/2.4.2/3Dmol-min.js');\n",
              "}\n",
              "\n",
              "var viewer_1747314072131867 = null;\n",
              "var warn = document.getElementById(\"3dmolwarning_1747314072131867\");\n",
              "if(warn) {\n",
              "    warn.parentNode.removeChild(warn);\n",
              "}\n",
              "$3Dmolpromise.then(function() {\n",
              "viewer_1747314072131867 = $3Dmol.createViewer(document.getElementById(\"3dmolviewer_1747314072131867\"),{backgroundColor:\"white\"});\n",
              "viewer_1747314072131867.zoomTo();\n",
              "\tviewer_1747314072131867.addModel(\"11\\n\\nO              0.404413000000         1.986409000000         0.584596000000\\nC             -0.446827000000         0.920760000000         0.911528000000\\nC              0.323179000000        -0.201096000000         1.614992000000\\nC              1.331688000000        -0.836189000000         0.703564000000\\nO              2.308835000000        -0.209331000000         0.325983000000\\nH              0.592465000000         2.469765000000         1.431215000000\\nH             -1.270168000000         1.277560000000         1.571159000000\\nH             -0.910200000000         0.529921000000        -0.019752000000\\nH              0.833849000000         0.194457000000         2.519367000000\\nH             -0.400221000000        -0.978099000000         1.943006000000\\nH              1.203968000000        -1.867256000000         0.390219000000\\n\");\n",
              "\tviewer_1747314072131867.setViewStyle({\"style\": \"outline\", \"width\": 0.05});\n",
              "\tviewer_1747314072131867.setStyle({\"stick\": {}, \"sphere\": {\"scale\": 0.25}});\n",
              "\tviewer_1747314072131867.addLabel(\"1\",{\"position\": {\"x\": 0.40441299999999997, \"y\": 1.986409, \"z\": 0.584596}, \"alignment\": \"center\", \"fontColor\": 0, \"backgroundColor\": 16777215, \"backgroundOpacity\": 0.0});\n",
              "\tviewer_1747314072131867.addLabel(\"2\",{\"position\": {\"x\": -0.446827, \"y\": 0.92076, \"z\": 0.911528}, \"alignment\": \"center\", \"fontColor\": 0, \"backgroundColor\": 16777215, \"backgroundOpacity\": 0.0});\n",
              "\tviewer_1747314072131867.addLabel(\"3\",{\"position\": {\"x\": 0.323179, \"y\": -0.201096, \"z\": 1.614992}, \"alignment\": \"center\", \"fontColor\": 0, \"backgroundColor\": 16777215, \"backgroundOpacity\": 0.0});\n",
              "\tviewer_1747314072131867.addLabel(\"4\",{\"position\": {\"x\": 1.331688, \"y\": -0.836189, \"z\": 0.703564}, \"alignment\": \"center\", \"fontColor\": 0, \"backgroundColor\": 16777215, \"backgroundOpacity\": 0.0});\n",
              "\tviewer_1747314072131867.addLabel(\"5\",{\"position\": {\"x\": 2.3088349999999997, \"y\": -0.209331, \"z\": 0.325983}, \"alignment\": \"center\", \"fontColor\": 0, \"backgroundColor\": 16777215, \"backgroundOpacity\": 0.0});\n",
              "\tviewer_1747314072131867.addLabel(\"6\",{\"position\": {\"x\": 0.592465, \"y\": 2.469765, \"z\": 1.431215}, \"alignment\": \"center\", \"fontColor\": 0, \"backgroundColor\": 16777215, \"backgroundOpacity\": 0.0});\n",
              "\tviewer_1747314072131867.addLabel(\"7\",{\"position\": {\"x\": -1.270168, \"y\": 1.27756, \"z\": 1.571159}, \"alignment\": \"center\", \"fontColor\": 0, \"backgroundColor\": 16777215, \"backgroundOpacity\": 0.0});\n",
              "\tviewer_1747314072131867.addLabel(\"8\",{\"position\": {\"x\": -0.9102, \"y\": 0.529921, \"z\": -0.019751999999999995}, \"alignment\": \"center\", \"fontColor\": 0, \"backgroundColor\": 16777215, \"backgroundOpacity\": 0.0});\n",
              "\tviewer_1747314072131867.addLabel(\"9\",{\"position\": {\"x\": 0.8338489999999998, \"y\": 0.194457, \"z\": 2.5193669999999995}, \"alignment\": \"center\", \"fontColor\": 0, \"backgroundColor\": 16777215, \"backgroundOpacity\": 0.0});\n",
              "\tviewer_1747314072131867.addLabel(\"10\",{\"position\": {\"x\": -0.400221, \"y\": -0.9780989999999999, \"z\": 1.943006}, \"alignment\": \"center\", \"fontColor\": 0, \"backgroundColor\": 16777215, \"backgroundOpacity\": 0.0});\n",
              "\tviewer_1747314072131867.addLabel(\"11\",{\"position\": {\"x\": 1.2039679999999997, \"y\": -1.867256, \"z\": 0.390219}, \"alignment\": \"center\", \"fontColor\": 0, \"backgroundColor\": 16777215, \"backgroundOpacity\": 0.0});\n",
              "\tviewer_1747314072131867.zoomTo();\n",
              "viewer_1747314072131867.render();\n",
              "});\n",
              "</script>"
            ]
          },
          "metadata": {}
        }
      ],
      "source": [
        "#@title Define your molecule, either asa SMILES code or xyz-coordinates above\n",
        "#@markdown - Enter the SMILES code\n",
        "smiles_code = 'OCCC=O' #@param {type:\"string\"}\n",
        "#@markdown - If you want to use the xyz coordinates in the previous cell check box\n",
        "use_xyz = False # @param {type:\"boolean\"}\n",
        "if use_xyz == False:\n",
        "  molecule = vlx.Molecule.read_smiles(smiles_code)\n",
        "else:\n",
        "  molecule = vlx.Molecule.read_str(xyz_coordinates)\n",
        "print('Structure of the molecule entered: ')\n",
        "molecule.show(atom_indices=True)\n",
        "#@markdown - Give your Gromacs files a name\n",
        "gromacs_file = 'test' #@param {type:\"string\"}\n",
        "#@markdown - Give your molecule a residue name (three letters)\n",
        "residue_name = 'tes' #@param {type:\"string\"}\n",
        "\n"
      ]
    },
    {
      "cell_type": "code",
      "source": [
        "#@title Generate a force field and write Gromacs files\n",
        "#@markdown - Run this cell to generate the force field\n",
        "#@markdown - Example timing: Ibuprofen (1 min)\n",
        "#@markdown - The files can be found on the left panel (\"Files\")\n",
        "ff_gen = vlx.MMForceFieldGenerator()\n",
        "basis = vlx.MolecularBasis.read(molecule, 'sto-3g')\n",
        "ff_gen.ostream.mute()\n",
        "ff_gen.create_topology(molecule, basis)\n",
        "\n",
        "ff_gen.write_gromacs_files(gromacs_file, residue_name)\n"
      ],
      "metadata": {
        "id": "rW9KHJqfNqBx",
        "cellView": "form"
      },
      "execution_count": 5,
      "outputs": []
    },
    {
      "cell_type": "code",
      "execution_count": 8,
      "metadata": {
        "id": "O0J87UqYXbCK",
        "cellView": "form",
        "colab": {
          "base_uri": "https://localhost:8080/"
        },
        "outputId": "a76e393a-c17e-4a3a-8c43-4c483dfa5c7f"
      },
      "outputs": [
        {
          "output_type": "stream",
          "name": "stderr",
          "text": [
            "WARNING:MDAnalysis.coordinates.AMBER:netCDF4 is not available. Writing AMBER ncdf files will be slow.\n"
          ]
        },
        {
          "output_type": "stream",
          "name": "stdout",
          "text": [
            "#\"Step\",\"Potential Energy (kJ/mole)\",\"Temperature (K)\"\n",
            "10000,2.4259567260742188,475.7172070532383\n",
            "20000,31.45372772216797,489.7511606427673\n",
            "30000,33.345741271972656,682.2756509828062\n",
            "40000,26.49945831298828,460.47290967961845\n",
            "50000,20.64459228515625,554.0714627704007\n",
            "60000,13.290931701660156,653.6129263939415\n",
            "70000,38.93491744995117,1073.5936099945009\n",
            "80000,3.7798843383789062,542.4229482816329\n",
            "90000,38.885555267333984,747.2151776250402\n",
            "100000,14.232978820800781,584.7057134910698\n"
          ]
        }
      ],
      "source": [
        "#@title Run dynamics\n",
        "#@markdown - Example timings: 200 ps MD of ibuprofen (22 sec)\n",
        "from openmm.app import *\n",
        "from openmm import *\n",
        "from openmm.unit import *\n",
        "from sys import stdout\n",
        "import MDAnalysis as mda\n",
        "universe = mda.Universe(gromacs_file + '.gro')\n",
        "with mda.Writer(gromacs_file + '.gro') as gro:\n",
        "    gro.write(universe)\n",
        "gro = GromacsGroFile(gromacs_file + '.gro')\n",
        "top = GromacsTopFile(gromacs_file + '.top')\n",
        "system = top.createSystem(nonbondedMethod=NoCutoff)\n",
        "#@markdown - Set the timestep in femtoseconds\n",
        "#time_step = 2 #@param {type:\"integer\"}\n",
        "time_step = 2 #@param [1, 2]\n",
        "#@markdown - Set the temperature in Kelvin\n",
        "temp = 700 #@param {type:\"slider\", min:200, max:700, step:1}\n",
        "integrator = LangevinMiddleIntegrator(temp*kelvin, 1/picosecond, 0.001*time_step*picoseconds)\n",
        "simulation = Simulation(top.topology, system, integrator)\n",
        "simulation.context.setPositions(gro.positions)\n",
        "simulation.minimizeEnergy()\n",
        "#@markdown - Set the number of steps you want to take (ex 100000 steps * 2 fs= 200 ps)\n",
        "steps = 100000 #@param {type:\"integer\"}\n",
        "#@markdown - Number of snapshots saved. Select how many structures you want to save from your dynamics run\n",
        "snapshots = 10 #@param {type:\"integer\"}\n",
        "outputdata = steps / snapshots\n",
        "simulation.reporters.append(PDBReporter(gromacs_file + '.pdb', outputdata))\n",
        "simulation.reporters.append(StateDataReporter(stdout, outputdata, step=True,\n",
        "        potentialEnergy=True, temperature=True))\n",
        "simulation.step(steps)"
      ]
    },
    {
      "cell_type": "code",
      "execution_count": 9,
      "metadata": {
        "id": "zWvAG92YWJCt",
        "cellView": "form",
        "colab": {
          "base_uri": "https://localhost:8080/",
          "height": 285
        },
        "outputId": "8e29ffb8-8544-4ec0-b427-2c632633c7aa"
      },
      "outputs": [
        {
          "output_type": "stream",
          "name": "stdout",
          "text": [
            "Output geometry:\n"
          ]
        },
        {
          "output_type": "display_data",
          "data": {
            "application/3dmoljs_load.v0": "<div id=\"3dmolviewer_17473141799435258\"  style=\"position: relative; width: 400px; height: 250px;\">\n        <p id=\"3dmolwarning_17473141799435258\" style=\"background-color:#ffcccc;color:black\">3Dmol.js failed to load for some reason.  Please check your browser console for error messages.<br></p>\n        </div>\n<script>\n\nvar loadScriptAsync = function(uri){\n  return new Promise((resolve, reject) => {\n    //this is to ignore the existence of requirejs amd\n    var savedexports, savedmodule;\n    if (typeof exports !== 'undefined') savedexports = exports;\n    else exports = {}\n    if (typeof module !== 'undefined') savedmodule = module;\n    else module = {}\n\n    var tag = document.createElement('script');\n    tag.src = uri;\n    tag.async = true;\n    tag.onload = () => {\n        exports = savedexports;\n        module = savedmodule;\n        resolve();\n    };\n  var firstScriptTag = document.getElementsByTagName('script')[0];\n  firstScriptTag.parentNode.insertBefore(tag, firstScriptTag);\n});\n};\n\nif(typeof $3Dmolpromise === 'undefined') {\n$3Dmolpromise = null;\n  $3Dmolpromise = loadScriptAsync('https://cdnjs.cloudflare.com/ajax/libs/3Dmol/2.4.2/3Dmol-min.js');\n}\n\nvar viewer_17473141799435258 = null;\nvar warn = document.getElementById(\"3dmolwarning_17473141799435258\");\nif(warn) {\n    warn.parentNode.removeChild(warn);\n}\n$3Dmolpromise.then(function() {\nviewer_17473141799435258 = $3Dmol.createViewer(document.getElementById(\"3dmolviewer_17473141799435258\"),{backgroundColor:\"white\"});\nviewer_17473141799435258.zoomTo();\n\tviewer_17473141799435258.addModelsAsFrames(\"REMARK   1 CREATED WITH OPENMM 8.2, 2025-05-15\\nMODEL        1\\nHETATM    1  O1  tes A   1       1.995   0.523  -1.020  1.00  0.00           O  \\nHETATM    2  C1  tes A   1       1.643   0.793   0.311  1.00  0.00           C  \\nHETATM    3  C2  tes A   1       0.242   0.395   0.771  1.00  0.00           C  \\nHETATM    4  C3  tes A   1       0.355   0.242   2.184  1.00  0.00           C  \\nHETATM    5  O2  tes A   1      -0.440  -0.524   2.786  1.00  0.00           O  \\nHETATM    6  H1  tes A   1       1.163   0.178  -1.391  1.00  0.00           H  \\nHETATM    7  H2  tes A   1       2.428   0.165   0.895  1.00  0.00           H  \\nHETATM    8  H3  tes A   1       1.840   1.882   0.568  1.00  0.00           H  \\nHETATM    9  H4  tes A   1      -0.434   1.268   0.508  1.00  0.00           H  \\nHETATM   10  H5  tes A   1      -0.028  -0.599   0.397  1.00  0.00           H  \\nHETATM   11  H6  tes A   1       0.914   0.955   2.715  1.00  0.00           H  \\nTER      12      tes A   1\\nENDMDL\\nMODEL        2\\nHETATM    1  O1  tes A   1       1.281   2.148   2.061  1.00  0.00           O  \\nHETATM    2  C1  tes A   1       0.476   1.236   1.281  1.00  0.00           C  \\nHETATM    3  C2  tes A   1       1.055  -0.184   1.492  1.00  0.00           C  \\nHETATM    4  C3  tes A   1       0.540  -1.191   0.521  1.00  0.00           C  \\nHETATM    5  O2  tes A   1       0.462  -0.976  -0.618  1.00  0.00           O  \\nHETATM    6  H1  tes A   1       1.974   1.396   2.214  1.00  0.00           H  \\nHETATM    7  H2  tes A   1      -0.487   1.336   1.762  1.00  0.00           H  \\nHETATM    8  H3  tes A   1       0.335   1.802   0.332  1.00  0.00           H  \\nHETATM    9  H4  tes A   1       2.173  -0.261   1.372  1.00  0.00           H  \\nHETATM   10  H5  tes A   1       0.842  -0.370   2.555  1.00  0.00           H  \\nHETATM   11  H6  tes A   1       0.225  -2.209   0.908  1.00  0.00           H  \\nTER      12      tes A   1\\nENDMDL\\nMODEL        3\\nHETATM    1  O1  tes A   1       0.638  -0.114   2.762  1.00  0.00           O  \\nHETATM    2  C1  tes A   1       0.878  -0.902   1.688  1.00  0.00           C  \\nHETATM    3  C2  tes A   1       1.489  -0.117   0.590  1.00  0.00           C  \\nHETATM    4  C3  tes A   1       0.664   0.681  -0.383  1.00  0.00           C  \\nHETATM    5  O2  tes A   1       0.193   1.745   0.042  1.00  0.00           O  \\nHETATM    6  H1  tes A   1       0.843   0.785   2.375  1.00  0.00           H  \\nHETATM    7  H2  tes A   1       1.328  -1.867   1.980  1.00  0.00           H  \\nHETATM    8  H3  tes A   1      -0.001  -1.304   1.424  1.00  0.00           H  \\nHETATM    9  H4  tes A   1       2.421   0.514   0.962  1.00  0.00           H  \\nHETATM   10  H5  tes A   1       1.937  -0.967  -0.097  1.00  0.00           H  \\nHETATM   11  H6  tes A   1       0.469   0.459  -1.355  1.00  0.00           H  \\nTER      12      tes A   1\\nENDMDL\\nMODEL        4\\nHETATM    1  O1  tes A   1       0.118   1.644  -0.440  1.00  0.00           O  \\nHETATM    2  C1  tes A   1       0.879   0.572  -0.046  1.00  0.00           C  \\nHETATM    3  C2  tes A   1       0.064  -0.179   0.905  1.00  0.00           C  \\nHETATM    4  C3  tes A   1       0.959  -0.816   1.950  1.00  0.00           C  \\nHETATM    5  O2  tes A   1       1.733  -0.141   2.692  1.00  0.00           O  \\nHETATM    6  H1  tes A   1       0.729   2.395  -0.730  1.00  0.00           H  \\nHETATM    7  H2  tes A   1       0.994  -0.056  -0.924  1.00  0.00           H  \\nHETATM    8  H3  tes A   1       1.842   0.977   0.186  1.00  0.00           H  \\nHETATM    9  H4  tes A   1      -0.501   0.469   1.492  1.00  0.00           H  \\nHETATM   10  H5  tes A   1      -0.553  -1.001   0.309  1.00  0.00           H  \\nHETATM   11  H6  tes A   1       1.091  -1.956   2.089  1.00  0.00           H  \\nTER      12      tes A   1\\nENDMDL\\nMODEL        5\\nHETATM    1  O1  tes A   1       0.177   2.107   1.428  1.00  0.00           O  \\nHETATM    2  C1  tes A   1       1.148   1.208   1.418  1.00  0.00           C  \\nHETATM    3  C2  tes A   1       1.096   0.401   0.102  1.00  0.00           C  \\nHETATM    4  C3  tes A   1       0.932  -1.031   0.293  1.00  0.00           C  \\nHETATM    5  O2  tes A   1       0.621  -1.550   1.422  1.00  0.00           O  \\nHETATM    6  H1  tes A   1       0.280   2.473   2.396  1.00  0.00           H  \\nHETATM    7  H2  tes A   1       2.153   1.664   1.677  1.00  0.00           H  \\nHETATM    8  H3  tes A   1       0.935   0.584   2.207  1.00  0.00           H  \\nHETATM    9  H4  tes A   1       0.305   0.873  -0.627  1.00  0.00           H  \\nHETATM   10  H5  tes A   1       2.067   0.495  -0.519  1.00  0.00           H  \\nHETATM   11  H6  tes A   1       1.085  -1.736  -0.498  1.00  0.00           H  \\nTER      12      tes A   1\\nENDMDL\\nMODEL        6\\nHETATM    1  O1  tes A   1       2.524  -0.827   1.251  1.00  0.00           O  \\nHETATM    2  C1  tes A   1       1.268  -1.023   0.572  1.00  0.00           C  \\nHETATM    3  C2  tes A   1       0.175  -0.056   1.143  1.00  0.00           C  \\nHETATM    4  C3  tes A   1       0.440   1.343   0.900  1.00  0.00           C  \\nHETATM    5  O2  tes A   1      -0.543   2.030   0.866  1.00  0.00           O  \\nHETATM    6  H1  tes A   1       2.837  -0.159   0.593  1.00  0.00           H  \\nHETATM    7  H2  tes A   1       1.330  -0.743  -0.483  1.00  0.00           H  \\nHETATM    8  H3  tes A   1       0.780  -1.968   0.738  1.00  0.00           H  \\nHETATM    9  H4  tes A   1      -0.822  -0.258   0.658  1.00  0.00           H  \\nHETATM   10  H5  tes A   1       0.292  -0.350   2.230  1.00  0.00           H  \\nHETATM   11  H6  tes A   1       1.436   1.695   0.594  1.00  0.00           H  \\nTER      12      tes A   1\\nENDMDL\\nMODEL        7\\nHETATM    1  O1  tes A   1      -0.860  -0.097   2.363  1.00  0.00           O  \\nHETATM    2  C1  tes A   1       0.122   0.717   1.651  1.00  0.00           C  \\nHETATM    3  C2  tes A   1       1.472   0.207   1.418  1.00  0.00           C  \\nHETATM    4  C3  tes A   1       1.558  -0.175  -0.067  1.00  0.00           C  \\nHETATM    5  O2  tes A   1       1.823   0.720  -0.897  1.00  0.00           O  \\nHETATM    6  H1  tes A   1      -0.431  -0.817   2.976  1.00  0.00           H  \\nHETATM    7  H2  tes A   1      -0.351   0.812   0.599  1.00  0.00           H  \\nHETATM    8  H3  tes A   1       0.225   1.621   2.317  1.00  0.00           H  \\nHETATM    9  H4  tes A   1       2.349   0.787   1.742  1.00  0.00           H  \\nHETATM   10  H5  tes A   1       1.499  -0.738   1.851  1.00  0.00           H  \\nHETATM   11  H6  tes A   1       1.270  -1.140  -0.410  1.00  0.00           H  \\nTER      12      tes A   1\\nENDMDL\\nMODEL        8\\nHETATM    1  O1  tes A   1      -0.693  -0.687   1.779  1.00  0.00           O  \\nHETATM    2  C1  tes A   1      -0.320   0.605   1.731  1.00  0.00           C  \\nHETATM    3  C2  tes A   1       0.504   0.890   0.518  1.00  0.00           C  \\nHETATM    4  C3  tes A   1       1.703   0.064   0.183  1.00  0.00           C  \\nHETATM    5  O2  tes A   1       2.762   0.527   0.347  1.00  0.00           O  \\nHETATM    6  H1  tes A   1      -1.692  -0.610   1.732  1.00  0.00           H  \\nHETATM    7  H2  tes A   1      -1.102   1.381   1.713  1.00  0.00           H  \\nHETATM    8  H3  tes A   1       0.190   0.806   2.687  1.00  0.00           H  \\nHETATM    9  H4  tes A   1      -0.139   1.069  -0.428  1.00  0.00           H  \\nHETATM   10  H5  tes A   1       0.762   1.916   0.582  1.00  0.00           H  \\nHETATM   11  H6  tes A   1       1.577  -0.897  -0.334  1.00  0.00           H  \\nTER      12      tes A   1\\nENDMDL\\nMODEL        9\\nHETATM    1  O1  tes A   1      -1.201  -0.023   0.775  1.00  0.00           O  \\nHETATM    2  C1  tes A   1       0.045  -0.612   0.237  1.00  0.00           C  \\nHETATM    3  C2  tes A   1       1.256  -0.654   1.148  1.00  0.00           C  \\nHETATM    4  C3  tes A   1       2.169   0.698   1.169  1.00  0.00           C  \\nHETATM    5  O2  tes A   1       1.670   1.815   1.380  1.00  0.00           O  \\nHETATM    6  H1  tes A   1      -0.757   0.842   1.071  1.00  0.00           H  \\nHETATM    7  H2  tes A   1      -0.276  -1.519  -0.298  1.00  0.00           H  \\nHETATM    8  H3  tes A   1       0.385   0.147  -0.532  1.00  0.00           H  \\nHETATM    9  H4  tes A   1       0.889  -0.953   2.191  1.00  0.00           H  \\nHETATM   10  H5  tes A   1       2.147  -1.383   0.796  1.00  0.00           H  \\nHETATM   11  H6  tes A   1       3.277   0.598   1.113  1.00  0.00           H  \\nTER      12      tes A   1\\nENDMDL\\nMODEL       10\\nHETATM    1  O1  tes A   1       1.907  -0.743  -0.239  1.00  0.00           O  \\nHETATM    2  C1  tes A   1       2.197   0.254   0.666  1.00  0.00           C  \\nHETATM    3  C2  tes A   1       0.904   1.109   0.924  1.00  0.00           C  \\nHETATM    4  C3  tes A   1      -0.140   0.422   1.752  1.00  0.00           C  \\nHETATM    5  O2  tes A   1      -1.312   0.455   1.509  1.00  0.00           O  \\nHETATM    6  H1  tes A   1       1.790  -1.678   0.171  1.00  0.00           H  \\nHETATM    7  H2  tes A   1       2.502  -0.324   1.555  1.00  0.00           H  \\nHETATM    8  H3  tes A   1       3.120   0.968   0.456  1.00  0.00           H  \\nHETATM    9  H4  tes A   1       1.329   2.007   1.536  1.00  0.00           H  \\nHETATM   10  H5  tes A   1       0.356   1.570   0.067  1.00  0.00           H  \\nHETATM   11  H6  tes A   1       0.248  -0.256   2.601  1.00  0.00           H  \\nTER      12      tes A   1\\nENDMDL\\n\",\"pdb\",{\"keepH\": true});\n\tviewer_17473141799435258.animate({\"interval\": 400, \"loop\": \"forward\", \"reps\": 10});\n\tviewer_17473141799435258.setStyle({\"stick\": {}, \"sphere\": {\"scale\": 0.25}});\n\tviewer_17473141799435258.zoomTo();\nviewer_17473141799435258.render();\n});\n</script>",
            "text/html": [
              "<div id=\"3dmolviewer_17473141799435258\"  style=\"position: relative; width: 400px; height: 250px;\">\n",
              "        <p id=\"3dmolwarning_17473141799435258\" style=\"background-color:#ffcccc;color:black\">3Dmol.js failed to load for some reason.  Please check your browser console for error messages.<br></p>\n",
              "        </div>\n",
              "<script>\n",
              "\n",
              "var loadScriptAsync = function(uri){\n",
              "  return new Promise((resolve, reject) => {\n",
              "    //this is to ignore the existence of requirejs amd\n",
              "    var savedexports, savedmodule;\n",
              "    if (typeof exports !== 'undefined') savedexports = exports;\n",
              "    else exports = {}\n",
              "    if (typeof module !== 'undefined') savedmodule = module;\n",
              "    else module = {}\n",
              "\n",
              "    var tag = document.createElement('script');\n",
              "    tag.src = uri;\n",
              "    tag.async = true;\n",
              "    tag.onload = () => {\n",
              "        exports = savedexports;\n",
              "        module = savedmodule;\n",
              "        resolve();\n",
              "    };\n",
              "  var firstScriptTag = document.getElementsByTagName('script')[0];\n",
              "  firstScriptTag.parentNode.insertBefore(tag, firstScriptTag);\n",
              "});\n",
              "};\n",
              "\n",
              "if(typeof $3Dmolpromise === 'undefined') {\n",
              "$3Dmolpromise = null;\n",
              "  $3Dmolpromise = loadScriptAsync('https://cdnjs.cloudflare.com/ajax/libs/3Dmol/2.4.2/3Dmol-min.js');\n",
              "}\n",
              "\n",
              "var viewer_17473141799435258 = null;\n",
              "var warn = document.getElementById(\"3dmolwarning_17473141799435258\");\n",
              "if(warn) {\n",
              "    warn.parentNode.removeChild(warn);\n",
              "}\n",
              "$3Dmolpromise.then(function() {\n",
              "viewer_17473141799435258 = $3Dmol.createViewer(document.getElementById(\"3dmolviewer_17473141799435258\"),{backgroundColor:\"white\"});\n",
              "viewer_17473141799435258.zoomTo();\n",
              "\tviewer_17473141799435258.addModelsAsFrames(\"REMARK   1 CREATED WITH OPENMM 8.2, 2025-05-15\\nMODEL        1\\nHETATM    1  O1  tes A   1       1.995   0.523  -1.020  1.00  0.00           O  \\nHETATM    2  C1  tes A   1       1.643   0.793   0.311  1.00  0.00           C  \\nHETATM    3  C2  tes A   1       0.242   0.395   0.771  1.00  0.00           C  \\nHETATM    4  C3  tes A   1       0.355   0.242   2.184  1.00  0.00           C  \\nHETATM    5  O2  tes A   1      -0.440  -0.524   2.786  1.00  0.00           O  \\nHETATM    6  H1  tes A   1       1.163   0.178  -1.391  1.00  0.00           H  \\nHETATM    7  H2  tes A   1       2.428   0.165   0.895  1.00  0.00           H  \\nHETATM    8  H3  tes A   1       1.840   1.882   0.568  1.00  0.00           H  \\nHETATM    9  H4  tes A   1      -0.434   1.268   0.508  1.00  0.00           H  \\nHETATM   10  H5  tes A   1      -0.028  -0.599   0.397  1.00  0.00           H  \\nHETATM   11  H6  tes A   1       0.914   0.955   2.715  1.00  0.00           H  \\nTER      12      tes A   1\\nENDMDL\\nMODEL        2\\nHETATM    1  O1  tes A   1       1.281   2.148   2.061  1.00  0.00           O  \\nHETATM    2  C1  tes A   1       0.476   1.236   1.281  1.00  0.00           C  \\nHETATM    3  C2  tes A   1       1.055  -0.184   1.492  1.00  0.00           C  \\nHETATM    4  C3  tes A   1       0.540  -1.191   0.521  1.00  0.00           C  \\nHETATM    5  O2  tes A   1       0.462  -0.976  -0.618  1.00  0.00           O  \\nHETATM    6  H1  tes A   1       1.974   1.396   2.214  1.00  0.00           H  \\nHETATM    7  H2  tes A   1      -0.487   1.336   1.762  1.00  0.00           H  \\nHETATM    8  H3  tes A   1       0.335   1.802   0.332  1.00  0.00           H  \\nHETATM    9  H4  tes A   1       2.173  -0.261   1.372  1.00  0.00           H  \\nHETATM   10  H5  tes A   1       0.842  -0.370   2.555  1.00  0.00           H  \\nHETATM   11  H6  tes A   1       0.225  -2.209   0.908  1.00  0.00           H  \\nTER      12      tes A   1\\nENDMDL\\nMODEL        3\\nHETATM    1  O1  tes A   1       0.638  -0.114   2.762  1.00  0.00           O  \\nHETATM    2  C1  tes A   1       0.878  -0.902   1.688  1.00  0.00           C  \\nHETATM    3  C2  tes A   1       1.489  -0.117   0.590  1.00  0.00           C  \\nHETATM    4  C3  tes A   1       0.664   0.681  -0.383  1.00  0.00           C  \\nHETATM    5  O2  tes A   1       0.193   1.745   0.042  1.00  0.00           O  \\nHETATM    6  H1  tes A   1       0.843   0.785   2.375  1.00  0.00           H  \\nHETATM    7  H2  tes A   1       1.328  -1.867   1.980  1.00  0.00           H  \\nHETATM    8  H3  tes A   1      -0.001  -1.304   1.424  1.00  0.00           H  \\nHETATM    9  H4  tes A   1       2.421   0.514   0.962  1.00  0.00           H  \\nHETATM   10  H5  tes A   1       1.937  -0.967  -0.097  1.00  0.00           H  \\nHETATM   11  H6  tes A   1       0.469   0.459  -1.355  1.00  0.00           H  \\nTER      12      tes A   1\\nENDMDL\\nMODEL        4\\nHETATM    1  O1  tes A   1       0.118   1.644  -0.440  1.00  0.00           O  \\nHETATM    2  C1  tes A   1       0.879   0.572  -0.046  1.00  0.00           C  \\nHETATM    3  C2  tes A   1       0.064  -0.179   0.905  1.00  0.00           C  \\nHETATM    4  C3  tes A   1       0.959  -0.816   1.950  1.00  0.00           C  \\nHETATM    5  O2  tes A   1       1.733  -0.141   2.692  1.00  0.00           O  \\nHETATM    6  H1  tes A   1       0.729   2.395  -0.730  1.00  0.00           H  \\nHETATM    7  H2  tes A   1       0.994  -0.056  -0.924  1.00  0.00           H  \\nHETATM    8  H3  tes A   1       1.842   0.977   0.186  1.00  0.00           H  \\nHETATM    9  H4  tes A   1      -0.501   0.469   1.492  1.00  0.00           H  \\nHETATM   10  H5  tes A   1      -0.553  -1.001   0.309  1.00  0.00           H  \\nHETATM   11  H6  tes A   1       1.091  -1.956   2.089  1.00  0.00           H  \\nTER      12      tes A   1\\nENDMDL\\nMODEL        5\\nHETATM    1  O1  tes A   1       0.177   2.107   1.428  1.00  0.00           O  \\nHETATM    2  C1  tes A   1       1.148   1.208   1.418  1.00  0.00           C  \\nHETATM    3  C2  tes A   1       1.096   0.401   0.102  1.00  0.00           C  \\nHETATM    4  C3  tes A   1       0.932  -1.031   0.293  1.00  0.00           C  \\nHETATM    5  O2  tes A   1       0.621  -1.550   1.422  1.00  0.00           O  \\nHETATM    6  H1  tes A   1       0.280   2.473   2.396  1.00  0.00           H  \\nHETATM    7  H2  tes A   1       2.153   1.664   1.677  1.00  0.00           H  \\nHETATM    8  H3  tes A   1       0.935   0.584   2.207  1.00  0.00           H  \\nHETATM    9  H4  tes A   1       0.305   0.873  -0.627  1.00  0.00           H  \\nHETATM   10  H5  tes A   1       2.067   0.495  -0.519  1.00  0.00           H  \\nHETATM   11  H6  tes A   1       1.085  -1.736  -0.498  1.00  0.00           H  \\nTER      12      tes A   1\\nENDMDL\\nMODEL        6\\nHETATM    1  O1  tes A   1       2.524  -0.827   1.251  1.00  0.00           O  \\nHETATM    2  C1  tes A   1       1.268  -1.023   0.572  1.00  0.00           C  \\nHETATM    3  C2  tes A   1       0.175  -0.056   1.143  1.00  0.00           C  \\nHETATM    4  C3  tes A   1       0.440   1.343   0.900  1.00  0.00           C  \\nHETATM    5  O2  tes A   1      -0.543   2.030   0.866  1.00  0.00           O  \\nHETATM    6  H1  tes A   1       2.837  -0.159   0.593  1.00  0.00           H  \\nHETATM    7  H2  tes A   1       1.330  -0.743  -0.483  1.00  0.00           H  \\nHETATM    8  H3  tes A   1       0.780  -1.968   0.738  1.00  0.00           H  \\nHETATM    9  H4  tes A   1      -0.822  -0.258   0.658  1.00  0.00           H  \\nHETATM   10  H5  tes A   1       0.292  -0.350   2.230  1.00  0.00           H  \\nHETATM   11  H6  tes A   1       1.436   1.695   0.594  1.00  0.00           H  \\nTER      12      tes A   1\\nENDMDL\\nMODEL        7\\nHETATM    1  O1  tes A   1      -0.860  -0.097   2.363  1.00  0.00           O  \\nHETATM    2  C1  tes A   1       0.122   0.717   1.651  1.00  0.00           C  \\nHETATM    3  C2  tes A   1       1.472   0.207   1.418  1.00  0.00           C  \\nHETATM    4  C3  tes A   1       1.558  -0.175  -0.067  1.00  0.00           C  \\nHETATM    5  O2  tes A   1       1.823   0.720  -0.897  1.00  0.00           O  \\nHETATM    6  H1  tes A   1      -0.431  -0.817   2.976  1.00  0.00           H  \\nHETATM    7  H2  tes A   1      -0.351   0.812   0.599  1.00  0.00           H  \\nHETATM    8  H3  tes A   1       0.225   1.621   2.317  1.00  0.00           H  \\nHETATM    9  H4  tes A   1       2.349   0.787   1.742  1.00  0.00           H  \\nHETATM   10  H5  tes A   1       1.499  -0.738   1.851  1.00  0.00           H  \\nHETATM   11  H6  tes A   1       1.270  -1.140  -0.410  1.00  0.00           H  \\nTER      12      tes A   1\\nENDMDL\\nMODEL        8\\nHETATM    1  O1  tes A   1      -0.693  -0.687   1.779  1.00  0.00           O  \\nHETATM    2  C1  tes A   1      -0.320   0.605   1.731  1.00  0.00           C  \\nHETATM    3  C2  tes A   1       0.504   0.890   0.518  1.00  0.00           C  \\nHETATM    4  C3  tes A   1       1.703   0.064   0.183  1.00  0.00           C  \\nHETATM    5  O2  tes A   1       2.762   0.527   0.347  1.00  0.00           O  \\nHETATM    6  H1  tes A   1      -1.692  -0.610   1.732  1.00  0.00           H  \\nHETATM    7  H2  tes A   1      -1.102   1.381   1.713  1.00  0.00           H  \\nHETATM    8  H3  tes A   1       0.190   0.806   2.687  1.00  0.00           H  \\nHETATM    9  H4  tes A   1      -0.139   1.069  -0.428  1.00  0.00           H  \\nHETATM   10  H5  tes A   1       0.762   1.916   0.582  1.00  0.00           H  \\nHETATM   11  H6  tes A   1       1.577  -0.897  -0.334  1.00  0.00           H  \\nTER      12      tes A   1\\nENDMDL\\nMODEL        9\\nHETATM    1  O1  tes A   1      -1.201  -0.023   0.775  1.00  0.00           O  \\nHETATM    2  C1  tes A   1       0.045  -0.612   0.237  1.00  0.00           C  \\nHETATM    3  C2  tes A   1       1.256  -0.654   1.148  1.00  0.00           C  \\nHETATM    4  C3  tes A   1       2.169   0.698   1.169  1.00  0.00           C  \\nHETATM    5  O2  tes A   1       1.670   1.815   1.380  1.00  0.00           O  \\nHETATM    6  H1  tes A   1      -0.757   0.842   1.071  1.00  0.00           H  \\nHETATM    7  H2  tes A   1      -0.276  -1.519  -0.298  1.00  0.00           H  \\nHETATM    8  H3  tes A   1       0.385   0.147  -0.532  1.00  0.00           H  \\nHETATM    9  H4  tes A   1       0.889  -0.953   2.191  1.00  0.00           H  \\nHETATM   10  H5  tes A   1       2.147  -1.383   0.796  1.00  0.00           H  \\nHETATM   11  H6  tes A   1       3.277   0.598   1.113  1.00  0.00           H  \\nTER      12      tes A   1\\nENDMDL\\nMODEL       10\\nHETATM    1  O1  tes A   1       1.907  -0.743  -0.239  1.00  0.00           O  \\nHETATM    2  C1  tes A   1       2.197   0.254   0.666  1.00  0.00           C  \\nHETATM    3  C2  tes A   1       0.904   1.109   0.924  1.00  0.00           C  \\nHETATM    4  C3  tes A   1      -0.140   0.422   1.752  1.00  0.00           C  \\nHETATM    5  O2  tes A   1      -1.312   0.455   1.509  1.00  0.00           O  \\nHETATM    6  H1  tes A   1       1.790  -1.678   0.171  1.00  0.00           H  \\nHETATM    7  H2  tes A   1       2.502  -0.324   1.555  1.00  0.00           H  \\nHETATM    8  H3  tes A   1       3.120   0.968   0.456  1.00  0.00           H  \\nHETATM    9  H4  tes A   1       1.329   2.007   1.536  1.00  0.00           H  \\nHETATM   10  H5  tes A   1       0.356   1.570   0.067  1.00  0.00           H  \\nHETATM   11  H6  tes A   1       0.248  -0.256   2.601  1.00  0.00           H  \\nTER      12      tes A   1\\nENDMDL\\n\",\"pdb\",{\"keepH\": true});\n",
              "\tviewer_17473141799435258.animate({\"interval\": 400, \"loop\": \"forward\", \"reps\": 10});\n",
              "\tviewer_17473141799435258.setStyle({\"stick\": {}, \"sphere\": {\"scale\": 0.25}});\n",
              "\tviewer_17473141799435258.zoomTo();\n",
              "viewer_17473141799435258.render();\n",
              "});\n",
              "</script>"
            ]
          },
          "metadata": {}
        }
      ],
      "source": [
        "#@title Visualize the dynamics\n",
        "import py3Dmol as p3d\n",
        "interval = 400 #@param  {type:\"slider\", min:100, max:2000, step:100}\n",
        "print('Output geometry:')\n",
        "viewer = p3d.view(width=400,height=250)\n",
        "viewer.addModelsAsFrames(open(gromacs_file + '.pdb', 'r').read(),'pdb', {'keepH': True})\n",
        "viewer.animate({'interval': interval, 'loop': \"forward\", 'reps': 10})\n",
        "viewer.setStyle({\"stick\":{},\"sphere\": {\"scale\":0.25}})\n",
        "viewer.zoomTo()\n",
        "viewer.show()"
      ]
    }
  ]
}