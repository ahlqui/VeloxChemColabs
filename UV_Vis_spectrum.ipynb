{
  "nbformat": 4,
  "nbformat_minor": 0,
  "metadata": {
    "colab": {
      "provenance": [],
      "include_colab_link": true
    },
    "kernelspec": {
      "name": "python3",
      "display_name": "Python 3"
    },
    "language_info": {
      "name": "python"
    }
  },
  "cells": [
    {
      "cell_type": "markdown",
      "metadata": {
        "id": "view-in-github",
        "colab_type": "text"
      },
      "source": [
        "<a href=\"https://colab.research.google.com/github/ahlqui/VeloxChemColabs/blob/main/UV_Vis_spectrum.ipynb\" target=\"_parent\"><img src=\"https://colab.research.google.com/assets/colab-badge.svg\" alt=\"Open In Colab\"/></a>"
      ]
    },
    {
      "cell_type": "markdown",
      "source": [
        "\n",
        "\n",
        "\n",
        "# Calculate UV/Vis spectrum using TDDFT\n"
      ],
      "metadata": {
        "id": "_f9U7ujQXRh7"
      }
    },
    {
      "cell_type": "markdown",
      "source": [
        "This notebook requires that you have a molecular structure. Two options:\n",
        "\n",
        "Define Molecule as XYZ-coordinates: Can be generatred with free software such as www.avogadro.cc\n",
        "\n",
        "Define Molecule with SMILES code, A molecule can be defined using a SMILES code (example below). We have two suggested ways to generate smiles from structure. 1) Sketch your molecule at https://www.rcsb.org/chemical-sketch and the SMILES code will be shown right below the structure. 2) Build your molecule at https://molview.org/ , go to Tools/Information Card and it will show you the SMILES code. Just copy/paste it into the SMILES box below.\n",
        "\n",
        "Example of xyz-coordinates for CO2:\n",
        "\n",
        "O 0.00 0.00 0.00\n",
        "\n",
        "C 0.00 0.00 1.20\n",
        "\n",
        "O 0.00 0.00 2.40\n",
        "\n",
        "Example of SMILES for CO2:\n",
        "\n",
        "O=C=O"
      ],
      "metadata": {
        "id": "jsrGVECSXfex"
      }
    },
    {
      "cell_type": "code",
      "execution_count": 1,
      "metadata": {
        "cellView": "form",
        "id": "0L_oJd_RW_qC"
      },
      "outputs": [],
      "source": [
        "#@title Install VeloxChem and dependencies (ca 1 min)\n",
        "#@markdown Before you can run anything a few things need to be installed. It all runs on the Google Colab server an you do not need to install anything on your computer.\n",
        "%%capture\n",
        "import sys\n",
        "\n",
        "!wget -qnc https://github.com/conda-forge/miniforge/releases/latest/download/Mambaforge-Linux-x86_64.sh\n",
        "!bash Mambaforge-Linux-x86_64.sh -bfp /usr/local\n",
        "!mamba config --set auto_update_conda false\n",
        "!mamba install --yes -c conda-forge -c veloxchem veloxchem openbabel py3Dmol matplotlib python=3.10\n",
        "\n",
        "sys.path.append('/usr/local/lib/python3.10/site-packages/')\n",
        "\n",
        "import veloxchem as vlx"
      ]
    },
    {
      "cell_type": "code",
      "source": [
        "xyz_coordinates = \"\"\"\n",
        "N     0.4785967928750  -0.4330741880750  -0.4934317502006\n",
        "H     1.3794564278886   0.0429751463168  -0.5120458348956\n",
        "C     0.4573285404340  -1.3154740355836  -1.6452845209868\n",
        "H     1.2794157350200  -2.0270971721773  -1.5868316520123\n",
        "H    -0.4697908768414  -1.8882598290096  -1.6558792536570\n",
        "C     0.3747047426388  -1.2102491878280   0.7331072010194\n",
        "H    -0.4082292852521  -1.9567463178277   0.6148319854093\n",
        "H     1.2952953868059  -1.7540437197433   0.9183116804327\n",
        "C     0.6956425554192   0.9059967227241  -5.3588904651214\n",
        "C     1.6690431285267  -0.0704102447688  -5.0614336089256\n",
        "C     1.5905279342425  -0.7922292640998  -3.8527793116028\n",
        "C     0.5421211238334  -0.5430166236398  -2.9451176135833\n",
        "C    -0.4312572408155   0.4285446612223  -3.2497814984180\n",
        "C    -0.3564249048118   1.1570067527526  -4.4544417171718\n",
        "H     0.7549521548685   1.4652126122086  -6.2812972715425\n",
        "H     2.3338053657174  -1.5390048087124  -3.6163728176857\n",
        "H    -1.2215586002930   0.6165771400284  -2.5371827271696\n",
        "C    -0.5809783149118   1.1061887532548   4.2819306994214\n",
        "C    -1.0539691464599  -0.2152180430193   4.1484967454886\n",
        "C    -0.7402866542775  -0.9585904738513   2.9917812697427\n",
        "C     0.0501603450518  -0.3918335577218   1.9715484114033\n",
        "C     0.5329231859523   0.9234697295847   2.1220017776407\n",
        "C     0.2096151223583   1.6793509886579   3.2655299818144\n",
        "H    -0.8298576406810   1.6816374807225   5.1614537759970\n",
        "H    -1.1155297675244  -1.9639771384900   2.8737258346041\n",
        "H     1.1311551788061   1.3586475153088   1.3389498331805\n",
        "C     2.7985412681099  -0.3440921389086  -6.0320361103160\n",
        "H     3.0137177612643  -1.4119025048439  -6.0784904425001\n",
        "H     2.5433990952730  -0.0090827377477  -7.0376742707821\n",
        "H     3.7013243404231   0.1769923076871  -5.7132670703364\n",
        "C    -1.3956677617432   2.2110713683443  -4.7713360805252\n",
        "H    -2.2850215726603   2.0829577471538  -4.1532353918110\n",
        "H    -0.9892606342753   3.2051959925139  -4.5854917335667\n",
        "H    -1.6989550492144   2.1496453780473  -5.8166145479409\n",
        "C    -1.9096053739985  -0.8269385079269   5.2372774019485\n",
        "H    -1.8730938416183  -1.9157634078951   5.1986764605346\n",
        "H    -1.5629099527925  -0.5125717843390   6.2218512212214\n",
        "H    -2.9465170241487  -0.5126306418706   5.1188520156529\n",
        "C     0.7055071531436   3.1039291474455   3.3878074482962\n",
        "H     0.6996321098764   3.5926125742168   2.4126899821207\n",
        "H     0.0720511304863   3.6841458846608   4.0587668370105\n",
        "H     1.7245462284362   3.1151446899290   3.7742478882927\n",
        "\"\"\"\n"
      ],
      "metadata": {
        "id": "NzBaWJTJ8mrU"
      },
      "execution_count": null,
      "outputs": []
    },
    {
      "cell_type": "code",
      "execution_count": 2,
      "metadata": {
        "id": "kd3SxiFQFm6r",
        "cellView": "form",
        "outputId": "71be2491-b402-4aad-b1be-4f3857218620",
        "colab": {
          "base_uri": "https://localhost:8080/",
          "height": 335
        }
      },
      "outputs": [
        {
          "output_type": "stream",
          "name": "stdout",
          "text": [
            "Structure of the molecule entered: \n"
          ]
        },
        {
          "output_type": "display_data",
          "data": {
            "application/3dmoljs_load.v0": "<div id=\"3dmolviewer_17255364359519472\"  style=\"position: relative; width: 400px; height: 300px;\">\n        <p id=\"3dmolwarning_17255364359519472\" style=\"background-color:#ffcccc;color:black\">3Dmol.js failed to load for some reason.  Please check your browser console for error messages.<br></p>\n        </div>\n<script>\n\nvar loadScriptAsync = function(uri){\n  return new Promise((resolve, reject) => {\n    //this is to ignore the existence of requirejs amd\n    var savedexports, savedmodule;\n    if (typeof exports !== 'undefined') savedexports = exports;\n    else exports = {}\n    if (typeof module !== 'undefined') savedmodule = module;\n    else module = {}\n\n    var tag = document.createElement('script');\n    tag.src = uri;\n    tag.async = true;\n    tag.onload = () => {\n        exports = savedexports;\n        module = savedmodule;\n        resolve();\n    };\n  var firstScriptTag = document.getElementsByTagName('script')[0];\n  firstScriptTag.parentNode.insertBefore(tag, firstScriptTag);\n});\n};\n\nif(typeof $3Dmolpromise === 'undefined') {\n$3Dmolpromise = null;\n  $3Dmolpromise = loadScriptAsync('https://cdnjs.cloudflare.com/ajax/libs/3Dmol/2.3.0/3Dmol-min.js');\n}\n\nvar viewer_17255364359519472 = null;\nvar warn = document.getElementById(\"3dmolwarning_17255364359519472\");\nif(warn) {\n    warn.parentNode.removeChild(warn);\n}\n$3Dmolpromise.then(function() {\nviewer_17255364359519472 = $3Dmol.createViewer(document.getElementById(\"3dmolviewer_17255364359519472\"),{backgroundColor:\"white\"});\nviewer_17255364359519472.zoomTo();\n\tviewer_17255364359519472.addModel(\"11\\n\\nO              1.051390000000         0.054600000000         0.067190000000\\nC              2.471190000000         0.059850000000         0.064370000000\\nC              2.975760000000        -1.200260000000         0.742840000000\\nC              4.477650000000        -1.232310000000         0.760100000000\\nO              5.121370000000        -2.152810000000         1.255710000000\\nH              0.753310000000         0.870240000000        -0.371960000000\\nH              2.819360000000         0.954720000000         0.591180000000\\nH              2.819360000000         0.112690000000        -0.972710000000\\nH              2.608170000000        -2.086110000000         0.214280000000\\nH              2.608170000000        -1.246680000000         1.773350000000\\nH              4.998500000000        -0.376030000000         0.299050000000\\n\");\n\tviewer_17255364359519472.setViewStyle({\"style\": \"outline\", \"width\": 0.05});\n\tviewer_17255364359519472.setStyle({\"stick\": {}, \"sphere\": {\"scale\": 0.25}});\n\tviewer_17255364359519472.addLabel(\"1\",{\"position\": {\"x\": 1.05139, \"y\": 0.0546, \"z\": 0.06719}, \"alignment\": \"center\", \"fontColor\": 0, \"backgroundColor\": 16777215, \"backgroundOpacity\": 0.0});\n\tviewer_17255364359519472.addLabel(\"2\",{\"position\": {\"x\": 2.47119, \"y\": 0.05985, \"z\": 0.06437}, \"alignment\": \"center\", \"fontColor\": 0, \"backgroundColor\": 16777215, \"backgroundOpacity\": 0.0});\n\tviewer_17255364359519472.addLabel(\"3\",{\"position\": {\"x\": 2.97576, \"y\": -1.20026, \"z\": 0.74284}, \"alignment\": \"center\", \"fontColor\": 0, \"backgroundColor\": 16777215, \"backgroundOpacity\": 0.0});\n\tviewer_17255364359519472.addLabel(\"4\",{\"position\": {\"x\": 4.47765, \"y\": -1.23231, \"z\": 0.7600999999999999}, \"alignment\": \"center\", \"fontColor\": 0, \"backgroundColor\": 16777215, \"backgroundOpacity\": 0.0});\n\tviewer_17255364359519472.addLabel(\"5\",{\"position\": {\"x\": 5.12137, \"y\": -2.15281, \"z\": 1.25571}, \"alignment\": \"center\", \"fontColor\": 0, \"backgroundColor\": 16777215, \"backgroundOpacity\": 0.0});\n\tviewer_17255364359519472.addLabel(\"6\",{\"position\": {\"x\": 0.75331, \"y\": 0.87024, \"z\": -0.37196}, \"alignment\": \"center\", \"fontColor\": 0, \"backgroundColor\": 16777215, \"backgroundOpacity\": 0.0});\n\tviewer_17255364359519472.addLabel(\"7\",{\"position\": {\"x\": 2.81936, \"y\": 0.95472, \"z\": 0.59118}, \"alignment\": \"center\", \"fontColor\": 0, \"backgroundColor\": 16777215, \"backgroundOpacity\": 0.0});\n\tviewer_17255364359519472.addLabel(\"8\",{\"position\": {\"x\": 2.81936, \"y\": 0.11269, \"z\": -0.97271}, \"alignment\": \"center\", \"fontColor\": 0, \"backgroundColor\": 16777215, \"backgroundOpacity\": 0.0});\n\tviewer_17255364359519472.addLabel(\"9\",{\"position\": {\"x\": 2.60817, \"y\": -2.08611, \"z\": 0.21427999999999997}, \"alignment\": \"center\", \"fontColor\": 0, \"backgroundColor\": 16777215, \"backgroundOpacity\": 0.0});\n\tviewer_17255364359519472.addLabel(\"10\",{\"position\": {\"x\": 2.60817, \"y\": -1.24668, \"z\": 1.77335}, \"alignment\": \"center\", \"fontColor\": 0, \"backgroundColor\": 16777215, \"backgroundOpacity\": 0.0});\n\tviewer_17255364359519472.addLabel(\"11\",{\"position\": {\"x\": 4.9985, \"y\": -0.37603, \"z\": 0.29905}, \"alignment\": \"center\", \"fontColor\": 0, \"backgroundColor\": 16777215, \"backgroundOpacity\": 0.0});\n\tviewer_17255364359519472.zoomTo();\nviewer_17255364359519472.render();\n});\n</script>",
            "text/html": [
              "<div id=\"3dmolviewer_17255364359519472\"  style=\"position: relative; width: 400px; height: 300px;\">\n",
              "        <p id=\"3dmolwarning_17255364359519472\" style=\"background-color:#ffcccc;color:black\">3Dmol.js failed to load for some reason.  Please check your browser console for error messages.<br></p>\n",
              "        </div>\n",
              "<script>\n",
              "\n",
              "var loadScriptAsync = function(uri){\n",
              "  return new Promise((resolve, reject) => {\n",
              "    //this is to ignore the existence of requirejs amd\n",
              "    var savedexports, savedmodule;\n",
              "    if (typeof exports !== 'undefined') savedexports = exports;\n",
              "    else exports = {}\n",
              "    if (typeof module !== 'undefined') savedmodule = module;\n",
              "    else module = {}\n",
              "\n",
              "    var tag = document.createElement('script');\n",
              "    tag.src = uri;\n",
              "    tag.async = true;\n",
              "    tag.onload = () => {\n",
              "        exports = savedexports;\n",
              "        module = savedmodule;\n",
              "        resolve();\n",
              "    };\n",
              "  var firstScriptTag = document.getElementsByTagName('script')[0];\n",
              "  firstScriptTag.parentNode.insertBefore(tag, firstScriptTag);\n",
              "});\n",
              "};\n",
              "\n",
              "if(typeof $3Dmolpromise === 'undefined') {\n",
              "$3Dmolpromise = null;\n",
              "  $3Dmolpromise = loadScriptAsync('https://cdnjs.cloudflare.com/ajax/libs/3Dmol/2.3.0/3Dmol-min.js');\n",
              "}\n",
              "\n",
              "var viewer_17255364359519472 = null;\n",
              "var warn = document.getElementById(\"3dmolwarning_17255364359519472\");\n",
              "if(warn) {\n",
              "    warn.parentNode.removeChild(warn);\n",
              "}\n",
              "$3Dmolpromise.then(function() {\n",
              "viewer_17255364359519472 = $3Dmol.createViewer(document.getElementById(\"3dmolviewer_17255364359519472\"),{backgroundColor:\"white\"});\n",
              "viewer_17255364359519472.zoomTo();\n",
              "\tviewer_17255364359519472.addModel(\"11\\n\\nO              1.051390000000         0.054600000000         0.067190000000\\nC              2.471190000000         0.059850000000         0.064370000000\\nC              2.975760000000        -1.200260000000         0.742840000000\\nC              4.477650000000        -1.232310000000         0.760100000000\\nO              5.121370000000        -2.152810000000         1.255710000000\\nH              0.753310000000         0.870240000000        -0.371960000000\\nH              2.819360000000         0.954720000000         0.591180000000\\nH              2.819360000000         0.112690000000        -0.972710000000\\nH              2.608170000000        -2.086110000000         0.214280000000\\nH              2.608170000000        -1.246680000000         1.773350000000\\nH              4.998500000000        -0.376030000000         0.299050000000\\n\");\n",
              "\tviewer_17255364359519472.setViewStyle({\"style\": \"outline\", \"width\": 0.05});\n",
              "\tviewer_17255364359519472.setStyle({\"stick\": {}, \"sphere\": {\"scale\": 0.25}});\n",
              "\tviewer_17255364359519472.addLabel(\"1\",{\"position\": {\"x\": 1.05139, \"y\": 0.0546, \"z\": 0.06719}, \"alignment\": \"center\", \"fontColor\": 0, \"backgroundColor\": 16777215, \"backgroundOpacity\": 0.0});\n",
              "\tviewer_17255364359519472.addLabel(\"2\",{\"position\": {\"x\": 2.47119, \"y\": 0.05985, \"z\": 0.06437}, \"alignment\": \"center\", \"fontColor\": 0, \"backgroundColor\": 16777215, \"backgroundOpacity\": 0.0});\n",
              "\tviewer_17255364359519472.addLabel(\"3\",{\"position\": {\"x\": 2.97576, \"y\": -1.20026, \"z\": 0.74284}, \"alignment\": \"center\", \"fontColor\": 0, \"backgroundColor\": 16777215, \"backgroundOpacity\": 0.0});\n",
              "\tviewer_17255364359519472.addLabel(\"4\",{\"position\": {\"x\": 4.47765, \"y\": -1.23231, \"z\": 0.7600999999999999}, \"alignment\": \"center\", \"fontColor\": 0, \"backgroundColor\": 16777215, \"backgroundOpacity\": 0.0});\n",
              "\tviewer_17255364359519472.addLabel(\"5\",{\"position\": {\"x\": 5.12137, \"y\": -2.15281, \"z\": 1.25571}, \"alignment\": \"center\", \"fontColor\": 0, \"backgroundColor\": 16777215, \"backgroundOpacity\": 0.0});\n",
              "\tviewer_17255364359519472.addLabel(\"6\",{\"position\": {\"x\": 0.75331, \"y\": 0.87024, \"z\": -0.37196}, \"alignment\": \"center\", \"fontColor\": 0, \"backgroundColor\": 16777215, \"backgroundOpacity\": 0.0});\n",
              "\tviewer_17255364359519472.addLabel(\"7\",{\"position\": {\"x\": 2.81936, \"y\": 0.95472, \"z\": 0.59118}, \"alignment\": \"center\", \"fontColor\": 0, \"backgroundColor\": 16777215, \"backgroundOpacity\": 0.0});\n",
              "\tviewer_17255364359519472.addLabel(\"8\",{\"position\": {\"x\": 2.81936, \"y\": 0.11269, \"z\": -0.97271}, \"alignment\": \"center\", \"fontColor\": 0, \"backgroundColor\": 16777215, \"backgroundOpacity\": 0.0});\n",
              "\tviewer_17255364359519472.addLabel(\"9\",{\"position\": {\"x\": 2.60817, \"y\": -2.08611, \"z\": 0.21427999999999997}, \"alignment\": \"center\", \"fontColor\": 0, \"backgroundColor\": 16777215, \"backgroundOpacity\": 0.0});\n",
              "\tviewer_17255364359519472.addLabel(\"10\",{\"position\": {\"x\": 2.60817, \"y\": -1.24668, \"z\": 1.77335}, \"alignment\": \"center\", \"fontColor\": 0, \"backgroundColor\": 16777215, \"backgroundOpacity\": 0.0});\n",
              "\tviewer_17255364359519472.addLabel(\"11\",{\"position\": {\"x\": 4.9985, \"y\": -0.37603, \"z\": 0.29905}, \"alignment\": \"center\", \"fontColor\": 0, \"backgroundColor\": 16777215, \"backgroundOpacity\": 0.0});\n",
              "\tviewer_17255364359519472.zoomTo();\n",
              "viewer_17255364359519472.render();\n",
              "});\n",
              "</script>"
            ]
          },
          "metadata": {}
        }
      ],
      "source": [
        "#@title Define your molecule, either asa SMILES code or xyz-coordinates above\n",
        "#@markdown - Enter the SMILES code\n",
        "smiles_code = 'OCCC=O' #@param {type:\"string\"}\n",
        "#@markdown - If you want to use the xyz coordinates in the previous cell check box\n",
        "use_xyz = False # @param {type:\"boolean\"}\n",
        "if use_xyz == False:\n",
        "  molecule = vlx.Molecule.read_smiles(smiles_code)\n",
        "else:\n",
        "  molecule = vlx.Molecule.read_str(xyz_coordinates)\n",
        "print('Structure of the molecule entered: ')\n",
        "molecule.show(atom_indices=True)\n",
        "#@markdown - Give your Gromacs files a name\n",
        "gromacs_file = 'test' #@param {type:\"string\"}\n",
        "#@markdown - Give your molecule a residue name (three letters)\n",
        "residue_name = 'tes' #@param {type:\"string\"}\n",
        "\n"
      ]
    },
    {
      "cell_type": "code",
      "source": [
        "#@title XTB optimization of the geometry\n",
        "#@markdown Example timing: Ibuprofen (59 sec)\n",
        "scf_drv = vlx.XtbDriver()\n",
        "scf_drv.ostream.mute()\n",
        "\n",
        "opt_drv = vlx.OptimizationDriver(scf_drv)\n",
        "opt_drv.ostream.mute()\n",
        "opt_results = opt_drv.compute(molecule)\n",
        "\n",
        "final_geometry = vlx.Molecule.read_xyz_string(opt_results[\"final_geometry\"])\n",
        "final_geometry.show()\n",
        "print('Energy of optimized structure: ' + str(opt_results[\"opt_energies\"][-1]))\n",
        "print('XYZ coordinates of optimized structure:')\n",
        "print(opt_results[\"final_geometry\"])"
      ],
      "metadata": {
        "id": "Ocpqi2UpNZMt",
        "cellView": "form",
        "outputId": "d05d2a99-4bb8-4e0b-890a-98177b976e2f",
        "colab": {
          "base_uri": "https://localhost:8080/",
          "height": 603
        }
      },
      "execution_count": 3,
      "outputs": [
        {
          "output_type": "display_data",
          "data": {
            "application/3dmoljs_load.v0": "<div id=\"3dmolviewer_17255364434389014\"  style=\"position: relative; width: 400px; height: 300px;\">\n        <p id=\"3dmolwarning_17255364434389014\" style=\"background-color:#ffcccc;color:black\">3Dmol.js failed to load for some reason.  Please check your browser console for error messages.<br></p>\n        </div>\n<script>\n\nvar loadScriptAsync = function(uri){\n  return new Promise((resolve, reject) => {\n    //this is to ignore the existence of requirejs amd\n    var savedexports, savedmodule;\n    if (typeof exports !== 'undefined') savedexports = exports;\n    else exports = {}\n    if (typeof module !== 'undefined') savedmodule = module;\n    else module = {}\n\n    var tag = document.createElement('script');\n    tag.src = uri;\n    tag.async = true;\n    tag.onload = () => {\n        exports = savedexports;\n        module = savedmodule;\n        resolve();\n    };\n  var firstScriptTag = document.getElementsByTagName('script')[0];\n  firstScriptTag.parentNode.insertBefore(tag, firstScriptTag);\n});\n};\n\nif(typeof $3Dmolpromise === 'undefined') {\n$3Dmolpromise = null;\n  $3Dmolpromise = loadScriptAsync('https://cdnjs.cloudflare.com/ajax/libs/3Dmol/2.3.0/3Dmol-min.js');\n}\n\nvar viewer_17255364434389014 = null;\nvar warn = document.getElementById(\"3dmolwarning_17255364434389014\");\nif(warn) {\n    warn.parentNode.removeChild(warn);\n}\n$3Dmolpromise.then(function() {\nviewer_17255364434389014 = $3Dmol.createViewer(document.getElementById(\"3dmolviewer_17255364434389014\"),{backgroundColor:\"white\"});\nviewer_17255364434389014.zoomTo();\n\tviewer_17255364434389014.addModel(\"11\\n\\nO              1.060992723510         0.035722900663         0.077357501145\\nC              2.469533730599         0.084962314164         0.050847170053\\nC              2.991579293763        -1.176073318824         0.729814735472\\nC              4.487431754131        -1.262865267233         0.776546511525\\nO              5.108120053930        -2.164682419197         1.262109449183\\nH              0.703480695133         0.822467598572        -0.346237255555\\nH              2.835020975900         0.974690749945         0.584869517916\\nH              2.835022087902         0.128952449702        -0.985907739410\\nH              2.602561268150        -2.056612876425         0.211932863183\\nH              2.602559561241        -1.228480119698         1.750012602108\\nH              5.007927855741        -0.400182011668         0.312054644379\\n\");\n\tviewer_17255364434389014.setViewStyle({\"style\": \"outline\", \"width\": 0.05});\n\tviewer_17255364434389014.setStyle({\"stick\": {}, \"sphere\": {\"scale\": 0.25}});\n\tviewer_17255364434389014.zoomTo();\nviewer_17255364434389014.render();\n});\n</script>",
            "text/html": [
              "<div id=\"3dmolviewer_17255364434389014\"  style=\"position: relative; width: 400px; height: 300px;\">\n",
              "        <p id=\"3dmolwarning_17255364434389014\" style=\"background-color:#ffcccc;color:black\">3Dmol.js failed to load for some reason.  Please check your browser console for error messages.<br></p>\n",
              "        </div>\n",
              "<script>\n",
              "\n",
              "var loadScriptAsync = function(uri){\n",
              "  return new Promise((resolve, reject) => {\n",
              "    //this is to ignore the existence of requirejs amd\n",
              "    var savedexports, savedmodule;\n",
              "    if (typeof exports !== 'undefined') savedexports = exports;\n",
              "    else exports = {}\n",
              "    if (typeof module !== 'undefined') savedmodule = module;\n",
              "    else module = {}\n",
              "\n",
              "    var tag = document.createElement('script');\n",
              "    tag.src = uri;\n",
              "    tag.async = true;\n",
              "    tag.onload = () => {\n",
              "        exports = savedexports;\n",
              "        module = savedmodule;\n",
              "        resolve();\n",
              "    };\n",
              "  var firstScriptTag = document.getElementsByTagName('script')[0];\n",
              "  firstScriptTag.parentNode.insertBefore(tag, firstScriptTag);\n",
              "});\n",
              "};\n",
              "\n",
              "if(typeof $3Dmolpromise === 'undefined') {\n",
              "$3Dmolpromise = null;\n",
              "  $3Dmolpromise = loadScriptAsync('https://cdnjs.cloudflare.com/ajax/libs/3Dmol/2.3.0/3Dmol-min.js');\n",
              "}\n",
              "\n",
              "var viewer_17255364434389014 = null;\n",
              "var warn = document.getElementById(\"3dmolwarning_17255364434389014\");\n",
              "if(warn) {\n",
              "    warn.parentNode.removeChild(warn);\n",
              "}\n",
              "$3Dmolpromise.then(function() {\n",
              "viewer_17255364434389014 = $3Dmol.createViewer(document.getElementById(\"3dmolviewer_17255364434389014\"),{backgroundColor:\"white\"});\n",
              "viewer_17255364434389014.zoomTo();\n",
              "\tviewer_17255364434389014.addModel(\"11\\n\\nO              1.060992723510         0.035722900663         0.077357501145\\nC              2.469533730599         0.084962314164         0.050847170053\\nC              2.991579293763        -1.176073318824         0.729814735472\\nC              4.487431754131        -1.262865267233         0.776546511525\\nO              5.108120053930        -2.164682419197         1.262109449183\\nH              0.703480695133         0.822467598572        -0.346237255555\\nH              2.835020975900         0.974690749945         0.584869517916\\nH              2.835022087902         0.128952449702        -0.985907739410\\nH              2.602561268150        -2.056612876425         0.211932863183\\nH              2.602559561241        -1.228480119698         1.750012602108\\nH              5.007927855741        -0.400182011668         0.312054644379\\n\");\n",
              "\tviewer_17255364434389014.setViewStyle({\"style\": \"outline\", \"width\": 0.05});\n",
              "\tviewer_17255364434389014.setStyle({\"stick\": {}, \"sphere\": {\"scale\": 0.25}});\n",
              "\tviewer_17255364434389014.zoomTo();\n",
              "viewer_17255364434389014.render();\n",
              "});\n",
              "</script>"
            ]
          },
          "metadata": {}
        },
        {
          "output_type": "stream",
          "name": "stdout",
          "text": [
            "Energy of optimized structure: -17.57375769652727\n",
            "XYZ coordinates of optimized structure:\n",
            "11\n",
            "\n",
            "O              1.060992723510         0.035722900663         0.077357501145\n",
            "C              2.469533730599         0.084962314164         0.050847170053\n",
            "C              2.991579293763        -1.176073318824         0.729814735472\n",
            "C              4.487431754131        -1.262865267233         0.776546511525\n",
            "O              5.108120053930        -2.164682419197         1.262109449183\n",
            "H              0.703480695133         0.822467598572        -0.346237255555\n",
            "H              2.835020975900         0.974690749945         0.584869517916\n",
            "H              2.835022087902         0.128952449702        -0.985907739410\n",
            "H              2.602561268150        -2.056612876425         0.211932863183\n",
            "H              2.602559561241        -1.228480119698         1.750012602108\n",
            "H              5.007927855741        -0.400182011668         0.312054644379\n",
            "\n"
          ]
        }
      ]
    },
    {
      "cell_type": "code",
      "source": [
        "#@title TDDFT to generate UV/Vis spectrum\n",
        "import matplotlib.pyplot as plt\n",
        "import numpy as np\n",
        "import py3Dmol as p3d\n",
        "import veloxchem as vlx\n",
        "from matplotlib import gridspec\n",
        "from scipy.interpolate import interp1d\n",
        "\n",
        "# au to eV conversion factor\n",
        "au2ev = 27.211386\n",
        "\n",
        "molecule = vlx.Molecule.read_xyz_string(opt_results[\"final_geometry\"])\n",
        "basis_set = 'DEF2-SVP' #@param  ['6-31++G', '6-31++G*', '6-31++G**', '6-31+G', '6-31+G*', '6-31+G**', '6-311++G', '6-311++G(2D,2P)', '6-311++G(3DF,3PD)', '6-311++G*', '6-311++G**', '6-311+G', '6-311+G(2D,P)', '6-311+G*', '6-311+G**', '6-311G', '6-311G(2DF,2PD)', '6-311G*', '6-311G**', '6-31G', '6-31G(2DF,P)', '6-31G(3DF,3PD)', '6-31G*', '6-31G**', 'ANO-L-MB', 'ANO-L-VDZP', 'ANO-L-VQZP', 'ANO-L-VTZP', 'ANO-S-MB', 'ANO-S-VDZP', 'AO-START-GUESS', 'AUG-CC-PCV5Z', 'AUG-CC-PCVDZ', 'AUG-CC-PCVQZ', 'AUG-CC-PCVTZ', 'AUG-CC-PV5Z', 'AUG-CC-PV6Z', 'AUG-CC-PVDZ', 'AUG-CC-PVQZ', 'AUG-CC-PVTZ', 'AUG-PCSEG-0', 'AUG-PCSEG-1', 'AUG-PCSEG-2', 'AUG-PCSEG-3', 'AUG-PCSEG-4', 'AUG-PCX-1', 'AUG-PCX-2', 'AUG-PCX-3', 'AUG-PCX-4', 'CC-PCV5Z', 'CC-PCVDZ', 'CC-PCVQZ', 'CC-PCVTZ', 'CC-PV5Z', 'CC-PV6Z', 'CC-PVDZ', 'CC-PVQZ', 'CC-PVTZ', 'DAUG-CC-PCV5Z', 'DAUG-CC-PCVDZ', 'DAUG-CC-PCVQZ', 'DAUG-CC-PCVTZ', 'DAUG-CC-PV5Z', 'DAUG-CC-PV6Z', 'DAUG-CC-PVDZ', 'DAUG-CC-PVQZ', 'DAUG-CC-PVTZ', 'DEF2-QZVP', 'DEF2-QZVPD', 'DEF2-QZVPP', 'DEF2-QZVPPD', 'DEF2-SV(P)', 'DEF2-SVP', 'DEF2-SVPD', 'DEF2-TZVP', 'DEF2-TZVPD', 'DEF2-TZVPP', 'DEF2-TZVPPD', 'PCSEG-0', 'PCSEG-1', 'PCSEG-2', 'PCSEG-3', 'PCSEG-4', 'PCX-1', 'PCX-2', 'PCX-3', 'PCX-4', 'SADLEJ-PVTZ', 'STO-3G', 'STO-3G-OLD', 'STO-6G', 'TAUG-CC-PCV5Z', 'TAUG-CC-PCVDZ', 'TAUG-CC-PCVQZ', 'TAUG-CC-PCVTZ', 'TAUG-CC-PV5Z', 'TAUG-CC-PV6Z', 'TAUG-CC-PVDZ', 'TAUG-CC-PVQZ', 'TAUG-CC-PVTZ']\n",
        "basis = vlx.MolecularBasis.read(molecule, basis_set)\n",
        "scf_drv = vlx.ScfRestrictedDriver()\n",
        "mute_output = True # @param {type:\"boolean\"}\n",
        "if mute_output == True:\n",
        "  scf_drv.ostream.mute()\n",
        "else:\n",
        "  scf_drv.ostream\n",
        "functional = 'B3LYP' #@param ['SLATER', 'SLDA', 'B88X', 'BLYP', 'B3LYP', 'BHANDH', 'BHANDHLYP', 'PBE', 'PBE0', 'REVPBE', 'BP86', 'PW91', 'MPW1K', 'OLYP', 'O3LYP', 'X3LYP', 'B97', 'B97-1', 'B97-2', 'B97-3', 'TPSS', 'TPSSH', 'REVTPSS', 'PKZB', 'SCAN', 'RSCAN', 'R2SCAN', 'M05', 'M05-2X', 'M06', 'M06-2X', 'M06-HF', 'M06-L', 'M11-L', 'MPW1B95', 'MPWB1K', 'PW6B95', 'PWB6K']\n",
        "scf_drv.xcfun = functional\n",
        "scf_results = scf_drv.compute(molecule, basis)\n",
        "print(f\"DFT energy: {scf_drv.get_scf_energy():14.10f} a.u.\")\n",
        "method_settings = {\"xcfun\":functional}\n",
        "rpa_solver = vlx.lreigensolver.LinearResponseEigenSolver()\n",
        "mute_output_tddft = True # @param {type:\"boolean\"}\n",
        "if mute_output_tddft == True:\n",
        "  rpa_solver.ostream.mute()\n",
        "else:\n",
        "  rpa_solver.ostream\n",
        "Number_of_excitations = 6 # @param {type:\"integer\"}\n",
        "rpa_solver.update_settings({\"nstates\": Number_of_excitations}, method_settings)\n",
        "rpa_results = rpa_solver.compute(molecule, basis, scf_results)\n",
        "\n",
        "def lorentzian(x, y, xmin, xmax, xstep, gamma):\n",
        "    xi = np.arange(xmin, xmax, xstep)\n",
        "    yi = np.zeros(len(xi))\n",
        "    for i in range(len(xi)):\n",
        "        for k in range(len(x)):\n",
        "            yi[i] = yi[i] + y[k] * (gamma / 2.0) / (\n",
        "                (xi[i] - x[k]) ** 2 + (gamma / 2.0) ** 2\n",
        "            )\n",
        "    return xi, yi\n",
        "\n",
        "\n",
        "# Print results as a table\n",
        "print(\"Energy [au]  Osc. str.   TM(x)     TM(y)     TM(z)\")\n",
        "for i in np.arange(len(rpa_results[\"eigenvalues\"])):\n",
        "    e, os, x, y, z = (\n",
        "        rpa_results[\"eigenvalues\"][i],\n",
        "        rpa_results[\"oscillator_strengths\"][i],\n",
        "        rpa_results[\"electric_transition_dipoles\"][i][0],\n",
        "        rpa_results[\"electric_transition_dipoles\"][i][1],\n",
        "        rpa_results[\"electric_transition_dipoles\"][i][2],\n",
        "    )\n",
        "    print(\"   {:.3f}     {:8.5f}  {:8.5f}  {:8.5f}  {:8.5f}\".format(e, os, x, y, z))\n",
        "\n",
        "plt.figure(figsize=(6, 4))\n",
        "x = au2ev * rpa_results[\"eigenvalues\"]\n",
        "y = rpa_results[\"oscillator_strengths\"]\n",
        "xi, yi = lorentzian(x, y, min(x) - 1.0, max(x) + 1.0, 0.01, 0.5)\n",
        "plt.plot(xi, yi)\n",
        "plt.tight_layout()\n",
        "plt.show()\n"
      ],
      "metadata": {
        "cellView": "form",
        "id": "NpGikrvnPWMz",
        "outputId": "706e4e88-3cf2-47a2-bb34-2ace06968c5b",
        "colab": {
          "base_uri": "https://localhost:8080/",
          "height": 550
        }
      },
      "execution_count": 4,
      "outputs": [
        {
          "output_type": "stream",
          "name": "stdout",
          "text": [
            "DFT energy: -268.1496620025 a.u.\n",
            "Energy [au]  Osc. str.   TM(x)     TM(y)     TM(z)\n",
            "   0.155      0.00002  -0.00000  -0.00672  -0.01249\n",
            "   0.223      0.00674   0.15299  -0.13061   0.07032\n",
            "   0.270      0.00124   0.00002  -0.03936  -0.07309\n",
            "   0.275      0.01881  -0.28372   0.13104  -0.07056\n",
            "   0.276      0.00023  -0.00002  -0.01668  -0.03099\n",
            "   0.298      0.05816  -0.49061  -0.20185   0.10868\n"
          ]
        },
        {
          "output_type": "display_data",
          "data": {
            "text/plain": [
              "<Figure size 600x400 with 1 Axes>"
            ],
            "image/png": "[encoded data removed]"
          },
          "metadata": {}
        }
      ]
    },
    {
      "cell_type": "code",
      "source": [
        "#@title Plot UV/Vis spectrum in nm\n",
        "plt.figure(figsize=(6, 4))\n",
        "x =  45.56328 / rpa_results[\"eigenvalues\"]\n",
        "y = rpa_results[\"oscillator_strengths\"]\n",
        "xi, yi = lorentzian(x, y, min(x) - 20.0, max(x) + 1.0, 0.1, 8)\n",
        "plt.plot(xi, yi)\n",
        "plt.tight_layout()\n",
        "plt.show()"
      ],
      "metadata": {
        "cellView": "form",
        "id": "xLcJKccuBtTh",
        "outputId": "dfa606a6-a75e-4f25-f893-8a5a3b24ee39",
        "colab": {
          "base_uri": "https://localhost:8080/",
          "height": 407
        }
      },
      "execution_count": 23,
      "outputs": [
        {
          "output_type": "display_data",
          "data": {
            "text/plain": [
              "<Figure size 600x400 with 1 Axes>"
            ],
            "image/png": "[encoded data removed]"
          },
          "metadata": {}
        }
      ]
    },
    {
      "cell_type": "code",
      "source": [],
      "metadata": {
        "id": "PRDQgvTpGe7t"
      },
      "execution_count": null,
      "outputs": []
    }
  ]
}