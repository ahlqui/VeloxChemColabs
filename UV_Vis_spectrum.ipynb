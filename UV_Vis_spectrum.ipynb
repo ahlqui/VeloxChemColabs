{
  "nbformat": 4,
  "nbformat_minor": 0,
  "metadata": {
    "colab": {
      "provenance": [],
      "include_colab_link": true
    },
    "kernelspec": {
      "name": "python3",
      "display_name": "Python 3"
    },
    "language_info": {
      "name": "python"
    }
  },
  "cells": [
    {
      "cell_type": "markdown",
      "metadata": {
        "id": "view-in-github",
        "colab_type": "text"
      },
      "source": [
        "<a href=\"https://colab.research.google.com/github/ahlqui/VeloxChemColabs/blob/main/UV_Vis_spectrum.ipynb\" target=\"_parent\"><img src=\"https://colab.research.google.com/assets/colab-badge.svg\" alt=\"Open In Colab\"/></a>"
      ]
    },
    {
      "cell_type": "markdown",
      "source": [
        "\n",
        "\n",
        "\n",
        "# Calculate UV/Vis spectrum using TDDFT\n"
      ],
      "metadata": {
        "id": "_f9U7ujQXRh7"
      }
    },
    {
      "cell_type": "markdown",
      "source": [
        "This notebook requires that you have a molecular structure. Two options:\n",
        "\n",
        "Define Molecule as XYZ-coordinates: Can be generatred with free software such as www.avogadro.cc\n",
        "\n",
        "Define Molecule with SMILES code, A molecule can be defined using a SMILES code (example below). We have two suggested ways to generate smiles from structure. 1) Sketch your molecule at https://www.rcsb.org/chemical-sketch and the SMILES code will be shown right below the structure. 2) Build your molecule at https://molview.org/ , go to Tools/Information Card and it will show you the SMILES code. Just copy/paste it into the SMILES box below.\n",
        "\n",
        "Example of xyz-coordinates for CO2:\n",
        "\n",
        "O 0.00 0.00 0.00\n",
        "\n",
        "C 0.00 0.00 1.20\n",
        "\n",
        "O 0.00 0.00 2.40\n",
        "\n",
        "Example of SMILES for CO2:\n",
        "\n",
        "O=C=O"
      ],
      "metadata": {
        "id": "jsrGVECSXfex"
      }
    },
    {
      "cell_type": "code",
      "execution_count": null,
      "metadata": {
        "id": "0L_oJd_RW_qC",
        "cellView": "form"
      },
      "outputs": [],
      "source": [
        "#@title Install VeloxChem and dependencies (ca 2 min)\n",
        "#@markdown Before you can run anything a few things need to be installed. It all runs on the Google Colab server an you do not need to install anything on your computer.\n",
        "%%capture\n",
        "import sys\n",
        "\n",
        "! wget -qnc https://github.com/conda-forge/miniforge/releases/latest/download/Miniforge3-Linux-x86_64.sh\n",
        "! bash Miniforge3-Linux-x86_64.sh -bfp /usr/local\n",
        "! mamba config --set auto_update_conda false\n",
        "import sys\n",
        "sys.path.append('/usr/local/lib/python3.11/site-packages/')\n",
        "!mamba install -y -c conda-forge -c veloxchem veloxchem  py3Dmol dftd4-python  matplotlib python=3.11\n",
        "! pip install rdkit\n",
        "import veloxchem as vlx"
      ]
    },
    {
      "cell_type": "code",
      "source": [
        "xyz_coordinates = \"\"\"\n",
        "N             -1.081185000000        -0.426329000000         2.615032000000\n",
        "C             -0.862538000000        -1.492772000000         1.642987000000\n",
        "C             -1.081833000000        -0.962619000000         0.220708000000\n",
        "C             -0.911054000000        -2.056441000000        -0.841632000000\n",
        "C              0.512948000000        -2.508082000000        -0.950749000000\n",
        "O              1.350213000000        -1.809455000000        -1.582309000000\n",
        "O              0.917599000000        -3.684353000000        -0.327457000000\n",
        "H             -2.103462000000        -0.204758000000         2.633406000000\n",
        "H             -0.843547000000        -0.804304000000         3.560687000000\n",
        "H              0.180186000000        -1.864615000000         1.745142000000\n",
        "H             -1.559953000000        -2.336224000000         1.847076000000\n",
        "H             -2.115284000000        -0.559803000000         0.142810000000\n",
        "H             -0.376464000000        -0.126528000000         0.018522000000\n",
        "H             -1.563687000000        -2.924153000000        -0.603270000000\n",
        "H             -1.235575000000        -1.656122000000        -1.826437000000\n",
        "H              1.879945000000        -3.996010000000        -0.381026000000\n",
        "\"\"\"\n"
      ],
      "metadata": {
        "id": "NzBaWJTJ8mrU"
      },
      "execution_count": 2,
      "outputs": []
    },
    {
      "cell_type": "code",
      "execution_count": 3,
      "metadata": {
        "id": "kd3SxiFQFm6r",
        "cellView": "form",
        "colab": {
          "base_uri": "https://localhost:8080/",
          "height": 335
        },
        "outputId": "731e829e-b55c-4704-b21a-98911ee68f1b"
      },
      "outputs": [
        {
          "output_type": "stream",
          "name": "stdout",
          "text": [
            "Structure of the molecule entered: \n"
          ]
        },
        {
          "output_type": "display_data",
          "data": {
            "application/3dmoljs_load.v0": "<div id=\"3dmolviewer_1747315665808554\"  style=\"position: relative; width: 400px; height: 300px;\">\n        <p id=\"3dmolwarning_1747315665808554\" style=\"background-color:#ffcccc;color:black\">3Dmol.js failed to load for some reason.  Please check your browser console for error messages.<br></p>\n        </div>\n<script>\n\nvar loadScriptAsync = function(uri){\n  return new Promise((resolve, reject) => {\n    //this is to ignore the existence of requirejs amd\n    var savedexports, savedmodule;\n    if (typeof exports !== 'undefined') savedexports = exports;\n    else exports = {}\n    if (typeof module !== 'undefined') savedmodule = module;\n    else module = {}\n\n    var tag = document.createElement('script');\n    tag.src = uri;\n    tag.async = true;\n    tag.onload = () => {\n        exports = savedexports;\n        module = savedmodule;\n        resolve();\n    };\n  var firstScriptTag = document.getElementsByTagName('script')[0];\n  firstScriptTag.parentNode.insertBefore(tag, firstScriptTag);\n});\n};\n\nif(typeof $3Dmolpromise === 'undefined') {\n$3Dmolpromise = null;\n  $3Dmolpromise = loadScriptAsync('https://cdnjs.cloudflare.com/ajax/libs/3Dmol/2.4.2/3Dmol-min.js');\n}\n\nvar viewer_1747315665808554 = null;\nvar warn = document.getElementById(\"3dmolwarning_1747315665808554\");\nif(warn) {\n    warn.parentNode.removeChild(warn);\n}\n$3Dmolpromise.then(function() {\nviewer_1747315665808554 = $3Dmol.createViewer(document.getElementById(\"3dmolviewer_1747315665808554\"),{backgroundColor:\"white\"});\nviewer_1747315665808554.zoomTo();\n\tviewer_1747315665808554.addModel(\"16\\n\\nN             -1.081185000000        -0.426329000000         2.615032000000\\nC             -0.862538000000        -1.492772000000         1.642987000000\\nC             -1.081833000000        -0.962619000000         0.220708000000\\nC             -0.911054000000        -2.056441000000        -0.841632000000\\nC              0.512948000000        -2.508082000000        -0.950749000000\\nO              1.350213000000        -1.809455000000        -1.582309000000\\nO              0.917599000000        -3.684353000000        -0.327457000000\\nH             -2.103462000000        -0.204758000000         2.633406000000\\nH             -0.843547000000        -0.804304000000         3.560687000000\\nH              0.180186000000        -1.864615000000         1.745142000000\\nH             -1.559953000000        -2.336224000000         1.847076000000\\nH             -2.115284000000        -0.559803000000         0.142810000000\\nH             -0.376464000000        -0.126528000000         0.018522000000\\nH             -1.563687000000        -2.924153000000        -0.603270000000\\nH             -1.235575000000        -1.656122000000        -1.826437000000\\nH              1.879945000000        -3.996010000000        -0.381026000000\\n\");\n\tviewer_1747315665808554.setViewStyle({\"style\": \"outline\", \"width\": 0.05});\n\tviewer_1747315665808554.setStyle({\"stick\": {}, \"sphere\": {\"scale\": 0.25}});\n\tviewer_1747315665808554.addLabel(\"1\",{\"position\": {\"x\": -1.081185, \"y\": -0.426329, \"z\": 2.615032}, \"alignment\": \"center\", \"fontColor\": 0, \"backgroundColor\": 16777215, \"backgroundOpacity\": 0.0});\n\tviewer_1747315665808554.addLabel(\"2\",{\"position\": {\"x\": -0.862538, \"y\": -1.492772, \"z\": 1.642987}, \"alignment\": \"center\", \"fontColor\": 0, \"backgroundColor\": 16777215, \"backgroundOpacity\": 0.0});\n\tviewer_1747315665808554.addLabel(\"3\",{\"position\": {\"x\": -1.081833, \"y\": -0.962619, \"z\": 0.220708}, \"alignment\": \"center\", \"fontColor\": 0, \"backgroundColor\": 16777215, \"backgroundOpacity\": 0.0});\n\tviewer_1747315665808554.addLabel(\"4\",{\"position\": {\"x\": -0.911054, \"y\": -2.056441, \"z\": -0.841632}, \"alignment\": \"center\", \"fontColor\": 0, \"backgroundColor\": 16777215, \"backgroundOpacity\": 0.0});\n\tviewer_1747315665808554.addLabel(\"5\",{\"position\": {\"x\": 0.512948, \"y\": -2.508082, \"z\": -0.950749}, \"alignment\": \"center\", \"fontColor\": 0, \"backgroundColor\": 16777215, \"backgroundOpacity\": 0.0});\n\tviewer_1747315665808554.addLabel(\"6\",{\"position\": {\"x\": 1.350213, \"y\": -1.809455, \"z\": -1.5823089999999997}, \"alignment\": \"center\", \"fontColor\": 0, \"backgroundColor\": 16777215, \"backgroundOpacity\": 0.0});\n\tviewer_1747315665808554.addLabel(\"7\",{\"position\": {\"x\": 0.9175989999999999, \"y\": -3.684353, \"z\": -0.327457}, \"alignment\": \"center\", \"fontColor\": 0, \"backgroundColor\": 16777215, \"backgroundOpacity\": 0.0});\n\tviewer_1747315665808554.addLabel(\"8\",{\"position\": {\"x\": -2.103462, \"y\": -0.20475799999999997, \"z\": 2.633406}, \"alignment\": \"center\", \"fontColor\": 0, \"backgroundColor\": 16777215, \"backgroundOpacity\": 0.0});\n\tviewer_1747315665808554.addLabel(\"9\",{\"position\": {\"x\": -0.843547, \"y\": -0.804304, \"z\": 3.5606869999999997}, \"alignment\": \"center\", \"fontColor\": 0, \"backgroundColor\": 16777215, \"backgroundOpacity\": 0.0});\n\tviewer_1747315665808554.addLabel(\"10\",{\"position\": {\"x\": 0.180186, \"y\": -1.864615, \"z\": 1.7451419999999997}, \"alignment\": \"center\", \"fontColor\": 0, \"backgroundColor\": 16777215, \"backgroundOpacity\": 0.0});\n\tviewer_1747315665808554.addLabel(\"11\",{\"position\": {\"x\": -1.559953, \"y\": -2.336224, \"z\": 1.847076}, \"alignment\": \"center\", \"fontColor\": 0, \"backgroundColor\": 16777215, \"backgroundOpacity\": 0.0});\n\tviewer_1747315665808554.addLabel(\"12\",{\"position\": {\"x\": -2.115284, \"y\": -0.559803, \"z\": 0.14281}, \"alignment\": \"center\", \"fontColor\": 0, \"backgroundColor\": 16777215, \"backgroundOpacity\": 0.0});\n\tviewer_1747315665808554.addLabel(\"13\",{\"position\": {\"x\": -0.37646399999999997, \"y\": -0.126528, \"z\": 0.018521999999999997}, \"alignment\": \"center\", \"fontColor\": 0, \"backgroundColor\": 16777215, \"backgroundOpacity\": 0.0});\n\tviewer_1747315665808554.addLabel(\"14\",{\"position\": {\"x\": -1.563687, \"y\": -2.9241529999999996, \"z\": -0.60327}, \"alignment\": \"center\", \"fontColor\": 0, \"backgroundColor\": 16777215, \"backgroundOpacity\": 0.0});\n\tviewer_1747315665808554.addLabel(\"15\",{\"position\": {\"x\": -1.235575, \"y\": -1.6561219999999999, \"z\": -1.8264369999999999}, \"alignment\": \"center\", \"fontColor\": 0, \"backgroundColor\": 16777215, \"backgroundOpacity\": 0.0});\n\tviewer_1747315665808554.addLabel(\"16\",{\"position\": {\"x\": 1.879945, \"y\": -3.99601, \"z\": -0.381026}, \"alignment\": \"center\", \"fontColor\": 0, \"backgroundColor\": 16777215, \"backgroundOpacity\": 0.0});\n\tviewer_1747315665808554.zoomTo();\nviewer_1747315665808554.render();\n});\n</script>",
            "text/html": [
              "<div id=\"3dmolviewer_1747315665808554\"  style=\"position: relative; width: 400px; height: 300px;\">\n",
              "        <p id=\"3dmolwarning_1747315665808554\" style=\"background-color:#ffcccc;color:black\">3Dmol.js failed to load for some reason.  Please check your browser console for error messages.<br></p>\n",
              "        </div>\n",
              "<script>\n",
              "\n",
              "var loadScriptAsync = function(uri){\n",
              "  return new Promise((resolve, reject) => {\n",
              "    //this is to ignore the existence of requirejs amd\n",
              "    var savedexports, savedmodule;\n",
              "    if (typeof exports !== 'undefined') savedexports = exports;\n",
              "    else exports = {}\n",
              "    if (typeof module !== 'undefined') savedmodule = module;\n",
              "    else module = {}\n",
              "\n",
              "    var tag = document.createElement('script');\n",
              "    tag.src = uri;\n",
              "    tag.async = true;\n",
              "    tag.onload = () => {\n",
              "        exports = savedexports;\n",
              "        module = savedmodule;\n",
              "        resolve();\n",
              "    };\n",
              "  var firstScriptTag = document.getElementsByTagName('script')[0];\n",
              "  firstScriptTag.parentNode.insertBefore(tag, firstScriptTag);\n",
              "});\n",
              "};\n",
              "\n",
              "if(typeof $3Dmolpromise === 'undefined') {\n",
              "$3Dmolpromise = null;\n",
              "  $3Dmolpromise = loadScriptAsync('https://cdnjs.cloudflare.com/ajax/libs/3Dmol/2.4.2/3Dmol-min.js');\n",
              "}\n",
              "\n",
              "var viewer_1747315665808554 = null;\n",
              "var warn = document.getElementById(\"3dmolwarning_1747315665808554\");\n",
              "if(warn) {\n",
              "    warn.parentNode.removeChild(warn);\n",
              "}\n",
              "$3Dmolpromise.then(function() {\n",
              "viewer_1747315665808554 = $3Dmol.createViewer(document.getElementById(\"3dmolviewer_1747315665808554\"),{backgroundColor:\"white\"});\n",
              "viewer_1747315665808554.zoomTo();\n",
              "\tviewer_1747315665808554.addModel(\"16\\n\\nN             -1.081185000000        -0.426329000000         2.615032000000\\nC             -0.862538000000        -1.492772000000         1.642987000000\\nC             -1.081833000000        -0.962619000000         0.220708000000\\nC             -0.911054000000        -2.056441000000        -0.841632000000\\nC              0.512948000000        -2.508082000000        -0.950749000000\\nO              1.350213000000        -1.809455000000        -1.582309000000\\nO              0.917599000000        -3.684353000000        -0.327457000000\\nH             -2.103462000000        -0.204758000000         2.633406000000\\nH             -0.843547000000        -0.804304000000         3.560687000000\\nH              0.180186000000        -1.864615000000         1.745142000000\\nH             -1.559953000000        -2.336224000000         1.847076000000\\nH             -2.115284000000        -0.559803000000         0.142810000000\\nH             -0.376464000000        -0.126528000000         0.018522000000\\nH             -1.563687000000        -2.924153000000        -0.603270000000\\nH             -1.235575000000        -1.656122000000        -1.826437000000\\nH              1.879945000000        -3.996010000000        -0.381026000000\\n\");\n",
              "\tviewer_1747315665808554.setViewStyle({\"style\": \"outline\", \"width\": 0.05});\n",
              "\tviewer_1747315665808554.setStyle({\"stick\": {}, \"sphere\": {\"scale\": 0.25}});\n",
              "\tviewer_1747315665808554.addLabel(\"1\",{\"position\": {\"x\": -1.081185, \"y\": -0.426329, \"z\": 2.615032}, \"alignment\": \"center\", \"fontColor\": 0, \"backgroundColor\": 16777215, \"backgroundOpacity\": 0.0});\n",
              "\tviewer_1747315665808554.addLabel(\"2\",{\"position\": {\"x\": -0.862538, \"y\": -1.492772, \"z\": 1.642987}, \"alignment\": \"center\", \"fontColor\": 0, \"backgroundColor\": 16777215, \"backgroundOpacity\": 0.0});\n",
              "\tviewer_1747315665808554.addLabel(\"3\",{\"position\": {\"x\": -1.081833, \"y\": -0.962619, \"z\": 0.220708}, \"alignment\": \"center\", \"fontColor\": 0, \"backgroundColor\": 16777215, \"backgroundOpacity\": 0.0});\n",
              "\tviewer_1747315665808554.addLabel(\"4\",{\"position\": {\"x\": -0.911054, \"y\": -2.056441, \"z\": -0.841632}, \"alignment\": \"center\", \"fontColor\": 0, \"backgroundColor\": 16777215, \"backgroundOpacity\": 0.0});\n",
              "\tviewer_1747315665808554.addLabel(\"5\",{\"position\": {\"x\": 0.512948, \"y\": -2.508082, \"z\": -0.950749}, \"alignment\": \"center\", \"fontColor\": 0, \"backgroundColor\": 16777215, \"backgroundOpacity\": 0.0});\n",
              "\tviewer_1747315665808554.addLabel(\"6\",{\"position\": {\"x\": 1.350213, \"y\": -1.809455, \"z\": -1.5823089999999997}, \"alignment\": \"center\", \"fontColor\": 0, \"backgroundColor\": 16777215, \"backgroundOpacity\": 0.0});\n",
              "\tviewer_1747315665808554.addLabel(\"7\",{\"position\": {\"x\": 0.9175989999999999, \"y\": -3.684353, \"z\": -0.327457}, \"alignment\": \"center\", \"fontColor\": 0, \"backgroundColor\": 16777215, \"backgroundOpacity\": 0.0});\n",
              "\tviewer_1747315665808554.addLabel(\"8\",{\"position\": {\"x\": -2.103462, \"y\": -0.20475799999999997, \"z\": 2.633406}, \"alignment\": \"center\", \"fontColor\": 0, \"backgroundColor\": 16777215, \"backgroundOpacity\": 0.0});\n",
              "\tviewer_1747315665808554.addLabel(\"9\",{\"position\": {\"x\": -0.843547, \"y\": -0.804304, \"z\": 3.5606869999999997}, \"alignment\": \"center\", \"fontColor\": 0, \"backgroundColor\": 16777215, \"backgroundOpacity\": 0.0});\n",
              "\tviewer_1747315665808554.addLabel(\"10\",{\"position\": {\"x\": 0.180186, \"y\": -1.864615, \"z\": 1.7451419999999997}, \"alignment\": \"center\", \"fontColor\": 0, \"backgroundColor\": 16777215, \"backgroundOpacity\": 0.0});\n",
              "\tviewer_1747315665808554.addLabel(\"11\",{\"position\": {\"x\": -1.559953, \"y\": -2.336224, \"z\": 1.847076}, \"alignment\": \"center\", \"fontColor\": 0, \"backgroundColor\": 16777215, \"backgroundOpacity\": 0.0});\n",
              "\tviewer_1747315665808554.addLabel(\"12\",{\"position\": {\"x\": -2.115284, \"y\": -0.559803, \"z\": 0.14281}, \"alignment\": \"center\", \"fontColor\": 0, \"backgroundColor\": 16777215, \"backgroundOpacity\": 0.0});\n",
              "\tviewer_1747315665808554.addLabel(\"13\",{\"position\": {\"x\": -0.37646399999999997, \"y\": -0.126528, \"z\": 0.018521999999999997}, \"alignment\": \"center\", \"fontColor\": 0, \"backgroundColor\": 16777215, \"backgroundOpacity\": 0.0});\n",
              "\tviewer_1747315665808554.addLabel(\"14\",{\"position\": {\"x\": -1.563687, \"y\": -2.9241529999999996, \"z\": -0.60327}, \"alignment\": \"center\", \"fontColor\": 0, \"backgroundColor\": 16777215, \"backgroundOpacity\": 0.0});\n",
              "\tviewer_1747315665808554.addLabel(\"15\",{\"position\": {\"x\": -1.235575, \"y\": -1.6561219999999999, \"z\": -1.8264369999999999}, \"alignment\": \"center\", \"fontColor\": 0, \"backgroundColor\": 16777215, \"backgroundOpacity\": 0.0});\n",
              "\tviewer_1747315665808554.addLabel(\"16\",{\"position\": {\"x\": 1.879945, \"y\": -3.99601, \"z\": -0.381026}, \"alignment\": \"center\", \"fontColor\": 0, \"backgroundColor\": 16777215, \"backgroundOpacity\": 0.0});\n",
              "\tviewer_1747315665808554.zoomTo();\n",
              "viewer_1747315665808554.render();\n",
              "});\n",
              "</script>"
            ]
          },
          "metadata": {}
        }
      ],
      "source": [
        "#@title Define your molecule, either asa SMILES code or xyz-coordinates above\n",
        "#@markdown - Enter the SMILES code\n",
        "import veloxchem as vlx\n",
        "smiles_code = 'OCCC=O' #@param {type:\"string\"}\n",
        "#@markdown - If you want to use the xyz coordinates in the previous cell check box\n",
        "use_xyz = True # @param {type:\"boolean\"}\n",
        "if use_xyz == False:\n",
        "  molecule = vlx.Molecule.read_smiles(smiles_code)\n",
        "else:\n",
        "  molecule = vlx.Molecule.read_str(xyz_coordinates)\n",
        "print('Structure of the molecule entered: ')\n",
        "molecule.show(atom_indices=True)\n",
        "#@markdown - Give your Gromacs files a name\n",
        "gromacs_file = 'test' #@param {type:\"string\"}\n",
        "#@markdown - Give your molecule a residue name (three letters)\n",
        "residue_name = 'tes' #@param {type:\"string\"}\n",
        "\n"
      ]
    },
    {
      "cell_type": "code",
      "source": [
        "#@title DFT optimization of the geometry\n",
        "#@markdown Example timing: Ibuprofen (59 sec)\n",
        "basis = vlx.MolecularBasis.read(molecule, 'def2-sv(p)')\n",
        "scf_drv = vlx.ScfRestrictedDriver()\n",
        "scf_drv.xcfun = 'BLYP'\n",
        "scf_drv.dispersion = True\n",
        "scf_drv.ri_coulomb = True\n",
        "scf_drv.ostream.mute()\n",
        "scf_results = scf_drv.compute(molecule, basis)\n",
        "\n",
        "\n",
        "opt_drv = vlx.OptimizationDriver(scf_drv)\n",
        "opt_drv.ostream.mute()\n",
        "opt_results = opt_drv.compute(molecule, basis, scf_results)\n",
        "\n",
        "final_geometry = vlx.Molecule.read_xyz_string(opt_results[\"final_geometry\"])\n",
        "final_geometry.show()\n",
        "print('Energy of optimized structure: ' + str(opt_results[\"opt_energies\"][-1]))\n",
        "print('XYZ coordinates of optimized structure:')\n",
        "print(opt_results[\"final_geometry\"])"
      ],
      "metadata": {
        "id": "Ocpqi2UpNZMt",
        "colab": {
          "base_uri": "https://localhost:8080/",
          "height": 365
        },
        "outputId": "417f58e4-b445-42de-fa12-9e627fc061d1"
      },
      "execution_count": 6,
      "outputs": [
        {
          "output_type": "error",
          "ename": "AssertionError",
          "evalue": "DispersionModel: dftd4-python is not available. Please install dftd4-python.",
          "traceback": [
            "\u001b[0;31m---------------------------------------------------------------------------\u001b[0m",
            "\u001b[0;31mAssertionError\u001b[0m                            Traceback (most recent call last)",
            "\u001b[0;32m<ipython-input-6-68622501b36f>\u001b[0m in \u001b[0;36m<cell line: 0>\u001b[0;34m()\u001b[0m\n\u001b[1;32m      7\u001b[0m \u001b[0mscf_drv\u001b[0m\u001b[0;34m.\u001b[0m\u001b[0mri_coulomb\u001b[0m \u001b[0;34m=\u001b[0m \u001b[0;32mTrue\u001b[0m\u001b[0;34m\u001b[0m\u001b[0;34m\u001b[0m\u001b[0m\n\u001b[1;32m      8\u001b[0m \u001b[0mscf_drv\u001b[0m\u001b[0;34m.\u001b[0m\u001b[0mostream\u001b[0m\u001b[0;34m.\u001b[0m\u001b[0mmute\u001b[0m\u001b[0;34m(\u001b[0m\u001b[0;34m)\u001b[0m\u001b[0;34m\u001b[0m\u001b[0;34m\u001b[0m\u001b[0m\n\u001b[0;32m----> 9\u001b[0;31m \u001b[0mscf_results\u001b[0m \u001b[0;34m=\u001b[0m \u001b[0mscf_drv\u001b[0m\u001b[0;34m.\u001b[0m\u001b[0mcompute\u001b[0m\u001b[0;34m(\u001b[0m\u001b[0mmolecule\u001b[0m\u001b[0;34m,\u001b[0m \u001b[0mbasis\u001b[0m\u001b[0;34m)\u001b[0m\u001b[0;34m\u001b[0m\u001b[0;34m\u001b[0m\u001b[0m\n\u001b[0m\u001b[1;32m     10\u001b[0m \u001b[0;34m\u001b[0m\u001b[0m\n\u001b[1;32m     11\u001b[0m \u001b[0;34m\u001b[0m\u001b[0m\n",
            "\u001b[0;32m/usr/local/lib/python3.11/site-packages/veloxchem/scfdriver.py\u001b[0m in \u001b[0;36mcompute\u001b[0;34m(self, molecule, ao_basis, min_basis)\u001b[0m\n\u001b[1;32m    636\u001b[0m                 \u001b[0mdisp\u001b[0m \u001b[0;34m=\u001b[0m \u001b[0mDispersionModel\u001b[0m\u001b[0;34m(\u001b[0m\u001b[0;34m)\u001b[0m\u001b[0;34m\u001b[0m\u001b[0;34m\u001b[0m\u001b[0m\n\u001b[1;32m    637\u001b[0m                 \u001b[0mxc_label\u001b[0m \u001b[0;34m=\u001b[0m \u001b[0mself\u001b[0m\u001b[0;34m.\u001b[0m\u001b[0mxcfun\u001b[0m\u001b[0;34m.\u001b[0m\u001b[0mget_func_label\u001b[0m\u001b[0;34m(\u001b[0m\u001b[0;34m)\u001b[0m \u001b[0;32mif\u001b[0m \u001b[0mself\u001b[0m\u001b[0;34m.\u001b[0m\u001b[0m_dft\u001b[0m \u001b[0;32melse\u001b[0m \u001b[0;34m'HF'\u001b[0m\u001b[0;34m\u001b[0m\u001b[0;34m\u001b[0m\u001b[0m\n\u001b[0;32m--> 638\u001b[0;31m                 \u001b[0mdisp\u001b[0m\u001b[0;34m.\u001b[0m\u001b[0mcompute\u001b[0m\u001b[0;34m(\u001b[0m\u001b[0mmolecule\u001b[0m\u001b[0;34m,\u001b[0m \u001b[0mxc_label\u001b[0m\u001b[0;34m)\u001b[0m\u001b[0;34m\u001b[0m\u001b[0;34m\u001b[0m\u001b[0m\n\u001b[0m\u001b[1;32m    639\u001b[0m                 \u001b[0mself\u001b[0m\u001b[0;34m.\u001b[0m\u001b[0m_d4_energy\u001b[0m \u001b[0;34m=\u001b[0m \u001b[0mdisp\u001b[0m\u001b[0;34m.\u001b[0m\u001b[0mget_energy\u001b[0m\u001b[0;34m(\u001b[0m\u001b[0;34m)\u001b[0m\u001b[0;34m\u001b[0m\u001b[0;34m\u001b[0m\u001b[0m\n\u001b[1;32m    640\u001b[0m \u001b[0;34m\u001b[0m\u001b[0m\n",
            "\u001b[0;32m/usr/local/lib/python3.11/site-packages/veloxchem/dispersionmodel.py\u001b[0m in \u001b[0;36mcompute\u001b[0;34m(self, molecule, xc_label)\u001b[0m\n\u001b[1;32m    106\u001b[0m         \u001b[0merrmsg\u001b[0m \u001b[0;34m=\u001b[0m \u001b[0;34m'DispersionModel: dftd4-python is not available. '\u001b[0m\u001b[0;34m\u001b[0m\u001b[0;34m\u001b[0m\u001b[0m\n\u001b[1;32m    107\u001b[0m         \u001b[0merrmsg\u001b[0m \u001b[0;34m+=\u001b[0m \u001b[0;34m'Please install dftd4-python.'\u001b[0m\u001b[0;34m\u001b[0m\u001b[0;34m\u001b[0m\u001b[0m\n\u001b[0;32m--> 108\u001b[0;31m         \u001b[0massert_msg_critical\u001b[0m\u001b[0;34m(\u001b[0m\u001b[0mself\u001b[0m\u001b[0;34m.\u001b[0m\u001b[0mis_available\u001b[0m\u001b[0;34m(\u001b[0m\u001b[0;34m)\u001b[0m\u001b[0;34m,\u001b[0m \u001b[0merrmsg\u001b[0m\u001b[0;34m)\u001b[0m\u001b[0;34m\u001b[0m\u001b[0;34m\u001b[0m\u001b[0m\n\u001b[0m\u001b[1;32m    109\u001b[0m \u001b[0;34m\u001b[0m\u001b[0m\n\u001b[1;32m    110\u001b[0m         \u001b[0midentifiers_np\u001b[0m \u001b[0;34m=\u001b[0m \u001b[0mnp\u001b[0m\u001b[0;34m.\u001b[0m\u001b[0marray\u001b[0m\u001b[0;34m(\u001b[0m\u001b[0mmolecule\u001b[0m\u001b[0;34m.\u001b[0m\u001b[0mget_identifiers\u001b[0m\u001b[0;34m(\u001b[0m\u001b[0;34m)\u001b[0m\u001b[0;34m)\u001b[0m\u001b[0;34m\u001b[0m\u001b[0;34m\u001b[0m\u001b[0m\n",
            "\u001b[0;32m/usr/local/lib/python3.11/site-packages/veloxchem/errorhandler.py\u001b[0m in \u001b[0;36massert_msg_critical\u001b[0;34m(condition, msg)\u001b[0m\n\u001b[1;32m     48\u001b[0m     \"\"\"\n\u001b[1;32m     49\u001b[0m     \u001b[0;32mif\u001b[0m \u001b[0m__debug__\u001b[0m \u001b[0;32mand\u001b[0m \u001b[0mMPI\u001b[0m\u001b[0;34m.\u001b[0m\u001b[0mCOMM_WORLD\u001b[0m\u001b[0;34m.\u001b[0m\u001b[0mGet_size\u001b[0m\u001b[0;34m(\u001b[0m\u001b[0;34m)\u001b[0m \u001b[0;34m==\u001b[0m \u001b[0;36m1\u001b[0m\u001b[0;34m:\u001b[0m\u001b[0;34m\u001b[0m\u001b[0;34m\u001b[0m\u001b[0m\n\u001b[0;32m---> 50\u001b[0;31m         \u001b[0;32massert\u001b[0m \u001b[0mcondition\u001b[0m\u001b[0;34m,\u001b[0m \u001b[0mmsg\u001b[0m\u001b[0;34m\u001b[0m\u001b[0;34m\u001b[0m\u001b[0m\n\u001b[0m\u001b[1;32m     51\u001b[0m     \u001b[0;32melse\u001b[0m\u001b[0;34m:\u001b[0m\u001b[0;34m\u001b[0m\u001b[0;34m\u001b[0m\u001b[0m\n\u001b[1;32m     52\u001b[0m         \u001b[0;32mif\u001b[0m \u001b[0;32mnot\u001b[0m \u001b[0mcondition\u001b[0m\u001b[0;34m:\u001b[0m\u001b[0;34m\u001b[0m\u001b[0;34m\u001b[0m\u001b[0m\n",
            "\u001b[0;31mAssertionError\u001b[0m: DispersionModel: dftd4-python is not available. Please install dftd4-python."
          ]
        }
      ]
    },
    {
      "cell_type": "code",
      "source": [
        "#@title TDDFT to generate UV/Vis spectrum\n",
        "import matplotlib.pyplot as plt\n",
        "import numpy as np\n",
        "import py3Dmol as p3d\n",
        "import veloxchem as vlx\n",
        "from matplotlib import gridspec\n",
        "from scipy.interpolate import interp1d\n",
        "\n",
        "# au to eV conversion factor\n",
        "au2ev = 27.211386\n",
        "\n",
        "molecule = vlx.Molecule.read_xyz_string(opt_results[\"final_geometry\"])\n",
        "basis_set = 'DEF2-SVP' #@param  ['6-31++G', '6-31++G*', '6-31++G**', '6-31+G', '6-31+G*', '6-31+G**', '6-311++G', '6-311++G(2D,2P)', '6-311++G(3DF,3PD)', '6-311++G*', '6-311++G**', '6-311+G', '6-311+G(2D,P)', '6-311+G*', '6-311+G**', '6-311G', '6-311G(2DF,2PD)', '6-311G*', '6-311G**', '6-31G', '6-31G(2DF,P)', '6-31G(3DF,3PD)', '6-31G*', '6-31G**', 'ANO-L-MB', 'ANO-L-VDZP', 'ANO-L-VQZP', 'ANO-L-VTZP', 'ANO-S-MB', 'ANO-S-VDZP', 'AO-START-GUESS', 'AUG-CC-PCV5Z', 'AUG-CC-PCVDZ', 'AUG-CC-PCVQZ', 'AUG-CC-PCVTZ', 'AUG-CC-PV5Z', 'AUG-CC-PV6Z', 'AUG-CC-PVDZ', 'AUG-CC-PVQZ', 'AUG-CC-PVTZ', 'AUG-PCSEG-0', 'AUG-PCSEG-1', 'AUG-PCSEG-2', 'AUG-PCSEG-3', 'AUG-PCSEG-4', 'AUG-PCX-1', 'AUG-PCX-2', 'AUG-PCX-3', 'AUG-PCX-4', 'CC-PCV5Z', 'CC-PCVDZ', 'CC-PCVQZ', 'CC-PCVTZ', 'CC-PV5Z', 'CC-PV6Z', 'CC-PVDZ', 'CC-PVQZ', 'CC-PVTZ', 'DAUG-CC-PCV5Z', 'DAUG-CC-PCVDZ', 'DAUG-CC-PCVQZ', 'DAUG-CC-PCVTZ', 'DAUG-CC-PV5Z', 'DAUG-CC-PV6Z', 'DAUG-CC-PVDZ', 'DAUG-CC-PVQZ', 'DAUG-CC-PVTZ', 'DEF2-QZVP', 'DEF2-QZVPD', 'DEF2-QZVPP', 'DEF2-QZVPPD', 'DEF2-SV(P)', 'DEF2-SVP', 'DEF2-SVPD', 'DEF2-TZVP', 'DEF2-TZVPD', 'DEF2-TZVPP', 'DEF2-TZVPPD', 'PCSEG-0', 'PCSEG-1', 'PCSEG-2', 'PCSEG-3', 'PCSEG-4', 'PCX-1', 'PCX-2', 'PCX-3', 'PCX-4', 'SADLEJ-PVTZ', 'STO-3G', 'STO-3G-OLD', 'STO-6G', 'TAUG-CC-PCV5Z', 'TAUG-CC-PCVDZ', 'TAUG-CC-PCVQZ', 'TAUG-CC-PCVTZ', 'TAUG-CC-PV5Z', 'TAUG-CC-PV6Z', 'TAUG-CC-PVDZ', 'TAUG-CC-PVQZ', 'TAUG-CC-PVTZ']\n",
        "basis = vlx.MolecularBasis.read(molecule, basis_set)\n",
        "scf_drv = vlx.ScfRestrictedDriver()\n",
        "mute_output = True # @param {type:\"boolean\"}\n",
        "if mute_output == True:\n",
        "  scf_drv.ostream.mute()\n",
        "else:\n",
        "  scf_drv.ostream\n",
        "functional = 'CAM-B3LYP' #@param ['SLATER', 'SLDA', 'B88X', 'BLYP', 'B3LYP', 'CAM-B3LYP', 'BHANDH', 'BHANDHLYP', 'PBE', 'PBE0', 'REVPBE', 'BP86', 'PW91', 'MPW1K', 'OLYP', 'O3LYP', 'X3LYP', 'B97', 'B97-1', 'B97-2', 'B97-3', 'TPSS', 'TPSSH', 'REVTPSS', 'PKZB', 'SCAN', 'RSCAN', 'R2SCAN', 'M05', 'M05-2X', 'M06', 'M06-2X', 'M06-HF', 'M06-L', 'M11-L', 'MPW1B95', 'MPWB1K', 'PW6B95', 'PWB6K']\n",
        "scf_drv.xcfun = functional\n",
        "scf_results = scf_drv.compute(molecule, basis)\n",
        "print(f\"DFT energy: {scf_drv.get_scf_energy():14.10f} a.u.\")\n",
        "method_settings = {\"xcfun\":functional}\n",
        "rpa_solver = vlx.lreigensolver.LinearResponseEigenSolver()\n",
        "mute_output_tddft = True # @param {type:\"boolean\"}\n",
        "if mute_output_tddft == True:\n",
        "  rpa_solver.ostream.mute()\n",
        "else:\n",
        "  rpa_solver.ostream\n",
        "Number_of_excitations = 3 # @param {type:\"integer\"}\n",
        "rpa_solver.update_settings({\"nstates\": Number_of_excitations}, method_settings)\n",
        "rpa_results = rpa_solver.compute(molecule, basis, scf_results)\n",
        "\n",
        "\n"
      ],
      "metadata": {
        "cellView": "form",
        "id": "NpGikrvnPWMz"
      },
      "execution_count": null,
      "outputs": []
    },
    {
      "cell_type": "code",
      "source": [
        "#@title Plot UV/Vis spectrum in nm\n",
        "rpa_solver.plot_uv_vis(rpa_results)"
      ],
      "metadata": {
        "id": "xLcJKccuBtTh"
      },
      "execution_count": null,
      "outputs": []
    },
    {
      "cell_type": "code",
      "source": [],
      "metadata": {
        "id": "PRDQgvTpGe7t"
      },
      "execution_count": null,
      "outputs": []
    }
  ]
}