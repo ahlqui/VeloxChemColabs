{
  "nbformat": 4,
  "nbformat_minor": 0,
  "metadata": {
    "colab": {
      "provenance": [],
      "gpuType": "T4",
      "name": "conformersearch.ipynb",
      "include_colab_link": true
    },
    "kernelspec": {
      "name": "python3",
      "display_name": "Python 3"
    },
    "language_info": {
      "name": "python"
    },
    "accelerator": "GPU"
  },
  "cells": [
    {
      "cell_type": "markdown",
      "metadata": {
        "id": "view-in-github",
        "colab_type": "text"
      },
      "source": [
        "<a href=\"https://colab.research.google.com/github/ahlqui/VeloxChemColabs/blob/main/conformersearch.ipynb\" target=\"_parent\"><img src=\"https://colab.research.google.com/assets/colab-badge.svg\" alt=\"Open In Colab\"/></a>"
      ]
    },
    {
      "cell_type": "markdown",
      "source": [
        "\n",
        "\n",
        "\n",
        "# Generate a force field from XYZ and run dynamics\n"
      ],
      "metadata": {
        "id": "_f9U7ujQXRh7"
      }
    },
    {
      "cell_type": "markdown",
      "source": [
        "This notebook requires that you have a molecular structure. Two options:\n",
        "\n",
        "Define Molecule as XYZ-coordinates: Can be generatred with free software such as www.avogadro.cc\n",
        "\n",
        "Define Molecule with SMILES code, A molecule can be defined using a SMILES code (example below). We have two suggested ways to generate smiles from structure. 1) Sketch your molecule at https://www.rcsb.org/chemical-sketch and the SMILES code will be shown right below the structure. 2) Build your molecule at https://molview.org/ , go to Tools/Information Card and it will show you the SMILES code. Just copy/paste it into the SMILES box below.\n",
        "\n",
        "Example of xyz-coordinates for CO2:\n",
        "\n",
        "O 0.00 0.00 0.00\n",
        "\n",
        "C 0.00 0.00 1.20\n",
        "\n",
        "O 0.00 0.00 2.40\n",
        "\n",
        "Example of SMILES for CO2:\n",
        "\n",
        "O=C=O"
      ],
      "metadata": {
        "id": "jsrGVECSXfex"
      }
    },
    {
      "cell_type": "code",
      "execution_count": null,
      "metadata": {
        "cellView": "form",
        "id": "LjiFcUn5LT-g"
      },
      "outputs": [],
      "source": [
        "#@title Install VeloxChem and dependencies (ca 2 min)\n",
        "#@markdown Before you can run anything a few things need to be installed. It all runs on the Google Colab server an you do not need to install anything on your computer.\n",
        "%%capture\n",
        "import sys\n",
        "\n",
        "! wget -qnc https://github.com/conda-forge/miniforge/releases/latest/download/Miniforge3-Linux-x86_64.sh\n",
        "! bash Miniforge3-Linux-x86_64.sh -bfp /usr/local\n",
        "! mamba config --set auto_update_conda false\n",
        "import sys\n",
        "sys.path.append('/usr/local/lib/python3.11/site-packages/')\n",
        "!mamba install -y -c conda-forge -c veloxchem veloxchem xtb-python dftd4-python py3Dmol MDAnalysis openmm matplotlib python=3.11\n",
        "! pip install rdkit\n",
        "import veloxchem as vlx"
      ]
    },
    {
      "cell_type": "code",
      "source": [
        "xyz_coordinates = \"\"\"\n",
        "N     0.4785967928750  -0.4330741880750  -0.4934317502006\n",
        "H     1.3794564278886   0.0429751463168  -0.5120458348956\n",
        "C     0.4573285404340  -1.3154740355836  -1.6452845209868\n",
        "H     1.2794157350200  -2.0270971721773  -1.5868316520123\n",
        "H    -0.4697908768414  -1.8882598290096  -1.6558792536570\n",
        "C     0.3747047426388  -1.2102491878280   0.7331072010194\n",
        "H    -0.4082292852521  -1.9567463178277   0.6148319854093\n",
        "H     1.2952953868059  -1.7540437197433   0.9183116804327\n",
        "C     0.6956425554192   0.9059967227241  -5.3588904651214\n",
        "C     1.6690431285267  -0.0704102447688  -5.0614336089256\n",
        "C     1.5905279342425  -0.7922292640998  -3.8527793116028\n",
        "C     0.5421211238334  -0.5430166236398  -2.9451176135833\n",
        "C    -0.4312572408155   0.4285446612223  -3.2497814984180\n",
        "C    -0.3564249048118   1.1570067527526  -4.4544417171718\n",
        "H     0.7549521548685   1.4652126122086  -6.2812972715425\n",
        "H     2.3338053657174  -1.5390048087124  -3.6163728176857\n",
        "H    -1.2215586002930   0.6165771400284  -2.5371827271696\n",
        "C    -0.5809783149118   1.1061887532548   4.2819306994214\n",
        "C    -1.0539691464599  -0.2152180430193   4.1484967454886\n",
        "C    -0.7402866542775  -0.9585904738513   2.9917812697427\n",
        "C     0.0501603450518  -0.3918335577218   1.9715484114033\n",
        "C     0.5329231859523   0.9234697295847   2.1220017776407\n",
        "C     0.2096151223583   1.6793509886579   3.2655299818144\n",
        "H    -0.8298576406810   1.6816374807225   5.1614537759970\n",
        "H    -1.1155297675244  -1.9639771384900   2.8737258346041\n",
        "H     1.1311551788061   1.3586475153088   1.3389498331805\n",
        "C     2.7985412681099  -0.3440921389086  -6.0320361103160\n",
        "H     3.0137177612643  -1.4119025048439  -6.0784904425001\n",
        "H     2.5433990952730  -0.0090827377477  -7.0376742707821\n",
        "H     3.7013243404231   0.1769923076871  -5.7132670703364\n",
        "C    -1.3956677617432   2.2110713683443  -4.7713360805252\n",
        "H    -2.2850215726603   2.0829577471538  -4.1532353918110\n",
        "H    -0.9892606342753   3.2051959925139  -4.5854917335667\n",
        "H    -1.6989550492144   2.1496453780473  -5.8166145479409\n",
        "C    -1.9096053739985  -0.8269385079269   5.2372774019485\n",
        "H    -1.8730938416183  -1.9157634078951   5.1986764605346\n",
        "H    -1.5629099527925  -0.5125717843390   6.2218512212214\n",
        "H    -2.9465170241487  -0.5126306418706   5.1188520156529\n",
        "C     0.7055071531436   3.1039291474455   3.3878074482962\n",
        "H     0.6996321098764   3.5926125742168   2.4126899821207\n",
        "H     0.0720511304863   3.6841458846608   4.0587668370105\n",
        "H     1.7245462284362   3.1151446899290   3.7742478882927\n",
        "\"\"\"\n"
      ],
      "metadata": {
        "id": "NzBaWJTJ8mrU"
      },
      "execution_count": null,
      "outputs": []
    },
    {
      "cell_type": "markdown",
      "metadata": {
        "id": "4P9wqdJtiNbu"
      },
      "source": [
        "In the box below you can input the smiles code of the molecule. If you want to generate forcefields for molecular dynamics, enter the name that you want for your files and a three letter residue name. This code will generate a GAFF2 force field with RESP-charges calculated at the HF/sto-3g level of theory. Since this is a quantum chemical computations it may take some time if your molecule is larger.\n",
        "\n",
        "(If you want a different basis set you can change the basis = vlx.MolecularBasis.read(molecule, 'sto-3g') line in the \"Generate a force field\" cell below)"
      ]
    },
    {
      "cell_type": "code",
      "execution_count": null,
      "metadata": {
        "id": "kd3SxiFQFm6r",
        "cellView": "form",
        "colab": {
          "base_uri": "https://localhost:8080/",
          "height": 335
        },
        "outputId": "e579f949-425e-4092-849d-166af92a3c28"
      },
      "outputs": [
        {
          "output_type": "stream",
          "name": "stdout",
          "text": [
            "Structure of the molecule entered: \n"
          ]
        },
        {
          "output_type": "display_data",
          "data": {
            "application/3dmoljs_load.v0": "<div id=\"3dmolviewer_17507508111307127\"  style=\"position: relative; width: 400px; height: 300px;\">\n        <p id=\"3dmolwarning_17507508111307127\" style=\"background-color:#ffcccc;color:black\">3Dmol.js failed to load for some reason.  Please check your browser console for error messages.<br></p>\n        </div>\n<script>\n\nvar loadScriptAsync = function(uri){\n  return new Promise((resolve, reject) => {\n    //this is to ignore the existence of requirejs amd\n    var savedexports, savedmodule;\n    if (typeof exports !== 'undefined') savedexports = exports;\n    else exports = {}\n    if (typeof module !== 'undefined') savedmodule = module;\n    else module = {}\n\n    var tag = document.createElement('script');\n    tag.src = uri;\n    tag.async = true;\n    tag.onload = () => {\n        exports = savedexports;\n        module = savedmodule;\n        resolve();\n    };\n  var firstScriptTag = document.getElementsByTagName('script')[0];\n  firstScriptTag.parentNode.insertBefore(tag, firstScriptTag);\n});\n};\n\nif(typeof $3Dmolpromise === 'undefined') {\n$3Dmolpromise = null;\n  $3Dmolpromise = loadScriptAsync('https://cdn.jsdelivr.net/npm/3dmol@2.5.0/build/3Dmol-min.js');\n}\n\nvar viewer_17507508111307127 = null;\nvar warn = document.getElementById(\"3dmolwarning_17507508111307127\");\nif(warn) {\n    warn.parentNode.removeChild(warn);\n}\n$3Dmolpromise.then(function() {\nviewer_17507508111307127 = $3Dmol.createViewer(document.getElementById(\"3dmolviewer_17507508111307127\"),{backgroundColor:\"white\"});\nviewer_17507508111307127.zoomTo();\n\tviewer_17507508111307127.addModel(\"33\\n\\nC             -2.699579000000         1.992222000000         0.500555000000\\nC             -1.977509000000         1.744311000000         1.831726000000\\nC             -2.482679000000         0.454828000000         2.492691000000\\nC             -0.438703000000         1.761202000000         1.677255000000\\nC              0.097550000000         0.671678000000         0.777926000000\\nC              0.451054000000        -0.578024000000         1.309549000000\\nC              0.934183000000        -1.590709000000         0.476486000000\\nC              1.074968000000        -1.372514000000        -0.904832000000\\nC              0.725364000000        -0.116067000000        -1.433917000000\\nC              0.242521000000         0.895521000000        -0.599748000000\\nC              1.599684000000        -2.478599000000        -1.798263000000\\nC              2.934957000000        -2.087467000000        -2.444695000000\\nC              0.570005000000        -2.863705000000        -2.826382000000\\nO              0.462063000000        -2.218589000000        -3.904694000000\\nO             -0.303990000000        -3.913353000000        -2.560787000000\\nH             -3.788902000000         2.118179000000         0.678351000000\\nH             -2.555088000000         1.139166000000        -0.195702000000\\nH             -2.318015000000         2.919529000000         0.022725000000\\nH             -2.242508000000         2.585748000000         2.509942000000\\nH             -3.566882000000         0.544232000000         2.717666000000\\nH             -2.335046000000        -0.419545000000         1.824092000000\\nH             -1.945152000000         0.276117000000         3.448169000000\\nH              0.027694000000         1.673442000000         2.683267000000\\nH             -0.124611000000         2.753253000000         1.284223000000\\nH              0.349375000000        -0.769854000000         2.370525000000\\nH              1.197285000000        -2.546331000000         0.912564000000\\nH              0.824093000000         0.082286000000        -2.493230000000\\nH             -0.022034000000         1.853758000000        -1.029377000000\\nH              1.801079000000        -3.385071000000        -1.184851000000\\nH              3.324848000000        -2.932759000000        -3.051329000000\\nH              3.681915000000        -1.851390000000        -1.656786000000\\nH              2.821457000000        -1.200687000000        -3.103814000000\\nH             -1.016441000000        -4.178386000000        -3.230365000000\\n\");\n\tviewer_17507508111307127.setViewStyle({\"style\": \"outline\", \"width\": 0.05});\n\tviewer_17507508111307127.setStyle({\"stick\": {}, \"sphere\": {\"scale\": 0.25}});\n\tviewer_17507508111307127.addLabel(\"1\",{\"position\": {\"x\": -2.6995789999999995, \"y\": 1.9922219999999997, \"z\": 0.500555}, \"alignment\": \"center\", \"fontColor\": 0, \"backgroundColor\": 16777215, \"backgroundOpacity\": 0.0});\n\tviewer_17507508111307127.addLabel(\"2\",{\"position\": {\"x\": -1.977509, \"y\": 1.744311, \"z\": 1.831726}, \"alignment\": \"center\", \"fontColor\": 0, \"backgroundColor\": 16777215, \"backgroundOpacity\": 0.0});\n\tviewer_17507508111307127.addLabel(\"3\",{\"position\": {\"x\": -2.482679, \"y\": 0.454828, \"z\": 2.492691}, \"alignment\": \"center\", \"fontColor\": 0, \"backgroundColor\": 16777215, \"backgroundOpacity\": 0.0});\n\tviewer_17507508111307127.addLabel(\"4\",{\"position\": {\"x\": -0.438703, \"y\": 1.7612019999999997, \"z\": 1.677255}, \"alignment\": \"center\", \"fontColor\": 0, \"backgroundColor\": 16777215, \"backgroundOpacity\": 0.0});\n\tviewer_17507508111307127.addLabel(\"5\",{\"position\": {\"x\": 0.09754999999999998, \"y\": 0.671678, \"z\": 0.7779259999999999}, \"alignment\": \"center\", \"fontColor\": 0, \"backgroundColor\": 16777215, \"backgroundOpacity\": 0.0});\n\tviewer_17507508111307127.addLabel(\"6\",{\"position\": {\"x\": 0.45105399999999995, \"y\": -0.578024, \"z\": 1.309549}, \"alignment\": \"center\", \"fontColor\": 0, \"backgroundColor\": 16777215, \"backgroundOpacity\": 0.0});\n\tviewer_17507508111307127.addLabel(\"7\",{\"position\": {\"x\": 0.9341829999999999, \"y\": -1.590709, \"z\": 0.476486}, \"alignment\": \"center\", \"fontColor\": 0, \"backgroundColor\": 16777215, \"backgroundOpacity\": 0.0});\n\tviewer_17507508111307127.addLabel(\"8\",{\"position\": {\"x\": 1.074968, \"y\": -1.3725139999999998, \"z\": -0.904832}, \"alignment\": \"center\", \"fontColor\": 0, \"backgroundColor\": 16777215, \"backgroundOpacity\": 0.0});\n\tviewer_17507508111307127.addLabel(\"9\",{\"position\": {\"x\": 0.7253639999999999, \"y\": -0.11606699999999999, \"z\": -1.433917}, \"alignment\": \"center\", \"fontColor\": 0, \"backgroundColor\": 16777215, \"backgroundOpacity\": 0.0});\n\tviewer_17507508111307127.addLabel(\"10\",{\"position\": {\"x\": 0.242521, \"y\": 0.895521, \"z\": -0.599748}, \"alignment\": \"center\", \"fontColor\": 0, \"backgroundColor\": 16777215, \"backgroundOpacity\": 0.0});\n\tviewer_17507508111307127.addLabel(\"11\",{\"position\": {\"x\": 1.5996839999999999, \"y\": -2.478599, \"z\": -1.7982629999999997}, \"alignment\": \"center\", \"fontColor\": 0, \"backgroundColor\": 16777215, \"backgroundOpacity\": 0.0});\n\tviewer_17507508111307127.addLabel(\"12\",{\"position\": {\"x\": 2.9349569999999994, \"y\": -2.087467, \"z\": -2.444695}, \"alignment\": \"center\", \"fontColor\": 0, \"backgroundColor\": 16777215, \"backgroundOpacity\": 0.0});\n\tviewer_17507508111307127.addLabel(\"13\",{\"position\": {\"x\": 0.570005, \"y\": -2.863705, \"z\": -2.826382}, \"alignment\": \"center\", \"fontColor\": 0, \"backgroundColor\": 16777215, \"backgroundOpacity\": 0.0});\n\tviewer_17507508111307127.addLabel(\"14\",{\"position\": {\"x\": 0.462063, \"y\": -2.218589, \"z\": -3.9046939999999997}, \"alignment\": \"center\", \"fontColor\": 0, \"backgroundColor\": 16777215, \"backgroundOpacity\": 0.0});\n\tviewer_17507508111307127.addLabel(\"15\",{\"position\": {\"x\": -0.30399, \"y\": -3.913353, \"z\": -2.560787}, \"alignment\": \"center\", \"fontColor\": 0, \"backgroundColor\": 16777215, \"backgroundOpacity\": 0.0});\n\tviewer_17507508111307127.addLabel(\"16\",{\"position\": {\"x\": -3.7889019999999998, \"y\": 2.118179, \"z\": 0.678351}, \"alignment\": \"center\", \"fontColor\": 0, \"backgroundColor\": 16777215, \"backgroundOpacity\": 0.0});\n\tviewer_17507508111307127.addLabel(\"17\",{\"position\": {\"x\": -2.555088, \"y\": 1.139166, \"z\": -0.19570199999999996}, \"alignment\": \"center\", \"fontColor\": 0, \"backgroundColor\": 16777215, \"backgroundOpacity\": 0.0});\n\tviewer_17507508111307127.addLabel(\"18\",{\"position\": {\"x\": -2.3180149999999995, \"y\": 2.9195289999999994, \"z\": 0.022725}, \"alignment\": \"center\", \"fontColor\": 0, \"backgroundColor\": 16777215, \"backgroundOpacity\": 0.0});\n\tviewer_17507508111307127.addLabel(\"19\",{\"position\": {\"x\": -2.2425079999999995, \"y\": 2.585748, \"z\": 2.509942}, \"alignment\": \"center\", \"fontColor\": 0, \"backgroundColor\": 16777215, \"backgroundOpacity\": 0.0});\n\tviewer_17507508111307127.addLabel(\"20\",{\"position\": {\"x\": -3.566882, \"y\": 0.544232, \"z\": 2.717666}, \"alignment\": \"center\", \"fontColor\": 0, \"backgroundColor\": 16777215, \"backgroundOpacity\": 0.0});\n\tviewer_17507508111307127.addLabel(\"21\",{\"position\": {\"x\": -2.335046, \"y\": -0.419545, \"z\": 1.824092}, \"alignment\": \"center\", \"fontColor\": 0, \"backgroundColor\": 16777215, \"backgroundOpacity\": 0.0});\n\tviewer_17507508111307127.addLabel(\"22\",{\"position\": {\"x\": -1.945152, \"y\": 0.27611699999999995, \"z\": 3.4481689999999996}, \"alignment\": \"center\", \"fontColor\": 0, \"backgroundColor\": 16777215, \"backgroundOpacity\": 0.0});\n\tviewer_17507508111307127.addLabel(\"23\",{\"position\": {\"x\": 0.027694, \"y\": 1.673442, \"z\": 2.683267}, \"alignment\": \"center\", \"fontColor\": 0, \"backgroundColor\": 16777215, \"backgroundOpacity\": 0.0});\n\tviewer_17507508111307127.addLabel(\"24\",{\"position\": {\"x\": -0.124611, \"y\": 2.753253, \"z\": 1.2842229999999997}, \"alignment\": \"center\", \"fontColor\": 0, \"backgroundColor\": 16777215, \"backgroundOpacity\": 0.0});\n\tviewer_17507508111307127.addLabel(\"25\",{\"position\": {\"x\": 0.349375, \"y\": -0.7698539999999999, \"z\": 2.370525}, \"alignment\": \"center\", \"fontColor\": 0, \"backgroundColor\": 16777215, \"backgroundOpacity\": 0.0});\n\tviewer_17507508111307127.addLabel(\"26\",{\"position\": {\"x\": 1.197285, \"y\": -2.546331, \"z\": 0.9125639999999999}, \"alignment\": \"center\", \"fontColor\": 0, \"backgroundColor\": 16777215, \"backgroundOpacity\": 0.0});\n\tviewer_17507508111307127.addLabel(\"27\",{\"position\": {\"x\": 0.8240929999999999, \"y\": 0.08228599999999998, \"z\": -2.4932299999999996}, \"alignment\": \"center\", \"fontColor\": 0, \"backgroundColor\": 16777215, \"backgroundOpacity\": 0.0});\n\tviewer_17507508111307127.addLabel(\"28\",{\"position\": {\"x\": -0.022033999999999998, \"y\": 1.8537579999999998, \"z\": -1.029377}, \"alignment\": \"center\", \"fontColor\": 0, \"backgroundColor\": 16777215, \"backgroundOpacity\": 0.0});\n\tviewer_17507508111307127.addLabel(\"29\",{\"position\": {\"x\": 1.8010789999999999, \"y\": -3.385071, \"z\": -1.184851}, \"alignment\": \"center\", \"fontColor\": 0, \"backgroundColor\": 16777215, \"backgroundOpacity\": 0.0});\n\tviewer_17507508111307127.addLabel(\"30\",{\"position\": {\"x\": 3.324848, \"y\": -2.932759, \"z\": -3.051329}, \"alignment\": \"center\", \"fontColor\": 0, \"backgroundColor\": 16777215, \"backgroundOpacity\": 0.0});\n\tviewer_17507508111307127.addLabel(\"31\",{\"position\": {\"x\": 3.6819149999999996, \"y\": -1.8513899999999999, \"z\": -1.656786}, \"alignment\": \"center\", \"fontColor\": 0, \"backgroundColor\": 16777215, \"backgroundOpacity\": 0.0});\n\tviewer_17507508111307127.addLabel(\"32\",{\"position\": {\"x\": 2.821457, \"y\": -1.200687, \"z\": -3.1038139999999994}, \"alignment\": \"center\", \"fontColor\": 0, \"backgroundColor\": 16777215, \"backgroundOpacity\": 0.0});\n\tviewer_17507508111307127.addLabel(\"33\",{\"position\": {\"x\": -1.016441, \"y\": -4.178386, \"z\": -3.230365}, \"alignment\": \"center\", \"fontColor\": 0, \"backgroundColor\": 16777215, \"backgroundOpacity\": 0.0});\n\tviewer_17507508111307127.zoomTo();\nviewer_17507508111307127.render();\n});\n</script>",
            "text/html": [
              "<div id=\"3dmolviewer_17507508111307127\"  style=\"position: relative; width: 400px; height: 300px;\">\n",
              "        <p id=\"3dmolwarning_17507508111307127\" style=\"background-color:#ffcccc;color:black\">3Dmol.js failed to load for some reason.  Please check your browser console for error messages.<br></p>\n",
              "        </div>\n",
              "<script>\n",
              "\n",
              "var loadScriptAsync = function(uri){\n",
              "  return new Promise((resolve, reject) => {\n",
              "    //this is to ignore the existence of requirejs amd\n",
              "    var savedexports, savedmodule;\n",
              "    if (typeof exports !== 'undefined') savedexports = exports;\n",
              "    else exports = {}\n",
              "    if (typeof module !== 'undefined') savedmodule = module;\n",
              "    else module = {}\n",
              "\n",
              "    var tag = document.createElement('script');\n",
              "    tag.src = uri;\n",
              "    tag.async = true;\n",
              "    tag.onload = () => {\n",
              "        exports = savedexports;\n",
              "        module = savedmodule;\n",
              "        resolve();\n",
              "    };\n",
              "  var firstScriptTag = document.getElementsByTagName('script')[0];\n",
              "  firstScriptTag.parentNode.insertBefore(tag, firstScriptTag);\n",
              "});\n",
              "};\n",
              "\n",
              "if(typeof $3Dmolpromise === 'undefined') {\n",
              "$3Dmolpromise = null;\n",
              "  $3Dmolpromise = loadScriptAsync('https://cdn.jsdelivr.net/npm/3dmol@2.5.0/build/3Dmol-min.js');\n",
              "}\n",
              "\n",
              "var viewer_17507508111307127 = null;\n",
              "var warn = document.getElementById(\"3dmolwarning_17507508111307127\");\n",
              "if(warn) {\n",
              "    warn.parentNode.removeChild(warn);\n",
              "}\n",
              "$3Dmolpromise.then(function() {\n",
              "viewer_17507508111307127 = $3Dmol.createViewer(document.getElementById(\"3dmolviewer_17507508111307127\"),{backgroundColor:\"white\"});\n",
              "viewer_17507508111307127.zoomTo();\n",
              "\tviewer_17507508111307127.addModel(\"33\\n\\nC             -2.699579000000         1.992222000000         0.500555000000\\nC             -1.977509000000         1.744311000000         1.831726000000\\nC             -2.482679000000         0.454828000000         2.492691000000\\nC             -0.438703000000         1.761202000000         1.677255000000\\nC              0.097550000000         0.671678000000         0.777926000000\\nC              0.451054000000        -0.578024000000         1.309549000000\\nC              0.934183000000        -1.590709000000         0.476486000000\\nC              1.074968000000        -1.372514000000        -0.904832000000\\nC              0.725364000000        -0.116067000000        -1.433917000000\\nC              0.242521000000         0.895521000000        -0.599748000000\\nC              1.599684000000        -2.478599000000        -1.798263000000\\nC              2.934957000000        -2.087467000000        -2.444695000000\\nC              0.570005000000        -2.863705000000        -2.826382000000\\nO              0.462063000000        -2.218589000000        -3.904694000000\\nO             -0.303990000000        -3.913353000000        -2.560787000000\\nH             -3.788902000000         2.118179000000         0.678351000000\\nH             -2.555088000000         1.139166000000        -0.195702000000\\nH             -2.318015000000         2.919529000000         0.022725000000\\nH             -2.242508000000         2.585748000000         2.509942000000\\nH             -3.566882000000         0.544232000000         2.717666000000\\nH             -2.335046000000        -0.419545000000         1.824092000000\\nH             -1.945152000000         0.276117000000         3.448169000000\\nH              0.027694000000         1.673442000000         2.683267000000\\nH             -0.124611000000         2.753253000000         1.284223000000\\nH              0.349375000000        -0.769854000000         2.370525000000\\nH              1.197285000000        -2.546331000000         0.912564000000\\nH              0.824093000000         0.082286000000        -2.493230000000\\nH             -0.022034000000         1.853758000000        -1.029377000000\\nH              1.801079000000        -3.385071000000        -1.184851000000\\nH              3.324848000000        -2.932759000000        -3.051329000000\\nH              3.681915000000        -1.851390000000        -1.656786000000\\nH              2.821457000000        -1.200687000000        -3.103814000000\\nH             -1.016441000000        -4.178386000000        -3.230365000000\\n\");\n",
              "\tviewer_17507508111307127.setViewStyle({\"style\": \"outline\", \"width\": 0.05});\n",
              "\tviewer_17507508111307127.setStyle({\"stick\": {}, \"sphere\": {\"scale\": 0.25}});\n",
              "\tviewer_17507508111307127.addLabel(\"1\",{\"position\": {\"x\": -2.6995789999999995, \"y\": 1.9922219999999997, \"z\": 0.500555}, \"alignment\": \"center\", \"fontColor\": 0, \"backgroundColor\": 16777215, \"backgroundOpacity\": 0.0});\n",
              "\tviewer_17507508111307127.addLabel(\"2\",{\"position\": {\"x\": -1.977509, \"y\": 1.744311, \"z\": 1.831726}, \"alignment\": \"center\", \"fontColor\": 0, \"backgroundColor\": 16777215, \"backgroundOpacity\": 0.0});\n",
              "\tviewer_17507508111307127.addLabel(\"3\",{\"position\": {\"x\": -2.482679, \"y\": 0.454828, \"z\": 2.492691}, \"alignment\": \"center\", \"fontColor\": 0, \"backgroundColor\": 16777215, \"backgroundOpacity\": 0.0});\n",
              "\tviewer_17507508111307127.addLabel(\"4\",{\"position\": {\"x\": -0.438703, \"y\": 1.7612019999999997, \"z\": 1.677255}, \"alignment\": \"center\", \"fontColor\": 0, \"backgroundColor\": 16777215, \"backgroundOpacity\": 0.0});\n",
              "\tviewer_17507508111307127.addLabel(\"5\",{\"position\": {\"x\": 0.09754999999999998, \"y\": 0.671678, \"z\": 0.7779259999999999}, \"alignment\": \"center\", \"fontColor\": 0, \"backgroundColor\": 16777215, \"backgroundOpacity\": 0.0});\n",
              "\tviewer_17507508111307127.addLabel(\"6\",{\"position\": {\"x\": 0.45105399999999995, \"y\": -0.578024, \"z\": 1.309549}, \"alignment\": \"center\", \"fontColor\": 0, \"backgroundColor\": 16777215, \"backgroundOpacity\": 0.0});\n",
              "\tviewer_17507508111307127.addLabel(\"7\",{\"position\": {\"x\": 0.9341829999999999, \"y\": -1.590709, \"z\": 0.476486}, \"alignment\": \"center\", \"fontColor\": 0, \"backgroundColor\": 16777215, \"backgroundOpacity\": 0.0});\n",
              "\tviewer_17507508111307127.addLabel(\"8\",{\"position\": {\"x\": 1.074968, \"y\": -1.3725139999999998, \"z\": -0.904832}, \"alignment\": \"center\", \"fontColor\": 0, \"backgroundColor\": 16777215, \"backgroundOpacity\": 0.0});\n",
              "\tviewer_17507508111307127.addLabel(\"9\",{\"position\": {\"x\": 0.7253639999999999, \"y\": -0.11606699999999999, \"z\": -1.433917}, \"alignment\": \"center\", \"fontColor\": 0, \"backgroundColor\": 16777215, \"backgroundOpacity\": 0.0});\n",
              "\tviewer_17507508111307127.addLabel(\"10\",{\"position\": {\"x\": 0.242521, \"y\": 0.895521, \"z\": -0.599748}, \"alignment\": \"center\", \"fontColor\": 0, \"backgroundColor\": 16777215, \"backgroundOpacity\": 0.0});\n",
              "\tviewer_17507508111307127.addLabel(\"11\",{\"position\": {\"x\": 1.5996839999999999, \"y\": -2.478599, \"z\": -1.7982629999999997}, \"alignment\": \"center\", \"fontColor\": 0, \"backgroundColor\": 16777215, \"backgroundOpacity\": 0.0});\n",
              "\tviewer_17507508111307127.addLabel(\"12\",{\"position\": {\"x\": 2.9349569999999994, \"y\": -2.087467, \"z\": -2.444695}, \"alignment\": \"center\", \"fontColor\": 0, \"backgroundColor\": 16777215, \"backgroundOpacity\": 0.0});\n",
              "\tviewer_17507508111307127.addLabel(\"13\",{\"position\": {\"x\": 0.570005, \"y\": -2.863705, \"z\": -2.826382}, \"alignment\": \"center\", \"fontColor\": 0, \"backgroundColor\": 16777215, \"backgroundOpacity\": 0.0});\n",
              "\tviewer_17507508111307127.addLabel(\"14\",{\"position\": {\"x\": 0.462063, \"y\": -2.218589, \"z\": -3.9046939999999997}, \"alignment\": \"center\", \"fontColor\": 0, \"backgroundColor\": 16777215, \"backgroundOpacity\": 0.0});\n",
              "\tviewer_17507508111307127.addLabel(\"15\",{\"position\": {\"x\": -0.30399, \"y\": -3.913353, \"z\": -2.560787}, \"alignment\": \"center\", \"fontColor\": 0, \"backgroundColor\": 16777215, \"backgroundOpacity\": 0.0});\n",
              "\tviewer_17507508111307127.addLabel(\"16\",{\"position\": {\"x\": -3.7889019999999998, \"y\": 2.118179, \"z\": 0.678351}, \"alignment\": \"center\", \"fontColor\": 0, \"backgroundColor\": 16777215, \"backgroundOpacity\": 0.0});\n",
              "\tviewer_17507508111307127.addLabel(\"17\",{\"position\": {\"x\": -2.555088, \"y\": 1.139166, \"z\": -0.19570199999999996}, \"alignment\": \"center\", \"fontColor\": 0, \"backgroundColor\": 16777215, \"backgroundOpacity\": 0.0});\n",
              "\tviewer_17507508111307127.addLabel(\"18\",{\"position\": {\"x\": -2.3180149999999995, \"y\": 2.9195289999999994, \"z\": 0.022725}, \"alignment\": \"center\", \"fontColor\": 0, \"backgroundColor\": 16777215, \"backgroundOpacity\": 0.0});\n",
              "\tviewer_17507508111307127.addLabel(\"19\",{\"position\": {\"x\": -2.2425079999999995, \"y\": 2.585748, \"z\": 2.509942}, \"alignment\": \"center\", \"fontColor\": 0, \"backgroundColor\": 16777215, \"backgroundOpacity\": 0.0});\n",
              "\tviewer_17507508111307127.addLabel(\"20\",{\"position\": {\"x\": -3.566882, \"y\": 0.544232, \"z\": 2.717666}, \"alignment\": \"center\", \"fontColor\": 0, \"backgroundColor\": 16777215, \"backgroundOpacity\": 0.0});\n",
              "\tviewer_17507508111307127.addLabel(\"21\",{\"position\": {\"x\": -2.335046, \"y\": -0.419545, \"z\": 1.824092}, \"alignment\": \"center\", \"fontColor\": 0, \"backgroundColor\": 16777215, \"backgroundOpacity\": 0.0});\n",
              "\tviewer_17507508111307127.addLabel(\"22\",{\"position\": {\"x\": -1.945152, \"y\": 0.27611699999999995, \"z\": 3.4481689999999996}, \"alignment\": \"center\", \"fontColor\": 0, \"backgroundColor\": 16777215, \"backgroundOpacity\": 0.0});\n",
              "\tviewer_17507508111307127.addLabel(\"23\",{\"position\": {\"x\": 0.027694, \"y\": 1.673442, \"z\": 2.683267}, \"alignment\": \"center\", \"fontColor\": 0, \"backgroundColor\": 16777215, \"backgroundOpacity\": 0.0});\n",
              "\tviewer_17507508111307127.addLabel(\"24\",{\"position\": {\"x\": -0.124611, \"y\": 2.753253, \"z\": 1.2842229999999997}, \"alignment\": \"center\", \"fontColor\": 0, \"backgroundColor\": 16777215, \"backgroundOpacity\": 0.0});\n",
              "\tviewer_17507508111307127.addLabel(\"25\",{\"position\": {\"x\": 0.349375, \"y\": -0.7698539999999999, \"z\": 2.370525}, \"alignment\": \"center\", \"fontColor\": 0, \"backgroundColor\": 16777215, \"backgroundOpacity\": 0.0});\n",
              "\tviewer_17507508111307127.addLabel(\"26\",{\"position\": {\"x\": 1.197285, \"y\": -2.546331, \"z\": 0.9125639999999999}, \"alignment\": \"center\", \"fontColor\": 0, \"backgroundColor\": 16777215, \"backgroundOpacity\": 0.0});\n",
              "\tviewer_17507508111307127.addLabel(\"27\",{\"position\": {\"x\": 0.8240929999999999, \"y\": 0.08228599999999998, \"z\": -2.4932299999999996}, \"alignment\": \"center\", \"fontColor\": 0, \"backgroundColor\": 16777215, \"backgroundOpacity\": 0.0});\n",
              "\tviewer_17507508111307127.addLabel(\"28\",{\"position\": {\"x\": -0.022033999999999998, \"y\": 1.8537579999999998, \"z\": -1.029377}, \"alignment\": \"center\", \"fontColor\": 0, \"backgroundColor\": 16777215, \"backgroundOpacity\": 0.0});\n",
              "\tviewer_17507508111307127.addLabel(\"29\",{\"position\": {\"x\": 1.8010789999999999, \"y\": -3.385071, \"z\": -1.184851}, \"alignment\": \"center\", \"fontColor\": 0, \"backgroundColor\": 16777215, \"backgroundOpacity\": 0.0});\n",
              "\tviewer_17507508111307127.addLabel(\"30\",{\"position\": {\"x\": 3.324848, \"y\": -2.932759, \"z\": -3.051329}, \"alignment\": \"center\", \"fontColor\": 0, \"backgroundColor\": 16777215, \"backgroundOpacity\": 0.0});\n",
              "\tviewer_17507508111307127.addLabel(\"31\",{\"position\": {\"x\": 3.6819149999999996, \"y\": -1.8513899999999999, \"z\": -1.656786}, \"alignment\": \"center\", \"fontColor\": 0, \"backgroundColor\": 16777215, \"backgroundOpacity\": 0.0});\n",
              "\tviewer_17507508111307127.addLabel(\"32\",{\"position\": {\"x\": 2.821457, \"y\": -1.200687, \"z\": -3.1038139999999994}, \"alignment\": \"center\", \"fontColor\": 0, \"backgroundColor\": 16777215, \"backgroundOpacity\": 0.0});\n",
              "\tviewer_17507508111307127.addLabel(\"33\",{\"position\": {\"x\": -1.016441, \"y\": -4.178386, \"z\": -3.230365}, \"alignment\": \"center\", \"fontColor\": 0, \"backgroundColor\": 16777215, \"backgroundOpacity\": 0.0});\n",
              "\tviewer_17507508111307127.zoomTo();\n",
              "viewer_17507508111307127.render();\n",
              "});\n",
              "</script>"
            ]
          },
          "metadata": {}
        }
      ],
      "source": [
        "#@title Define your molecule, either asa SMILES code or xyz-coordinates above\n",
        "#@markdown - Enter the SMILES code\n",
        "smiles_code = 'CC(C)CC1=CC=C(C=C1)C(C)C(=O)O' #@param {type:\"string\"}\n",
        "#@markdown - If you want to use the xyz coordinates in the previous cell check box\n",
        "use_xyz = False # @param {type:\"boolean\"}\n",
        "if use_xyz == False:\n",
        "  molecule = vlx.Molecule.read_smiles(smiles_code)\n",
        "else:\n",
        "  molecule = vlx.Molecule.read_str(xyz_coordinates)\n",
        "print('Structure of the molecule entered: ')\n",
        "molecule.show(atom_indices=True)"
      ]
    },
    {
      "cell_type": "code",
      "execution_count": null,
      "metadata": {
        "id": "O0J87UqYXbCK"
      },
      "outputs": [],
      "source": [
        "%%capture\n",
        "#@title Start conformer generator\n",
        "#@markdown - Example timings: Ibuprofen (22 sec)\n",
        "basis = vlx.MolecularBasis.read(molecule, 'def2-sv(p)')\n",
        "scf_drv = vlx.ScfRestrictedDriver()\n",
        "scf_drv.xcfun = \"blyp\"\n",
        "scf_drv.ri_coulomb = True\n",
        "scf_drv.grid_level = 2\n",
        "scf_drv.level_shifting = 1.0\n",
        "scf_drv.conv_thresh = 1e-3\n",
        "scf_drv.dispersion = True\n",
        "results = scf_drv.compute(molecule, basis)\n",
        "resp_drv = vlx.RespChargesDriver()\n",
        "charges = resp_drv.compute(molecule, basis, results, 'resp')\n",
        "conf_generator = vlx.ConformerGenerator()\n",
        "conf_generator.resp_charges = False\n",
        "conf_generator.partial_charges = charges\n",
        "conformers = conf_generator.generate(molecule)\n"
      ]
    },
    {
      "cell_type": "code",
      "source": [],
      "metadata": {
        "id": "pPq9KAmomDPe"
      },
      "execution_count": null,
      "outputs": []
    },
    {
      "cell_type": "code",
      "execution_count": null,
      "metadata": {
        "id": "zWvAG92YWJCt",
        "cellView": "form",
        "colab": {
          "base_uri": "https://localhost:8080/",
          "height": 653
        },
        "outputId": "b88c7b5b-19a2-4a63-e37f-335c0ee3987d"
      },
      "outputs": [
        {
          "output_type": "stream",
          "name": "stdout",
          "text": [
            "Conformer 1 with energy -42.628 kJ/mol\n"
          ]
        },
        {
          "output_type": "display_data",
          "data": {
            "application/3dmoljs_load.v0": "<div id=\"3dmolviewer_1750750968632612\"  style=\"position: relative; width: 400px; height: 300px;\">\n        <p id=\"3dmolwarning_1750750968632612\" style=\"background-color:#ffcccc;color:black\">3Dmol.js failed to load for some reason.  Please check your browser console for error messages.<br></p>\n        </div>\n<script>\n\nvar loadScriptAsync = function(uri){\n  return new Promise((resolve, reject) => {\n    //this is to ignore the existence of requirejs amd\n    var savedexports, savedmodule;\n    if (typeof exports !== 'undefined') savedexports = exports;\n    else exports = {}\n    if (typeof module !== 'undefined') savedmodule = module;\n    else module = {}\n\n    var tag = document.createElement('script');\n    tag.src = uri;\n    tag.async = true;\n    tag.onload = () => {\n        exports = savedexports;\n        module = savedmodule;\n        resolve();\n    };\n  var firstScriptTag = document.getElementsByTagName('script')[0];\n  firstScriptTag.parentNode.insertBefore(tag, firstScriptTag);\n});\n};\n\nif(typeof $3Dmolpromise === 'undefined') {\n$3Dmolpromise = null;\n  $3Dmolpromise = loadScriptAsync('https://cdn.jsdelivr.net/npm/3dmol@2.5.0/build/3Dmol-min.js');\n}\n\nvar viewer_1750750968632612 = null;\nvar warn = document.getElementById(\"3dmolwarning_1750750968632612\");\nif(warn) {\n    warn.parentNode.removeChild(warn);\n}\n$3Dmolpromise.then(function() {\nviewer_1750750968632612 = $3Dmol.createViewer(document.getElementById(\"3dmolviewer_1750750968632612\"),{backgroundColor:\"white\"});\nviewer_1750750968632612.zoomTo();\n\tviewer_1750750968632612.addModel(\"33\\n\\nC             -2.673480297872         2.270595405979         0.582184252487\\nC             -1.967243326890         1.826685297403         1.880854263441\\nC             -2.596906251504         0.535246535182         2.445037391350\\nC             -0.415659502843         1.748479648108         1.744426906497\\nC              0.098650048811         0.713255810577         0.757468483188\\nC              0.377515332061        -0.603987963528         1.179547683080\\nC              0.846558172675        -1.562803777349         0.268022476363\\nC              1.054215601396        -1.227329761074        -1.090646543249\\nC              0.775235742558         0.097593545186        -1.508789550963\\nC              0.305961292035         1.054119221524        -0.595680540298\\nC              1.562221631469        -2.281646856295        -2.073374538460\\nC              2.923690527762        -1.886536146590        -2.690495465731\\nC              0.500194070712        -2.598477971990        -3.111892702975\\nO              0.336872141704        -1.891568487065        -4.140617909838\\nO             -0.311686709337        -3.705984735926        -2.969928238359\\nH             -3.754280136521         2.443428792083         0.773916013855\\nH             -2.584260600445         1.500095724621        -0.213080836883\\nH             -2.240302459912         3.223642631652         0.210200924161\\nH             -2.165983971257         2.624196516984         2.632004698714\\nH             -3.677131695930         0.694436793719         2.651337025568\\nH             -2.504417687442        -0.308843854463         1.728784185058\\nH             -2.109228174783         0.250582416852         3.401840249593\\nH              0.024279026048         1.551821914521         2.747715242976\\nH             -0.028525717386         2.752629877122         1.460443974667\\nH              0.228346052864        -0.891732662936         2.213475793711\\nH              1.044693021102        -2.564931414496         0.629385856567\\nH              0.913167952812         0.392746420335        -2.542142080261\\nH              0.099972835909         2.058156723777        -0.947139737600\\nH              1.755118712754        -3.232164006754        -1.526432890568\\nH              3.296553528597        -2.703116434445        -3.345812232775\\nH              3.672811438713        -1.723474290233        -1.885887475894\\nH              2.853311429176        -0.958520343784        -3.297196030793\\nH             -0.992335145783        -3.846903169221        -3.703071192939\\n\");\n\tviewer_1750750968632612.setViewStyle({\"style\": \"outline\", \"width\": 0.05});\n\tviewer_1750750968632612.setStyle({\"stick\": {}, \"sphere\": {\"scale\": 0.25}});\n\tviewer_1750750968632612.zoomTo();\nviewer_1750750968632612.render();\n});\n</script>",
            "text/html": [
              "<div id=\"3dmolviewer_1750750968632612\"  style=\"position: relative; width: 400px; height: 300px;\">\n",
              "        <p id=\"3dmolwarning_1750750968632612\" style=\"background-color:#ffcccc;color:black\">3Dmol.js failed to load for some reason.  Please check your browser console for error messages.<br></p>\n",
              "        </div>\n",
              "<script>\n",
              "\n",
              "var loadScriptAsync = function(uri){\n",
              "  return new Promise((resolve, reject) => {\n",
              "    //this is to ignore the existence of requirejs amd\n",
              "    var savedexports, savedmodule;\n",
              "    if (typeof exports !== 'undefined') savedexports = exports;\n",
              "    else exports = {}\n",
              "    if (typeof module !== 'undefined') savedmodule = module;\n",
              "    else module = {}\n",
              "\n",
              "    var tag = document.createElement('script');\n",
              "    tag.src = uri;\n",
              "    tag.async = true;\n",
              "    tag.onload = () => {\n",
              "        exports = savedexports;\n",
              "        module = savedmodule;\n",
              "        resolve();\n",
              "    };\n",
              "  var firstScriptTag = document.getElementsByTagName('script')[0];\n",
              "  firstScriptTag.parentNode.insertBefore(tag, firstScriptTag);\n",
              "});\n",
              "};\n",
              "\n",
              "if(typeof $3Dmolpromise === 'undefined') {\n",
              "$3Dmolpromise = null;\n",
              "  $3Dmolpromise = loadScriptAsync('https://cdn.jsdelivr.net/npm/3dmol@2.5.0/build/3Dmol-min.js');\n",
              "}\n",
              "\n",
              "var viewer_1750750968632612 = null;\n",
              "var warn = document.getElementById(\"3dmolwarning_1750750968632612\");\n",
              "if(warn) {\n",
              "    warn.parentNode.removeChild(warn);\n",
              "}\n",
              "$3Dmolpromise.then(function() {\n",
              "viewer_1750750968632612 = $3Dmol.createViewer(document.getElementById(\"3dmolviewer_1750750968632612\"),{backgroundColor:\"white\"});\n",
              "viewer_1750750968632612.zoomTo();\n",
              "\tviewer_1750750968632612.addModel(\"33\\n\\nC             -2.673480297872         2.270595405979         0.582184252487\\nC             -1.967243326890         1.826685297403         1.880854263441\\nC             -2.596906251504         0.535246535182         2.445037391350\\nC             -0.415659502843         1.748479648108         1.744426906497\\nC              0.098650048811         0.713255810577         0.757468483188\\nC              0.377515332061        -0.603987963528         1.179547683080\\nC              0.846558172675        -1.562803777349         0.268022476363\\nC              1.054215601396        -1.227329761074        -1.090646543249\\nC              0.775235742558         0.097593545186        -1.508789550963\\nC              0.305961292035         1.054119221524        -0.595680540298\\nC              1.562221631469        -2.281646856295        -2.073374538460\\nC              2.923690527762        -1.886536146590        -2.690495465731\\nC              0.500194070712        -2.598477971990        -3.111892702975\\nO              0.336872141704        -1.891568487065        -4.140617909838\\nO             -0.311686709337        -3.705984735926        -2.969928238359\\nH             -3.754280136521         2.443428792083         0.773916013855\\nH             -2.584260600445         1.500095724621        -0.213080836883\\nH             -2.240302459912         3.223642631652         0.210200924161\\nH             -2.165983971257         2.624196516984         2.632004698714\\nH             -3.677131695930         0.694436793719         2.651337025568\\nH             -2.504417687442        -0.308843854463         1.728784185058\\nH             -2.109228174783         0.250582416852         3.401840249593\\nH              0.024279026048         1.551821914521         2.747715242976\\nH             -0.028525717386         2.752629877122         1.460443974667\\nH              0.228346052864        -0.891732662936         2.213475793711\\nH              1.044693021102        -2.564931414496         0.629385856567\\nH              0.913167952812         0.392746420335        -2.542142080261\\nH              0.099972835909         2.058156723777        -0.947139737600\\nH              1.755118712754        -3.232164006754        -1.526432890568\\nH              3.296553528597        -2.703116434445        -3.345812232775\\nH              3.672811438713        -1.723474290233        -1.885887475894\\nH              2.853311429176        -0.958520343784        -3.297196030793\\nH             -0.992335145783        -3.846903169221        -3.703071192939\\n\");\n",
              "\tviewer_1750750968632612.setViewStyle({\"style\": \"outline\", \"width\": 0.05});\n",
              "\tviewer_1750750968632612.setStyle({\"stick\": {}, \"sphere\": {\"scale\": 0.25}});\n",
              "\tviewer_1750750968632612.zoomTo();\n",
              "viewer_1750750968632612.render();\n",
              "});\n",
              "</script>"
            ]
          },
          "metadata": {}
        },
        {
          "output_type": "stream",
          "name": "stdout",
          "text": [
            "Conformer 2 with energy -41.865 kJ/mol\n"
          ]
        },
        {
          "output_type": "display_data",
          "data": {
            "application/3dmoljs_load.v0": "<div id=\"3dmolviewer_17507509686344945\"  style=\"position: relative; width: 400px; height: 300px;\">\n        <p id=\"3dmolwarning_17507509686344945\" style=\"background-color:#ffcccc;color:black\">3Dmol.js failed to load for some reason.  Please check your browser console for error messages.<br></p>\n        </div>\n<script>\n\nvar loadScriptAsync = function(uri){\n  return new Promise((resolve, reject) => {\n    //this is to ignore the existence of requirejs amd\n    var savedexports, savedmodule;\n    if (typeof exports !== 'undefined') savedexports = exports;\n    else exports = {}\n    if (typeof module !== 'undefined') savedmodule = module;\n    else module = {}\n\n    var tag = document.createElement('script');\n    tag.src = uri;\n    tag.async = true;\n    tag.onload = () => {\n        exports = savedexports;\n        module = savedmodule;\n        resolve();\n    };\n  var firstScriptTag = document.getElementsByTagName('script')[0];\n  firstScriptTag.parentNode.insertBefore(tag, firstScriptTag);\n});\n};\n\nif(typeof $3Dmolpromise === 'undefined') {\n$3Dmolpromise = null;\n  $3Dmolpromise = loadScriptAsync('https://cdn.jsdelivr.net/npm/3dmol@2.5.0/build/3Dmol-min.js');\n}\n\nvar viewer_17507509686344945 = null;\nvar warn = document.getElementById(\"3dmolwarning_17507509686344945\");\nif(warn) {\n    warn.parentNode.removeChild(warn);\n}\n$3Dmolpromise.then(function() {\nviewer_17507509686344945 = $3Dmol.createViewer(document.getElementById(\"3dmolviewer_17507509686344945\"),{backgroundColor:\"white\"});\nviewer_17507509686344945.zoomTo();\n\tviewer_17507509686344945.addModel(\"33\\n\\nC             -2.871899461749         2.201202759590         0.755884022837\\nC             -1.949258677169         1.734923831401         1.903231454973\\nC             -2.437446625571         0.394429875839         2.491099197732\\nC             -0.445047121563         1.689798891955         1.497858699417\\nC              0.127050003456         3.016237636551         1.028178249262\\nC              0.406298399556         3.236718478700        -0.337318727729\\nC              0.923504098377         4.467486437979        -0.771033198879\\nC              1.178004884399         5.509867170332         0.151137610972\\nC              0.894878150666         5.283049447455         1.521092195964\\nC              0.376701914946         4.052240600352         1.952119351450\\nC              1.737924423744         6.845977779982        -0.335583193435\\nC              3.115645084370         7.157708362744         0.293001972587\\nC              0.720465171276         7.955718312025        -0.135536692873\\nO              0.579962273689         8.545099126038         0.967888519395\\nO             -0.072699017277         8.377826665953        -1.183687429246\\nH             -3.926950191142         2.240711377117         1.102441295386\\nH             -2.817618607292         1.509588119336        -0.111757510142\\nH             -2.593945927116         3.222697600040         0.418852740118\\nH             -2.041249149213         2.488621752901         2.717540115444\\nH             -3.488411019708         0.486573325921         2.840236708537\\nH             -2.393073074398        -0.418176256437         1.734829223352\\nH             -1.816848516548         0.104691331691         3.365956774283\\nH             -0.303764084592         0.916253266231         0.710060132726\\nH              0.152645522679         1.329466511377         2.364863201937\\nH              0.219706496740         2.459444981712        -1.068748977471\\nH              1.121449520636         4.600376175735        -1.828031052545\\nH              1.066911976163         6.058599731800         2.257901061140\\nH              0.168268701364         3.910137606297         3.005891726222\\nH              1.924210017246         6.789517396167        -1.431912481107\\nH              3.524680923920         8.099360282751        -0.132714117541\\nH              3.831678319488         6.338953006280         0.064788726795\\nH              3.054659837255         7.272618899902         1.396297044002\\nH             -0.723071389460         9.120545818265        -0.969201577220\\n\");\n\tviewer_17507509686344945.setViewStyle({\"style\": \"outline\", \"width\": 0.05});\n\tviewer_17507509686344945.setStyle({\"stick\": {}, \"sphere\": {\"scale\": 0.25}});\n\tviewer_17507509686344945.zoomTo();\nviewer_17507509686344945.render();\n});\n</script>",
            "text/html": [
              "<div id=\"3dmolviewer_17507509686344945\"  style=\"position: relative; width: 400px; height: 300px;\">\n",
              "        <p id=\"3dmolwarning_17507509686344945\" style=\"background-color:#ffcccc;color:black\">3Dmol.js failed to load for some reason.  Please check your browser console for error messages.<br></p>\n",
              "        </div>\n",
              "<script>\n",
              "\n",
              "var loadScriptAsync = function(uri){\n",
              "  return new Promise((resolve, reject) => {\n",
              "    //this is to ignore the existence of requirejs amd\n",
              "    var savedexports, savedmodule;\n",
              "    if (typeof exports !== 'undefined') savedexports = exports;\n",
              "    else exports = {}\n",
              "    if (typeof module !== 'undefined') savedmodule = module;\n",
              "    else module = {}\n",
              "\n",
              "    var tag = document.createElement('script');\n",
              "    tag.src = uri;\n",
              "    tag.async = true;\n",
              "    tag.onload = () => {\n",
              "        exports = savedexports;\n",
              "        module = savedmodule;\n",
              "        resolve();\n",
              "    };\n",
              "  var firstScriptTag = document.getElementsByTagName('script')[0];\n",
              "  firstScriptTag.parentNode.insertBefore(tag, firstScriptTag);\n",
              "});\n",
              "};\n",
              "\n",
              "if(typeof $3Dmolpromise === 'undefined') {\n",
              "$3Dmolpromise = null;\n",
              "  $3Dmolpromise = loadScriptAsync('https://cdn.jsdelivr.net/npm/3dmol@2.5.0/build/3Dmol-min.js');\n",
              "}\n",
              "\n",
              "var viewer_17507509686344945 = null;\n",
              "var warn = document.getElementById(\"3dmolwarning_17507509686344945\");\n",
              "if(warn) {\n",
              "    warn.parentNode.removeChild(warn);\n",
              "}\n",
              "$3Dmolpromise.then(function() {\n",
              "viewer_17507509686344945 = $3Dmol.createViewer(document.getElementById(\"3dmolviewer_17507509686344945\"),{backgroundColor:\"white\"});\n",
              "viewer_17507509686344945.zoomTo();\n",
              "\tviewer_17507509686344945.addModel(\"33\\n\\nC             -2.871899461749         2.201202759590         0.755884022837\\nC             -1.949258677169         1.734923831401         1.903231454973\\nC             -2.437446625571         0.394429875839         2.491099197732\\nC             -0.445047121563         1.689798891955         1.497858699417\\nC              0.127050003456         3.016237636551         1.028178249262\\nC              0.406298399556         3.236718478700        -0.337318727729\\nC              0.923504098377         4.467486437979        -0.771033198879\\nC              1.178004884399         5.509867170332         0.151137610972\\nC              0.894878150666         5.283049447455         1.521092195964\\nC              0.376701914946         4.052240600352         1.952119351450\\nC              1.737924423744         6.845977779982        -0.335583193435\\nC              3.115645084370         7.157708362744         0.293001972587\\nC              0.720465171276         7.955718312025        -0.135536692873\\nO              0.579962273689         8.545099126038         0.967888519395\\nO             -0.072699017277         8.377826665953        -1.183687429246\\nH             -3.926950191142         2.240711377117         1.102441295386\\nH             -2.817618607292         1.509588119336        -0.111757510142\\nH             -2.593945927116         3.222697600040         0.418852740118\\nH             -2.041249149213         2.488621752901         2.717540115444\\nH             -3.488411019708         0.486573325921         2.840236708537\\nH             -2.393073074398        -0.418176256437         1.734829223352\\nH             -1.816848516548         0.104691331691         3.365956774283\\nH             -0.303764084592         0.916253266231         0.710060132726\\nH              0.152645522679         1.329466511377         2.364863201937\\nH              0.219706496740         2.459444981712        -1.068748977471\\nH              1.121449520636         4.600376175735        -1.828031052545\\nH              1.066911976163         6.058599731800         2.257901061140\\nH              0.168268701364         3.910137606297         3.005891726222\\nH              1.924210017246         6.789517396167        -1.431912481107\\nH              3.524680923920         8.099360282751        -0.132714117541\\nH              3.831678319488         6.338953006280         0.064788726795\\nH              3.054659837255         7.272618899902         1.396297044002\\nH             -0.723071389460         9.120545818265        -0.969201577220\\n\");\n",
              "\tviewer_17507509686344945.setViewStyle({\"style\": \"outline\", \"width\": 0.05});\n",
              "\tviewer_17507509686344945.setStyle({\"stick\": {}, \"sphere\": {\"scale\": 0.25}});\n",
              "\tviewer_17507509686344945.zoomTo();\n",
              "viewer_17507509686344945.render();\n",
              "});\n",
              "</script>"
            ]
          },
          "metadata": {}
        }
      ],
      "source": [
        "#@title Visualize lowest two lowest conformers\n",
        "conf_generator.show_conformers(2)"
      ]
    }
  ]
}